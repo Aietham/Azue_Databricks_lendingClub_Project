{
 "cells": [
  {
   "cell_type": "markdown",
   "metadata": {
    "application/vnd.databricks.v1+cell": {
     "cellMetadata": {},
     "inputWidgets": {},
     "nuid": "277919cf-d05f-4a84-89a5-ebe78661c291",
     "showTitle": false,
     "tableResultSettingsMap": {},
     "title": ""
    }
   },
   "source": [
    "## Associating points to the grades in order to calculate the Loan Score"
   ]
  },
  {
   "cell_type": "code",
   "execution_count": 0,
   "metadata": {
    "application/vnd.databricks.v1+cell": {
     "cellMetadata": {
      "byteLimit": 2048000,
      "rowLimit": 10000
     },
     "inputWidgets": {},
     "nuid": "910b6381-f285-4ff4-8ea4-b24d4ea49bcb",
     "showTitle": false,
     "tableResultSettingsMap": {},
     "title": ""
    }
   },
   "outputs": [],
   "source": [
    "spark.conf.set(\"spark.sql.unacceptable_rated_pts\", 0)\n",
    "spark.conf.set(\"spark.sql.very_bad_rated_pts\", 100)\n",
    "spark.conf.set(\"spark.sql.bad_rated_pts\", 250)\n",
    "spark.conf.set(\"spark.sql.good_rated_pts\", 500)\n",
    "spark.conf.set(\"spark.sql.very_good_rated_pts\", 650)\n",
    "spark.conf.set(\"spark.sql.excellent_rated_pts\", 800)"
   ]
  },
  {
   "cell_type": "code",
   "execution_count": 0,
   "metadata": {
    "application/vnd.databricks.v1+cell": {
     "cellMetadata": {
      "byteLimit": 2048000,
      "rowLimit": 10000
     },
     "inputWidgets": {},
     "nuid": "d3dd5af4-2ee8-4739-a118-3962196d0c0c",
     "showTitle": false,
     "tableResultSettingsMap": {},
     "title": ""
    }
   },
   "outputs": [],
   "source": [
    "spark.conf.set(\"spark.sql.unacceptable_grade_pts\", 750)\n",
    "spark.conf.set(\"spark.sql.very_bad_grade_pts\", 1000)\n",
    "spark.conf.set(\"spark.sql.bad_grade_pts\", 1500)\n",
    "spark.conf.set(\"spark.sql.good_grade_pts\", 2000)\n",
    "spark.conf.set(\"spark.sql.very_good_grade_pts\", 2500)"
   ]
  },
  {
   "cell_type": "markdown",
   "metadata": {
    "application/vnd.databricks.v1+cell": {
     "cellMetadata": {},
     "inputWidgets": {},
     "nuid": "0deeed4f-4553-4646-8684-78355059c697",
     "showTitle": false,
     "tableResultSettingsMap": {},
     "title": ""
    }
   },
   "source": [
    "## The tables required to calculate the Loan Score"
   ]
  },
  {
   "cell_type": "markdown",
   "metadata": {
    "application/vnd.databricks.v1+cell": {
     "cellMetadata": {},
     "inputWidgets": {},
     "nuid": "0ee64736-491e-4ad0-a8e6-fc56006a764c",
     "showTitle": false,
     "tableResultSettingsMap": {},
     "title": ""
    }
   },
   "source": [
    "customers_new \n",
    "\n",
    "loans\n",
    "\n",
    "loans_repayments\n",
    "\n",
    "loans_defaulters_delinq_new\n",
    "\n",
    "loans_defaulters_detail_red_enq_new"
   ]
  },
  {
   "cell_type": "markdown",
   "metadata": {
    "application/vnd.databricks.v1+cell": {
     "cellMetadata": {},
     "inputWidgets": {},
     "nuid": "7792d6ec-9b11-4de6-96e1-14d539b0ef15",
     "showTitle": false,
     "tableResultSettingsMap": {},
     "title": ""
    }
   },
   "source": [
    "## Loan Score Calculation Criteria 1: Payment History(ph)"
   ]
  },
  {
   "cell_type": "code",
   "execution_count": 0,
   "metadata": {
    "application/vnd.databricks.v1+cell": {
     "cellMetadata": {
      "byteLimit": 2048000,
      "rowLimit": 10000
     },
     "inputWidgets": {},
     "nuid": "40cc69d8-04de-40de-89c2-6b1f16188133",
     "showTitle": false,
     "tableResultSettingsMap": {},
     "title": ""
    }
   },
   "outputs": [],
   "source": [
    "bad_customer_data_final_df = spark.read \\\n",
    ".format(\"csv\") \\\n",
    ".option(\"header\", True) \\\n",
    ".option(\"inferSchema\", True) \\\n",
    ".load(\"/mnt/Lendingclub/Lendingclub/Lendingclub/bad/bad_customer_data_final\")"
   ]
  },
  {
   "cell_type": "code",
   "execution_count": 0,
   "metadata": {
    "application/vnd.databricks.v1+cell": {
     "cellMetadata": {
      "byteLimit": 2048000,
      "rowLimit": 10000
     },
     "inputWidgets": {},
     "nuid": "9bba2d6d-1bf1-41d0-a330-917c9771d04f",
     "showTitle": false,
     "tableResultSettingsMap": {},
     "title": ""
    }
   },
   "outputs": [],
   "source": [
    "bad_customer_data_final_df.createOrReplaceTempView(\"bad_data_customer\")"
   ]
  },
  {
   "cell_type": "code",
   "execution_count": 0,
   "metadata": {
    "application/vnd.databricks.v1+cell": {
     "cellMetadata": {
      "byteLimit": 2048000,
      "rowLimit": 10000
     },
     "inputWidgets": {},
     "nuid": "f4f2e0e7-5c98-4bee-8d62-43563238308a",
     "showTitle": false,
     "tableResultSettingsMap": {},
     "title": ""
    }
   },
   "outputs": [],
   "source": [
    "ph_df = spark.sql(\"select c.member_id, \\\n",
    "   case \\\n",
    "   when p.last_payment_amount < (c.monthly_installment * 0.5) then ${spark.sql.very_bad_rated_pts} \\\n",
    "   when p.last_payment_amount >= (c.monthly_installment * 0.5) and p.last_payment_amount < c.monthly_installment then ${spark.sql.very_bad_rated_pts} \\\n",
    "   when (p.last_payment_amount = (c.monthly_installment)) then ${spark.sql.good_rated_pts} \\\n",
    "   when p.last_payment_amount > (c.monthly_installment) and p.last_payment_amount <= (c.monthly_installment * 1.50) then ${spark.sql.very_good_rated_pts} \\\n",
    "   when p.last_payment_amount > (c.monthly_installment * 1.50) then ${spark.sql.excellent_rated_pts} \\\n",
    "   else ${spark.sql.unacceptable_rated_pts} \\\n",
    "   end as last_payment_pts, \\\n",
    "   case \\\n",
    "   when p.total_payment_received >= (c.funded_amount * 0.50) then ${spark.sql.very_good_rated_pts} \\\n",
    "   when p.total_payment_received < (c.funded_amount * 0.50) and p.total_payment_received > 0 then ${spark.sql.good_rated_pts} \\\n",
    "   when p.total_payment_received = 0 or (p.total_payment_received) is null then ${spark.sql.unacceptable_rated_pts} \\\n",
    "   end as total_payment_pts \\\n",
    "from lending_club.loans_repayments p \\\n",
    "inner join lending_club.loans c on c.loan_id = p.loan_id where member_id NOT IN (select member_id from bad_data_customer)\")"
   ]
  },
  {
   "cell_type": "code",
   "execution_count": 0,
   "metadata": {
    "application/vnd.databricks.v1+cell": {
     "cellMetadata": {
      "byteLimit": 2048000,
      "rowLimit": 10000
     },
     "inputWidgets": {},
     "nuid": "43c608fb-a6bd-4980-ba4d-5d1be266e8b6",
     "showTitle": false,
     "tableResultSettingsMap": {},
     "title": ""
    }
   },
   "outputs": [],
   "source": [
    "ph_df.createOrReplaceTempView(\"ph_pts\")"
   ]
  },
  {
   "cell_type": "code",
   "execution_count": 0,
   "metadata": {
    "application/vnd.databricks.v1+cell": {
     "cellMetadata": {
      "byteLimit": 2048000,
      "rowLimit": 10000
     },
     "inputWidgets": {},
     "nuid": "3943a32f-cea2-430a-ad63-86e126aa7cbf",
     "showTitle": false,
     "tableResultSettingsMap": {},
     "title": ""
    }
   },
   "outputs": [
    {
     "output_type": "display_data",
     "data": {
      "text/html": [
       "<style scoped>\n",
       "  .table-result-container {\n",
       "    max-height: 300px;\n",
       "    overflow: auto;\n",
       "  }\n",
       "  table, th, td {\n",
       "    border: 1px solid black;\n",
       "    border-collapse: collapse;\n",
       "  }\n",
       "  th, td {\n",
       "    padding: 5px;\n",
       "  }\n",
       "  th {\n",
       "    text-align: left;\n",
       "  }\n",
       "</style><div class='table-result-container'><table class='table-result'><thead style='background-color: white'><tr><th>member_id</th><th>last_payment_pts</th><th>total_payment_pts</th></tr></thead><tbody><tr><td>00720193212c0cb6fa8fe92b0bcffd5ce7b9424f8fc671242e0b9975c0dbe676</td><td>800</td><td>650</td></tr><tr><td>b1865c807a867bc0031965129690d60eef86f5702b8acb2c6ac25dbee1e17386</td><td>800</td><td>650</td></tr><tr><td>8b161e0f538f5ba0280f822611d6c5cd93b24a51c99bc1f8db61dc9a712f6532</td><td>500</td><td>650</td></tr><tr><td>480514c1d6b3cf95abb6cbd85947ab64e0e18df431005cb556c3a4217e777c40</td><td>500</td><td>650</td></tr><tr><td>3dae0d924bcb74693dd021137677613e4924c75bb645cffc6c37c94e2498681e</td><td>500</td><td>650</td></tr><tr><td>15d328ff0703d79de7b73fd4d8ae695d3a4c7ef0e0af2afe1b8f7477c3a9bc53</td><td>500</td><td>650</td></tr><tr><td>18e6d99ee96fca9043e6b0826454e8f31210786578db2ac309b4e828aeb4604d</td><td>500</td><td>650</td></tr><tr><td>2e89013db4b84924ddd9f7d3ae1df596b088a6e5972777e5820c1e7b10f36aa6</td><td>800</td><td>650</td></tr><tr><td>26add02fec67582541c6e8a3bd5b364253d3b170c8026abf24e372763a30aa89</td><td>500</td><td>650</td></tr><tr><td>6d34b3bfafc54a21fcd76691e125569c8b8398b343c20130bac10867fe56d3d1</td><td>500</td><td>650</td></tr><tr><td>e6dd98c595acc43b94f69b9385db1f999befd59702b614ec4cc667b26c8e67c7</td><td>800</td><td>650</td></tr><tr><td>8c6a3bbfb669563a98baa4463dedba1a53401e2b5c6cf8fde1e67439783efa65</td><td>500</td><td>650</td></tr><tr><td>0c8f1155b682531697320e221593993ea7aa5797eb794b3c2b2dd63a896fdfbe</td><td>500</td><td>650</td></tr><tr><td>8f739091ca03e7c684b14c5314ccbd3a52af66334239d19c98f0595b8af323dd</td><td>500</td><td>650</td></tr><tr><td>7b46e3cd696466845e2f4d083e381f708a954c13f68f81a9b4ee0780e648082e</td><td>800</td><td>650</td></tr><tr><td>cd5c6a59c078f36198438fe754459fd515e27d4ee220c4bfb2aa49af526b866c</td><td>500</td><td>650</td></tr><tr><td>ad32e845319ad74ae9fc0bc01d605815482416bb392e9de6ff7983a54b1ecf3d</td><td>500</td><td>650</td></tr><tr><td>b315bdccd3f45090f15abd0ff6da6b35f25fc12844e7fcd6c097f58f4d79fbed</td><td>800</td><td>650</td></tr><tr><td>fcc088e7708a03cf586be784a60a8ac091fd4aa2d471770482e1151244120613</td><td>500</td><td>650</td></tr><tr><td>95c39fbc802568faaebf23336226eafb5a8ae03678e15f837c1dd41d02fda235</td><td>500</td><td>650</td></tr></tbody></table></div>"
      ]
     },
     "metadata": {
      "application/vnd.databricks.v1+output": {
       "addedWidgets": {},
       "aggData": [],
       "aggError": "",
       "aggOverflow": false,
       "aggSchema": [],
       "aggSeriesLimitReached": false,
       "aggType": "",
       "arguments": {},
       "columnCustomDisplayInfos": {},
       "data": [
        [
         "00720193212c0cb6fa8fe92b0bcffd5ce7b9424f8fc671242e0b9975c0dbe676",
         800,
         650
        ],
        [
         "b1865c807a867bc0031965129690d60eef86f5702b8acb2c6ac25dbee1e17386",
         800,
         650
        ],
        [
         "8b161e0f538f5ba0280f822611d6c5cd93b24a51c99bc1f8db61dc9a712f6532",
         500,
         650
        ],
        [
         "480514c1d6b3cf95abb6cbd85947ab64e0e18df431005cb556c3a4217e777c40",
         500,
         650
        ],
        [
         "3dae0d924bcb74693dd021137677613e4924c75bb645cffc6c37c94e2498681e",
         500,
         650
        ],
        [
         "15d328ff0703d79de7b73fd4d8ae695d3a4c7ef0e0af2afe1b8f7477c3a9bc53",
         500,
         650
        ],
        [
         "18e6d99ee96fca9043e6b0826454e8f31210786578db2ac309b4e828aeb4604d",
         500,
         650
        ],
        [
         "2e89013db4b84924ddd9f7d3ae1df596b088a6e5972777e5820c1e7b10f36aa6",
         800,
         650
        ],
        [
         "26add02fec67582541c6e8a3bd5b364253d3b170c8026abf24e372763a30aa89",
         500,
         650
        ],
        [
         "6d34b3bfafc54a21fcd76691e125569c8b8398b343c20130bac10867fe56d3d1",
         500,
         650
        ],
        [
         "e6dd98c595acc43b94f69b9385db1f999befd59702b614ec4cc667b26c8e67c7",
         800,
         650
        ],
        [
         "8c6a3bbfb669563a98baa4463dedba1a53401e2b5c6cf8fde1e67439783efa65",
         500,
         650
        ],
        [
         "0c8f1155b682531697320e221593993ea7aa5797eb794b3c2b2dd63a896fdfbe",
         500,
         650
        ],
        [
         "8f739091ca03e7c684b14c5314ccbd3a52af66334239d19c98f0595b8af323dd",
         500,
         650
        ],
        [
         "7b46e3cd696466845e2f4d083e381f708a954c13f68f81a9b4ee0780e648082e",
         800,
         650
        ],
        [
         "cd5c6a59c078f36198438fe754459fd515e27d4ee220c4bfb2aa49af526b866c",
         500,
         650
        ],
        [
         "ad32e845319ad74ae9fc0bc01d605815482416bb392e9de6ff7983a54b1ecf3d",
         500,
         650
        ],
        [
         "b315bdccd3f45090f15abd0ff6da6b35f25fc12844e7fcd6c097f58f4d79fbed",
         800,
         650
        ],
        [
         "fcc088e7708a03cf586be784a60a8ac091fd4aa2d471770482e1151244120613",
         500,
         650
        ],
        [
         "95c39fbc802568faaebf23336226eafb5a8ae03678e15f837c1dd41d02fda235",
         500,
         650
        ]
       ],
       "datasetInfos": [],
       "dbfsResultPath": null,
       "isJsonSchema": true,
       "metadata": {},
       "overflow": false,
       "plotOptions": {
        "customPlotOptions": {},
        "displayType": "table",
        "pivotAggregation": null,
        "pivotColumns": null,
        "xColumns": null,
        "yColumns": null
       },
       "removedWidgets": [],
       "schema": [
        {
         "metadata": "{}",
         "name": "member_id",
         "type": "\"string\""
        },
        {
         "metadata": "{}",
         "name": "last_payment_pts",
         "type": "\"integer\""
        },
        {
         "metadata": "{}",
         "name": "total_payment_pts",
         "type": "\"integer\""
        }
       ],
       "type": "table"
      }
     },
     "output_type": "display_data"
    }
   ],
   "source": [
    "display(spark.sql(\"select * from ph_pts\").limit(20))"
   ]
  },
  {
   "cell_type": "markdown",
   "metadata": {
    "application/vnd.databricks.v1+cell": {
     "cellMetadata": {},
     "inputWidgets": {},
     "nuid": "be74f27c-26ce-4460-9065-3ec380aae313",
     "showTitle": false,
     "tableResultSettingsMap": {},
     "title": ""
    }
   },
   "source": [
    "##  Loan Score Calculation Criteria 2: Loan Defaulters History(ldh)"
   ]
  },
  {
   "cell_type": "code",
   "execution_count": 0,
   "metadata": {
    "application/vnd.databricks.v1+cell": {
     "cellMetadata": {
      "byteLimit": 2048000,
      "rowLimit": 10000
     },
     "inputWidgets": {},
     "nuid": "e47ea71e-a8da-4765-8852-8379096a9363",
     "showTitle": false,
     "tableResultSettingsMap": {},
     "title": ""
    }
   },
   "outputs": [],
   "source": [
    "ldh_ph_df = spark.sql(\n",
    "    \"select p.*, \\\n",
    "    CASE \\\n",
    "    WHEN d.delinq_2yrs = 0 THEN ${spark.sql.excellent_rated_pts} \\\n",
    "    WHEN d.delinq_2yrs BETWEEN 1 AND 2 THEN ${spark.sql.bad_rated_pts} \\\n",
    "    WHEN d.delinq_2yrs BETWEEN 3 AND 5 THEN ${spark.sql.very_bad_rated_pts} \\\n",
    "    WHEN d.delinq_2yrs > 5 OR d.delinq_2yrs IS NULL THEN ${spark.sql.unacceptable_grade_pts} \\\n",
    "    END AS delinq_pts, \\\n",
    "    CASE \\\n",
    "    WHEN l.pub_rec = 0 THEN ${spark.sql.excellent_rated_pts} \\\n",
    "    WHEN l.pub_rec BETWEEN 1 AND 2 THEN ${spark.sql.bad_rated_pts} \\\n",
    "    WHEN l.pub_rec BETWEEN 3 AND 5 THEN ${spark.sql.very_bad_rated_pts} \\\n",
    "    WHEN l.pub_rec > 5 OR l.pub_rec IS NULL THEN ${spark.sql.very_bad_rated_pts} \\\n",
    "    END AS public_records_pts, \\\n",
    "    CASE \\\n",
    "    WHEN l.pub_rec_bankruptcies = 0 THEN ${spark.sql.excellent_rated_pts} \\\n",
    "    WHEN l.pub_rec_bankruptcies BETWEEN 1 AND 2 THEN ${spark.sql.bad_rated_pts} \\\n",
    "    WHEN l.pub_rec_bankruptcies BETWEEN 3 AND 5 THEN ${spark.sql.very_bad_rated_pts} \\\n",
    "    WHEN l.pub_rec_bankruptcies > 5 OR l.pub_rec_bankruptcies IS NULL THEN ${spark.sql.very_bad_rated_pts} \\\n",
    "    END as public_bankruptcies_pts, \\\n",
    "    CASE \\\n",
    "    WHEN l.inq_last_6mths = 0 THEN ${spark.sql.excellent_rated_pts} \\\n",
    "    WHEN l.inq_last_6mths BETWEEN 1 AND 2 THEN ${spark.sql.bad_rated_pts} \\\n",
    "    WHEN l.inq_last_6mths BETWEEN 3 AND 5 THEN ${spark.sql.very_bad_rated_pts} \\\n",
    "    WHEN l.inq_last_6mths > 5 OR l.inq_last_6mths IS NULL THEN ${spark.sql.unacceptable_rated_pts} \\\n",
    "    END AS enq_pts \\\n",
    "    FROM lending_club.loans_defaulters_detail_rec_enq_new l \\\n",
    "    INNER JOIN lending_club.loans_defaulters_delinq_new d ON d.member_id = l.member_id  \\\n",
    "    INNER JOIN ph_pts p ON p.member_id = l.member_id where l.member_id NOT IN (select member_id from bad_data_customer)\")"
   ]
  },
  {
   "cell_type": "code",
   "execution_count": 0,
   "metadata": {
    "application/vnd.databricks.v1+cell": {
     "cellMetadata": {
      "byteLimit": 2048000,
      "rowLimit": 10000
     },
     "inputWidgets": {},
     "nuid": "8796993a-085f-4c8a-91a3-1d04be821016",
     "showTitle": false,
     "tableResultSettingsMap": {},
     "title": ""
    }
   },
   "outputs": [],
   "source": [
    "ldh_ph_df.createOrReplaceTempView(\"ldh_ph_pts\")"
   ]
  },
  {
   "cell_type": "code",
   "execution_count": 0,
   "metadata": {
    "application/vnd.databricks.v1+cell": {
     "cellMetadata": {
      "byteLimit": 2048000,
      "rowLimit": 10000
     },
     "inputWidgets": {},
     "nuid": "7d9d432c-5f8f-4267-a365-89d37a3cc110",
     "showTitle": false,
     "tableResultSettingsMap": {
      "0": {
       "dataGridStateBlob": "{\"version\":1,\"tableState\":{\"columnPinning\":{\"left\":[\"#row_number#\"],\"right\":[]},\"columnSizing\":{\"member_id\":253},\"columnVisibility\":{}},\"settings\":{\"columns\":{}},\"syncTimestamp\":1755317926155}",
       "filterBlob": null,
       "queryPlanFiltersBlob": null,
       "tableResultIndex": 0
      }
     },
     "title": ""
    }
   },
   "outputs": [
    {
     "output_type": "display_data",
     "data": {
      "text/html": [
       "<style scoped>\n",
       "  .table-result-container {\n",
       "    max-height: 300px;\n",
       "    overflow: auto;\n",
       "  }\n",
       "  table, th, td {\n",
       "    border: 1px solid black;\n",
       "    border-collapse: collapse;\n",
       "  }\n",
       "  th, td {\n",
       "    padding: 5px;\n",
       "  }\n",
       "  th {\n",
       "    text-align: left;\n",
       "  }\n",
       "</style><div class='table-result-container'><table class='table-result'><thead style='background-color: white'><tr><th>member_id</th><th>last_payment_pts</th><th>total_payment_pts</th><th>delinq_pts</th><th>public_records_pts</th><th>public_bankruptcies_pts</th><th>enq_pts</th></tr></thead><tbody><tr><td>0000036e9afe019a699318476a8a0369a6077eaec49941fe3d2d20a8337a29da</td><td>800</td><td>650</td><td>250</td><td>800</td><td>800</td><td>100</td></tr><tr><td>000152208b3e77b5b312ec37200c9e42bf55e919832deb42316f81b07b451071</td><td>500</td><td>650</td><td>800</td><td>800</td><td>800</td><td>800</td></tr><tr><td>000170b4ccb292792210dbabd9cf19972e101df6fc5afba151fa89a047c4ae61</td><td>800</td><td>650</td><td>250</td><td>800</td><td>800</td><td>250</td></tr><tr><td>0001cfa200f7480b9da8567b58c35f83eaa9b9582926103959e66f3479c83302</td><td>500</td><td>650</td><td>250</td><td>250</td><td>250</td><td>250</td></tr><tr><td>00024adf1230710bd0ef07843ff9e1e47e8427e9054d6eea02c3ae61854f92ea</td><td>500</td><td>500</td><td>250</td><td>800</td><td>800</td><td>800</td></tr><tr><td>00026136ec721b938d8742c6eb93160e0f54b8e02c75ccdbed010e3c619f9e82</td><td>500</td><td>500</td><td>250</td><td>800</td><td>800</td><td>250</td></tr><tr><td>0002b05a715d725840d6fc999c93896f7336dff953f621c8132f2788282a3999</td><td>500</td><td>500</td><td>800</td><td>800</td><td>800</td><td>800</td></tr><tr><td>00030e831c078f92ae63c5d683defc180eedf3c72726e244b017fefe3d10e256</td><td>500</td><td>650</td><td>800</td><td>800</td><td>800</td><td>800</td></tr><tr><td>00039d9a16af9223f4711c2fd60f8fb4436a4f03b4490cfbac567885fa8dae21</td><td>500</td><td>500</td><td>800</td><td>800</td><td>800</td><td>800</td></tr><tr><td>00040e9425ee269ebfc64981b80d9867f9d11adc07ca0a8ce9c1b0d90e64a8e2</td><td>500</td><td>650</td><td>250</td><td>250</td><td>250</td><td>800</td></tr><tr><td>0004656412a18b9c138fac6b7efe457401305d08062596240c1298bb1a8a37b7</td><td>800</td><td>650</td><td>250</td><td>800</td><td>800</td><td>800</td></tr><tr><td>0004f290201c29d93a8b365965e63447a3fa74feb61640fcf54b390ad822fa6f</td><td>500</td><td>500</td><td>800</td><td>800</td><td>800</td><td>800</td></tr><tr><td>00053635ac8640201c9e95e0b48e28d5b60681cbfe95b864e8fa3adbaa9bb773</td><td>500</td><td>500</td><td>800</td><td>800</td><td>800</td><td>800</td></tr><tr><td>00055f1f392f63672ee4c74393b994fa5403b9e1949b34a25c8d083cb6c30161</td><td>800</td><td>650</td><td>800</td><td>800</td><td>800</td><td>800</td></tr><tr><td>0005c3b2e23d18d3a3dc5aa884791aa3b8f19402c68d9612e6443f9e991597a3</td><td>500</td><td>650</td><td>250</td><td>800</td><td>800</td><td>250</td></tr><tr><td>0005f7eea1cc9ebebfeda63137deeb9915c0755eb0dc1a03dd46e21be9c12698</td><td>500</td><td>500</td><td>800</td><td>800</td><td>800</td><td>800</td></tr><tr><td>000629e2a62c3fe1f0dd4aa569ad63cb3d868b024f315d53c335a15ab4b71778</td><td>500</td><td>650</td><td>800</td><td>800</td><td>800</td><td>250</td></tr><tr><td>00068d8b359a1a6e19be47e39ec739b09d7eed59abb285bc8e350a2f4976b8c2</td><td>100</td><td>650</td><td>250</td><td>800</td><td>800</td><td>250</td></tr><tr><td>0006c7e943f4e3eb2f0f5cb16c9d7928430ab93ef61a70d3fb9bbb7ba46f0881</td><td>800</td><td>650</td><td>800</td><td>250</td><td>800</td><td>800</td></tr><tr><td>0006f4ef9585ad783ba212189721b87fb4d80aa95cc51da13bd461fc0d18d76f</td><td>800</td><td>650</td><td>250</td><td>800</td><td>800</td><td>250</td></tr></tbody></table></div>"
      ]
     },
     "metadata": {
      "application/vnd.databricks.v1+output": {
       "addedWidgets": {},
       "aggData": [],
       "aggError": "",
       "aggOverflow": false,
       "aggSchema": [],
       "aggSeriesLimitReached": false,
       "aggType": "",
       "arguments": {},
       "columnCustomDisplayInfos": {},
       "data": [
        [
         "0000036e9afe019a699318476a8a0369a6077eaec49941fe3d2d20a8337a29da",
         800,
         650,
         250,
         800,
         800,
         100
        ],
        [
         "000152208b3e77b5b312ec37200c9e42bf55e919832deb42316f81b07b451071",
         500,
         650,
         800,
         800,
         800,
         800
        ],
        [
         "000170b4ccb292792210dbabd9cf19972e101df6fc5afba151fa89a047c4ae61",
         800,
         650,
         250,
         800,
         800,
         250
        ],
        [
         "0001cfa200f7480b9da8567b58c35f83eaa9b9582926103959e66f3479c83302",
         500,
         650,
         250,
         250,
         250,
         250
        ],
        [
         "00024adf1230710bd0ef07843ff9e1e47e8427e9054d6eea02c3ae61854f92ea",
         500,
         500,
         250,
         800,
         800,
         800
        ],
        [
         "00026136ec721b938d8742c6eb93160e0f54b8e02c75ccdbed010e3c619f9e82",
         500,
         500,
         250,
         800,
         800,
         250
        ],
        [
         "0002b05a715d725840d6fc999c93896f7336dff953f621c8132f2788282a3999",
         500,
         500,
         800,
         800,
         800,
         800
        ],
        [
         "00030e831c078f92ae63c5d683defc180eedf3c72726e244b017fefe3d10e256",
         500,
         650,
         800,
         800,
         800,
         800
        ],
        [
         "00039d9a16af9223f4711c2fd60f8fb4436a4f03b4490cfbac567885fa8dae21",
         500,
         500,
         800,
         800,
         800,
         800
        ],
        [
         "00040e9425ee269ebfc64981b80d9867f9d11adc07ca0a8ce9c1b0d90e64a8e2",
         500,
         650,
         250,
         250,
         250,
         800
        ],
        [
         "0004656412a18b9c138fac6b7efe457401305d08062596240c1298bb1a8a37b7",
         800,
         650,
         250,
         800,
         800,
         800
        ],
        [
         "0004f290201c29d93a8b365965e63447a3fa74feb61640fcf54b390ad822fa6f",
         500,
         500,
         800,
         800,
         800,
         800
        ],
        [
         "00053635ac8640201c9e95e0b48e28d5b60681cbfe95b864e8fa3adbaa9bb773",
         500,
         500,
         800,
         800,
         800,
         800
        ],
        [
         "00055f1f392f63672ee4c74393b994fa5403b9e1949b34a25c8d083cb6c30161",
         800,
         650,
         800,
         800,
         800,
         800
        ],
        [
         "0005c3b2e23d18d3a3dc5aa884791aa3b8f19402c68d9612e6443f9e991597a3",
         500,
         650,
         250,
         800,
         800,
         250
        ],
        [
         "0005f7eea1cc9ebebfeda63137deeb9915c0755eb0dc1a03dd46e21be9c12698",
         500,
         500,
         800,
         800,
         800,
         800
        ],
        [
         "000629e2a62c3fe1f0dd4aa569ad63cb3d868b024f315d53c335a15ab4b71778",
         500,
         650,
         800,
         800,
         800,
         250
        ],
        [
         "00068d8b359a1a6e19be47e39ec739b09d7eed59abb285bc8e350a2f4976b8c2",
         100,
         650,
         250,
         800,
         800,
         250
        ],
        [
         "0006c7e943f4e3eb2f0f5cb16c9d7928430ab93ef61a70d3fb9bbb7ba46f0881",
         800,
         650,
         800,
         250,
         800,
         800
        ],
        [
         "0006f4ef9585ad783ba212189721b87fb4d80aa95cc51da13bd461fc0d18d76f",
         800,
         650,
         250,
         800,
         800,
         250
        ]
       ],
       "datasetInfos": [],
       "dbfsResultPath": null,
       "isJsonSchema": true,
       "metadata": {},
       "overflow": false,
       "plotOptions": {
        "customPlotOptions": {},
        "displayType": "table",
        "pivotAggregation": null,
        "pivotColumns": null,
        "xColumns": null,
        "yColumns": null
       },
       "removedWidgets": [],
       "schema": [
        {
         "metadata": "{}",
         "name": "member_id",
         "type": "\"string\""
        },
        {
         "metadata": "{}",
         "name": "last_payment_pts",
         "type": "\"integer\""
        },
        {
         "metadata": "{}",
         "name": "total_payment_pts",
         "type": "\"integer\""
        },
        {
         "metadata": "{}",
         "name": "delinq_pts",
         "type": "\"integer\""
        },
        {
         "metadata": "{}",
         "name": "public_records_pts",
         "type": "\"integer\""
        },
        {
         "metadata": "{}",
         "name": "public_bankruptcies_pts",
         "type": "\"integer\""
        },
        {
         "metadata": "{}",
         "name": "enq_pts",
         "type": "\"integer\""
        }
       ],
       "type": "table"
      }
     },
     "output_type": "display_data"
    }
   ],
   "source": [
    "display(spark.sql(\"select * from ldh_ph_pts\").limit(20))"
   ]
  },
  {
   "cell_type": "markdown",
   "metadata": {
    "application/vnd.databricks.v1+cell": {
     "cellMetadata": {},
     "inputWidgets": {},
     "nuid": "8d63c9d3-7a55-455a-a84b-0d4fdf658ba9",
     "showTitle": false,
     "tableResultSettingsMap": {},
     "title": ""
    }
   },
   "source": [
    "## Loan Score Calculation Criteria : Financial Health(fh)"
   ]
  },
  {
   "cell_type": "code",
   "execution_count": 0,
   "metadata": {
    "application/vnd.databricks.v1+cell": {
     "cellMetadata": {
      "byteLimit": 2048000,
      "rowLimit": 10000
     },
     "inputWidgets": {},
     "nuid": "74b589de-155c-44e2-a73c-4bd9dbbcd6be",
     "showTitle": false,
     "tableResultSettingsMap": {},
     "title": ""
    }
   },
   "outputs": [],
   "source": [
    "fh_ldh_ph_df = spark.sql(\"select ldef.*, \\\n",
    "   CASE \\\n",
    "   WHEN LOWER(l.loan_status) LIKE '%fully paid%' THEN ${spark.sql.excellent_rated_pts} \\\n",
    "   WHEN LOWER(l.loan_status) LIKE '%current%' THEN ${spark.sql.good_rated_pts} \\\n",
    "   WHEN LOWER(l.loan_status) LIKE '%in grace period%' THEN ${spark.sql.bad_rated_pts} \\\n",
    "   WHEN LOWER(l.loan_status) LIKE '%late (16-30 days)%' OR LOWER(l.loan_status) LIKE '%late (31-120 days)%' THEN ${spark.sql.very_bad_rated_pts} \\\n",
    "   WHEN LOWER(l.loan_status) LIKE '%charged off%' THEN ${spark.sql.unacceptable_rated_pts} \\\n",
    "   else ${spark.sql.unacceptable_rated_pts} \\\n",
    "   END AS loan_status_pts, \\\n",
    "   CASE \\\n",
    "   WHEN LOWER(a.home_ownership) LIKE '%own' THEN ${spark.sql.excellent_rated_pts} \\\n",
    "   WHEN LOWER(a.home_ownership) LIKE '%rent' THEN ${spark.sql.good_rated_pts} \\\n",
    "   WHEN LOWER(a.home_ownership) LIKE '%mortgage' THEN ${spark.sql.bad_rated_pts} \\\n",
    "   WHEN LOWER(a.home_ownership) LIKE '%any' OR LOWER(a.home_ownership) IS NULL THEN ${spark.sql.very_bad_rated_pts} \\\n",
    "   END AS home_pts, \\\n",
    "   CASE \\\n",
    "   WHEN l.funded_amount <= (a.tot_hi_cred_lim * 0.10) THEN ${spark.sql.excellent_rated_pts} \\\n",
    "   WHEN l.funded_amount > (a.tot_hi_cred_lim * 0.10) AND l.funded_amount <= (a.tot_hi_cred_lim * 0.20) THEN ${spark.sql.very_good_rated_pts} \\\n",
    "   WHEN l.funded_amount > (a.tot_hi_cred_lim * 0.20) AND l.funded_amount <= (a.tot_hi_cred_lim * 0.30) THEN ${spark.sql.good_rated_pts} \\\n",
    "   WHEN l.funded_amount > (a.tot_hi_cred_lim * 0.30) AND l.funded_amount <= (a.tot_hi_cred_lim * 0.50) THEN ${spark.sql.bad_rated_pts} \\\n",
    "   WHEN l.funded_amount > (a.tot_hi_cred_lim * 0.50) AND l.funded_amount <= (a.tot_hi_cred_lim * 0.70) THEN ${spark.sql.very_bad_rated_pts} \\\n",
    "   WHEN l.funded_amount > (a.tot_hi_cred_lim * 0.70) THEN ${spark.sql.unacceptable_rated_pts} \\\n",
    "   else ${spark.sql.unacceptable_rated_pts} \\\n",
    "   END AS credit_limit_pts, \\\n",
    "   CASE \\\n",
    "   WHEN (a.grade) = 'A' and (a.sub_grade)='A1' THEN ${spark.sql.excellent_rated_pts} \\\n",
    "   WHEN (a.grade) = 'A' and (a.sub_grade)='A2' THEN (${spark.sql.excellent_rated_pts} * 0.95) \\\n",
    "   WHEN (a.grade) = 'A' and (a.sub_grade)='A3' THEN (${spark.sql.excellent_rated_pts} * 0.90) \\\n",
    "   WHEN (a.grade) = 'A' and (a.sub_grade)='A4' THEN (${spark.sql.excellent_rated_pts} * 0.85) \\\n",
    "   WHEN (a.grade) = 'A' and (a.sub_grade)='A5' THEN (${spark.sql.excellent_rated_pts} * 0.80) \\\n",
    "   WHEN (a.grade) = 'B' and (a.sub_grade)='B1' THEN (${spark.sql.very_good_rated_pts}) \\\n",
    "   WHEN (a.grade) = 'B' and (a.sub_grade)='B2' THEN (${spark.sql.very_good_rated_pts} * 0.95) \\\n",
    "   WHEN (a.grade) = 'B' and (a.sub_grade)='B3' THEN (${spark.sql.very_good_rated_pts} * 0.90) \\\n",
    "   WHEN (a.grade) = 'B' and (a.sub_grade)='B4' THEN (${spark.sql.very_good_rated_pts} * 0.85) \\\n",
    "   WHEN (a.grade) = 'B' and (a.sub_grade)='B5' THEN (${spark.sql.very_good_rated_pts} * 0.80) \\\n",
    "   WHEN (a.grade) = 'C' and (a.sub_grade)='C1' THEN (${spark.sql.good_rated_pts}) \\\n",
    "   WHEN (a.grade) = 'C' and (a.sub_grade)='C2' THEN (${spark.sql.good_rated_pts} * 0.95) \\\n",
    "   WHEN (a.grade) = 'C' and (a.sub_grade)='C3' THEN (${spark.sql.good_rated_pts} * 0.90) \\\n",
    "   WHEN (a.grade) = 'C' and (a.sub_grade)='C4' THEN (${spark.sql.good_rated_pts} * 0.85) \\\n",
    "   WHEN (a.grade) = 'C' and (a.sub_grade)='C5' THEN (${spark.sql.good_rated_pts} * 0.80) \\\n",
    "   WHEN (a.grade) = 'D' and (a.sub_grade)='D1' THEN (${spark.sql.bad_rated_pts}) \\\n",
    "   WHEN (a.grade) = 'D' and (a.sub_grade)='D2' THEN (${spark.sql.bad_rated_pts} * 0.95) \\\n",
    "   WHEN (a.grade) = 'D' and (a.sub_grade)='D3' THEN (${spark.sql.bad_rated_pts} * 0.90) \\\n",
    "   WHEN (a.grade) = 'D' and (a.sub_grade)='D4' THEN (${spark.sql.bad_rated_pts} * 0.85) \\\n",
    "   WHEN (a.grade) = 'D' and (a.sub_grade)='D5' THEN (${spark.sql.bad_rated_pts} * 0.80) \\\n",
    "   WHEN (a.grade) = 'E' and (a.sub_grade)='E1' THEN (${spark.sql.very_bad_rated_pts}) \\\n",
    "   WHEN (a.grade) = 'E' and (a.sub_grade)='E2' THEN (${spark.sql.very_bad_rated_pts} * 0.95) \\\n",
    "   WHEN (a.grade) = 'E' and (a.sub_grade)='E3' THEN (${spark.sql.very_bad_rated_pts} * 0.90) \\\n",
    "   WHEN (a.grade) = 'E' and (a.sub_grade)='E4' THEN (${spark.sql.very_bad_rated_pts} * 0.85) \\\n",
    "   WHEN (a.grade) = 'E' and (a.sub_grade)='E5' THEN (${spark.sql.very_bad_rated_pts} * 0.80) \\\n",
    "   WHEN (a.grade) in ('F', 'G') THEN (${spark.sql.unacceptable_rated_pts}) \\\n",
    "   END AS grade_pts \\\n",
    "   FROM ldh_ph_pts ldef \\\n",
    "   INNER JOIN lending_club.loans l ON ldef.member_id = l.member_id \\\n",
    "   INNER JOIN lending_club.customers_new a ON a.member_id = ldef.member_id where ldef.member_id NOT IN (select member_id from bad_data_customer)\") "
   ]
  },
  {
   "cell_type": "code",
   "execution_count": 0,
   "metadata": {
    "application/vnd.databricks.v1+cell": {
     "cellMetadata": {
      "byteLimit": 2048000,
      "rowLimit": 10000
     },
     "inputWidgets": {},
     "nuid": "2a6b7224-2052-4e25-88a1-c8ebf687d83b",
     "showTitle": false,
     "tableResultSettingsMap": {},
     "title": ""
    }
   },
   "outputs": [],
   "source": [
    "fh_ldh_ph_df.createOrReplaceTempView(\"fh_ldh_ph_pts\")"
   ]
  },
  {
   "cell_type": "markdown",
   "metadata": {
    "application/vnd.databricks.v1+cell": {
     "cellMetadata": {},
     "inputWidgets": {},
     "nuid": "f3e284fd-9916-4cf8-b554-af316293cbea",
     "showTitle": false,
     "tableResultSettingsMap": {},
     "title": ""
    }
   },
   "source": [
    "#### Final loan score calculation by considering all the 3 criterias with the following %**"
   ]
  },
  {
   "cell_type": "markdown",
   "metadata": {
    "application/vnd.databricks.v1+cell": {
     "cellMetadata": {},
     "inputWidgets": {},
     "nuid": "a1dc5c5c-ab6a-4592-8159-8561b070e990",
     "showTitle": false,
     "tableResultSettingsMap": {},
     "title": ""
    }
   },
   "source": [
    "#### 1. Payment History = 20%\n",
    "#### 2. Loan Defaults = 45%\n",
    "#### 3. Financial Health = 35%"
   ]
  },
  {
   "cell_type": "code",
   "execution_count": 0,
   "metadata": {
    "application/vnd.databricks.v1+cell": {
     "cellMetadata": {
      "byteLimit": 2048000,
      "rowLimit": 10000
     },
     "inputWidgets": {},
     "nuid": "12f3abe2-4f83-4d0b-a626-a7db644036f6",
     "showTitle": false,
     "tableResultSettingsMap": {},
     "title": ""
    }
   },
   "outputs": [],
   "source": [
    "loan_score = spark.sql(\"SELECT member_id, \\\n",
    "((last_payment_pts+total_payment_pts)*0.20) as payment_history_pts, \\\n",
    "((delinq_pts + public_records_pts + public_bankruptcies_pts + enq_pts) * 0.45) as defaulters_history_pts, \\\n",
    "((loan_status_pts + home_pts + credit_limit_pts + grade_pts)*0.35) as financial_health_pts \\\n",
    "FROM fh_ldh_ph_pts\")"
   ]
  },
  {
   "cell_type": "code",
   "execution_count": 0,
   "metadata": {
    "application/vnd.databricks.v1+cell": {
     "cellMetadata": {
      "byteLimit": 2048000,
      "rowLimit": 10000
     },
     "inputWidgets": {},
     "nuid": "61bcf437-d5d0-461d-8d5e-4d8840c18973",
     "showTitle": false,
     "tableResultSettingsMap": {
      "0": {
       "dataGridStateBlob": "{\"version\":1,\"tableState\":{\"columnPinning\":{\"left\":[\"#row_number#\"],\"right\":[]},\"columnSizing\":{\"member_id\":375},\"columnVisibility\":{}},\"settings\":{\"columns\":{}},\"syncTimestamp\":1755318439264}",
       "filterBlob": null,
       "queryPlanFiltersBlob": null,
       "tableResultIndex": 0
      }
     },
     "title": ""
    }
   },
   "outputs": [
    {
     "output_type": "display_data",
     "data": {
      "text/html": [
       "<style scoped>\n",
       "  .table-result-container {\n",
       "    max-height: 300px;\n",
       "    overflow: auto;\n",
       "  }\n",
       "  table, th, td {\n",
       "    border: 1px solid black;\n",
       "    border-collapse: collapse;\n",
       "  }\n",
       "  th, td {\n",
       "    padding: 5px;\n",
       "  }\n",
       "  th {\n",
       "    text-align: left;\n",
       "  }\n",
       "</style><div class='table-result-container'><table class='table-result'><thead style='background-color: white'><tr><th>member_id</th><th>payment_history_pts</th><th>defaulters_history_pts</th><th>financial_health_pts</th></tr></thead><tbody><tr><td>0000036e9afe019a699318476a8a0369a6077eaec49941fe3d2d20a8337a29da</td><td>290.00</td><td>877.50</td><td>822.5000</td></tr><tr><td>000152208b3e77b5b312ec37200c9e42bf55e919832deb42316f81b07b451071</td><td>230.00</td><td>1440.00</td><td>665.0000</td></tr><tr><td>000170b4ccb292792210dbabd9cf19972e101df6fc5afba151fa89a047c4ae61</td><td>290.00</td><td>945.00</td><td>852.2500</td></tr><tr><td>0001cfa200f7480b9da8567b58c35f83eaa9b9582926103959e66f3479c83302</td><td>230.00</td><td>450.00</td><td>665.0000</td></tr><tr><td>00024adf1230710bd0ef07843ff9e1e47e8427e9054d6eea02c3ae61854f92ea</td><td>200.00</td><td>1192.50</td><td>682.5000</td></tr><tr><td>00026136ec721b938d8742c6eb93160e0f54b8e02c75ccdbed010e3c619f9e82</td><td>200.00</td><td>945.00</td><td>653.6250</td></tr><tr><td>00030e831c078f92ae63c5d683defc180eedf3c72726e244b017fefe3d10e256</td><td>230.00</td><td>1440.00</td><td>595.8750</td></tr><tr><td>0004656412a18b9c138fac6b7efe457401305d08062596240c1298bb1a8a37b7</td><td>290.00</td><td>1192.50</td><td>988.7500</td></tr><tr><td>0004f290201c29d93a8b365965e63447a3fa74feb61640fcf54b390ad822fa6f</td><td>200.00</td><td>1440.00</td><td>682.5000</td></tr><tr><td>00055f1f392f63672ee4c74393b994fa5403b9e1949b34a25c8d083cb6c30161</td><td>290.00</td><td>1440.00</td><td>875.8750</td></tr><tr><td>0005c3b2e23d18d3a3dc5aa884791aa3b8f19402c68d9612e6443f9e991597a3</td><td>230.00</td><td>945.00</td><td>759.5000</td></tr><tr><td>0005f7eea1cc9ebebfeda63137deeb9915c0755eb0dc1a03dd46e21be9c12698</td><td>200.00</td><td>1440.00</td><td>672.0000</td></tr><tr><td>00068d8b359a1a6e19be47e39ec739b09d7eed59abb285bc8e350a2f4976b8c2</td><td>150.00</td><td>945.00</td><td>962.5000</td></tr><tr><td>0006f4ef9585ad783ba212189721b87fb4d80aa95cc51da13bd461fc0d18d76f</td><td>290.00</td><td>945.00</td><td>796.2500</td></tr><tr><td>0006f75e5d4813efb86aaf27695a28b3921edcf86cd76c1e45b2c035ab4e763e</td><td>290.00</td><td>1440.00</td><td>735.0000</td></tr><tr><td>00088763ac64ad2c220c8b7fbd6f7fb997b49d139cc221386d52e219d4aa581a</td><td>200.00</td><td>1440.00</td><td>455.0000</td></tr><tr><td>00089660c638fdffaea424b7b60689577eb37e3b2a3df6c050de31dbf0c6eb82</td><td>290.00</td><td>1440.00</td><td>1015.0000</td></tr><tr><td>00098fdab33ce7e226ab8343a53c1e8b10d6d6a1267c93ba07889d30f9b40e87</td><td>290.00</td><td>1192.50</td><td>875.0000</td></tr><tr><td>000b76a7fd404bd042bb94a1f0debed3dd35b742820f975825353d3325a8d706</td><td>200.00</td><td>1440.00</td><td>794.5000</td></tr><tr><td>000c05e0e5d3fc0c0ce96a96dcdc21a8bba359e9e4886103b90a414131aa4291</td><td>290.00</td><td>1192.50</td><td>901.2500</td></tr></tbody></table></div>"
      ]
     },
     "metadata": {
      "application/vnd.databricks.v1+output": {
       "addedWidgets": {},
       "aggData": [],
       "aggError": "",
       "aggOverflow": false,
       "aggSchema": [],
       "aggSeriesLimitReached": false,
       "aggType": "",
       "arguments": {},
       "columnCustomDisplayInfos": {},
       "data": [
        [
         "0000036e9afe019a699318476a8a0369a6077eaec49941fe3d2d20a8337a29da",
         "290.00",
         "877.50",
         "822.5000"
        ],
        [
         "000152208b3e77b5b312ec37200c9e42bf55e919832deb42316f81b07b451071",
         "230.00",
         "1440.00",
         "665.0000"
        ],
        [
         "000170b4ccb292792210dbabd9cf19972e101df6fc5afba151fa89a047c4ae61",
         "290.00",
         "945.00",
         "852.2500"
        ],
        [
         "0001cfa200f7480b9da8567b58c35f83eaa9b9582926103959e66f3479c83302",
         "230.00",
         "450.00",
         "665.0000"
        ],
        [
         "00024adf1230710bd0ef07843ff9e1e47e8427e9054d6eea02c3ae61854f92ea",
         "200.00",
         "1192.50",
         "682.5000"
        ],
        [
         "00026136ec721b938d8742c6eb93160e0f54b8e02c75ccdbed010e3c619f9e82",
         "200.00",
         "945.00",
         "653.6250"
        ],
        [
         "00030e831c078f92ae63c5d683defc180eedf3c72726e244b017fefe3d10e256",
         "230.00",
         "1440.00",
         "595.8750"
        ],
        [
         "0004656412a18b9c138fac6b7efe457401305d08062596240c1298bb1a8a37b7",
         "290.00",
         "1192.50",
         "988.7500"
        ],
        [
         "0004f290201c29d93a8b365965e63447a3fa74feb61640fcf54b390ad822fa6f",
         "200.00",
         "1440.00",
         "682.5000"
        ],
        [
         "00055f1f392f63672ee4c74393b994fa5403b9e1949b34a25c8d083cb6c30161",
         "290.00",
         "1440.00",
         "875.8750"
        ],
        [
         "0005c3b2e23d18d3a3dc5aa884791aa3b8f19402c68d9612e6443f9e991597a3",
         "230.00",
         "945.00",
         "759.5000"
        ],
        [
         "0005f7eea1cc9ebebfeda63137deeb9915c0755eb0dc1a03dd46e21be9c12698",
         "200.00",
         "1440.00",
         "672.0000"
        ],
        [
         "00068d8b359a1a6e19be47e39ec739b09d7eed59abb285bc8e350a2f4976b8c2",
         "150.00",
         "945.00",
         "962.5000"
        ],
        [
         "0006f4ef9585ad783ba212189721b87fb4d80aa95cc51da13bd461fc0d18d76f",
         "290.00",
         "945.00",
         "796.2500"
        ],
        [
         "0006f75e5d4813efb86aaf27695a28b3921edcf86cd76c1e45b2c035ab4e763e",
         "290.00",
         "1440.00",
         "735.0000"
        ],
        [
         "00088763ac64ad2c220c8b7fbd6f7fb997b49d139cc221386d52e219d4aa581a",
         "200.00",
         "1440.00",
         "455.0000"
        ],
        [
         "00089660c638fdffaea424b7b60689577eb37e3b2a3df6c050de31dbf0c6eb82",
         "290.00",
         "1440.00",
         "1015.0000"
        ],
        [
         "00098fdab33ce7e226ab8343a53c1e8b10d6d6a1267c93ba07889d30f9b40e87",
         "290.00",
         "1192.50",
         "875.0000"
        ],
        [
         "000b76a7fd404bd042bb94a1f0debed3dd35b742820f975825353d3325a8d706",
         "200.00",
         "1440.00",
         "794.5000"
        ],
        [
         "000c05e0e5d3fc0c0ce96a96dcdc21a8bba359e9e4886103b90a414131aa4291",
         "290.00",
         "1192.50",
         "901.2500"
        ]
       ],
       "datasetInfos": [],
       "dbfsResultPath": null,
       "isJsonSchema": true,
       "metadata": {},
       "overflow": false,
       "plotOptions": {
        "customPlotOptions": {},
        "displayType": "table",
        "pivotAggregation": null,
        "pivotColumns": null,
        "xColumns": null,
        "yColumns": null
       },
       "removedWidgets": [],
       "schema": [
        {
         "metadata": "{}",
         "name": "member_id",
         "type": "\"string\""
        },
        {
         "metadata": "{}",
         "name": "payment_history_pts",
         "type": "\"decimal(13,2)\""
        },
        {
         "metadata": "{}",
         "name": "defaulters_history_pts",
         "type": "\"decimal(13,2)\""
        },
        {
         "metadata": "{}",
         "name": "financial_health_pts",
         "type": "\"decimal(16,4)\""
        }
       ],
       "type": "table"
      }
     },
     "output_type": "display_data"
    }
   ],
   "source": [
    "display(loan_score.limit(20))"
   ]
  },
  {
   "cell_type": "code",
   "execution_count": 0,
   "metadata": {
    "application/vnd.databricks.v1+cell": {
     "cellMetadata": {
      "byteLimit": 2048000,
      "rowLimit": 10000
     },
     "inputWidgets": {},
     "nuid": "5d83f021-4097-4e66-8ab8-79040932471e",
     "showTitle": false,
     "tableResultSettingsMap": {},
     "title": ""
    }
   },
   "outputs": [],
   "source": [
    "final_loan_score = loan_score.withColumn('loan_score', loan_score.payment_history_pts + loan_score.defaulters_history_pts + loan_score.financial_health_pts)"
   ]
  },
  {
   "cell_type": "code",
   "execution_count": 0,
   "metadata": {
    "application/vnd.databricks.v1+cell": {
     "cellMetadata": {
      "byteLimit": 2048000,
      "rowLimit": 10000
     },
     "inputWidgets": {},
     "nuid": "ab031c08-4796-4e74-92f6-d04b81b19f38",
     "showTitle": false,
     "tableResultSettingsMap": {},
     "title": ""
    }
   },
   "outputs": [],
   "source": [
    "final_loan_score.createOrReplaceTempView(\"loan_score_eval\")"
   ]
  },
  {
   "cell_type": "code",
   "execution_count": 0,
   "metadata": {
    "application/vnd.databricks.v1+cell": {
     "cellMetadata": {
      "byteLimit": 2048000,
      "rowLimit": 10000
     },
     "inputWidgets": {},
     "nuid": "a4c3d4aa-343b-4a20-b7fb-07548518a444",
     "showTitle": false,
     "tableResultSettingsMap": {},
     "title": ""
    }
   },
   "outputs": [],
   "source": [
    "loan_score_final = spark.sql(\"select ls.*, \\\n",
    "case \\\n",
    "WHEN loan_score > ${spark.sql.very_good_grade_pts} THEN 'A' \\\n",
    "WHEN loan_score <= ${spark.sql.very_good_grade_pts} AND loan_score > ${spark.sql.good_grade_pts} THEN 'B' \\\n",
    "WHEN loan_score <= ${spark.sql.good_grade_pts} AND loan_score > ${spark.sql.bad_grade_pts} THEN 'C' \\\n",
    "WHEN loan_score <= ${spark.sql.bad_grade_pts} AND loan_score  > ${spark.sql.very_bad_grade_pts} THEN 'D' \\\n",
    "WHEN loan_score <= ${spark.sql.very_bad_grade_pts} AND loan_score > ${spark.sql.unacceptable_grade_pts} THEN 'E'  \\\n",
    "WHEN loan_score <= ${spark.sql.unacceptable_grade_pts} THEN 'F' \\\n",
    "end as loan_final_grade \\\n",
    "from loan_score_eval ls\")"
   ]
  },
  {
   "cell_type": "code",
   "execution_count": 0,
   "metadata": {
    "application/vnd.databricks.v1+cell": {
     "cellMetadata": {
      "byteLimit": 2048000,
      "rowLimit": 10000
     },
     "inputWidgets": {},
     "nuid": "58480b57-846b-4b5e-930a-efb4847ff68a",
     "showTitle": false,
     "tableResultSettingsMap": {},
     "title": ""
    }
   },
   "outputs": [],
   "source": [
    "loan_score_final.createOrReplaceTempView(\"loan_final_table\")"
   ]
  },
  {
   "cell_type": "code",
   "execution_count": 0,
   "metadata": {
    "application/vnd.databricks.v1+cell": {
     "cellMetadata": {
      "byteLimit": 2048000,
      "rowLimit": 10000
     },
     "inputWidgets": {},
     "nuid": "c9a8f522-2313-4302-8943-4b93454d1663",
     "showTitle": false,
     "tableResultSettingsMap": {
      "0": {
       "dataGridStateBlob": "{\"version\":1,\"tableState\":{\"columnPinning\":{\"left\":[\"#row_number#\"],\"right\":[]},\"columnSizing\":{\"member_id\":229},\"columnVisibility\":{}},\"settings\":{\"columns\":{}},\"syncTimestamp\":1755319046373}",
       "filterBlob": null,
       "queryPlanFiltersBlob": null,
       "tableResultIndex": 0
      }
     },
     "title": ""
    }
   },
   "outputs": [
    {
     "output_type": "display_data",
     "data": {
      "text/html": [
       "<style scoped>\n",
       "  .table-result-container {\n",
       "    max-height: 300px;\n",
       "    overflow: auto;\n",
       "  }\n",
       "  table, th, td {\n",
       "    border: 1px solid black;\n",
       "    border-collapse: collapse;\n",
       "  }\n",
       "  th, td {\n",
       "    padding: 5px;\n",
       "  }\n",
       "  th {\n",
       "    text-align: left;\n",
       "  }\n",
       "</style><div class='table-result-container'><table class='table-result'><thead style='background-color: white'><tr><th>member_id</th><th>payment_history_pts</th><th>defaulters_history_pts</th><th>financial_health_pts</th><th>loan_score</th><th>loan_final_grade</th></tr></thead><tbody><tr><td>0000036e9afe019a699318476a8a0369a6077eaec49941fe3d2d20a8337a29da</td><td>290.00</td><td>877.50</td><td>822.5000</td><td>1990.0000</td><td>C</td></tr><tr><td>000152208b3e77b5b312ec37200c9e42bf55e919832deb42316f81b07b451071</td><td>230.00</td><td>1440.00</td><td>665.0000</td><td>2335.0000</td><td>B</td></tr><tr><td>000170b4ccb292792210dbabd9cf19972e101df6fc5afba151fa89a047c4ae61</td><td>290.00</td><td>945.00</td><td>852.2500</td><td>2087.2500</td><td>B</td></tr><tr><td>0001cfa200f7480b9da8567b58c35f83eaa9b9582926103959e66f3479c83302</td><td>230.00</td><td>450.00</td><td>665.0000</td><td>1345.0000</td><td>D</td></tr><tr><td>00024adf1230710bd0ef07843ff9e1e47e8427e9054d6eea02c3ae61854f92ea</td><td>200.00</td><td>1192.50</td><td>682.5000</td><td>2075.0000</td><td>B</td></tr><tr><td>00026136ec721b938d8742c6eb93160e0f54b8e02c75ccdbed010e3c619f9e82</td><td>200.00</td><td>945.00</td><td>653.6250</td><td>1798.6250</td><td>C</td></tr><tr><td>00030e831c078f92ae63c5d683defc180eedf3c72726e244b017fefe3d10e256</td><td>230.00</td><td>1440.00</td><td>595.8750</td><td>2265.8750</td><td>B</td></tr><tr><td>0004656412a18b9c138fac6b7efe457401305d08062596240c1298bb1a8a37b7</td><td>290.00</td><td>1192.50</td><td>988.7500</td><td>2471.2500</td><td>B</td></tr><tr><td>0004f290201c29d93a8b365965e63447a3fa74feb61640fcf54b390ad822fa6f</td><td>200.00</td><td>1440.00</td><td>682.5000</td><td>2322.5000</td><td>B</td></tr><tr><td>00055f1f392f63672ee4c74393b994fa5403b9e1949b34a25c8d083cb6c30161</td><td>290.00</td><td>1440.00</td><td>875.8750</td><td>2605.8750</td><td>A</td></tr><tr><td>0005c3b2e23d18d3a3dc5aa884791aa3b8f19402c68d9612e6443f9e991597a3</td><td>230.00</td><td>945.00</td><td>759.5000</td><td>1934.5000</td><td>C</td></tr><tr><td>0005f7eea1cc9ebebfeda63137deeb9915c0755eb0dc1a03dd46e21be9c12698</td><td>200.00</td><td>1440.00</td><td>672.0000</td><td>2312.0000</td><td>B</td></tr><tr><td>00068d8b359a1a6e19be47e39ec739b09d7eed59abb285bc8e350a2f4976b8c2</td><td>150.00</td><td>945.00</td><td>962.5000</td><td>2057.5000</td><td>B</td></tr><tr><td>0006f4ef9585ad783ba212189721b87fb4d80aa95cc51da13bd461fc0d18d76f</td><td>290.00</td><td>945.00</td><td>796.2500</td><td>2031.2500</td><td>B</td></tr><tr><td>0006f75e5d4813efb86aaf27695a28b3921edcf86cd76c1e45b2c035ab4e763e</td><td>290.00</td><td>1440.00</td><td>735.0000</td><td>2465.0000</td><td>B</td></tr><tr><td>00088763ac64ad2c220c8b7fbd6f7fb997b49d139cc221386d52e219d4aa581a</td><td>200.00</td><td>1440.00</td><td>455.0000</td><td>2095.0000</td><td>B</td></tr><tr><td>00089660c638fdffaea424b7b60689577eb37e3b2a3df6c050de31dbf0c6eb82</td><td>290.00</td><td>1440.00</td><td>1015.0000</td><td>2745.0000</td><td>A</td></tr><tr><td>00098fdab33ce7e226ab8343a53c1e8b10d6d6a1267c93ba07889d30f9b40e87</td><td>290.00</td><td>1192.50</td><td>875.0000</td><td>2357.5000</td><td>B</td></tr><tr><td>000b76a7fd404bd042bb94a1f0debed3dd35b742820f975825353d3325a8d706</td><td>200.00</td><td>1440.00</td><td>794.5000</td><td>2434.5000</td><td>B</td></tr><tr><td>000c05e0e5d3fc0c0ce96a96dcdc21a8bba359e9e4886103b90a414131aa4291</td><td>290.00</td><td>1192.50</td><td>901.2500</td><td>2383.7500</td><td>B</td></tr></tbody></table></div>"
      ]
     },
     "metadata": {
      "application/vnd.databricks.v1+output": {
       "addedWidgets": {},
       "aggData": [],
       "aggError": "",
       "aggOverflow": false,
       "aggSchema": [],
       "aggSeriesLimitReached": false,
       "aggType": "",
       "arguments": {},
       "columnCustomDisplayInfos": {},
       "data": [
        [
         "0000036e9afe019a699318476a8a0369a6077eaec49941fe3d2d20a8337a29da",
         "290.00",
         "877.50",
         "822.5000",
         "1990.0000",
         "C"
        ],
        [
         "000152208b3e77b5b312ec37200c9e42bf55e919832deb42316f81b07b451071",
         "230.00",
         "1440.00",
         "665.0000",
         "2335.0000",
         "B"
        ],
        [
         "000170b4ccb292792210dbabd9cf19972e101df6fc5afba151fa89a047c4ae61",
         "290.00",
         "945.00",
         "852.2500",
         "2087.2500",
         "B"
        ],
        [
         "0001cfa200f7480b9da8567b58c35f83eaa9b9582926103959e66f3479c83302",
         "230.00",
         "450.00",
         "665.0000",
         "1345.0000",
         "D"
        ],
        [
         "00024adf1230710bd0ef07843ff9e1e47e8427e9054d6eea02c3ae61854f92ea",
         "200.00",
         "1192.50",
         "682.5000",
         "2075.0000",
         "B"
        ],
        [
         "00026136ec721b938d8742c6eb93160e0f54b8e02c75ccdbed010e3c619f9e82",
         "200.00",
         "945.00",
         "653.6250",
         "1798.6250",
         "C"
        ],
        [
         "00030e831c078f92ae63c5d683defc180eedf3c72726e244b017fefe3d10e256",
         "230.00",
         "1440.00",
         "595.8750",
         "2265.8750",
         "B"
        ],
        [
         "0004656412a18b9c138fac6b7efe457401305d08062596240c1298bb1a8a37b7",
         "290.00",
         "1192.50",
         "988.7500",
         "2471.2500",
         "B"
        ],
        [
         "0004f290201c29d93a8b365965e63447a3fa74feb61640fcf54b390ad822fa6f",
         "200.00",
         "1440.00",
         "682.5000",
         "2322.5000",
         "B"
        ],
        [
         "00055f1f392f63672ee4c74393b994fa5403b9e1949b34a25c8d083cb6c30161",
         "290.00",
         "1440.00",
         "875.8750",
         "2605.8750",
         "A"
        ],
        [
         "0005c3b2e23d18d3a3dc5aa884791aa3b8f19402c68d9612e6443f9e991597a3",
         "230.00",
         "945.00",
         "759.5000",
         "1934.5000",
         "C"
        ],
        [
         "0005f7eea1cc9ebebfeda63137deeb9915c0755eb0dc1a03dd46e21be9c12698",
         "200.00",
         "1440.00",
         "672.0000",
         "2312.0000",
         "B"
        ],
        [
         "00068d8b359a1a6e19be47e39ec739b09d7eed59abb285bc8e350a2f4976b8c2",
         "150.00",
         "945.00",
         "962.5000",
         "2057.5000",
         "B"
        ],
        [
         "0006f4ef9585ad783ba212189721b87fb4d80aa95cc51da13bd461fc0d18d76f",
         "290.00",
         "945.00",
         "796.2500",
         "2031.2500",
         "B"
        ],
        [
         "0006f75e5d4813efb86aaf27695a28b3921edcf86cd76c1e45b2c035ab4e763e",
         "290.00",
         "1440.00",
         "735.0000",
         "2465.0000",
         "B"
        ],
        [
         "00088763ac64ad2c220c8b7fbd6f7fb997b49d139cc221386d52e219d4aa581a",
         "200.00",
         "1440.00",
         "455.0000",
         "2095.0000",
         "B"
        ],
        [
         "00089660c638fdffaea424b7b60689577eb37e3b2a3df6c050de31dbf0c6eb82",
         "290.00",
         "1440.00",
         "1015.0000",
         "2745.0000",
         "A"
        ],
        [
         "00098fdab33ce7e226ab8343a53c1e8b10d6d6a1267c93ba07889d30f9b40e87",
         "290.00",
         "1192.50",
         "875.0000",
         "2357.5000",
         "B"
        ],
        [
         "000b76a7fd404bd042bb94a1f0debed3dd35b742820f975825353d3325a8d706",
         "200.00",
         "1440.00",
         "794.5000",
         "2434.5000",
         "B"
        ],
        [
         "000c05e0e5d3fc0c0ce96a96dcdc21a8bba359e9e4886103b90a414131aa4291",
         "290.00",
         "1192.50",
         "901.2500",
         "2383.7500",
         "B"
        ]
       ],
       "datasetInfos": [],
       "dbfsResultPath": null,
       "isJsonSchema": true,
       "metadata": {},
       "overflow": false,
       "plotOptions": {
        "customPlotOptions": {},
        "displayType": "table",
        "pivotAggregation": null,
        "pivotColumns": null,
        "xColumns": null,
        "yColumns": null
       },
       "removedWidgets": [],
       "schema": [
        {
         "metadata": "{}",
         "name": "member_id",
         "type": "\"string\""
        },
        {
         "metadata": "{}",
         "name": "payment_history_pts",
         "type": "\"decimal(13,2)\""
        },
        {
         "metadata": "{}",
         "name": "defaulters_history_pts",
         "type": "\"decimal(13,2)\""
        },
        {
         "metadata": "{}",
         "name": "financial_health_pts",
         "type": "\"decimal(16,4)\""
        },
        {
         "metadata": "{}",
         "name": "loan_score",
         "type": "\"decimal(17,4)\""
        },
        {
         "metadata": "{}",
         "name": "loan_final_grade",
         "type": "\"string\""
        }
       ],
       "type": "table"
      }
     },
     "output_type": "display_data"
    }
   ],
   "source": [
    "display(spark.sql(\"select * from loan_final_table\").limit(20))"
   ]
  },
  {
   "cell_type": "code",
   "execution_count": 0,
   "metadata": {
    "application/vnd.databricks.v1+cell": {
     "cellMetadata": {
      "byteLimit": 2048000,
      "rowLimit": 10000
     },
     "inputWidgets": {},
     "nuid": "bf613510-5904-43dd-b042-2e51938d0b8e",
     "showTitle": false,
     "tableResultSettingsMap": {},
     "title": ""
    }
   },
   "outputs": [
    {
     "output_type": "display_data",
     "data": {
      "text/html": [
       "<style scoped>\n",
       "  .table-result-container {\n",
       "    max-height: 300px;\n",
       "    overflow: auto;\n",
       "  }\n",
       "  table, th, td {\n",
       "    border: 1px solid black;\n",
       "    border-collapse: collapse;\n",
       "  }\n",
       "  th, td {\n",
       "    padding: 5px;\n",
       "  }\n",
       "  th {\n",
       "    text-align: left;\n",
       "  }\n",
       "</style><div class='table-result-container'><table class='table-result'><thead style='background-color: white'><tr><th>count(1)</th></tr></thead><tbody><tr><td>1102587</td></tr></tbody></table></div>"
      ]
     },
     "metadata": {
      "application/vnd.databricks.v1+output": {
       "addedWidgets": {},
       "aggData": [],
       "aggError": "",
       "aggOverflow": false,
       "aggSchema": [],
       "aggSeriesLimitReached": false,
       "aggType": "",
       "arguments": {},
       "columnCustomDisplayInfos": {},
       "data": [
        [
         1102587
        ]
       ],
       "datasetInfos": [],
       "dbfsResultPath": null,
       "isJsonSchema": true,
       "metadata": {},
       "overflow": false,
       "plotOptions": {
        "customPlotOptions": {},
        "displayType": "table",
        "pivotAggregation": null,
        "pivotColumns": null,
        "xColumns": null,
        "yColumns": null
       },
       "removedWidgets": [],
       "schema": [
        {
         "metadata": "{\"__autoGeneratedAlias\":\"true\"}",
         "name": "count(1)",
         "type": "\"long\""
        }
       ],
       "type": "table"
      }
     },
     "output_type": "display_data"
    }
   ],
   "source": [
    "display(spark.sql(\"select count(*) from loan_final_table\"))"
   ]
  },
  {
   "cell_type": "code",
   "execution_count": 0,
   "metadata": {
    "application/vnd.databricks.v1+cell": {
     "cellMetadata": {
      "byteLimit": 2048000,
      "rowLimit": 10000
     },
     "inputWidgets": {},
     "nuid": "328b8a64-7395-4f45-bfc6-9e6907843abb",
     "showTitle": false,
     "tableResultSettingsMap": {},
     "title": ""
    }
   },
   "outputs": [],
   "source": [
    "loan_score_final.write \\\n",
    ".format(\"csv\") \\\n",
    ".mode(\"overwrite\") \\\n",
    ".option(\"path\", \"/mnt/Lendingclub/Lendingclub/Lendingclub/processed/loan_score\") \\\n",
    ".save()"
   ]
  }
 ],
 "metadata": {
  "application/vnd.databricks.v1+notebook": {
   "computePreferences": null,
   "dashboards": [],
   "environmentMetadata": null,
   "inputWidgetPreferences": null,
   "language": "python",
   "notebookMetadata": {
    "pythonIndentUnit": 4
   },
   "notebookName": "941_Loan_Score",
   "widgets": {}
  },
  "kernelspec": {
   "display_name": "tf3",
   "language": "python",
   "name": "python3"
  },
  "language_info": {
   "name": "python"
  }
 },
 "nbformat": 4,
 "nbformat_minor": 0
}
