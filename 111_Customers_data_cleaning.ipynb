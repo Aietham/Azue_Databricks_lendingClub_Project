{
 "cells": [
  {
   "cell_type": "markdown",
   "metadata": {
    "application/vnd.databricks.v1+cell": {
     "cellMetadata": {
      "byteLimit": 2048000,
      "rowLimit": 10000
     },
     "inputWidgets": {},
     "nuid": "08c2bb38-b2fc-4fef-8e52-076b3bd54c04",
     "showTitle": false,
     "tableResultSettingsMap": {},
     "title": ""
    }
   },
   "source": [
    "# Cleaning Customers Data and writing in parquet format\n"
   ]
  },
  {
   "cell_type": "markdown",
   "metadata": {
    "application/vnd.databricks.v1+cell": {
     "cellMetadata": {
      "byteLimit": 2048000,
      "rowLimit": 10000
     },
     "inputWidgets": {},
     "nuid": "401a36a6-e8c5-4428-ab1f-324476758732",
     "showTitle": false,
     "tableResultSettingsMap": {},
     "title": ""
    }
   },
   "source": [
    "#### 1. create a dataframe with proper datatypes "
   ]
  },
  {
   "cell_type": "code",
   "execution_count": 0,
   "metadata": {
    "application/vnd.databricks.v1+cell": {
     "cellMetadata": {
      "byteLimit": 2048000,
      "rowLimit": 10000
     },
     "inputWidgets": {},
     "nuid": "38c99529-5965-42ba-83e5-76575ad15f1a",
     "showTitle": false,
     "tableResultSettingsMap": {},
     "title": ""
    }
   },
   "outputs": [],
   "source": [
    "customer_schema = 'member_id string, emp_title string, emp_length string, home_ownership string, annual_inc float, addr_state string, zip_code string, country string, grade string, sub_grade string, verification_status string, tot_hi_cred_lim float, application_type string, annual_inc_joint float, verification_status_joint string'"
   ]
  },
  {
   "cell_type": "code",
   "execution_count": 0,
   "metadata": {
    "application/vnd.databricks.v1+cell": {
     "cellMetadata": {
      "byteLimit": 2048000,
      "rowLimit": 10000
     },
     "inputWidgets": {},
     "nuid": "7e186000-a23c-4857-bd06-67f0d720df32",
     "showTitle": false,
     "tableResultSettingsMap": {},
     "title": ""
    }
   },
   "outputs": [],
   "source": [
    "customers_raw_df = spark.read \\\n",
    ".format(\"csv\") \\\n",
    ".option(\"header\",True) \\\n",
    ".schema(customer_schema) \\\n",
    ".load(\"/mnt/Lendingclub/Lendingclub/Lendingclub/raw/customers_data_csv\")"
   ]
  },
  {
   "cell_type": "code",
   "execution_count": 0,
   "metadata": {
    "application/vnd.databricks.v1+cell": {
     "cellMetadata": {
      "byteLimit": 2048000,
      "rowLimit": 10000
     },
     "inputWidgets": {},
     "nuid": "551a1027-3298-4b75-ab99-dff1a8f837a9",
     "showTitle": false,
     "tableResultSettingsMap": {},
     "title": ""
    }
   },
   "outputs": [
    {
     "output_type": "display_data",
     "data": {
      "text/html": [
       "<style scoped>\n",
       "  .table-result-container {\n",
       "    max-height: 300px;\n",
       "    overflow: auto;\n",
       "  }\n",
       "  table, th, td {\n",
       "    border: 1px solid black;\n",
       "    border-collapse: collapse;\n",
       "  }\n",
       "  th, td {\n",
       "    padding: 5px;\n",
       "  }\n",
       "  th {\n",
       "    text-align: left;\n",
       "  }\n",
       "</style><div class='table-result-container'><table class='table-result'><thead style='background-color: white'><tr><th>member_id</th><th>emp_title</th><th>emp_length</th><th>home_ownership</th><th>annual_inc</th><th>addr_state</th><th>zip_code</th><th>country</th><th>grade</th><th>sub_grade</th><th>verification_status</th><th>tot_hi_cred_lim</th><th>application_type</th><th>annual_inc_joint</th><th>verification_status_joint</th></tr></thead><tbody><tr><td>6d5091b3fcaaeb4eac37445042b6b79e8b21f16943b9c32c4f5dd74dcb0f2210</td><td>leadman</td><td>10+ years</td><td>MORTGAGE</td><td>55000.0</td><td>PA</td><td>190xx</td><td>USA</td><td>C</td><td>C4</td><td>Not Verified</td><td>178050.0</td><td>Individual</td><td>null</td><td>null</td></tr><tr><td>b5e7938b0a2da4ceaa75ea2e3c111d1e33ca0f944f954b6d65671ef395d21713</td><td>Engineer</td><td>10+ years</td><td>MORTGAGE</td><td>65000.0</td><td>SD</td><td>577xx</td><td>USA</td><td>C</td><td>C1</td><td>Not Verified</td><td>314017.0</td><td>Individual</td><td>null</td><td>null</td></tr><tr><td>91060b858433e8a6107be9b76b324e304b5802631fc081b449188fe4b4e32205</td><td>truck driver</td><td>10+ years</td><td>MORTGAGE</td><td>63000.0</td><td>IL</td><td>605xx</td><td>USA</td><td>B</td><td>B4</td><td>Not Verified</td><td>218418.0</td><td>Joint App</td><td>71000.0</td><td>Not Verified</td></tr><tr><td>cab1fa9f533688b0aab7c6be7b6256d15ad1dd5f3c4ca061a49cfeb26901977d</td><td>Information Systems Officer</td><td>10+ years</td><td>MORTGAGE</td><td>110000.0</td><td>NJ</td><td>076xx</td><td>USA</td><td>C</td><td>C5</td><td>Source Verified</td><td>381215.0</td><td>Individual</td><td>null</td><td>null</td></tr><tr><td>f74e401c1ab0adf788a7279dd70a27459fcc47733d35eed71149ff371d2a7283</td><td>Contract Specialist</td><td>3 years</td><td>MORTGAGE</td><td>104433.0</td><td>PA</td><td>174xx</td><td>USA</td><td>F</td><td>F1</td><td>Source Verified</td><td>439570.0</td><td>Individual</td><td>null</td><td>null</td></tr><tr><td>8aef4bb29d609d8d684fd709af965bd690fc9ef3a2691777f38e0c10d622fe97</td><td>Veterinary Tecnician</td><td>4 years</td><td>RENT</td><td>34000.0</td><td>GA</td><td>300xx</td><td>USA</td><td>C</td><td>C3</td><td>Source Verified</td><td>16900.0</td><td>Individual</td><td>null</td><td>null</td></tr><tr><td>538b4653da3b1e8142b50baacf97a57b721eb6ec565f5fb63a1b71d191e9e934</td><td>Vice President of Recruiting Operations</td><td>10+ years</td><td>MORTGAGE</td><td>180000.0</td><td>MN</td><td>550xx</td><td>USA</td><td>B</td><td>B2</td><td>Not Verified</td><td>388852.0</td><td>Individual</td><td>null</td><td>null</td></tr><tr><td>b24d55f21390533c512f78f822153dc247e984dcd0cfe031c341ccef1c689817</td><td>road driver</td><td>10+ years</td><td>MORTGAGE</td><td>85000.0</td><td>SC</td><td>293xx</td><td>USA</td><td>B</td><td>B1</td><td>Not Verified</td><td>193390.0</td><td>Individual</td><td>null</td><td>null</td></tr><tr><td>1035c5401b0ca76d02c334b813302a9b72825e70b1659e8bc8ce5eea6c5d1f52</td><td>SERVICE MANAGER</td><td>6 years</td><td>RENT</td><td>85000.0</td><td>PA</td><td>160xx</td><td>USA</td><td>A</td><td>A2</td><td>Not Verified</td><td>61099.0</td><td>Individual</td><td>null</td><td>null</td></tr><tr><td>cb0f1777593e77909d0d359a6d9e633f28568500e17806f815395c92f0cd375d</td><td>Vendor liaison</td><td>10+ years</td><td>MORTGAGE</td><td>42000.0</td><td>RI</td><td>029xx</td><td>USA</td><td>B</td><td>B5</td><td>Not Verified</td><td>256513.0</td><td>Individual</td><td>null</td><td>null</td></tr></tbody></table></div>"
      ]
     },
     "metadata": {
      "application/vnd.databricks.v1+output": {
       "addedWidgets": {},
       "aggData": [],
       "aggError": "",
       "aggOverflow": false,
       "aggSchema": [],
       "aggSeriesLimitReached": false,
       "aggType": "",
       "arguments": {},
       "columnCustomDisplayInfos": {},
       "data": [
        [
         "6d5091b3fcaaeb4eac37445042b6b79e8b21f16943b9c32c4f5dd74dcb0f2210",
         "leadman",
         "10+ years",
         "MORTGAGE",
         55000.0,
         "PA",
         "190xx",
         "USA",
         "C",
         "C4",
         "Not Verified",
         178050.0,
         "Individual",
         null,
         null
        ],
        [
         "b5e7938b0a2da4ceaa75ea2e3c111d1e33ca0f944f954b6d65671ef395d21713",
         "Engineer",
         "10+ years",
         "MORTGAGE",
         65000.0,
         "SD",
         "577xx",
         "USA",
         "C",
         "C1",
         "Not Verified",
         314017.0,
         "Individual",
         null,
         null
        ],
        [
         "91060b858433e8a6107be9b76b324e304b5802631fc081b449188fe4b4e32205",
         "truck driver",
         "10+ years",
         "MORTGAGE",
         63000.0,
         "IL",
         "605xx",
         "USA",
         "B",
         "B4",
         "Not Verified",
         218418.0,
         "Joint App",
         71000.0,
         "Not Verified"
        ],
        [
         "cab1fa9f533688b0aab7c6be7b6256d15ad1dd5f3c4ca061a49cfeb26901977d",
         "Information Systems Officer",
         "10+ years",
         "MORTGAGE",
         110000.0,
         "NJ",
         "076xx",
         "USA",
         "C",
         "C5",
         "Source Verified",
         381215.0,
         "Individual",
         null,
         null
        ],
        [
         "f74e401c1ab0adf788a7279dd70a27459fcc47733d35eed71149ff371d2a7283",
         "Contract Specialist",
         "3 years",
         "MORTGAGE",
         104433.0,
         "PA",
         "174xx",
         "USA",
         "F",
         "F1",
         "Source Verified",
         439570.0,
         "Individual",
         null,
         null
        ],
        [
         "8aef4bb29d609d8d684fd709af965bd690fc9ef3a2691777f38e0c10d622fe97",
         "Veterinary Tecnician",
         "4 years",
         "RENT",
         34000.0,
         "GA",
         "300xx",
         "USA",
         "C",
         "C3",
         "Source Verified",
         16900.0,
         "Individual",
         null,
         null
        ],
        [
         "538b4653da3b1e8142b50baacf97a57b721eb6ec565f5fb63a1b71d191e9e934",
         "Vice President of Recruiting Operations",
         "10+ years",
         "MORTGAGE",
         180000.0,
         "MN",
         "550xx",
         "USA",
         "B",
         "B2",
         "Not Verified",
         388852.0,
         "Individual",
         null,
         null
        ],
        [
         "b24d55f21390533c512f78f822153dc247e984dcd0cfe031c341ccef1c689817",
         "road driver",
         "10+ years",
         "MORTGAGE",
         85000.0,
         "SC",
         "293xx",
         "USA",
         "B",
         "B1",
         "Not Verified",
         193390.0,
         "Individual",
         null,
         null
        ],
        [
         "1035c5401b0ca76d02c334b813302a9b72825e70b1659e8bc8ce5eea6c5d1f52",
         "SERVICE MANAGER",
         "6 years",
         "RENT",
         85000.0,
         "PA",
         "160xx",
         "USA",
         "A",
         "A2",
         "Not Verified",
         61099.0,
         "Individual",
         null,
         null
        ],
        [
         "cb0f1777593e77909d0d359a6d9e633f28568500e17806f815395c92f0cd375d",
         "Vendor liaison",
         "10+ years",
         "MORTGAGE",
         42000.0,
         "RI",
         "029xx",
         "USA",
         "B",
         "B5",
         "Not Verified",
         256513.0,
         "Individual",
         null,
         null
        ]
       ],
       "datasetInfos": [],
       "dbfsResultPath": null,
       "isJsonSchema": true,
       "metadata": {},
       "overflow": false,
       "plotOptions": {
        "customPlotOptions": {},
        "displayType": "table",
        "pivotAggregation": null,
        "pivotColumns": null,
        "xColumns": null,
        "yColumns": null
       },
       "removedWidgets": [],
       "schema": [
        {
         "metadata": "{}",
         "name": "member_id",
         "type": "\"string\""
        },
        {
         "metadata": "{}",
         "name": "emp_title",
         "type": "\"string\""
        },
        {
         "metadata": "{}",
         "name": "emp_length",
         "type": "\"string\""
        },
        {
         "metadata": "{}",
         "name": "home_ownership",
         "type": "\"string\""
        },
        {
         "metadata": "{}",
         "name": "annual_inc",
         "type": "\"float\""
        },
        {
         "metadata": "{}",
         "name": "addr_state",
         "type": "\"string\""
        },
        {
         "metadata": "{}",
         "name": "zip_code",
         "type": "\"string\""
        },
        {
         "metadata": "{}",
         "name": "country",
         "type": "\"string\""
        },
        {
         "metadata": "{}",
         "name": "grade",
         "type": "\"string\""
        },
        {
         "metadata": "{}",
         "name": "sub_grade",
         "type": "\"string\""
        },
        {
         "metadata": "{}",
         "name": "verification_status",
         "type": "\"string\""
        },
        {
         "metadata": "{}",
         "name": "tot_hi_cred_lim",
         "type": "\"float\""
        },
        {
         "metadata": "{}",
         "name": "application_type",
         "type": "\"string\""
        },
        {
         "metadata": "{}",
         "name": "annual_inc_joint",
         "type": "\"float\""
        },
        {
         "metadata": "{}",
         "name": "verification_status_joint",
         "type": "\"string\""
        }
       ],
       "type": "table"
      }
     },
     "output_type": "display_data"
    }
   ],
   "source": [
    "display(customers_raw_df.limit(10))"
   ]
  },
  {
   "cell_type": "code",
   "execution_count": 0,
   "metadata": {
    "application/vnd.databricks.v1+cell": {
     "cellMetadata": {
      "byteLimit": 2048000,
      "rowLimit": 10000
     },
     "inputWidgets": {},
     "nuid": "773a4747-ddcb-4069-8ab7-4b8cc8162334",
     "showTitle": false,
     "tableResultSettingsMap": {},
     "title": ""
    }
   },
   "outputs": [
    {
     "output_type": "stream",
     "name": "stdout",
     "output_type": "stream",
     "text": [
      "root\n |-- member_id: string (nullable = true)\n |-- emp_title: string (nullable = true)\n |-- emp_length: string (nullable = true)\n |-- home_ownership: string (nullable = true)\n |-- annual_inc: float (nullable = true)\n |-- addr_state: string (nullable = true)\n |-- zip_code: string (nullable = true)\n |-- country: string (nullable = true)\n |-- grade: string (nullable = true)\n |-- sub_grade: string (nullable = true)\n |-- verification_status: string (nullable = true)\n |-- tot_hi_cred_lim: float (nullable = true)\n |-- application_type: string (nullable = true)\n |-- annual_inc_joint: float (nullable = true)\n |-- verification_status_joint: string (nullable = true)\n\n"
     ]
    }
   ],
   "source": [
    "customers_raw_df.printSchema()"
   ]
  },
  {
   "cell_type": "markdown",
   "metadata": {
    "application/vnd.databricks.v1+cell": {
     "cellMetadata": {
      "byteLimit": 2048000,
      "rowLimit": 10000
     },
     "inputWidgets": {},
     "nuid": "8cb49588-49ab-4738-8306-0c9c9af95b18",
     "showTitle": false,
     "tableResultSettingsMap": {},
     "title": ""
    }
   },
   "source": [
    "#### 2. Rename a few columns"
   ]
  },
  {
   "cell_type": "code",
   "execution_count": 0,
   "metadata": {
    "application/vnd.databricks.v1+cell": {
     "cellMetadata": {
      "byteLimit": 2048000,
      "rowLimit": 10000
     },
     "inputWidgets": {},
     "nuid": "bed0bb0b-e402-40aa-a938-8f45bc226dfe",
     "showTitle": false,
     "tableResultSettingsMap": {},
     "title": ""
    }
   },
   "outputs": [],
   "source": [
    "customer_df_renamed = customers_raw_df.withColumnRenamed(\"annual_inc\", \"annual_income\") \\\n",
    ".withColumnRenamed(\"addr_state\", \"address_state\") \\\n",
    ".withColumnRenamed(\"zip_code\", \"address_zipcode\") \\\n",
    ".withColumnRenamed(\"country\", \"address_country\") \\\n",
    ".withColumnRenamed(\"tot_hi_credit_lim\", \"total_high_credit_limit\") \\\n",
    ".withColumnRenamed(\"annual_inc_joint\", \"join_annual_income\")"
   ]
  },
  {
   "cell_type": "code",
   "execution_count": 0,
   "metadata": {
    "application/vnd.databricks.v1+cell": {
     "cellMetadata": {
      "byteLimit": 2048000,
      "rowLimit": 10000
     },
     "inputWidgets": {},
     "nuid": "8f78d015-4e04-4bbe-aa93-308d1f2477a0",
     "showTitle": false,
     "tableResultSettingsMap": {},
     "title": ""
    }
   },
   "outputs": [
    {
     "output_type": "display_data",
     "data": {
      "text/html": [
       "<style scoped>\n",
       "  .table-result-container {\n",
       "    max-height: 300px;\n",
       "    overflow: auto;\n",
       "  }\n",
       "  table, th, td {\n",
       "    border: 1px solid black;\n",
       "    border-collapse: collapse;\n",
       "  }\n",
       "  th, td {\n",
       "    padding: 5px;\n",
       "  }\n",
       "  th {\n",
       "    text-align: left;\n",
       "  }\n",
       "</style><div class='table-result-container'><table class='table-result'><thead style='background-color: white'><tr><th>member_id</th><th>emp_title</th><th>emp_length</th><th>home_ownership</th><th>annual_income</th><th>address_state</th><th>address_zipcode</th><th>address_country</th><th>grade</th><th>sub_grade</th><th>verification_status</th><th>tot_hi_cred_lim</th><th>application_type</th><th>join_annual_income</th><th>verification_status_joint</th></tr></thead><tbody><tr><td>6d5091b3fcaaeb4eac37445042b6b79e8b21f16943b9c32c4f5dd74dcb0f2210</td><td>leadman</td><td>10+ years</td><td>MORTGAGE</td><td>55000.0</td><td>PA</td><td>190xx</td><td>USA</td><td>C</td><td>C4</td><td>Not Verified</td><td>178050.0</td><td>Individual</td><td>null</td><td>null</td></tr><tr><td>b5e7938b0a2da4ceaa75ea2e3c111d1e33ca0f944f954b6d65671ef395d21713</td><td>Engineer</td><td>10+ years</td><td>MORTGAGE</td><td>65000.0</td><td>SD</td><td>577xx</td><td>USA</td><td>C</td><td>C1</td><td>Not Verified</td><td>314017.0</td><td>Individual</td><td>null</td><td>null</td></tr><tr><td>91060b858433e8a6107be9b76b324e304b5802631fc081b449188fe4b4e32205</td><td>truck driver</td><td>10+ years</td><td>MORTGAGE</td><td>63000.0</td><td>IL</td><td>605xx</td><td>USA</td><td>B</td><td>B4</td><td>Not Verified</td><td>218418.0</td><td>Joint App</td><td>71000.0</td><td>Not Verified</td></tr><tr><td>cab1fa9f533688b0aab7c6be7b6256d15ad1dd5f3c4ca061a49cfeb26901977d</td><td>Information Systems Officer</td><td>10+ years</td><td>MORTGAGE</td><td>110000.0</td><td>NJ</td><td>076xx</td><td>USA</td><td>C</td><td>C5</td><td>Source Verified</td><td>381215.0</td><td>Individual</td><td>null</td><td>null</td></tr><tr><td>f74e401c1ab0adf788a7279dd70a27459fcc47733d35eed71149ff371d2a7283</td><td>Contract Specialist</td><td>3 years</td><td>MORTGAGE</td><td>104433.0</td><td>PA</td><td>174xx</td><td>USA</td><td>F</td><td>F1</td><td>Source Verified</td><td>439570.0</td><td>Individual</td><td>null</td><td>null</td></tr><tr><td>8aef4bb29d609d8d684fd709af965bd690fc9ef3a2691777f38e0c10d622fe97</td><td>Veterinary Tecnician</td><td>4 years</td><td>RENT</td><td>34000.0</td><td>GA</td><td>300xx</td><td>USA</td><td>C</td><td>C3</td><td>Source Verified</td><td>16900.0</td><td>Individual</td><td>null</td><td>null</td></tr><tr><td>538b4653da3b1e8142b50baacf97a57b721eb6ec565f5fb63a1b71d191e9e934</td><td>Vice President of Recruiting Operations</td><td>10+ years</td><td>MORTGAGE</td><td>180000.0</td><td>MN</td><td>550xx</td><td>USA</td><td>B</td><td>B2</td><td>Not Verified</td><td>388852.0</td><td>Individual</td><td>null</td><td>null</td></tr><tr><td>b24d55f21390533c512f78f822153dc247e984dcd0cfe031c341ccef1c689817</td><td>road driver</td><td>10+ years</td><td>MORTGAGE</td><td>85000.0</td><td>SC</td><td>293xx</td><td>USA</td><td>B</td><td>B1</td><td>Not Verified</td><td>193390.0</td><td>Individual</td><td>null</td><td>null</td></tr><tr><td>1035c5401b0ca76d02c334b813302a9b72825e70b1659e8bc8ce5eea6c5d1f52</td><td>SERVICE MANAGER</td><td>6 years</td><td>RENT</td><td>85000.0</td><td>PA</td><td>160xx</td><td>USA</td><td>A</td><td>A2</td><td>Not Verified</td><td>61099.0</td><td>Individual</td><td>null</td><td>null</td></tr><tr><td>cb0f1777593e77909d0d359a6d9e633f28568500e17806f815395c92f0cd375d</td><td>Vendor liaison</td><td>10+ years</td><td>MORTGAGE</td><td>42000.0</td><td>RI</td><td>029xx</td><td>USA</td><td>B</td><td>B5</td><td>Not Verified</td><td>256513.0</td><td>Individual</td><td>null</td><td>null</td></tr></tbody></table></div>"
      ]
     },
     "metadata": {
      "application/vnd.databricks.v1+output": {
       "addedWidgets": {},
       "aggData": [],
       "aggError": "",
       "aggOverflow": false,
       "aggSchema": [],
       "aggSeriesLimitReached": false,
       "aggType": "",
       "arguments": {},
       "columnCustomDisplayInfos": {},
       "data": [
        [
         "6d5091b3fcaaeb4eac37445042b6b79e8b21f16943b9c32c4f5dd74dcb0f2210",
         "leadman",
         "10+ years",
         "MORTGAGE",
         55000.0,
         "PA",
         "190xx",
         "USA",
         "C",
         "C4",
         "Not Verified",
         178050.0,
         "Individual",
         null,
         null
        ],
        [
         "b5e7938b0a2da4ceaa75ea2e3c111d1e33ca0f944f954b6d65671ef395d21713",
         "Engineer",
         "10+ years",
         "MORTGAGE",
         65000.0,
         "SD",
         "577xx",
         "USA",
         "C",
         "C1",
         "Not Verified",
         314017.0,
         "Individual",
         null,
         null
        ],
        [
         "91060b858433e8a6107be9b76b324e304b5802631fc081b449188fe4b4e32205",
         "truck driver",
         "10+ years",
         "MORTGAGE",
         63000.0,
         "IL",
         "605xx",
         "USA",
         "B",
         "B4",
         "Not Verified",
         218418.0,
         "Joint App",
         71000.0,
         "Not Verified"
        ],
        [
         "cab1fa9f533688b0aab7c6be7b6256d15ad1dd5f3c4ca061a49cfeb26901977d",
         "Information Systems Officer",
         "10+ years",
         "MORTGAGE",
         110000.0,
         "NJ",
         "076xx",
         "USA",
         "C",
         "C5",
         "Source Verified",
         381215.0,
         "Individual",
         null,
         null
        ],
        [
         "f74e401c1ab0adf788a7279dd70a27459fcc47733d35eed71149ff371d2a7283",
         "Contract Specialist",
         "3 years",
         "MORTGAGE",
         104433.0,
         "PA",
         "174xx",
         "USA",
         "F",
         "F1",
         "Source Verified",
         439570.0,
         "Individual",
         null,
         null
        ],
        [
         "8aef4bb29d609d8d684fd709af965bd690fc9ef3a2691777f38e0c10d622fe97",
         "Veterinary Tecnician",
         "4 years",
         "RENT",
         34000.0,
         "GA",
         "300xx",
         "USA",
         "C",
         "C3",
         "Source Verified",
         16900.0,
         "Individual",
         null,
         null
        ],
        [
         "538b4653da3b1e8142b50baacf97a57b721eb6ec565f5fb63a1b71d191e9e934",
         "Vice President of Recruiting Operations",
         "10+ years",
         "MORTGAGE",
         180000.0,
         "MN",
         "550xx",
         "USA",
         "B",
         "B2",
         "Not Verified",
         388852.0,
         "Individual",
         null,
         null
        ],
        [
         "b24d55f21390533c512f78f822153dc247e984dcd0cfe031c341ccef1c689817",
         "road driver",
         "10+ years",
         "MORTGAGE",
         85000.0,
         "SC",
         "293xx",
         "USA",
         "B",
         "B1",
         "Not Verified",
         193390.0,
         "Individual",
         null,
         null
        ],
        [
         "1035c5401b0ca76d02c334b813302a9b72825e70b1659e8bc8ce5eea6c5d1f52",
         "SERVICE MANAGER",
         "6 years",
         "RENT",
         85000.0,
         "PA",
         "160xx",
         "USA",
         "A",
         "A2",
         "Not Verified",
         61099.0,
         "Individual",
         null,
         null
        ],
        [
         "cb0f1777593e77909d0d359a6d9e633f28568500e17806f815395c92f0cd375d",
         "Vendor liaison",
         "10+ years",
         "MORTGAGE",
         42000.0,
         "RI",
         "029xx",
         "USA",
         "B",
         "B5",
         "Not Verified",
         256513.0,
         "Individual",
         null,
         null
        ]
       ],
       "datasetInfos": [],
       "dbfsResultPath": null,
       "isJsonSchema": true,
       "metadata": {},
       "overflow": false,
       "plotOptions": {
        "customPlotOptions": {},
        "displayType": "table",
        "pivotAggregation": null,
        "pivotColumns": null,
        "xColumns": null,
        "yColumns": null
       },
       "removedWidgets": [],
       "schema": [
        {
         "metadata": "{}",
         "name": "member_id",
         "type": "\"string\""
        },
        {
         "metadata": "{}",
         "name": "emp_title",
         "type": "\"string\""
        },
        {
         "metadata": "{}",
         "name": "emp_length",
         "type": "\"string\""
        },
        {
         "metadata": "{}",
         "name": "home_ownership",
         "type": "\"string\""
        },
        {
         "metadata": "{}",
         "name": "annual_income",
         "type": "\"float\""
        },
        {
         "metadata": "{}",
         "name": "address_state",
         "type": "\"string\""
        },
        {
         "metadata": "{}",
         "name": "address_zipcode",
         "type": "\"string\""
        },
        {
         "metadata": "{}",
         "name": "address_country",
         "type": "\"string\""
        },
        {
         "metadata": "{}",
         "name": "grade",
         "type": "\"string\""
        },
        {
         "metadata": "{}",
         "name": "sub_grade",
         "type": "\"string\""
        },
        {
         "metadata": "{}",
         "name": "verification_status",
         "type": "\"string\""
        },
        {
         "metadata": "{}",
         "name": "tot_hi_cred_lim",
         "type": "\"float\""
        },
        {
         "metadata": "{}",
         "name": "application_type",
         "type": "\"string\""
        },
        {
         "metadata": "{}",
         "name": "join_annual_income",
         "type": "\"float\""
        },
        {
         "metadata": "{}",
         "name": "verification_status_joint",
         "type": "\"string\""
        }
       ],
       "type": "table"
      }
     },
     "output_type": "display_data"
    }
   ],
   "source": [
    "display(customer_df_renamed.limit(10))"
   ]
  },
  {
   "cell_type": "code",
   "execution_count": 0,
   "metadata": {
    "application/vnd.databricks.v1+cell": {
     "cellMetadata": {
      "byteLimit": 2048000,
      "rowLimit": 10000
     },
     "inputWidgets": {},
     "nuid": "0946b050-06b4-4bb6-b174-36f08ec6fbbf",
     "showTitle": false,
     "tableResultSettingsMap": {},
     "title": ""
    }
   },
   "outputs": [],
   "source": [
    "from pyspark.sql.functions import current_timestamp"
   ]
  },
  {
   "cell_type": "markdown",
   "metadata": {
    "application/vnd.databricks.v1+cell": {
     "cellMetadata": {
      "byteLimit": 2048000,
      "rowLimit": 10000
     },
     "inputWidgets": {},
     "nuid": "9eb3b0a3-5eb8-4667-b670-5806d4298757",
     "showTitle": false,
     "tableResultSettingsMap": {},
     "title": ""
    }
   },
   "source": [
    "#### 3. insert a new column named as ingestion date(current time)"
   ]
  },
  {
   "cell_type": "code",
   "execution_count": 0,
   "metadata": {
    "application/vnd.databricks.v1+cell": {
     "cellMetadata": {
      "byteLimit": 2048000,
      "rowLimit": 10000
     },
     "inputWidgets": {},
     "nuid": "8bdcda5e-4971-473c-81a3-d7506063828a",
     "showTitle": false,
     "tableResultSettingsMap": {},
     "title": ""
    }
   },
   "outputs": [],
   "source": [
    "customers_df_ingestd = customer_df_renamed.withColumn(\"ingest_date\", current_timestamp())"
   ]
  },
  {
   "cell_type": "code",
   "execution_count": 0,
   "metadata": {
    "application/vnd.databricks.v1+cell": {
     "cellMetadata": {
      "byteLimit": 2048000,
      "rowLimit": 10000
     },
     "inputWidgets": {},
     "nuid": "6745ae68-0f65-4386-9aa0-3dc84e32498b",
     "showTitle": false,
     "tableResultSettingsMap": {},
     "title": ""
    }
   },
   "outputs": [
    {
     "output_type": "display_data",
     "data": {
      "text/html": [
       "<style scoped>\n",
       "  .table-result-container {\n",
       "    max-height: 300px;\n",
       "    overflow: auto;\n",
       "  }\n",
       "  table, th, td {\n",
       "    border: 1px solid black;\n",
       "    border-collapse: collapse;\n",
       "  }\n",
       "  th, td {\n",
       "    padding: 5px;\n",
       "  }\n",
       "  th {\n",
       "    text-align: left;\n",
       "  }\n",
       "</style><div class='table-result-container'><table class='table-result'><thead style='background-color: white'><tr><th>member_id</th><th>emp_title</th><th>emp_length</th><th>home_ownership</th><th>annual_income</th><th>address_state</th><th>address_zipcode</th><th>address_country</th><th>grade</th><th>sub_grade</th><th>verification_status</th><th>tot_hi_cred_lim</th><th>application_type</th><th>join_annual_income</th><th>verification_status_joint</th><th>ingest_date</th></tr></thead><tbody><tr><td>6d5091b3fcaaeb4eac37445042b6b79e8b21f16943b9c32c4f5dd74dcb0f2210</td><td>leadman</td><td>10+ years</td><td>MORTGAGE</td><td>55000.0</td><td>PA</td><td>190xx</td><td>USA</td><td>C</td><td>C4</td><td>Not Verified</td><td>178050.0</td><td>Individual</td><td>null</td><td>null</td><td>2025-08-15T04:35:59.520451Z</td></tr><tr><td>b5e7938b0a2da4ceaa75ea2e3c111d1e33ca0f944f954b6d65671ef395d21713</td><td>Engineer</td><td>10+ years</td><td>MORTGAGE</td><td>65000.0</td><td>SD</td><td>577xx</td><td>USA</td><td>C</td><td>C1</td><td>Not Verified</td><td>314017.0</td><td>Individual</td><td>null</td><td>null</td><td>2025-08-15T04:35:59.520451Z</td></tr><tr><td>91060b858433e8a6107be9b76b324e304b5802631fc081b449188fe4b4e32205</td><td>truck driver</td><td>10+ years</td><td>MORTGAGE</td><td>63000.0</td><td>IL</td><td>605xx</td><td>USA</td><td>B</td><td>B4</td><td>Not Verified</td><td>218418.0</td><td>Joint App</td><td>71000.0</td><td>Not Verified</td><td>2025-08-15T04:35:59.520451Z</td></tr><tr><td>cab1fa9f533688b0aab7c6be7b6256d15ad1dd5f3c4ca061a49cfeb26901977d</td><td>Information Systems Officer</td><td>10+ years</td><td>MORTGAGE</td><td>110000.0</td><td>NJ</td><td>076xx</td><td>USA</td><td>C</td><td>C5</td><td>Source Verified</td><td>381215.0</td><td>Individual</td><td>null</td><td>null</td><td>2025-08-15T04:35:59.520451Z</td></tr><tr><td>f74e401c1ab0adf788a7279dd70a27459fcc47733d35eed71149ff371d2a7283</td><td>Contract Specialist</td><td>3 years</td><td>MORTGAGE</td><td>104433.0</td><td>PA</td><td>174xx</td><td>USA</td><td>F</td><td>F1</td><td>Source Verified</td><td>439570.0</td><td>Individual</td><td>null</td><td>null</td><td>2025-08-15T04:35:59.520451Z</td></tr><tr><td>8aef4bb29d609d8d684fd709af965bd690fc9ef3a2691777f38e0c10d622fe97</td><td>Veterinary Tecnician</td><td>4 years</td><td>RENT</td><td>34000.0</td><td>GA</td><td>300xx</td><td>USA</td><td>C</td><td>C3</td><td>Source Verified</td><td>16900.0</td><td>Individual</td><td>null</td><td>null</td><td>2025-08-15T04:35:59.520451Z</td></tr><tr><td>538b4653da3b1e8142b50baacf97a57b721eb6ec565f5fb63a1b71d191e9e934</td><td>Vice President of Recruiting Operations</td><td>10+ years</td><td>MORTGAGE</td><td>180000.0</td><td>MN</td><td>550xx</td><td>USA</td><td>B</td><td>B2</td><td>Not Verified</td><td>388852.0</td><td>Individual</td><td>null</td><td>null</td><td>2025-08-15T04:35:59.520451Z</td></tr><tr><td>b24d55f21390533c512f78f822153dc247e984dcd0cfe031c341ccef1c689817</td><td>road driver</td><td>10+ years</td><td>MORTGAGE</td><td>85000.0</td><td>SC</td><td>293xx</td><td>USA</td><td>B</td><td>B1</td><td>Not Verified</td><td>193390.0</td><td>Individual</td><td>null</td><td>null</td><td>2025-08-15T04:35:59.520451Z</td></tr><tr><td>1035c5401b0ca76d02c334b813302a9b72825e70b1659e8bc8ce5eea6c5d1f52</td><td>SERVICE MANAGER</td><td>6 years</td><td>RENT</td><td>85000.0</td><td>PA</td><td>160xx</td><td>USA</td><td>A</td><td>A2</td><td>Not Verified</td><td>61099.0</td><td>Individual</td><td>null</td><td>null</td><td>2025-08-15T04:35:59.520451Z</td></tr><tr><td>cb0f1777593e77909d0d359a6d9e633f28568500e17806f815395c92f0cd375d</td><td>Vendor liaison</td><td>10+ years</td><td>MORTGAGE</td><td>42000.0</td><td>RI</td><td>029xx</td><td>USA</td><td>B</td><td>B5</td><td>Not Verified</td><td>256513.0</td><td>Individual</td><td>null</td><td>null</td><td>2025-08-15T04:35:59.520451Z</td></tr></tbody></table></div>"
      ]
     },
     "metadata": {
      "application/vnd.databricks.v1+output": {
       "addedWidgets": {},
       "aggData": [],
       "aggError": "",
       "aggOverflow": false,
       "aggSchema": [],
       "aggSeriesLimitReached": false,
       "aggType": "",
       "arguments": {},
       "columnCustomDisplayInfos": {},
       "data": [
        [
         "6d5091b3fcaaeb4eac37445042b6b79e8b21f16943b9c32c4f5dd74dcb0f2210",
         "leadman",
         "10+ years",
         "MORTGAGE",
         55000.0,
         "PA",
         "190xx",
         "USA",
         "C",
         "C4",
         "Not Verified",
         178050.0,
         "Individual",
         null,
         null,
         "2025-08-15T04:35:59.520451Z"
        ],
        [
         "b5e7938b0a2da4ceaa75ea2e3c111d1e33ca0f944f954b6d65671ef395d21713",
         "Engineer",
         "10+ years",
         "MORTGAGE",
         65000.0,
         "SD",
         "577xx",
         "USA",
         "C",
         "C1",
         "Not Verified",
         314017.0,
         "Individual",
         null,
         null,
         "2025-08-15T04:35:59.520451Z"
        ],
        [
         "91060b858433e8a6107be9b76b324e304b5802631fc081b449188fe4b4e32205",
         "truck driver",
         "10+ years",
         "MORTGAGE",
         63000.0,
         "IL",
         "605xx",
         "USA",
         "B",
         "B4",
         "Not Verified",
         218418.0,
         "Joint App",
         71000.0,
         "Not Verified",
         "2025-08-15T04:35:59.520451Z"
        ],
        [
         "cab1fa9f533688b0aab7c6be7b6256d15ad1dd5f3c4ca061a49cfeb26901977d",
         "Information Systems Officer",
         "10+ years",
         "MORTGAGE",
         110000.0,
         "NJ",
         "076xx",
         "USA",
         "C",
         "C5",
         "Source Verified",
         381215.0,
         "Individual",
         null,
         null,
         "2025-08-15T04:35:59.520451Z"
        ],
        [
         "f74e401c1ab0adf788a7279dd70a27459fcc47733d35eed71149ff371d2a7283",
         "Contract Specialist",
         "3 years",
         "MORTGAGE",
         104433.0,
         "PA",
         "174xx",
         "USA",
         "F",
         "F1",
         "Source Verified",
         439570.0,
         "Individual",
         null,
         null,
         "2025-08-15T04:35:59.520451Z"
        ],
        [
         "8aef4bb29d609d8d684fd709af965bd690fc9ef3a2691777f38e0c10d622fe97",
         "Veterinary Tecnician",
         "4 years",
         "RENT",
         34000.0,
         "GA",
         "300xx",
         "USA",
         "C",
         "C3",
         "Source Verified",
         16900.0,
         "Individual",
         null,
         null,
         "2025-08-15T04:35:59.520451Z"
        ],
        [
         "538b4653da3b1e8142b50baacf97a57b721eb6ec565f5fb63a1b71d191e9e934",
         "Vice President of Recruiting Operations",
         "10+ years",
         "MORTGAGE",
         180000.0,
         "MN",
         "550xx",
         "USA",
         "B",
         "B2",
         "Not Verified",
         388852.0,
         "Individual",
         null,
         null,
         "2025-08-15T04:35:59.520451Z"
        ],
        [
         "b24d55f21390533c512f78f822153dc247e984dcd0cfe031c341ccef1c689817",
         "road driver",
         "10+ years",
         "MORTGAGE",
         85000.0,
         "SC",
         "293xx",
         "USA",
         "B",
         "B1",
         "Not Verified",
         193390.0,
         "Individual",
         null,
         null,
         "2025-08-15T04:35:59.520451Z"
        ],
        [
         "1035c5401b0ca76d02c334b813302a9b72825e70b1659e8bc8ce5eea6c5d1f52",
         "SERVICE MANAGER",
         "6 years",
         "RENT",
         85000.0,
         "PA",
         "160xx",
         "USA",
         "A",
         "A2",
         "Not Verified",
         61099.0,
         "Individual",
         null,
         null,
         "2025-08-15T04:35:59.520451Z"
        ],
        [
         "cb0f1777593e77909d0d359a6d9e633f28568500e17806f815395c92f0cd375d",
         "Vendor liaison",
         "10+ years",
         "MORTGAGE",
         42000.0,
         "RI",
         "029xx",
         "USA",
         "B",
         "B5",
         "Not Verified",
         256513.0,
         "Individual",
         null,
         null,
         "2025-08-15T04:35:59.520451Z"
        ]
       ],
       "datasetInfos": [],
       "dbfsResultPath": null,
       "isJsonSchema": true,
       "metadata": {},
       "overflow": false,
       "plotOptions": {
        "customPlotOptions": {},
        "displayType": "table",
        "pivotAggregation": null,
        "pivotColumns": null,
        "xColumns": null,
        "yColumns": null
       },
       "removedWidgets": [],
       "schema": [
        {
         "metadata": "{}",
         "name": "member_id",
         "type": "\"string\""
        },
        {
         "metadata": "{}",
         "name": "emp_title",
         "type": "\"string\""
        },
        {
         "metadata": "{}",
         "name": "emp_length",
         "type": "\"string\""
        },
        {
         "metadata": "{}",
         "name": "home_ownership",
         "type": "\"string\""
        },
        {
         "metadata": "{}",
         "name": "annual_income",
         "type": "\"float\""
        },
        {
         "metadata": "{}",
         "name": "address_state",
         "type": "\"string\""
        },
        {
         "metadata": "{}",
         "name": "address_zipcode",
         "type": "\"string\""
        },
        {
         "metadata": "{}",
         "name": "address_country",
         "type": "\"string\""
        },
        {
         "metadata": "{}",
         "name": "grade",
         "type": "\"string\""
        },
        {
         "metadata": "{}",
         "name": "sub_grade",
         "type": "\"string\""
        },
        {
         "metadata": "{}",
         "name": "verification_status",
         "type": "\"string\""
        },
        {
         "metadata": "{}",
         "name": "tot_hi_cred_lim",
         "type": "\"float\""
        },
        {
         "metadata": "{}",
         "name": "application_type",
         "type": "\"string\""
        },
        {
         "metadata": "{}",
         "name": "join_annual_income",
         "type": "\"float\""
        },
        {
         "metadata": "{}",
         "name": "verification_status_joint",
         "type": "\"string\""
        },
        {
         "metadata": "{}",
         "name": "ingest_date",
         "type": "\"timestamp\""
        }
       ],
       "type": "table"
      }
     },
     "output_type": "display_data"
    }
   ],
   "source": [
    "display(customers_df_ingestd.limit(10))"
   ]
  },
  {
   "cell_type": "markdown",
   "metadata": {
    "application/vnd.databricks.v1+cell": {
     "cellMetadata": {
      "byteLimit": 2048000,
      "rowLimit": 10000
     },
     "inputWidgets": {},
     "nuid": "e491c5a9-c7ac-43ff-b4a3-eeca2f107015",
     "showTitle": false,
     "tableResultSettingsMap": {},
     "title": ""
    }
   },
   "source": [
    "#### 4. Remove complete duplicate rows"
   ]
  },
  {
   "cell_type": "code",
   "execution_count": 0,
   "metadata": {
    "application/vnd.databricks.v1+cell": {
     "cellMetadata": {
      "byteLimit": 2048000,
      "rowLimit": 10000
     },
     "inputWidgets": {},
     "nuid": "7aa9b241-7bfc-4dbf-a2ac-851b7faf8035",
     "showTitle": false,
     "tableResultSettingsMap": {},
     "title": ""
    }
   },
   "outputs": [
    {
     "output_type": "execute_result",
     "data": {
      "text/plain": [
       "2260701"
      ]
     },
     "execution_count": 10,
     "metadata": {},
     "output_type": "execute_result"
    }
   ],
   "source": [
    "customers_df_ingestd.count()"
   ]
  },
  {
   "cell_type": "code",
   "execution_count": 0,
   "metadata": {
    "application/vnd.databricks.v1+cell": {
     "cellMetadata": {
      "byteLimit": 2048000,
      "rowLimit": 10000
     },
     "inputWidgets": {},
     "nuid": "82770bd8-0099-4fee-917a-8502ccf9b519",
     "showTitle": false,
     "tableResultSettingsMap": {},
     "title": ""
    }
   },
   "outputs": [],
   "source": [
    "customers_distinct = customers_df_ingestd.distinct()"
   ]
  },
  {
   "cell_type": "code",
   "execution_count": 0,
   "metadata": {
    "application/vnd.databricks.v1+cell": {
     "cellMetadata": {
      "byteLimit": 2048000,
      "rowLimit": 10000
     },
     "inputWidgets": {},
     "nuid": "57dde5a9-cc98-4c94-8d13-d970bdf37645",
     "showTitle": false,
     "tableResultSettingsMap": {},
     "title": ""
    }
   },
   "outputs": [
    {
     "output_type": "execute_result",
     "data": {
      "text/plain": [
       "2260638"
      ]
     },
     "execution_count": 12,
     "metadata": {},
     "output_type": "execute_result"
    }
   ],
   "source": [
    "customers_distinct.count()"
   ]
  },
  {
   "cell_type": "code",
   "execution_count": 0,
   "metadata": {
    "application/vnd.databricks.v1+cell": {
     "cellMetadata": {
      "byteLimit": 2048000,
      "rowLimit": 10000
     },
     "inputWidgets": {},
     "nuid": "3f583c6c-c2a7-4d45-ba96-bb8b254670d5",
     "showTitle": false,
     "tableResultSettingsMap": {},
     "title": ""
    }
   },
   "outputs": [],
   "source": [
    "customers_distinct.createOrReplaceTempView(\"customers\")"
   ]
  },
  {
   "cell_type": "code",
   "execution_count": 0,
   "metadata": {
    "application/vnd.databricks.v1+cell": {
     "cellMetadata": {
      "byteLimit": 2048000,
      "rowLimit": 10000
     },
     "inputWidgets": {},
     "nuid": "3fd57a25-6926-4227-8ad2-b23369d8ff28",
     "showTitle": false,
     "tableResultSettingsMap": {},
     "title": ""
    }
   },
   "outputs": [
    {
     "output_type": "display_data",
     "data": {
      "text/html": [
       "<style scoped>\n",
       "  .table-result-container {\n",
       "    max-height: 300px;\n",
       "    overflow: auto;\n",
       "  }\n",
       "  table, th, td {\n",
       "    border: 1px solid black;\n",
       "    border-collapse: collapse;\n",
       "  }\n",
       "  th, td {\n",
       "    padding: 5px;\n",
       "  }\n",
       "  th {\n",
       "    text-align: left;\n",
       "  }\n",
       "</style><div class='table-result-container'><table class='table-result'><thead style='background-color: white'><tr><th>member_id</th><th>emp_title</th><th>emp_length</th><th>home_ownership</th><th>annual_income</th><th>address_state</th><th>address_zipcode</th><th>address_country</th><th>grade</th><th>sub_grade</th><th>verification_status</th><th>tot_hi_cred_lim</th><th>application_type</th><th>join_annual_income</th><th>verification_status_joint</th><th>ingest_date</th></tr></thead><tbody><tr><td>6d5091b3fcaaeb4eac37445042b6b79e8b21f16943b9c32c4f5dd74dcb0f2210</td><td>leadman</td><td>10+ years</td><td>MORTGAGE</td><td>55000.0</td><td>PA</td><td>190xx</td><td>USA</td><td>C</td><td>C4</td><td>Not Verified</td><td>178050.0</td><td>Individual</td><td>null</td><td>null</td><td>2025-08-15T04:36:17.11391Z</td></tr><tr><td>91060b858433e8a6107be9b76b324e304b5802631fc081b449188fe4b4e32205</td><td>truck driver</td><td>10+ years</td><td>MORTGAGE</td><td>63000.0</td><td>IL</td><td>605xx</td><td>USA</td><td>B</td><td>B4</td><td>Not Verified</td><td>218418.0</td><td>Joint App</td><td>71000.0</td><td>Not Verified</td><td>2025-08-15T04:36:17.11391Z</td></tr><tr><td>cb0f1777593e77909d0d359a6d9e633f28568500e17806f815395c92f0cd375d</td><td>Vendor liaison</td><td>10+ years</td><td>MORTGAGE</td><td>42000.0</td><td>RI</td><td>029xx</td><td>USA</td><td>B</td><td>B5</td><td>Not Verified</td><td>256513.0</td><td>Individual</td><td>null</td><td>null</td><td>2025-08-15T04:36:17.11391Z</td></tr><tr><td>b24d55f21390533c512f78f822153dc247e984dcd0cfe031c341ccef1c689817</td><td>road driver</td><td>10+ years</td><td>MORTGAGE</td><td>85000.0</td><td>SC</td><td>293xx</td><td>USA</td><td>B</td><td>B1</td><td>Not Verified</td><td>193390.0</td><td>Individual</td><td>null</td><td>null</td><td>2025-08-15T04:36:17.11391Z</td></tr><tr><td>8aef4bb29d609d8d684fd709af965bd690fc9ef3a2691777f38e0c10d622fe97</td><td>Veterinary Tecnician</td><td>4 years</td><td>RENT</td><td>34000.0</td><td>GA</td><td>300xx</td><td>USA</td><td>C</td><td>C3</td><td>Source Verified</td><td>16900.0</td><td>Individual</td><td>null</td><td>null</td><td>2025-08-15T04:36:17.11391Z</td></tr><tr><td>b5e7938b0a2da4ceaa75ea2e3c111d1e33ca0f944f954b6d65671ef395d21713</td><td>Engineer</td><td>10+ years</td><td>MORTGAGE</td><td>65000.0</td><td>SD</td><td>577xx</td><td>USA</td><td>C</td><td>C1</td><td>Not Verified</td><td>314017.0</td><td>Individual</td><td>null</td><td>null</td><td>2025-08-15T04:36:17.11391Z</td></tr><tr><td>1035c5401b0ca76d02c334b813302a9b72825e70b1659e8bc8ce5eea6c5d1f52</td><td>SERVICE MANAGER</td><td>6 years</td><td>RENT</td><td>85000.0</td><td>PA</td><td>160xx</td><td>USA</td><td>A</td><td>A2</td><td>Not Verified</td><td>61099.0</td><td>Individual</td><td>null</td><td>null</td><td>2025-08-15T04:36:17.11391Z</td></tr><tr><td>538b4653da3b1e8142b50baacf97a57b721eb6ec565f5fb63a1b71d191e9e934</td><td>Vice President of Recruiting Operations</td><td>10+ years</td><td>MORTGAGE</td><td>180000.0</td><td>MN</td><td>550xx</td><td>USA</td><td>B</td><td>B2</td><td>Not Verified</td><td>388852.0</td><td>Individual</td><td>null</td><td>null</td><td>2025-08-15T04:36:17.11391Z</td></tr><tr><td>f74e401c1ab0adf788a7279dd70a27459fcc47733d35eed71149ff371d2a7283</td><td>Contract Specialist</td><td>3 years</td><td>MORTGAGE</td><td>104433.0</td><td>PA</td><td>174xx</td><td>USA</td><td>F</td><td>F1</td><td>Source Verified</td><td>439570.0</td><td>Individual</td><td>null</td><td>null</td><td>2025-08-15T04:36:17.11391Z</td></tr><tr><td>cab1fa9f533688b0aab7c6be7b6256d15ad1dd5f3c4ca061a49cfeb26901977d</td><td>Information Systems Officer</td><td>10+ years</td><td>MORTGAGE</td><td>110000.0</td><td>NJ</td><td>076xx</td><td>USA</td><td>C</td><td>C5</td><td>Source Verified</td><td>381215.0</td><td>Individual</td><td>null</td><td>null</td><td>2025-08-15T04:36:17.11391Z</td></tr></tbody></table></div>"
      ]
     },
     "metadata": {
      "application/vnd.databricks.v1+output": {
       "addedWidgets": {},
       "aggData": [],
       "aggError": "",
       "aggOverflow": false,
       "aggSchema": [],
       "aggSeriesLimitReached": false,
       "aggType": "",
       "arguments": {},
       "columnCustomDisplayInfos": {},
       "data": [
        [
         "6d5091b3fcaaeb4eac37445042b6b79e8b21f16943b9c32c4f5dd74dcb0f2210",
         "leadman",
         "10+ years",
         "MORTGAGE",
         55000.0,
         "PA",
         "190xx",
         "USA",
         "C",
         "C4",
         "Not Verified",
         178050.0,
         "Individual",
         null,
         null,
         "2025-08-15T04:36:17.11391Z"
        ],
        [
         "91060b858433e8a6107be9b76b324e304b5802631fc081b449188fe4b4e32205",
         "truck driver",
         "10+ years",
         "MORTGAGE",
         63000.0,
         "IL",
         "605xx",
         "USA",
         "B",
         "B4",
         "Not Verified",
         218418.0,
         "Joint App",
         71000.0,
         "Not Verified",
         "2025-08-15T04:36:17.11391Z"
        ],
        [
         "cb0f1777593e77909d0d359a6d9e633f28568500e17806f815395c92f0cd375d",
         "Vendor liaison",
         "10+ years",
         "MORTGAGE",
         42000.0,
         "RI",
         "029xx",
         "USA",
         "B",
         "B5",
         "Not Verified",
         256513.0,
         "Individual",
         null,
         null,
         "2025-08-15T04:36:17.11391Z"
        ],
        [
         "b24d55f21390533c512f78f822153dc247e984dcd0cfe031c341ccef1c689817",
         "road driver",
         "10+ years",
         "MORTGAGE",
         85000.0,
         "SC",
         "293xx",
         "USA",
         "B",
         "B1",
         "Not Verified",
         193390.0,
         "Individual",
         null,
         null,
         "2025-08-15T04:36:17.11391Z"
        ],
        [
         "8aef4bb29d609d8d684fd709af965bd690fc9ef3a2691777f38e0c10d622fe97",
         "Veterinary Tecnician",
         "4 years",
         "RENT",
         34000.0,
         "GA",
         "300xx",
         "USA",
         "C",
         "C3",
         "Source Verified",
         16900.0,
         "Individual",
         null,
         null,
         "2025-08-15T04:36:17.11391Z"
        ],
        [
         "b5e7938b0a2da4ceaa75ea2e3c111d1e33ca0f944f954b6d65671ef395d21713",
         "Engineer",
         "10+ years",
         "MORTGAGE",
         65000.0,
         "SD",
         "577xx",
         "USA",
         "C",
         "C1",
         "Not Verified",
         314017.0,
         "Individual",
         null,
         null,
         "2025-08-15T04:36:17.11391Z"
        ],
        [
         "1035c5401b0ca76d02c334b813302a9b72825e70b1659e8bc8ce5eea6c5d1f52",
         "SERVICE MANAGER",
         "6 years",
         "RENT",
         85000.0,
         "PA",
         "160xx",
         "USA",
         "A",
         "A2",
         "Not Verified",
         61099.0,
         "Individual",
         null,
         null,
         "2025-08-15T04:36:17.11391Z"
        ],
        [
         "538b4653da3b1e8142b50baacf97a57b721eb6ec565f5fb63a1b71d191e9e934",
         "Vice President of Recruiting Operations",
         "10+ years",
         "MORTGAGE",
         180000.0,
         "MN",
         "550xx",
         "USA",
         "B",
         "B2",
         "Not Verified",
         388852.0,
         "Individual",
         null,
         null,
         "2025-08-15T04:36:17.11391Z"
        ],
        [
         "f74e401c1ab0adf788a7279dd70a27459fcc47733d35eed71149ff371d2a7283",
         "Contract Specialist",
         "3 years",
         "MORTGAGE",
         104433.0,
         "PA",
         "174xx",
         "USA",
         "F",
         "F1",
         "Source Verified",
         439570.0,
         "Individual",
         null,
         null,
         "2025-08-15T04:36:17.11391Z"
        ],
        [
         "cab1fa9f533688b0aab7c6be7b6256d15ad1dd5f3c4ca061a49cfeb26901977d",
         "Information Systems Officer",
         "10+ years",
         "MORTGAGE",
         110000.0,
         "NJ",
         "076xx",
         "USA",
         "C",
         "C5",
         "Source Verified",
         381215.0,
         "Individual",
         null,
         null,
         "2025-08-15T04:36:17.11391Z"
        ]
       ],
       "datasetInfos": [],
       "dbfsResultPath": null,
       "isJsonSchema": true,
       "metadata": {},
       "overflow": false,
       "plotOptions": {
        "customPlotOptions": {},
        "displayType": "table",
        "pivotAggregation": null,
        "pivotColumns": null,
        "xColumns": null,
        "yColumns": null
       },
       "removedWidgets": [],
       "schema": [
        {
         "metadata": "{}",
         "name": "member_id",
         "type": "\"string\""
        },
        {
         "metadata": "{}",
         "name": "emp_title",
         "type": "\"string\""
        },
        {
         "metadata": "{}",
         "name": "emp_length",
         "type": "\"string\""
        },
        {
         "metadata": "{}",
         "name": "home_ownership",
         "type": "\"string\""
        },
        {
         "metadata": "{}",
         "name": "annual_income",
         "type": "\"float\""
        },
        {
         "metadata": "{}",
         "name": "address_state",
         "type": "\"string\""
        },
        {
         "metadata": "{}",
         "name": "address_zipcode",
         "type": "\"string\""
        },
        {
         "metadata": "{}",
         "name": "address_country",
         "type": "\"string\""
        },
        {
         "metadata": "{}",
         "name": "grade",
         "type": "\"string\""
        },
        {
         "metadata": "{}",
         "name": "sub_grade",
         "type": "\"string\""
        },
        {
         "metadata": "{}",
         "name": "verification_status",
         "type": "\"string\""
        },
        {
         "metadata": "{}",
         "name": "tot_hi_cred_lim",
         "type": "\"float\""
        },
        {
         "metadata": "{}",
         "name": "application_type",
         "type": "\"string\""
        },
        {
         "metadata": "{}",
         "name": "join_annual_income",
         "type": "\"float\""
        },
        {
         "metadata": "{}",
         "name": "verification_status_joint",
         "type": "\"string\""
        },
        {
         "metadata": "{}",
         "name": "ingest_date",
         "type": "\"timestamp\""
        }
       ],
       "type": "table"
      }
     },
     "output_type": "display_data"
    }
   ],
   "source": [
    "display(spark.sql(\"select * from customers\").limit(10))"
   ]
  },
  {
   "cell_type": "markdown",
   "metadata": {
    "application/vnd.databricks.v1+cell": {
     "cellMetadata": {
      "byteLimit": 2048000,
      "rowLimit": 10000
     },
     "inputWidgets": {},
     "nuid": "038aebb1-9499-47ed-b527-0e4e34251ff5",
     "showTitle": false,
     "tableResultSettingsMap": {},
     "title": ""
    }
   },
   "source": [
    "#### 5. Remove the rows where annual_income is null"
   ]
  },
  {
   "cell_type": "code",
   "execution_count": 0,
   "metadata": {
    "application/vnd.databricks.v1+cell": {
     "cellMetadata": {
      "byteLimit": 2048000,
      "rowLimit": 10000
     },
     "inputWidgets": {},
     "nuid": "3586fd67-61a7-4c67-b08d-8ed8d30c61df",
     "showTitle": false,
     "tableResultSettingsMap": {},
     "title": ""
    }
   },
   "outputs": [
    {
     "output_type": "display_data",
     "data": {
      "text/html": [
       "<style scoped>\n",
       "  .table-result-container {\n",
       "    max-height: 300px;\n",
       "    overflow: auto;\n",
       "  }\n",
       "  table, th, td {\n",
       "    border: 1px solid black;\n",
       "    border-collapse: collapse;\n",
       "  }\n",
       "  th, td {\n",
       "    padding: 5px;\n",
       "  }\n",
       "  th {\n",
       "    text-align: left;\n",
       "  }\n",
       "</style><div class='table-result-container'><table class='table-result'><thead style='background-color: white'><tr><th>count(1)</th></tr></thead><tbody><tr><td>5</td></tr></tbody></table></div>"
      ]
     },
     "metadata": {
      "application/vnd.databricks.v1+output": {
       "addedWidgets": {},
       "aggData": [],
       "aggError": "",
       "aggOverflow": false,
       "aggSchema": [],
       "aggSeriesLimitReached": false,
       "aggType": "",
       "arguments": {},
       "columnCustomDisplayInfos": {},
       "data": [
        [
         5
        ]
       ],
       "datasetInfos": [],
       "dbfsResultPath": null,
       "isJsonSchema": true,
       "metadata": {},
       "overflow": false,
       "plotOptions": {
        "customPlotOptions": {},
        "displayType": "table",
        "pivotAggregation": null,
        "pivotColumns": null,
        "xColumns": null,
        "yColumns": null
       },
       "removedWidgets": [],
       "schema": [
        {
         "metadata": "{\"__autoGeneratedAlias\":\"true\"}",
         "name": "count(1)",
         "type": "\"long\""
        }
       ],
       "type": "table"
      }
     },
     "output_type": "display_data"
    }
   ],
   "source": [
    "display(spark.sql(\"select count(*) from customers where annual_income is null\"))"
   ]
  },
  {
   "cell_type": "code",
   "execution_count": 0,
   "metadata": {
    "application/vnd.databricks.v1+cell": {
     "cellMetadata": {
      "byteLimit": 2048000,
      "rowLimit": 10000
     },
     "inputWidgets": {},
     "nuid": "2ef9f6cc-f95c-47f8-9546-a829e72f2936",
     "showTitle": false,
     "tableResultSettingsMap": {},
     "title": ""
    }
   },
   "outputs": [],
   "source": [
    "customers_income_filtered = spark.sql(\"select * from customers where annual_income is not null\")"
   ]
  },
  {
   "cell_type": "code",
   "execution_count": 0,
   "metadata": {
    "application/vnd.databricks.v1+cell": {
     "cellMetadata": {
      "byteLimit": 2048000,
      "rowLimit": 10000
     },
     "inputWidgets": {},
     "nuid": "d8381446-40dc-4fad-ac84-3ed279d0f88f",
     "showTitle": false,
     "tableResultSettingsMap": {},
     "title": ""
    }
   },
   "outputs": [],
   "source": [
    "customers_income_filtered.createOrReplaceTempView(\"customers\")"
   ]
  },
  {
   "cell_type": "code",
   "execution_count": 0,
   "metadata": {
    "application/vnd.databricks.v1+cell": {
     "cellMetadata": {
      "byteLimit": 2048000,
      "rowLimit": 10000
     },
     "inputWidgets": {},
     "nuid": "83ae59de-640c-4fea-9a72-f4bfd2fdfb22",
     "showTitle": false,
     "tableResultSettingsMap": {},
     "title": ""
    }
   },
   "outputs": [
    {
     "output_type": "display_data",
     "data": {
      "text/html": [
       "<style scoped>\n",
       "  .table-result-container {\n",
       "    max-height: 300px;\n",
       "    overflow: auto;\n",
       "  }\n",
       "  table, th, td {\n",
       "    border: 1px solid black;\n",
       "    border-collapse: collapse;\n",
       "  }\n",
       "  th, td {\n",
       "    padding: 5px;\n",
       "  }\n",
       "  th {\n",
       "    text-align: left;\n",
       "  }\n",
       "</style><div class='table-result-container'><table class='table-result'><thead style='background-color: white'><tr><th>count(1)</th></tr></thead><tbody><tr><td>0</td></tr></tbody></table></div>"
      ]
     },
     "metadata": {
      "application/vnd.databricks.v1+output": {
       "addedWidgets": {},
       "aggData": [],
       "aggError": "",
       "aggOverflow": false,
       "aggSchema": [],
       "aggSeriesLimitReached": false,
       "aggType": "",
       "arguments": {},
       "columnCustomDisplayInfos": {},
       "data": [
        [
         0
        ]
       ],
       "datasetInfos": [],
       "dbfsResultPath": null,
       "isJsonSchema": true,
       "metadata": {},
       "overflow": false,
       "plotOptions": {
        "customPlotOptions": {},
        "displayType": "table",
        "pivotAggregation": null,
        "pivotColumns": null,
        "xColumns": null,
        "yColumns": null
       },
       "removedWidgets": [],
       "schema": [
        {
         "metadata": "{\"__autoGeneratedAlias\":\"true\"}",
         "name": "count(1)",
         "type": "\"long\""
        }
       ],
       "type": "table"
      }
     },
     "output_type": "display_data"
    }
   ],
   "source": [
    "display(spark.sql(\"select count(*) from customers where annual_income is null\"))"
   ]
  },
  {
   "cell_type": "markdown",
   "metadata": {
    "application/vnd.databricks.v1+cell": {
     "cellMetadata": {
      "byteLimit": 2048000,
      "rowLimit": 10000
     },
     "inputWidgets": {},
     "nuid": "c3a0e7d1-ff20-4368-9077-d6390fd7102c",
     "showTitle": false,
     "tableResultSettingsMap": {},
     "title": ""
    }
   },
   "source": [
    "### 6. convert emp_length to integer"
   ]
  },
  {
   "cell_type": "code",
   "execution_count": 0,
   "metadata": {
    "application/vnd.databricks.v1+cell": {
     "cellMetadata": {
      "byteLimit": 2048000,
      "rowLimit": 10000
     },
     "inputWidgets": {},
     "nuid": "24d882f5-ba32-4af1-a43d-3c56e07f1f54",
     "showTitle": false,
     "tableResultSettingsMap": {},
     "title": ""
    }
   },
   "outputs": [
    {
     "output_type": "display_data",
     "data": {
      "text/html": [
       "<style scoped>\n",
       "  .table-result-container {\n",
       "    max-height: 300px;\n",
       "    overflow: auto;\n",
       "  }\n",
       "  table, th, td {\n",
       "    border: 1px solid black;\n",
       "    border-collapse: collapse;\n",
       "  }\n",
       "  th, td {\n",
       "    padding: 5px;\n",
       "  }\n",
       "  th {\n",
       "    text-align: left;\n",
       "  }\n",
       "</style><div class='table-result-container'><table class='table-result'><thead style='background-color: white'><tr><th>emp_length</th></tr></thead><tbody><tr><td>5 years</td></tr><tr><td>9 years</td></tr><tr><td>null</td></tr><tr><td>1 year</td></tr><tr><td>2 years</td></tr><tr><td>7 years</td></tr><tr><td>8 years</td></tr><tr><td>4 years</td></tr><tr><td>6 years</td></tr><tr><td>3 years</td></tr><tr><td>10+ years</td></tr><tr><td>< 1 year</td></tr></tbody></table></div>"
      ]
     },
     "metadata": {
      "application/vnd.databricks.v1+output": {
       "addedWidgets": {},
       "aggData": [],
       "aggError": "",
       "aggOverflow": false,
       "aggSchema": [],
       "aggSeriesLimitReached": false,
       "aggType": "",
       "arguments": {},
       "columnCustomDisplayInfos": {},
       "data": [
        [
         "5 years"
        ],
        [
         "9 years"
        ],
        [
         null
        ],
        [
         "1 year"
        ],
        [
         "2 years"
        ],
        [
         "7 years"
        ],
        [
         "8 years"
        ],
        [
         "4 years"
        ],
        [
         "6 years"
        ],
        [
         "3 years"
        ],
        [
         "10+ years"
        ],
        [
         "< 1 year"
        ]
       ],
       "datasetInfos": [],
       "dbfsResultPath": null,
       "isJsonSchema": true,
       "metadata": {},
       "overflow": false,
       "plotOptions": {
        "customPlotOptions": {},
        "displayType": "table",
        "pivotAggregation": null,
        "pivotColumns": null,
        "xColumns": null,
        "yColumns": null
       },
       "removedWidgets": [],
       "schema": [
        {
         "metadata": "{}",
         "name": "emp_length",
         "type": "\"string\""
        }
       ],
       "type": "table"
      }
     },
     "output_type": "display_data"
    }
   ],
   "source": [
    "display(spark.sql(\"select distinct(emp_length) from customers\"))"
   ]
  },
  {
   "cell_type": "code",
   "execution_count": 0,
   "metadata": {
    "application/vnd.databricks.v1+cell": {
     "cellMetadata": {
      "byteLimit": 2048000,
      "rowLimit": 10000
     },
     "inputWidgets": {},
     "nuid": "9456b766-97ea-4445-a495-64fbe77b48a0",
     "showTitle": false,
     "tableResultSettingsMap": {},
     "title": ""
    }
   },
   "outputs": [],
   "source": [
    "from pyspark.sql.functions import regexp_replace, col"
   ]
  },
  {
   "cell_type": "code",
   "execution_count": 0,
   "metadata": {
    "application/vnd.databricks.v1+cell": {
     "cellMetadata": {
      "byteLimit": 2048000,
      "rowLimit": 10000
     },
     "inputWidgets": {},
     "nuid": "ee162200-70cd-4ec8-95c3-7eb67b82ad66",
     "showTitle": false,
     "tableResultSettingsMap": {},
     "title": ""
    }
   },
   "outputs": [],
   "source": [
    "customers_emplength_cleaned = customers_income_filtered.withColumn(\"emp_length\", regexp_replace(col(\"emp_length\"), r\"\\D+\",\"\"))"
   ]
  },
  {
   "cell_type": "code",
   "execution_count": 0,
   "metadata": {
    "application/vnd.databricks.v1+cell": {
     "cellMetadata": {
      "byteLimit": 2048000,
      "rowLimit": 10000
     },
     "inputWidgets": {},
     "nuid": "d19635a6-345d-43fb-b31a-836f688e1f7e",
     "showTitle": false,
     "tableResultSettingsMap": {},
     "title": ""
    }
   },
   "outputs": [
    {
     "output_type": "display_data",
     "data": {
      "text/html": [
       "<style scoped>\n",
       "  .table-result-container {\n",
       "    max-height: 300px;\n",
       "    overflow: auto;\n",
       "  }\n",
       "  table, th, td {\n",
       "    border: 1px solid black;\n",
       "    border-collapse: collapse;\n",
       "  }\n",
       "  th, td {\n",
       "    padding: 5px;\n",
       "  }\n",
       "  th {\n",
       "    text-align: left;\n",
       "  }\n",
       "</style><div class='table-result-container'><table class='table-result'><thead style='background-color: white'><tr><th>member_id</th><th>emp_title</th><th>emp_length</th><th>home_ownership</th><th>annual_income</th><th>address_state</th><th>address_zipcode</th><th>address_country</th><th>grade</th><th>sub_grade</th><th>verification_status</th><th>tot_hi_cred_lim</th><th>application_type</th><th>join_annual_income</th><th>verification_status_joint</th><th>ingest_date</th></tr></thead><tbody><tr><td>8aef4bb29d609d8d684fd709af965bd690fc9ef3a2691777f38e0c10d622fe97</td><td>Veterinary Tecnician</td><td>4</td><td>RENT</td><td>34000.0</td><td>GA</td><td>300xx</td><td>USA</td><td>C</td><td>C3</td><td>Source Verified</td><td>16900.0</td><td>Individual</td><td>null</td><td>null</td><td>2025-08-15T04:36:34.752724Z</td></tr><tr><td>6d5091b3fcaaeb4eac37445042b6b79e8b21f16943b9c32c4f5dd74dcb0f2210</td><td>leadman</td><td>10</td><td>MORTGAGE</td><td>55000.0</td><td>PA</td><td>190xx</td><td>USA</td><td>C</td><td>C4</td><td>Not Verified</td><td>178050.0</td><td>Individual</td><td>null</td><td>null</td><td>2025-08-15T04:36:34.752724Z</td></tr><tr><td>cb0f1777593e77909d0d359a6d9e633f28568500e17806f815395c92f0cd375d</td><td>Vendor liaison</td><td>10</td><td>MORTGAGE</td><td>42000.0</td><td>RI</td><td>029xx</td><td>USA</td><td>B</td><td>B5</td><td>Not Verified</td><td>256513.0</td><td>Individual</td><td>null</td><td>null</td><td>2025-08-15T04:36:34.752724Z</td></tr><tr><td>cab1fa9f533688b0aab7c6be7b6256d15ad1dd5f3c4ca061a49cfeb26901977d</td><td>Information Systems Officer</td><td>10</td><td>MORTGAGE</td><td>110000.0</td><td>NJ</td><td>076xx</td><td>USA</td><td>C</td><td>C5</td><td>Source Verified</td><td>381215.0</td><td>Individual</td><td>null</td><td>null</td><td>2025-08-15T04:36:34.752724Z</td></tr><tr><td>91060b858433e8a6107be9b76b324e304b5802631fc081b449188fe4b4e32205</td><td>truck driver</td><td>10</td><td>MORTGAGE</td><td>63000.0</td><td>IL</td><td>605xx</td><td>USA</td><td>B</td><td>B4</td><td>Not Verified</td><td>218418.0</td><td>Joint App</td><td>71000.0</td><td>Not Verified</td><td>2025-08-15T04:36:34.752724Z</td></tr><tr><td>1035c5401b0ca76d02c334b813302a9b72825e70b1659e8bc8ce5eea6c5d1f52</td><td>SERVICE MANAGER</td><td>6</td><td>RENT</td><td>85000.0</td><td>PA</td><td>160xx</td><td>USA</td><td>A</td><td>A2</td><td>Not Verified</td><td>61099.0</td><td>Individual</td><td>null</td><td>null</td><td>2025-08-15T04:36:34.752724Z</td></tr><tr><td>f74e401c1ab0adf788a7279dd70a27459fcc47733d35eed71149ff371d2a7283</td><td>Contract Specialist</td><td>3</td><td>MORTGAGE</td><td>104433.0</td><td>PA</td><td>174xx</td><td>USA</td><td>F</td><td>F1</td><td>Source Verified</td><td>439570.0</td><td>Individual</td><td>null</td><td>null</td><td>2025-08-15T04:36:34.752724Z</td></tr><tr><td>538b4653da3b1e8142b50baacf97a57b721eb6ec565f5fb63a1b71d191e9e934</td><td>Vice President of Recruiting Operations</td><td>10</td><td>MORTGAGE</td><td>180000.0</td><td>MN</td><td>550xx</td><td>USA</td><td>B</td><td>B2</td><td>Not Verified</td><td>388852.0</td><td>Individual</td><td>null</td><td>null</td><td>2025-08-15T04:36:34.752724Z</td></tr><tr><td>b24d55f21390533c512f78f822153dc247e984dcd0cfe031c341ccef1c689817</td><td>road driver</td><td>10</td><td>MORTGAGE</td><td>85000.0</td><td>SC</td><td>293xx</td><td>USA</td><td>B</td><td>B1</td><td>Not Verified</td><td>193390.0</td><td>Individual</td><td>null</td><td>null</td><td>2025-08-15T04:36:34.752724Z</td></tr><tr><td>b5e7938b0a2da4ceaa75ea2e3c111d1e33ca0f944f954b6d65671ef395d21713</td><td>Engineer</td><td>10</td><td>MORTGAGE</td><td>65000.0</td><td>SD</td><td>577xx</td><td>USA</td><td>C</td><td>C1</td><td>Not Verified</td><td>314017.0</td><td>Individual</td><td>null</td><td>null</td><td>2025-08-15T04:36:34.752724Z</td></tr></tbody></table></div>"
      ]
     },
     "metadata": {
      "application/vnd.databricks.v1+output": {
       "addedWidgets": {},
       "aggData": [],
       "aggError": "",
       "aggOverflow": false,
       "aggSchema": [],
       "aggSeriesLimitReached": false,
       "aggType": "",
       "arguments": {},
       "columnCustomDisplayInfos": {},
       "data": [
        [
         "8aef4bb29d609d8d684fd709af965bd690fc9ef3a2691777f38e0c10d622fe97",
         "Veterinary Tecnician",
         "4",
         "RENT",
         34000.0,
         "GA",
         "300xx",
         "USA",
         "C",
         "C3",
         "Source Verified",
         16900.0,
         "Individual",
         null,
         null,
         "2025-08-15T04:36:34.752724Z"
        ],
        [
         "6d5091b3fcaaeb4eac37445042b6b79e8b21f16943b9c32c4f5dd74dcb0f2210",
         "leadman",
         "10",
         "MORTGAGE",
         55000.0,
         "PA",
         "190xx",
         "USA",
         "C",
         "C4",
         "Not Verified",
         178050.0,
         "Individual",
         null,
         null,
         "2025-08-15T04:36:34.752724Z"
        ],
        [
         "cb0f1777593e77909d0d359a6d9e633f28568500e17806f815395c92f0cd375d",
         "Vendor liaison",
         "10",
         "MORTGAGE",
         42000.0,
         "RI",
         "029xx",
         "USA",
         "B",
         "B5",
         "Not Verified",
         256513.0,
         "Individual",
         null,
         null,
         "2025-08-15T04:36:34.752724Z"
        ],
        [
         "cab1fa9f533688b0aab7c6be7b6256d15ad1dd5f3c4ca061a49cfeb26901977d",
         "Information Systems Officer",
         "10",
         "MORTGAGE",
         110000.0,
         "NJ",
         "076xx",
         "USA",
         "C",
         "C5",
         "Source Verified",
         381215.0,
         "Individual",
         null,
         null,
         "2025-08-15T04:36:34.752724Z"
        ],
        [
         "91060b858433e8a6107be9b76b324e304b5802631fc081b449188fe4b4e32205",
         "truck driver",
         "10",
         "MORTGAGE",
         63000.0,
         "IL",
         "605xx",
         "USA",
         "B",
         "B4",
         "Not Verified",
         218418.0,
         "Joint App",
         71000.0,
         "Not Verified",
         "2025-08-15T04:36:34.752724Z"
        ],
        [
         "1035c5401b0ca76d02c334b813302a9b72825e70b1659e8bc8ce5eea6c5d1f52",
         "SERVICE MANAGER",
         "6",
         "RENT",
         85000.0,
         "PA",
         "160xx",
         "USA",
         "A",
         "A2",
         "Not Verified",
         61099.0,
         "Individual",
         null,
         null,
         "2025-08-15T04:36:34.752724Z"
        ],
        [
         "f74e401c1ab0adf788a7279dd70a27459fcc47733d35eed71149ff371d2a7283",
         "Contract Specialist",
         "3",
         "MORTGAGE",
         104433.0,
         "PA",
         "174xx",
         "USA",
         "F",
         "F1",
         "Source Verified",
         439570.0,
         "Individual",
         null,
         null,
         "2025-08-15T04:36:34.752724Z"
        ],
        [
         "538b4653da3b1e8142b50baacf97a57b721eb6ec565f5fb63a1b71d191e9e934",
         "Vice President of Recruiting Operations",
         "10",
         "MORTGAGE",
         180000.0,
         "MN",
         "550xx",
         "USA",
         "B",
         "B2",
         "Not Verified",
         388852.0,
         "Individual",
         null,
         null,
         "2025-08-15T04:36:34.752724Z"
        ],
        [
         "b24d55f21390533c512f78f822153dc247e984dcd0cfe031c341ccef1c689817",
         "road driver",
         "10",
         "MORTGAGE",
         85000.0,
         "SC",
         "293xx",
         "USA",
         "B",
         "B1",
         "Not Verified",
         193390.0,
         "Individual",
         null,
         null,
         "2025-08-15T04:36:34.752724Z"
        ],
        [
         "b5e7938b0a2da4ceaa75ea2e3c111d1e33ca0f944f954b6d65671ef395d21713",
         "Engineer",
         "10",
         "MORTGAGE",
         65000.0,
         "SD",
         "577xx",
         "USA",
         "C",
         "C1",
         "Not Verified",
         314017.0,
         "Individual",
         null,
         null,
         "2025-08-15T04:36:34.752724Z"
        ]
       ],
       "datasetInfos": [],
       "dbfsResultPath": null,
       "isJsonSchema": true,
       "metadata": {},
       "overflow": false,
       "plotOptions": {
        "customPlotOptions": {},
        "displayType": "table",
        "pivotAggregation": null,
        "pivotColumns": null,
        "xColumns": null,
        "yColumns": null
       },
       "removedWidgets": [],
       "schema": [
        {
         "metadata": "{}",
         "name": "member_id",
         "type": "\"string\""
        },
        {
         "metadata": "{}",
         "name": "emp_title",
         "type": "\"string\""
        },
        {
         "metadata": "{}",
         "name": "emp_length",
         "type": "\"string\""
        },
        {
         "metadata": "{}",
         "name": "home_ownership",
         "type": "\"string\""
        },
        {
         "metadata": "{}",
         "name": "annual_income",
         "type": "\"float\""
        },
        {
         "metadata": "{}",
         "name": "address_state",
         "type": "\"string\""
        },
        {
         "metadata": "{}",
         "name": "address_zipcode",
         "type": "\"string\""
        },
        {
         "metadata": "{}",
         "name": "address_country",
         "type": "\"string\""
        },
        {
         "metadata": "{}",
         "name": "grade",
         "type": "\"string\""
        },
        {
         "metadata": "{}",
         "name": "sub_grade",
         "type": "\"string\""
        },
        {
         "metadata": "{}",
         "name": "verification_status",
         "type": "\"string\""
        },
        {
         "metadata": "{}",
         "name": "tot_hi_cred_lim",
         "type": "\"float\""
        },
        {
         "metadata": "{}",
         "name": "application_type",
         "type": "\"string\""
        },
        {
         "metadata": "{}",
         "name": "join_annual_income",
         "type": "\"float\""
        },
        {
         "metadata": "{}",
         "name": "verification_status_joint",
         "type": "\"string\""
        },
        {
         "metadata": "{}",
         "name": "ingest_date",
         "type": "\"timestamp\""
        }
       ],
       "type": "table"
      }
     },
     "output_type": "display_data"
    }
   ],
   "source": [
    "display(customers_emplength_cleaned.limit(10))"
   ]
  },
  {
   "cell_type": "code",
   "execution_count": 0,
   "metadata": {
    "application/vnd.databricks.v1+cell": {
     "cellMetadata": {
      "byteLimit": 2048000,
      "rowLimit": 10000
     },
     "inputWidgets": {},
     "nuid": "18de362f-7435-41ea-a408-f7fbd4735e37",
     "showTitle": false,
     "tableResultSettingsMap": {},
     "title": ""
    }
   },
   "outputs": [
    {
     "output_type": "stream",
     "name": "stdout",
     "output_type": "stream",
     "text": [
      "root\n |-- member_id: string (nullable = true)\n |-- emp_title: string (nullable = true)\n |-- emp_length: string (nullable = true)\n |-- home_ownership: string (nullable = true)\n |-- annual_income: float (nullable = true)\n |-- address_state: string (nullable = true)\n |-- address_zipcode: string (nullable = true)\n |-- address_country: string (nullable = true)\n |-- grade: string (nullable = true)\n |-- sub_grade: string (nullable = true)\n |-- verification_status: string (nullable = true)\n |-- tot_hi_cred_lim: float (nullable = true)\n |-- application_type: string (nullable = true)\n |-- join_annual_income: float (nullable = true)\n |-- verification_status_joint: string (nullable = true)\n |-- ingest_date: timestamp (nullable = false)\n\n"
     ]
    }
   ],
   "source": [
    "customers_emplength_cleaned.printSchema()"
   ]
  },
  {
   "cell_type": "code",
   "execution_count": 0,
   "metadata": {
    "application/vnd.databricks.v1+cell": {
     "cellMetadata": {
      "byteLimit": 2048000,
      "rowLimit": 10000
     },
     "inputWidgets": {},
     "nuid": "9fc5ce59-1c28-40d6-895b-89cea72024e1",
     "showTitle": false,
     "tableResultSettingsMap": {},
     "title": ""
    }
   },
   "outputs": [],
   "source": [
    "customers_emplength_casted = customers_emplength_cleaned.withColumn(\"emp_length\", customers_emplength_cleaned.emp_length.try_cast('int'))"
   ]
  },
  {
   "cell_type": "code",
   "execution_count": 0,
   "metadata": {
    "application/vnd.databricks.v1+cell": {
     "cellMetadata": {
      "byteLimit": 2048000,
      "rowLimit": 10000
     },
     "inputWidgets": {},
     "nuid": "502be91d-f6d1-4e4e-93e9-2f1977ea2f7e",
     "showTitle": false,
     "tableResultSettingsMap": {},
     "title": ""
    }
   },
   "outputs": [
    {
     "output_type": "display_data",
     "data": {
      "text/html": [
       "<style scoped>\n",
       "  .table-result-container {\n",
       "    max-height: 300px;\n",
       "    overflow: auto;\n",
       "  }\n",
       "  table, th, td {\n",
       "    border: 1px solid black;\n",
       "    border-collapse: collapse;\n",
       "  }\n",
       "  th, td {\n",
       "    padding: 5px;\n",
       "  }\n",
       "  th {\n",
       "    text-align: left;\n",
       "  }\n",
       "</style><div class='table-result-container'><table class='table-result'><thead style='background-color: white'><tr><th>member_id</th><th>emp_title</th><th>emp_length</th><th>home_ownership</th><th>annual_income</th><th>address_state</th><th>address_zipcode</th><th>address_country</th><th>grade</th><th>sub_grade</th><th>verification_status</th><th>tot_hi_cred_lim</th><th>application_type</th><th>join_annual_income</th><th>verification_status_joint</th><th>ingest_date</th></tr></thead><tbody><tr><td>cb0f1777593e77909d0d359a6d9e633f28568500e17806f815395c92f0cd375d</td><td>Vendor liaison</td><td>10</td><td>MORTGAGE</td><td>42000.0</td><td>RI</td><td>029xx</td><td>USA</td><td>B</td><td>B5</td><td>Not Verified</td><td>256513.0</td><td>Individual</td><td>null</td><td>null</td><td>2025-08-15T04:36:36.337394Z</td></tr><tr><td>6d5091b3fcaaeb4eac37445042b6b79e8b21f16943b9c32c4f5dd74dcb0f2210</td><td>leadman</td><td>10</td><td>MORTGAGE</td><td>55000.0</td><td>PA</td><td>190xx</td><td>USA</td><td>C</td><td>C4</td><td>Not Verified</td><td>178050.0</td><td>Individual</td><td>null</td><td>null</td><td>2025-08-15T04:36:36.337394Z</td></tr><tr><td>b5e7938b0a2da4ceaa75ea2e3c111d1e33ca0f944f954b6d65671ef395d21713</td><td>Engineer</td><td>10</td><td>MORTGAGE</td><td>65000.0</td><td>SD</td><td>577xx</td><td>USA</td><td>C</td><td>C1</td><td>Not Verified</td><td>314017.0</td><td>Individual</td><td>null</td><td>null</td><td>2025-08-15T04:36:36.337394Z</td></tr><tr><td>8aef4bb29d609d8d684fd709af965bd690fc9ef3a2691777f38e0c10d622fe97</td><td>Veterinary Tecnician</td><td>4</td><td>RENT</td><td>34000.0</td><td>GA</td><td>300xx</td><td>USA</td><td>C</td><td>C3</td><td>Source Verified</td><td>16900.0</td><td>Individual</td><td>null</td><td>null</td><td>2025-08-15T04:36:36.337394Z</td></tr><tr><td>f74e401c1ab0adf788a7279dd70a27459fcc47733d35eed71149ff371d2a7283</td><td>Contract Specialist</td><td>3</td><td>MORTGAGE</td><td>104433.0</td><td>PA</td><td>174xx</td><td>USA</td><td>F</td><td>F1</td><td>Source Verified</td><td>439570.0</td><td>Individual</td><td>null</td><td>null</td><td>2025-08-15T04:36:36.337394Z</td></tr><tr><td>cab1fa9f533688b0aab7c6be7b6256d15ad1dd5f3c4ca061a49cfeb26901977d</td><td>Information Systems Officer</td><td>10</td><td>MORTGAGE</td><td>110000.0</td><td>NJ</td><td>076xx</td><td>USA</td><td>C</td><td>C5</td><td>Source Verified</td><td>381215.0</td><td>Individual</td><td>null</td><td>null</td><td>2025-08-15T04:36:36.337394Z</td></tr><tr><td>538b4653da3b1e8142b50baacf97a57b721eb6ec565f5fb63a1b71d191e9e934</td><td>Vice President of Recruiting Operations</td><td>10</td><td>MORTGAGE</td><td>180000.0</td><td>MN</td><td>550xx</td><td>USA</td><td>B</td><td>B2</td><td>Not Verified</td><td>388852.0</td><td>Individual</td><td>null</td><td>null</td><td>2025-08-15T04:36:36.337394Z</td></tr><tr><td>1035c5401b0ca76d02c334b813302a9b72825e70b1659e8bc8ce5eea6c5d1f52</td><td>SERVICE MANAGER</td><td>6</td><td>RENT</td><td>85000.0</td><td>PA</td><td>160xx</td><td>USA</td><td>A</td><td>A2</td><td>Not Verified</td><td>61099.0</td><td>Individual</td><td>null</td><td>null</td><td>2025-08-15T04:36:36.337394Z</td></tr><tr><td>b24d55f21390533c512f78f822153dc247e984dcd0cfe031c341ccef1c689817</td><td>road driver</td><td>10</td><td>MORTGAGE</td><td>85000.0</td><td>SC</td><td>293xx</td><td>USA</td><td>B</td><td>B1</td><td>Not Verified</td><td>193390.0</td><td>Individual</td><td>null</td><td>null</td><td>2025-08-15T04:36:36.337394Z</td></tr><tr><td>91060b858433e8a6107be9b76b324e304b5802631fc081b449188fe4b4e32205</td><td>truck driver</td><td>10</td><td>MORTGAGE</td><td>63000.0</td><td>IL</td><td>605xx</td><td>USA</td><td>B</td><td>B4</td><td>Not Verified</td><td>218418.0</td><td>Joint App</td><td>71000.0</td><td>Not Verified</td><td>2025-08-15T04:36:36.337394Z</td></tr></tbody></table></div>"
      ]
     },
     "metadata": {
      "application/vnd.databricks.v1+output": {
       "addedWidgets": {},
       "aggData": [],
       "aggError": "",
       "aggOverflow": false,
       "aggSchema": [],
       "aggSeriesLimitReached": false,
       "aggType": "",
       "arguments": {},
       "columnCustomDisplayInfos": {},
       "data": [
        [
         "cb0f1777593e77909d0d359a6d9e633f28568500e17806f815395c92f0cd375d",
         "Vendor liaison",
         10,
         "MORTGAGE",
         42000.0,
         "RI",
         "029xx",
         "USA",
         "B",
         "B5",
         "Not Verified",
         256513.0,
         "Individual",
         null,
         null,
         "2025-08-15T04:36:36.337394Z"
        ],
        [
         "6d5091b3fcaaeb4eac37445042b6b79e8b21f16943b9c32c4f5dd74dcb0f2210",
         "leadman",
         10,
         "MORTGAGE",
         55000.0,
         "PA",
         "190xx",
         "USA",
         "C",
         "C4",
         "Not Verified",
         178050.0,
         "Individual",
         null,
         null,
         "2025-08-15T04:36:36.337394Z"
        ],
        [
         "b5e7938b0a2da4ceaa75ea2e3c111d1e33ca0f944f954b6d65671ef395d21713",
         "Engineer",
         10,
         "MORTGAGE",
         65000.0,
         "SD",
         "577xx",
         "USA",
         "C",
         "C1",
         "Not Verified",
         314017.0,
         "Individual",
         null,
         null,
         "2025-08-15T04:36:36.337394Z"
        ],
        [
         "8aef4bb29d609d8d684fd709af965bd690fc9ef3a2691777f38e0c10d622fe97",
         "Veterinary Tecnician",
         4,
         "RENT",
         34000.0,
         "GA",
         "300xx",
         "USA",
         "C",
         "C3",
         "Source Verified",
         16900.0,
         "Individual",
         null,
         null,
         "2025-08-15T04:36:36.337394Z"
        ],
        [
         "f74e401c1ab0adf788a7279dd70a27459fcc47733d35eed71149ff371d2a7283",
         "Contract Specialist",
         3,
         "MORTGAGE",
         104433.0,
         "PA",
         "174xx",
         "USA",
         "F",
         "F1",
         "Source Verified",
         439570.0,
         "Individual",
         null,
         null,
         "2025-08-15T04:36:36.337394Z"
        ],
        [
         "cab1fa9f533688b0aab7c6be7b6256d15ad1dd5f3c4ca061a49cfeb26901977d",
         "Information Systems Officer",
         10,
         "MORTGAGE",
         110000.0,
         "NJ",
         "076xx",
         "USA",
         "C",
         "C5",
         "Source Verified",
         381215.0,
         "Individual",
         null,
         null,
         "2025-08-15T04:36:36.337394Z"
        ],
        [
         "538b4653da3b1e8142b50baacf97a57b721eb6ec565f5fb63a1b71d191e9e934",
         "Vice President of Recruiting Operations",
         10,
         "MORTGAGE",
         180000.0,
         "MN",
         "550xx",
         "USA",
         "B",
         "B2",
         "Not Verified",
         388852.0,
         "Individual",
         null,
         null,
         "2025-08-15T04:36:36.337394Z"
        ],
        [
         "1035c5401b0ca76d02c334b813302a9b72825e70b1659e8bc8ce5eea6c5d1f52",
         "SERVICE MANAGER",
         6,
         "RENT",
         85000.0,
         "PA",
         "160xx",
         "USA",
         "A",
         "A2",
         "Not Verified",
         61099.0,
         "Individual",
         null,
         null,
         "2025-08-15T04:36:36.337394Z"
        ],
        [
         "b24d55f21390533c512f78f822153dc247e984dcd0cfe031c341ccef1c689817",
         "road driver",
         10,
         "MORTGAGE",
         85000.0,
         "SC",
         "293xx",
         "USA",
         "B",
         "B1",
         "Not Verified",
         193390.0,
         "Individual",
         null,
         null,
         "2025-08-15T04:36:36.337394Z"
        ],
        [
         "91060b858433e8a6107be9b76b324e304b5802631fc081b449188fe4b4e32205",
         "truck driver",
         10,
         "MORTGAGE",
         63000.0,
         "IL",
         "605xx",
         "USA",
         "B",
         "B4",
         "Not Verified",
         218418.0,
         "Joint App",
         71000.0,
         "Not Verified",
         "2025-08-15T04:36:36.337394Z"
        ]
       ],
       "datasetInfos": [],
       "dbfsResultPath": null,
       "isJsonSchema": true,
       "metadata": {},
       "overflow": false,
       "plotOptions": {
        "customPlotOptions": {},
        "displayType": "table",
        "pivotAggregation": null,
        "pivotColumns": null,
        "xColumns": null,
        "yColumns": null
       },
       "removedWidgets": [],
       "schema": [
        {
         "metadata": "{}",
         "name": "member_id",
         "type": "\"string\""
        },
        {
         "metadata": "{}",
         "name": "emp_title",
         "type": "\"string\""
        },
        {
         "metadata": "{}",
         "name": "emp_length",
         "type": "\"integer\""
        },
        {
         "metadata": "{}",
         "name": "home_ownership",
         "type": "\"string\""
        },
        {
         "metadata": "{}",
         "name": "annual_income",
         "type": "\"float\""
        },
        {
         "metadata": "{}",
         "name": "address_state",
         "type": "\"string\""
        },
        {
         "metadata": "{}",
         "name": "address_zipcode",
         "type": "\"string\""
        },
        {
         "metadata": "{}",
         "name": "address_country",
         "type": "\"string\""
        },
        {
         "metadata": "{}",
         "name": "grade",
         "type": "\"string\""
        },
        {
         "metadata": "{}",
         "name": "sub_grade",
         "type": "\"string\""
        },
        {
         "metadata": "{}",
         "name": "verification_status",
         "type": "\"string\""
        },
        {
         "metadata": "{}",
         "name": "tot_hi_cred_lim",
         "type": "\"float\""
        },
        {
         "metadata": "{}",
         "name": "application_type",
         "type": "\"string\""
        },
        {
         "metadata": "{}",
         "name": "join_annual_income",
         "type": "\"float\""
        },
        {
         "metadata": "{}",
         "name": "verification_status_joint",
         "type": "\"string\""
        },
        {
         "metadata": "{}",
         "name": "ingest_date",
         "type": "\"timestamp\""
        }
       ],
       "type": "table"
      }
     },
     "output_type": "display_data"
    }
   ],
   "source": [
    "display(customers_emplength_casted.limit(10))"
   ]
  },
  {
   "cell_type": "code",
   "execution_count": 0,
   "metadata": {
    "application/vnd.databricks.v1+cell": {
     "cellMetadata": {
      "byteLimit": 2048000,
      "rowLimit": 10000
     },
     "inputWidgets": {},
     "nuid": "573920b9-d194-4a12-b32e-bd75a30a3623",
     "showTitle": false,
     "tableResultSettingsMap": {},
     "title": ""
    }
   },
   "outputs": [
    {
     "output_type": "stream",
     "name": "stdout",
     "output_type": "stream",
     "text": [
      "root\n |-- member_id: string (nullable = true)\n |-- emp_title: string (nullable = true)\n |-- emp_length: integer (nullable = true)\n |-- home_ownership: string (nullable = true)\n |-- annual_income: float (nullable = true)\n |-- address_state: string (nullable = true)\n |-- address_zipcode: string (nullable = true)\n |-- address_country: string (nullable = true)\n |-- grade: string (nullable = true)\n |-- sub_grade: string (nullable = true)\n |-- verification_status: string (nullable = true)\n |-- tot_hi_cred_lim: float (nullable = true)\n |-- application_type: string (nullable = true)\n |-- join_annual_income: float (nullable = true)\n |-- verification_status_joint: string (nullable = true)\n |-- ingest_date: timestamp (nullable = false)\n\n"
     ]
    }
   ],
   "source": [
    "customers_emplength_casted.printSchema()"
   ]
  },
  {
   "cell_type": "markdown",
   "metadata": {
    "application/vnd.databricks.v1+cell": {
     "cellMetadata": {
      "byteLimit": 2048000,
      "rowLimit": 10000
     },
     "inputWidgets": {},
     "nuid": "a32c1b52-e5da-4d25-88f7-6953ad1701bb",
     "showTitle": false,
     "tableResultSettingsMap": {},
     "title": ""
    }
   },
   "source": [
    "#### 7. we need to replace all the nulls in emp_length column with average of this column"
   ]
  },
  {
   "cell_type": "code",
   "execution_count": 0,
   "metadata": {
    "application/vnd.databricks.v1+cell": {
     "cellMetadata": {
      "byteLimit": 2048000,
      "rowLimit": 10000
     },
     "inputWidgets": {},
     "nuid": "7355a8e1-4927-499f-bcc5-cf234a78cce3",
     "showTitle": false,
     "tableResultSettingsMap": {},
     "title": ""
    }
   },
   "outputs": [
    {
     "output_type": "execute_result",
     "data": {
      "text/plain": [
       "146903"
      ]
     },
     "execution_count": 27,
     "metadata": {},
     "output_type": "execute_result"
    }
   ],
   "source": [
    "customers_emplength_casted.filter(\"emp_length is null\").count()"
   ]
  },
  {
   "cell_type": "code",
   "execution_count": 0,
   "metadata": {
    "application/vnd.databricks.v1+cell": {
     "cellMetadata": {
      "byteLimit": 2048000,
      "rowLimit": 10000
     },
     "inputWidgets": {},
     "nuid": "c8a90906-fada-4934-b538-51d09deb290b",
     "showTitle": false,
     "tableResultSettingsMap": {},
     "title": ""
    }
   },
   "outputs": [],
   "source": [
    "customers_emplength_casted.createOrReplaceTempView(\"customers\")"
   ]
  },
  {
   "cell_type": "code",
   "execution_count": 0,
   "metadata": {
    "application/vnd.databricks.v1+cell": {
     "cellMetadata": {
      "byteLimit": 2048000,
      "rowLimit": 10000
     },
     "inputWidgets": {},
     "nuid": "71814257-99f7-4b3f-8f21-b4448e55bfd9",
     "showTitle": false,
     "tableResultSettingsMap": {},
     "title": ""
    }
   },
   "outputs": [],
   "source": [
    "avg_emp_length = spark.sql(\"select floor(avg(emp_length)) as avg_emp_length from customers\").collect()"
   ]
  },
  {
   "cell_type": "code",
   "execution_count": 0,
   "metadata": {
    "application/vnd.databricks.v1+cell": {
     "cellMetadata": {
      "byteLimit": 2048000,
      "rowLimit": 10000
     },
     "inputWidgets": {},
     "nuid": "feb50952-fbbf-46c8-af7e-dc993fc2e38d",
     "showTitle": false,
     "tableResultSettingsMap": {},
     "title": ""
    }
   },
   "outputs": [
    {
     "output_type": "display_data",
     "data": {
      "text/html": [
       "<style scoped>\n",
       "  .table-result-container {\n",
       "    max-height: 300px;\n",
       "    overflow: auto;\n",
       "  }\n",
       "  table, th, td {\n",
       "    border: 1px solid black;\n",
       "    border-collapse: collapse;\n",
       "  }\n",
       "  th, td {\n",
       "    padding: 5px;\n",
       "  }\n",
       "  th {\n",
       "    text-align: left;\n",
       "  }\n",
       "</style><div class='table-result-container'><table class='table-result'><thead style='background-color: white'><tr><th>avg_emp_length</th></tr></thead><tbody><tr><td>6</td></tr></tbody></table></div>"
      ]
     },
     "metadata": {
      "application/vnd.databricks.v1+output": {
       "addedWidgets": {},
       "aggData": [],
       "aggError": "",
       "aggOverflow": false,
       "aggSchema": [],
       "aggSeriesLimitReached": false,
       "aggType": "",
       "arguments": {},
       "columnCustomDisplayInfos": {},
       "data": [
        [
         6
        ]
       ],
       "datasetInfos": [],
       "dbfsResultPath": null,
       "isJsonSchema": true,
       "metadata": {},
       "overflow": false,
       "plotOptions": {
        "customPlotOptions": {},
        "displayType": "table",
        "pivotAggregation": null,
        "pivotColumns": null,
        "xColumns": null,
        "yColumns": null
       },
       "removedWidgets": [],
       "schema": [
        {
         "metadata": "{}",
         "name": "avg_emp_length",
         "type": "\"long\""
        }
       ],
       "type": "table"
      }
     },
     "output_type": "display_data"
    }
   ],
   "source": [
    "display(avg_emp_length)"
   ]
  },
  {
   "cell_type": "code",
   "execution_count": 0,
   "metadata": {
    "application/vnd.databricks.v1+cell": {
     "cellMetadata": {
      "byteLimit": 2048000,
      "rowLimit": 10000
     },
     "inputWidgets": {},
     "nuid": "31eb82e7-81f5-40e6-b423-83f8b9e173cc",
     "showTitle": false,
     "tableResultSettingsMap": {},
     "title": ""
    }
   },
   "outputs": [],
   "source": [
    "avg_emp_duration = avg_emp_length[0][0]"
   ]
  },
  {
   "cell_type": "code",
   "execution_count": 0,
   "metadata": {
    "application/vnd.databricks.v1+cell": {
     "cellMetadata": {
      "byteLimit": 2048000,
      "rowLimit": 10000
     },
     "inputWidgets": {},
     "nuid": "7b7bf61d-386e-4db8-8584-7099c335e22e",
     "showTitle": false,
     "tableResultSettingsMap": {},
     "title": ""
    }
   },
   "outputs": [
    {
     "output_type": "stream",
     "name": "stdout",
     "output_type": "stream",
     "text": [
      "6\n"
     ]
    }
   ],
   "source": [
    "print(avg_emp_duration)"
   ]
  },
  {
   "cell_type": "code",
   "execution_count": 0,
   "metadata": {
    "application/vnd.databricks.v1+cell": {
     "cellMetadata": {
      "byteLimit": 2048000,
      "rowLimit": 10000
     },
     "inputWidgets": {},
     "nuid": "26a442ee-846a-40c0-8fc4-58e2b50e9baa",
     "showTitle": false,
     "tableResultSettingsMap": {},
     "title": ""
    }
   },
   "outputs": [],
   "source": [
    "customers_emplength_replaced = customers_emplength_casted.na.fill(avg_emp_duration, subset=['emp_length'])"
   ]
  },
  {
   "cell_type": "code",
   "execution_count": 0,
   "metadata": {
    "application/vnd.databricks.v1+cell": {
     "cellMetadata": {
      "byteLimit": 2048000,
      "rowLimit": 10000
     },
     "inputWidgets": {},
     "nuid": "0ab59cd3-fa3a-46d9-a3c7-480320e621ff",
     "showTitle": false,
     "tableResultSettingsMap": {},
     "title": ""
    }
   },
   "outputs": [
    {
     "output_type": "display_data",
     "data": {
      "text/html": [
       "<style scoped>\n",
       "  .table-result-container {\n",
       "    max-height: 300px;\n",
       "    overflow: auto;\n",
       "  }\n",
       "  table, th, td {\n",
       "    border: 1px solid black;\n",
       "    border-collapse: collapse;\n",
       "  }\n",
       "  th, td {\n",
       "    padding: 5px;\n",
       "  }\n",
       "  th {\n",
       "    text-align: left;\n",
       "  }\n",
       "</style><div class='table-result-container'><table class='table-result'><thead style='background-color: white'><tr><th>member_id</th><th>emp_title</th><th>emp_length</th><th>home_ownership</th><th>annual_income</th><th>address_state</th><th>address_zipcode</th><th>address_country</th><th>grade</th><th>sub_grade</th><th>verification_status</th><th>tot_hi_cred_lim</th><th>application_type</th><th>join_annual_income</th><th>verification_status_joint</th><th>ingest_date</th></tr></thead><tbody><tr><td>8aef4bb29d609d8d684fd709af965bd690fc9ef3a2691777f38e0c10d622fe97</td><td>Veterinary Tecnician</td><td>4</td><td>RENT</td><td>34000.0</td><td>GA</td><td>300xx</td><td>USA</td><td>C</td><td>C3</td><td>Source Verified</td><td>16900.0</td><td>Individual</td><td>null</td><td>null</td><td>2025-08-15T04:37:00.012953Z</td></tr><tr><td>b24d55f21390533c512f78f822153dc247e984dcd0cfe031c341ccef1c689817</td><td>road driver</td><td>10</td><td>MORTGAGE</td><td>85000.0</td><td>SC</td><td>293xx</td><td>USA</td><td>B</td><td>B1</td><td>Not Verified</td><td>193390.0</td><td>Individual</td><td>null</td><td>null</td><td>2025-08-15T04:37:00.012953Z</td></tr><tr><td>b5e7938b0a2da4ceaa75ea2e3c111d1e33ca0f944f954b6d65671ef395d21713</td><td>Engineer</td><td>10</td><td>MORTGAGE</td><td>65000.0</td><td>SD</td><td>577xx</td><td>USA</td><td>C</td><td>C1</td><td>Not Verified</td><td>314017.0</td><td>Individual</td><td>null</td><td>null</td><td>2025-08-15T04:37:00.012953Z</td></tr><tr><td>f74e401c1ab0adf788a7279dd70a27459fcc47733d35eed71149ff371d2a7283</td><td>Contract Specialist</td><td>3</td><td>MORTGAGE</td><td>104433.0</td><td>PA</td><td>174xx</td><td>USA</td><td>F</td><td>F1</td><td>Source Verified</td><td>439570.0</td><td>Individual</td><td>null</td><td>null</td><td>2025-08-15T04:37:00.012953Z</td></tr><tr><td>6d5091b3fcaaeb4eac37445042b6b79e8b21f16943b9c32c4f5dd74dcb0f2210</td><td>leadman</td><td>10</td><td>MORTGAGE</td><td>55000.0</td><td>PA</td><td>190xx</td><td>USA</td><td>C</td><td>C4</td><td>Not Verified</td><td>178050.0</td><td>Individual</td><td>null</td><td>null</td><td>2025-08-15T04:37:00.012953Z</td></tr><tr><td>91060b858433e8a6107be9b76b324e304b5802631fc081b449188fe4b4e32205</td><td>truck driver</td><td>10</td><td>MORTGAGE</td><td>63000.0</td><td>IL</td><td>605xx</td><td>USA</td><td>B</td><td>B4</td><td>Not Verified</td><td>218418.0</td><td>Joint App</td><td>71000.0</td><td>Not Verified</td><td>2025-08-15T04:37:00.012953Z</td></tr><tr><td>cab1fa9f533688b0aab7c6be7b6256d15ad1dd5f3c4ca061a49cfeb26901977d</td><td>Information Systems Officer</td><td>10</td><td>MORTGAGE</td><td>110000.0</td><td>NJ</td><td>076xx</td><td>USA</td><td>C</td><td>C5</td><td>Source Verified</td><td>381215.0</td><td>Individual</td><td>null</td><td>null</td><td>2025-08-15T04:37:00.012953Z</td></tr><tr><td>1035c5401b0ca76d02c334b813302a9b72825e70b1659e8bc8ce5eea6c5d1f52</td><td>SERVICE MANAGER</td><td>6</td><td>RENT</td><td>85000.0</td><td>PA</td><td>160xx</td><td>USA</td><td>A</td><td>A2</td><td>Not Verified</td><td>61099.0</td><td>Individual</td><td>null</td><td>null</td><td>2025-08-15T04:37:00.012953Z</td></tr><tr><td>538b4653da3b1e8142b50baacf97a57b721eb6ec565f5fb63a1b71d191e9e934</td><td>Vice President of Recruiting Operations</td><td>10</td><td>MORTGAGE</td><td>180000.0</td><td>MN</td><td>550xx</td><td>USA</td><td>B</td><td>B2</td><td>Not Verified</td><td>388852.0</td><td>Individual</td><td>null</td><td>null</td><td>2025-08-15T04:37:00.012953Z</td></tr><tr><td>cb0f1777593e77909d0d359a6d9e633f28568500e17806f815395c92f0cd375d</td><td>Vendor liaison</td><td>10</td><td>MORTGAGE</td><td>42000.0</td><td>RI</td><td>029xx</td><td>USA</td><td>B</td><td>B5</td><td>Not Verified</td><td>256513.0</td><td>Individual</td><td>null</td><td>null</td><td>2025-08-15T04:37:00.012953Z</td></tr></tbody></table></div>"
      ]
     },
     "metadata": {
      "application/vnd.databricks.v1+output": {
       "addedWidgets": {},
       "aggData": [],
       "aggError": "",
       "aggOverflow": false,
       "aggSchema": [],
       "aggSeriesLimitReached": false,
       "aggType": "",
       "arguments": {},
       "columnCustomDisplayInfos": {},
       "data": [
        [
         "8aef4bb29d609d8d684fd709af965bd690fc9ef3a2691777f38e0c10d622fe97",
         "Veterinary Tecnician",
         4,
         "RENT",
         34000.0,
         "GA",
         "300xx",
         "USA",
         "C",
         "C3",
         "Source Verified",
         16900.0,
         "Individual",
         null,
         null,
         "2025-08-15T04:37:00.012953Z"
        ],
        [
         "b24d55f21390533c512f78f822153dc247e984dcd0cfe031c341ccef1c689817",
         "road driver",
         10,
         "MORTGAGE",
         85000.0,
         "SC",
         "293xx",
         "USA",
         "B",
         "B1",
         "Not Verified",
         193390.0,
         "Individual",
         null,
         null,
         "2025-08-15T04:37:00.012953Z"
        ],
        [
         "b5e7938b0a2da4ceaa75ea2e3c111d1e33ca0f944f954b6d65671ef395d21713",
         "Engineer",
         10,
         "MORTGAGE",
         65000.0,
         "SD",
         "577xx",
         "USA",
         "C",
         "C1",
         "Not Verified",
         314017.0,
         "Individual",
         null,
         null,
         "2025-08-15T04:37:00.012953Z"
        ],
        [
         "f74e401c1ab0adf788a7279dd70a27459fcc47733d35eed71149ff371d2a7283",
         "Contract Specialist",
         3,
         "MORTGAGE",
         104433.0,
         "PA",
         "174xx",
         "USA",
         "F",
         "F1",
         "Source Verified",
         439570.0,
         "Individual",
         null,
         null,
         "2025-08-15T04:37:00.012953Z"
        ],
        [
         "6d5091b3fcaaeb4eac37445042b6b79e8b21f16943b9c32c4f5dd74dcb0f2210",
         "leadman",
         10,
         "MORTGAGE",
         55000.0,
         "PA",
         "190xx",
         "USA",
         "C",
         "C4",
         "Not Verified",
         178050.0,
         "Individual",
         null,
         null,
         "2025-08-15T04:37:00.012953Z"
        ],
        [
         "91060b858433e8a6107be9b76b324e304b5802631fc081b449188fe4b4e32205",
         "truck driver",
         10,
         "MORTGAGE",
         63000.0,
         "IL",
         "605xx",
         "USA",
         "B",
         "B4",
         "Not Verified",
         218418.0,
         "Joint App",
         71000.0,
         "Not Verified",
         "2025-08-15T04:37:00.012953Z"
        ],
        [
         "cab1fa9f533688b0aab7c6be7b6256d15ad1dd5f3c4ca061a49cfeb26901977d",
         "Information Systems Officer",
         10,
         "MORTGAGE",
         110000.0,
         "NJ",
         "076xx",
         "USA",
         "C",
         "C5",
         "Source Verified",
         381215.0,
         "Individual",
         null,
         null,
         "2025-08-15T04:37:00.012953Z"
        ],
        [
         "1035c5401b0ca76d02c334b813302a9b72825e70b1659e8bc8ce5eea6c5d1f52",
         "SERVICE MANAGER",
         6,
         "RENT",
         85000.0,
         "PA",
         "160xx",
         "USA",
         "A",
         "A2",
         "Not Verified",
         61099.0,
         "Individual",
         null,
         null,
         "2025-08-15T04:37:00.012953Z"
        ],
        [
         "538b4653da3b1e8142b50baacf97a57b721eb6ec565f5fb63a1b71d191e9e934",
         "Vice President of Recruiting Operations",
         10,
         "MORTGAGE",
         180000.0,
         "MN",
         "550xx",
         "USA",
         "B",
         "B2",
         "Not Verified",
         388852.0,
         "Individual",
         null,
         null,
         "2025-08-15T04:37:00.012953Z"
        ],
        [
         "cb0f1777593e77909d0d359a6d9e633f28568500e17806f815395c92f0cd375d",
         "Vendor liaison",
         10,
         "MORTGAGE",
         42000.0,
         "RI",
         "029xx",
         "USA",
         "B",
         "B5",
         "Not Verified",
         256513.0,
         "Individual",
         null,
         null,
         "2025-08-15T04:37:00.012953Z"
        ]
       ],
       "datasetInfos": [],
       "dbfsResultPath": null,
       "isJsonSchema": true,
       "metadata": {},
       "overflow": false,
       "plotOptions": {
        "customPlotOptions": {},
        "displayType": "table",
        "pivotAggregation": null,
        "pivotColumns": null,
        "xColumns": null,
        "yColumns": null
       },
       "removedWidgets": [],
       "schema": [
        {
         "metadata": "{}",
         "name": "member_id",
         "type": "\"string\""
        },
        {
         "metadata": "{}",
         "name": "emp_title",
         "type": "\"string\""
        },
        {
         "metadata": "{}",
         "name": "emp_length",
         "type": "\"integer\""
        },
        {
         "metadata": "{}",
         "name": "home_ownership",
         "type": "\"string\""
        },
        {
         "metadata": "{}",
         "name": "annual_income",
         "type": "\"float\""
        },
        {
         "metadata": "{}",
         "name": "address_state",
         "type": "\"string\""
        },
        {
         "metadata": "{}",
         "name": "address_zipcode",
         "type": "\"string\""
        },
        {
         "metadata": "{}",
         "name": "address_country",
         "type": "\"string\""
        },
        {
         "metadata": "{}",
         "name": "grade",
         "type": "\"string\""
        },
        {
         "metadata": "{}",
         "name": "sub_grade",
         "type": "\"string\""
        },
        {
         "metadata": "{}",
         "name": "verification_status",
         "type": "\"string\""
        },
        {
         "metadata": "{}",
         "name": "tot_hi_cred_lim",
         "type": "\"float\""
        },
        {
         "metadata": "{}",
         "name": "application_type",
         "type": "\"string\""
        },
        {
         "metadata": "{}",
         "name": "join_annual_income",
         "type": "\"float\""
        },
        {
         "metadata": "{}",
         "name": "verification_status_joint",
         "type": "\"string\""
        },
        {
         "metadata": "{}",
         "name": "ingest_date",
         "type": "\"timestamp\""
        }
       ],
       "type": "table"
      }
     },
     "output_type": "display_data"
    }
   ],
   "source": [
    "display(customers_emplength_replaced.limit(10))"
   ]
  },
  {
   "cell_type": "code",
   "execution_count": 0,
   "metadata": {
    "application/vnd.databricks.v1+cell": {
     "cellMetadata": {
      "byteLimit": 2048000,
      "rowLimit": 10000
     },
     "inputWidgets": {},
     "nuid": "f7b50684-7820-4ef4-93a1-ef3b6d3c9c54",
     "showTitle": false,
     "tableResultSettingsMap": {},
     "title": ""
    }
   },
   "outputs": [
    {
     "output_type": "execute_result",
     "data": {
      "text/plain": [
       "0"
      ]
     },
     "execution_count": 35,
     "metadata": {},
     "output_type": "execute_result"
    }
   ],
   "source": [
    "customers_emplength_replaced.filter(\"emp_length is null\").count()"
   ]
  },
  {
   "cell_type": "markdown",
   "metadata": {
    "application/vnd.databricks.v1+cell": {
     "cellMetadata": {
      "byteLimit": 2048000,
      "rowLimit": 10000
     },
     "inputWidgets": {},
     "nuid": "95f12799-776a-4331-be59-4c7a234781d3",
     "showTitle": false,
     "tableResultSettingsMap": {},
     "title": ""
    }
   },
   "source": [
    "#### 8. Clean the address_state(it should be 2 characters only),replace all others with NA"
   ]
  },
  {
   "cell_type": "code",
   "execution_count": 0,
   "metadata": {
    "application/vnd.databricks.v1+cell": {
     "cellMetadata": {
      "byteLimit": 2048000,
      "rowLimit": 10000
     },
     "inputWidgets": {},
     "nuid": "d3d70b1d-b7db-4e55-884a-8756cc9c0a1e",
     "showTitle": false,
     "tableResultSettingsMap": {},
     "title": ""
    }
   },
   "outputs": [],
   "source": [
    "customers_emplength_replaced.createOrReplaceTempView(\"customers\")"
   ]
  },
  {
   "cell_type": "code",
   "execution_count": 0,
   "metadata": {
    "application/vnd.databricks.v1+cell": {
     "cellMetadata": {
      "byteLimit": 2048000,
      "rowLimit": 10000
     },
     "inputWidgets": {},
     "nuid": "5d1dbf8e-7b91-4fdb-9599-0fd26f8b8d21",
     "showTitle": false,
     "tableResultSettingsMap": {},
     "title": ""
    }
   },
   "outputs": [
    {
     "output_type": "display_data",
     "data": {
      "text/html": [
       "<style scoped>\n",
       "  .table-result-container {\n",
       "    max-height: 300px;\n",
       "    overflow: auto;\n",
       "  }\n",
       "  table, th, td {\n",
       "    border: 1px solid black;\n",
       "    border-collapse: collapse;\n",
       "  }\n",
       "  th, td {\n",
       "    padding: 5px;\n",
       "  }\n",
       "  th {\n",
       "    text-align: left;\n",
       "  }\n",
       "</style><div class='table-result-container'><table class='table-result'><thead style='background-color: white'><tr><th>address_state</th></tr></thead><tbody><tr><td>SC</td></tr><tr><td>AZ</td></tr><tr><td>LA</td></tr><tr><td>MN</td></tr><tr><td>NJ</td></tr><tr><td>DC</td></tr><tr><td>OR</td></tr><tr><td>VA</td></tr><tr><td>RI</td></tr><tr><td>WY</td></tr><tr><td>KY</td></tr><tr><td>NH</td></tr><tr><td>MI</td></tr><tr><td>NV</td></tr><tr><td>WI</td></tr><tr><td>ID</td></tr><tr><td>CA</td></tr><tr><td>NE</td></tr><tr><td>CT</td></tr><tr><td>MT</td></tr><tr><td>NC</td></tr><tr><td>VT</td></tr><tr><td>MD</td></tr><tr><td>DE</td></tr><tr><td>MO</td></tr><tr><td>IL</td></tr><tr><td>ME</td></tr><tr><td>WA</td></tr><tr><td>ND</td></tr><tr><td>MS</td></tr><tr><td>AL</td></tr><tr><td>IN</td></tr><tr><td>OH</td></tr><tr><td>TN</td></tr><tr><td>NM</td></tr><tr><td>PA</td></tr><tr><td>SD</td></tr><tr><td>NY</td></tr><tr><td>TX</td></tr><tr><td>WV</td></tr><tr><td>GA</td></tr><tr><td>MA</td></tr><tr><td>KS</td></tr><tr><td>FL</td></tr><tr><td>CO</td></tr><tr><td>AK</td></tr><tr><td>AR</td></tr><tr><td>OK</td></tr><tr><td>UT</td></tr><tr><td>HI</td></tr><tr><td>debt_consolidation</td></tr><tr><td>Helping Kenya's Deaf Children</td></tr><tr><td>223xx</td></tr><tr><td>175 (total projected payments)<br/><br/>Interest rate: Variable</td></tr><tr><td>so Plan \"\"C\"\" is to use a convenience check from that credit card</td></tr><tr><td>I am 56 yrs. old and to date have not left a single bill unpaid. I will not let this one ruin that record.   Thank You for your consideration</td></tr><tr><td>financially I made a few errors in judgment.      Since then I have been doing everything I can to improve my financial situation: I got a very good job at the University of California</td></tr><tr><td>but no one will lend me money because</td></tr><tr><td>etc.  First</td></tr><tr><td>499xx</td></tr><tr><td>yet Capital One never removed the derogatory marks from my credit report. <br><br> I have been an independent freelance safety consultant since 2008 and business is very stable. This also  affords me the ability to be a good borrower and pay back this loan effectively and on time. Borrower added on 08/08/11 > I would like to use the funds to payoff credit card debt at a lower rate than currently being offered by my credit card lenders. Although I have asked</td></tr><tr><td>850xx</td></tr><tr><td>Advocate business expansion</td></tr><tr><td>and MBA's are overrated.  So I'm pretty liquid.  Even my wife's diamond ring is paid in full</td></tr><tr><td>Eliminating Credit Card Debt</td></tr><tr><td>951xx</td></tr><tr><td>662xx</td></tr><tr><td>I the credit card debt is not how I want to remember the trip!   My financial situation: I have a great job working as a computer trainer for one of the largest hospital systems in the US. As you can see from my credit history</td></tr><tr><td>only to find out that all the insurance premiums I pay do absolutely nothing  to help me when I need it.  I also have narcolepsy and cataplexy which requires medication in order to maintain the level of seratonin necessary to get through my day.  The medications needed for this condition are very expensive and there are constant stressors from insurance there as well.  I am able to cover the meds that are not covered by the deductible/copay but I am just not able to prepared myself for something of this magnitude.  I think that this is a fantastic program for lending and someday when I am in a better place financially</td></tr><tr><td>more personable pastures.  I never make late payments and my income is steady and secure with a software company that is still growing - this investment is about as secure as they come. 565220 added on 10/29/09 > In regards to credit report</td></tr><tr><td>594xx</td></tr><tr><td>Need funding for start up consulting biz</td></tr><tr><td>but I would like to help lower and eliminate these listed below</td></tr><tr><td>Loan To Eliminate Credit Card Debt</td></tr><tr><td>since I was unemployed and studying for the MCAT after I graduated college. However</td></tr><tr><td>it looks like all I'm waiting for is 70% more in funding by investors and we will be all set.<br/> 568147 added on 11/09/09 > Thank you to all investors. I should be at $11000 by this afternoon. Thanks for being a part of this. This website allows young people with good credit get loans without having to listen to the wrath of the traditional banks... This type of capital is what makes America great.<br/>\"</td></tr><tr><td>American Investor</td></tr><tr><td>Refinance & Conquer</td></tr><tr><td>and I want to get out from underneath the credit industry and start my post-college life off right :-) I have THREE different job offers upon graduation this spring that are between $45K-72K/yr... I'm a soon to be Honors graduate with a double major in Latin American Studies and History from BYU in Provo</td></tr><tr><td>this is NOT going to become a replacement for my current job.  I like my job - this is only being done on the side.<br/>\"</td></tr><tr><td>and the Golden Rule.I love dogs and have a white golden retriever and an Alaskian Malmute. 550031 added on 10/06/09 > In addition</td></tr><tr><td>000 per month</td></tr><tr><td>my APR would jack up to 30%.  This would ruin me for decades to come as I would likely try to do the right thing and pay it all off but I'm also afraid the bankruptcy abyss is where my creditors would drive me to should I not be able to come up with the minimum payments at these usurious interest rates.<br/><br/>I don't want to risk this. I want to do the right thing. <br/><br/>My financial situation:<br/>I am a good candidate for this loan because I want to do the right thing. I work very hard</td></tr><tr><td>honestly</td></tr><tr><td>553xx</td></tr><tr><td>199xx</td></tr><tr><td>we both stand to benefit! You can have peace of mind to know that your investment is sound and you will be helping us out in providing a better lifestyle for our growing family! Thank you again for taking the time to consider funding our loan! Feel free to ask us any questions! We look forward to partnering with you! Take care!!\"</td></tr><tr><td>802xx</td></tr><tr><td>the rent).  John is now \"\"cancer free</td></tr><tr><td>a competition where cars had to drive themselves in Urban environments. - We have a working prototype</td></tr><tr><td>Pay Off Credit Cards</td></tr><tr><td>Consolidating Credit Cards</td></tr><tr><td>shopping. This past year though she has been showing \"\"her age\"\".....   even though she has faithfully been taken care of by a friend that owns a garage...... there is a time to let go</td></tr><tr><td>by December 31 it will be much lower.<br/><br/>The $400 monthly payment is not significant to us.  (Also</td></tr><tr><td>926xx</td></tr><tr><td>whom I hardly ever get to see.  Any remaining will go into my bank account to guarantee even further that I will always have enough to make sure you get paid back.  If you are seeing those 3 delinquencies</td></tr><tr><td>we do consider ourselves lucky.  There are others out there who find themselves in deep by tens and even hundreds of thousands of dollars.  It could have been worse for us â and we both agree that itâs a necessity</td></tr><tr><td>931xx</td></tr><tr><td>The Beginning of the Rest of My Life</td></tr><tr><td>I am unable to go into more detail about the business to anyone who is not under our Non-Disclosure Agreement.<br/>\"</td></tr><tr><td>605xx</td></tr><tr><td>160xx</td></tr><tr><td>I will actually make $46000 this year. I am very serious about eliminating these debts</td></tr><tr><td>I have never owned a phone with them and have told them that several times.  I did not know this was on my credit report until last week.  I have had Sprint or Verizon for the last 10 years</td></tr><tr><td>Debt Consolidation</td></tr><tr><td>981xx</td></tr><tr><td>and Child Health Corporation of America that has helped me relate to underemployed corporate executives that want to change their lives and work for themselves. If for some reason I were to fail at this business</td></tr><tr><td>wedding</td></tr><tr><td>null</td></tr><tr><td>the one thing I swore to myself was that I was going to be financially stable for my kids. I wanted them to grow up without worrying about money as I did. Not that my kids are old enough to worry about that now but if this continues I know I will fail.  Whether or not you contribute to my loan request thank you for taking the time to read my note.       \"</td></tr><tr><td>we have never had any issues with paying our debts. Thanks.<br/>\"</td></tr><tr><td>but we'd rather save that money in case we have emergencies in the future.<br/><br/>As far as our financial situation</td></tr><tr><td>employed with the Court and lived at the same address for 18 years</td></tr><tr><td>I'm making an upward move in my workplace and I'm finding new life in an old place.\"</td></tr><tr><td>educational</td></tr><tr><td>A Better Type Of Borrower</td></tr><tr><td>Blessings</td></tr><tr><td>100xx</td></tr><tr><td>and help expand the business. The current business climate is also improving</td></tr><tr><td>000 -- all of which will be invested in Lending Club loans.  I have no other debt</td></tr><tr><td>Debt Consolodation from Home Remodel</td></tr><tr><td>respectively</td></tr><tr><td>919xx</td></tr><tr><td>and have a strong focus on eliminating debt and maxing out my 401(k)/IRA contributions to help increase my liquid net worth by reducing my overall tax burden. Feel free to ask any questions!\"</td></tr><tr><td>and we're not expecting any issues; all we have to do is wait til closing.<br/><br/>My wife and my finances are seperate</td></tr><tr><td>307xx</td></tr><tr><td>I ALWAYS pay my bills on time and usually early. I have a great credit score (over 720)</td></tr><tr><td>getting straight</td></tr><tr><td>101xx</td></tr><tr><td>922xx</td></tr><tr><td>wholesale and event catering.   Along these lines we've decided that the business is in need of a larger truck and I will be purchasing one within a few weeks. I will be trading an existing truck (Citizens Loan $8600) for a larger truck at approximately the same price.   My goal is to eliminate high interest debt from three revolving accounts</td></tr><tr><td>Home Improvements</td></tr><tr><td>debts</td></tr><tr><td>other</td></tr><tr><td>regulations</td></tr><tr><td>that I can take control of my finances.  I will appreciate any assistance that is offered and will take the obligation very seriously.  Thank you!\"</td></tr><tr><td>112xx</td></tr><tr><td>and I'll also be happy to share news of my academic performance so you can see you're not throwing the money away on some loser. Maybe we could even turn this from just an investment into a friendship. By funding this loan</td></tr><tr><td>well paying job</td></tr><tr><td>I opened up Card #2 and transferred the balance--but eventually charged Card #1 right back up.  So here I am</td></tr><tr><td>000 to $32</td></tr><tr><td>Justin's Loan</td></tr><tr><td>gifts</td></tr><tr><td>hosting business recruiting seminars</td></tr><tr><td>but I have learned my lesson about them. Likewise</td></tr><tr><td>631xx</td></tr><tr><td>949xx</td></tr><tr><td>these expenses were incurred from surgery that my daughter had. The first surgery was covered under health insurance. The second surgery was required around the time we lost our insurance plan and state assistance was denied. Anyone that has had surgery has seen what the costs could be. My parents have helped me pay off some of this expense. If you are curious about how much</td></tr><tr><td>078xx</td></tr><tr><td>000.00 annually.   I have never been late on ANY bill</td></tr><tr><td>Jumping Off The CREDIT Swing Feet First!</td></tr><tr><td>I refuse to pay higher interest!</td></tr><tr><td>guiding</td></tr><tr><td>Get our of debt</td></tr><tr><td>Professional</td></tr><tr><td>used car purchase</td></tr><tr><td>Discover Payoff</td></tr><tr><td>489xx</td></tr><tr><td>210xx</td></tr><tr><td>they've only gotten rarer and more expensive. I found one locally after much scouring the classifieds</td></tr><tr><td>Faster</td></tr><tr><td>760xx</td></tr><tr><td>and businessman</td></tr><tr><td>April 2009 I moved into my first apartment ( no boyfriend</td></tr><tr><td>925xx</td></tr><tr><td>Individual School sites and School District contracts (5 contracts have already been negotiated) and online advertising from .EDU based learning programs (i.e SAT prep courses</td></tr><tr><td>935xx</td></tr><tr><td>Not so new car</td></tr><tr><td>921xx</td></tr><tr><td>Tax Loan</td></tr><tr><td>I've taken on the roll of supporting these boys financially</td></tr><tr><td>198xx</td></tr><tr><td>but I think because I'm never late</td></tr><tr><td>credit_card</td></tr><tr><td>is approximately $1146/mo. New inventory consumes the remainder of our monthly income -10% for our rainy day fund. <br/><br/>Thank you for reading my posting.<br/>\"</td></tr><tr><td>but I usually pay these off every month - and I have an account just opened with a balance of $2100 that is 6 months same as cash (a new furniture purchase) that I will pay off in the 6 month period so I did not want to include this in the consolidation since it was 0% interest.<br/><br/>I usually pay all household bills with my income - mortgage</td></tr><tr><td>000+) currently manages the rent and most household expenditures so I may payoff our debt. Car expenses: $500  Utilities: $150 Phone</td></tr><tr><td>IA</td></tr><tr><td>328xx</td></tr><tr><td>Student Loan Needed</td></tr><tr><td>080xx</td></tr><tr><td>to get to the next series of contracts. And that is the reason for this request.   It was as a result of a TV news story that I have decided to try this</td></tr><tr><td>Engagement Ring Loan</td></tr><tr><td>928xx</td></tr><tr><td>I want a home for myself and my Chihuahua (Puck).  He (Puck) is 10 pounds of joy.  Before I got him a year ago</td></tr><tr><td>324xx</td></tr><tr><td>Friday the 13th Part VII: The New Blood (1988). The movies director and production coordinator are moving this straight to DVD & Blu-Ray as to open the market right up for the viewers. The movie will be produced by late 2009 and seeing income as soon as October. As for myself I am a very responsible person and will stake my name on this project</td></tr><tr><td>975xx</td></tr><tr><td>I found an unique class asset</td></tr><tr><td>and I believe in honesty and integrity in my business.  I will honor your investment in this business.\"</td></tr><tr><td>and face a better financial and emotional future with your help.   Thank you in advance</td></tr><tr><td>980xx</td></tr><tr><td>which I will dismantel and carry with me to India in my carry on luggage.   These routes are very profitable whereas I earn on average $1200.00 per day while they are active. In most cases</td></tr><tr><td>Private school tuition payment</td></tr><tr><td>152xx</td></tr><tr><td>Consolidate & Accelerate</td></tr><tr><td>became a certified teacher</td></tr><tr><td>500 per car sale. This is worth it even if I just sold 2 or 3 a month.  I need this loan to give me a very much needed boost to start investing in this type of business. <br/>My plan</td></tr><tr><td>Home Improvement to make Home Green (Energy Efficient)</td></tr><tr><td>296xx</td></tr><tr><td>941xx</td></tr><tr><td>but not to my satisfaction and only for the next 6 months. I need your help in getting a better grip on this situation. What can you do for me???\"</td></tr><tr><td>bridge loan for successful marketing consultancy</td></tr><tr><td>double sided body and fashion tape</td></tr><tr><td>I'd like to repair and restore in smaller steps. This is the first step</td></tr><tr><td><br/>I'M LITERATE</td></tr><tr><td>as you can see</td></tr><tr><td>RE Investment Property at 62% of Value</td></tr><tr><td>we teach our incoming Freshmen an acronym that embodies the qualities we would like to see them embody while as student and as they move into the \"\"real world.\"\"  RACER stands for Respect</td></tr><tr><td>etc.\"</td></tr><tr><td>024xx</td></tr><tr><td>or paid off all of our credit card debt. This Loan would finish it off completely! We pay all of our debts on time.  We live up to the obligations we create!  I live in Wisconsin with my wife Tiffaney and 4 daughters Lauren</td></tr><tr><td>750xx</td></tr><tr><td>Consolidation loan</td></tr><tr><td>we would like to offer a differente dinning experience.Set up tables with white table cloth and candle light/soft music and a server taking the order would be offered once a week or week end or every evening. This second service will give to Bandera residents/vacationers and daily visitor a special way of dinning. There is nowhere in Bandera to have a nice dinning experience! The Greek Tavern would feature 2 restaurants in one!More information coming up....and thank you for believing in The Greek Tavern</td></tr><tr><td>Break  The Rates</td></tr><tr><td>816xx</td></tr><tr><td>173xx</td></tr><tr><td>**Pay off 3 to 10 yr old CC debt in 3yrs for the same pymt-I NEVER PAY LATE**</td></tr><tr><td>I will not have to resort to using credit cards and will be able to pay any bills in full should an emergency arise.<br/><br/>Thank You for your time<br/>\"</td></tr><tr><td>107xx</td></tr><tr><td>equal time. <br/><br/>Sorry this is so long</td></tr><tr><td>and have never had any other type of loan.\"</td></tr><tr><td>personal/business</td></tr><tr><td>etc.  We will cancel all credit cards to ensure that we do not charge for unnecessary reasons</td></tr><tr><td>Boat Loan</td></tr><tr><td>American women use 12 personal care products daily. Seventy-nine percent apply a makeup product at least 22.3 times during an average week. An estimated<br/>90% of girls age 14 and older regularly use cosmetics.<br/> Borrower added on 03/28/10 > Business is good</td></tr><tr><td>To heck with Credit Cards - you get my interest!</td></tr><tr><td>and assisting us with our goal.\"</td></tr><tr><td>internet: $ 250    Food</td></tr><tr><td>Debt Consolidation Initiative</td></tr><tr><td>insurance</td></tr><tr><td>Moving up & up</td></tr><tr><td>871xx</td></tr><tr><td>without using this loan money for that.  And the Lowes and Best Buy are very far off from the pay off dates</td></tr><tr><td>600xx</td></tr><tr><td>000</td></tr><tr><td>roof</td></tr><tr><td>High Interest Rate</td></tr><tr><td>car</td></tr><tr><td>013xx</td></tr><tr><td>profit sharing & a generous annual holiday bonus. I bring home $2</td></tr><tr><td>major_purchase</td></tr><tr><td>so unexpected/ill planned expenses got the best of me due to me being too lazy to keep track of my spending register.\"</td></tr><tr><td>as anything less would be of no use and would be declined. Fingers crossed to get over this hurdle......Thank you again</td></tr><tr><td>500.   \"</td></tr><tr><td>medical</td></tr><tr><td>if I am ever truly going to see a light at the end of the tunnel I think it would be a better option for me to be able to pay everything immediately and make 1 monthly payment.    Thank you for your time and consideration  \"</td></tr><tr><td>015xx</td></tr><tr><td>this does not interfere with my primary source of income due to the second job only allowing me to schedule on days that I have off. My monthly expenses will be substantially lower due to my increase in pay. My monthly rent is extremely low.\"\"\"</td></tr><tr><td>I think you'd have to live on the other side of the moon to not know how depressingly weak the U.S. dollar is</td></tr><tr><td>000 in assets.    The assets from the divorce will be used to settle all debts.  Remaining proceeds would start a retirement fund</td></tr><tr><td>I will let this loan fund as my last resort.<br/><br/>My financial situation:<br/><br/>Non-liquid assets:<br/>    * condo/primary residence: $142000 purchase price / $67000 remaining mortgage balance<br/>    * condo/investment property: $115000 purchase price / $60000 remaining mortgage balance<br/>    * parking space rights: $25000 / cash purchase (i.e. not encumbered by mortgage)<br/>    * stocks portfolio: $20000<br/>    * other non-liquid assets: $120000 (lent some of that to a relative who is in the process of purchasing a condo -- for cash</td></tr><tr><td>Consolidation Loan</td></tr><tr><td>home_improvement</td></tr><tr><td>327xx</td></tr><tr><td>and anyone this time who may do so under as a new investor. I sincerely appreciate this opportunity. For those unfamiliar with my goals and mindset</td></tr><tr><td>031xx</td></tr><tr><td>it's already been closed</td></tr><tr><td>I've been given a great opportunity to continue my schooling and not everyone gets that chance.  Still</td></tr><tr><td>761xx</td></tr><tr><td>making around $35</td></tr><tr><td>I'm looking to get $25</td></tr><tr><td>HOA</td></tr><tr><td>CBR1000</td></tr><tr><td>not paid for by financial aid and scholarships. Having all my bills consolidated into one monthly payment will help me pay them off faster and allow me to add to my savings for school.  Expenses are: $600 mortgage (my brother left me his house) utilities/gas/ electric $400.00 - CC $100.00 ( I apply more than minimum due). I due have a small savings</td></tr><tr><td>and Expense Reimbursements for non W2 income have been submitted.<br/>\"</td></tr><tr><td>and then as a consultant for two. So I do have a stable employment history.  Please feel free to ask any questions you may have. Thank you for your consideration and support.\"</td></tr><tr><td>827xx</td></tr><tr><td>Bridge Loan</td></tr></tbody></table></div>"
      ]
     },
     "metadata": {
      "application/vnd.databricks.v1+output": {
       "addedWidgets": {},
       "aggData": [],
       "aggError": "",
       "aggOverflow": false,
       "aggSchema": [],
       "aggSeriesLimitReached": false,
       "aggType": "",
       "arguments": {},
       "columnCustomDisplayInfos": {},
       "data": [
        [
         "SC"
        ],
        [
         "AZ"
        ],
        [
         "LA"
        ],
        [
         "MN"
        ],
        [
         "NJ"
        ],
        [
         "DC"
        ],
        [
         "OR"
        ],
        [
         "VA"
        ],
        [
         "RI"
        ],
        [
         "WY"
        ],
        [
         "KY"
        ],
        [
         "NH"
        ],
        [
         "MI"
        ],
        [
         "NV"
        ],
        [
         "WI"
        ],
        [
         "ID"
        ],
        [
         "CA"
        ],
        [
         "NE"
        ],
        [
         "CT"
        ],
        [
         "MT"
        ],
        [
         "NC"
        ],
        [
         "VT"
        ],
        [
         "MD"
        ],
        [
         "DE"
        ],
        [
         "MO"
        ],
        [
         "IL"
        ],
        [
         "ME"
        ],
        [
         "WA"
        ],
        [
         "ND"
        ],
        [
         "MS"
        ],
        [
         "AL"
        ],
        [
         "IN"
        ],
        [
         "OH"
        ],
        [
         "TN"
        ],
        [
         "NM"
        ],
        [
         "PA"
        ],
        [
         "SD"
        ],
        [
         "NY"
        ],
        [
         "TX"
        ],
        [
         "WV"
        ],
        [
         "GA"
        ],
        [
         "MA"
        ],
        [
         "KS"
        ],
        [
         "FL"
        ],
        [
         "CO"
        ],
        [
         "AK"
        ],
        [
         "AR"
        ],
        [
         "OK"
        ],
        [
         "UT"
        ],
        [
         "HI"
        ],
        [
         "debt_consolidation"
        ],
        [
         "Helping Kenya's Deaf Children"
        ],
        [
         "223xx"
        ],
        [
         "175 (total projected payments)<br/><br/>Interest rate: Variable"
        ],
        [
         "so Plan \"\"C\"\" is to use a convenience check from that credit card"
        ],
        [
         "I am 56 yrs. old and to date have not left a single bill unpaid. I will not let this one ruin that record.   Thank You for your consideration"
        ],
        [
         "financially I made a few errors in judgment.      Since then I have been doing everything I can to improve my financial situation: I got a very good job at the University of California"
        ],
        [
         "but no one will lend me money because"
        ],
        [
         "etc.  First"
        ],
        [
         "499xx"
        ],
        [
         "yet Capital One never removed the derogatory marks from my credit report. <br><br> I have been an independent freelance safety consultant since 2008 and business is very stable. This also  affords me the ability to be a good borrower and pay back this loan effectively and on time. Borrower added on 08/08/11 > I would like to use the funds to payoff credit card debt at a lower rate than currently being offered by my credit card lenders. Although I have asked"
        ],
        [
         "850xx"
        ],
        [
         "Advocate business expansion"
        ],
        [
         "and MBA's are overrated.  So I'm pretty liquid.  Even my wife's diamond ring is paid in full"
        ],
        [
         "Eliminating Credit Card Debt"
        ],
        [
         "951xx"
        ],
        [
         "662xx"
        ],
        [
         "I the credit card debt is not how I want to remember the trip!   My financial situation: I have a great job working as a computer trainer for one of the largest hospital systems in the US. As you can see from my credit history"
        ],
        [
         "only to find out that all the insurance premiums I pay do absolutely nothing  to help me when I need it.  I also have narcolepsy and cataplexy which requires medication in order to maintain the level of seratonin necessary to get through my day.  The medications needed for this condition are very expensive and there are constant stressors from insurance there as well.  I am able to cover the meds that are not covered by the deductible/copay but I am just not able to prepared myself for something of this magnitude.  I think that this is a fantastic program for lending and someday when I am in a better place financially"
        ],
        [
         "more personable pastures.  I never make late payments and my income is steady and secure with a software company that is still growing - this investment is about as secure as they come. 565220 added on 10/29/09 > In regards to credit report"
        ],
        [
         "594xx"
        ],
        [
         "Need funding for start up consulting biz"
        ],
        [
         "but I would like to help lower and eliminate these listed below"
        ],
        [
         "Loan To Eliminate Credit Card Debt"
        ],
        [
         "since I was unemployed and studying for the MCAT after I graduated college. However"
        ],
        [
         "it looks like all I'm waiting for is 70% more in funding by investors and we will be all set.<br/> 568147 added on 11/09/09 > Thank you to all investors. I should be at $11000 by this afternoon. Thanks for being a part of this. This website allows young people with good credit get loans without having to listen to the wrath of the traditional banks... This type of capital is what makes America great.<br/>\""
        ],
        [
         "American Investor"
        ],
        [
         "Refinance & Conquer"
        ],
        [
         "and I want to get out from underneath the credit industry and start my post-college life off right :-) I have THREE different job offers upon graduation this spring that are between $45K-72K/yr... I'm a soon to be Honors graduate with a double major in Latin American Studies and History from BYU in Provo"
        ],
        [
         "this is NOT going to become a replacement for my current job.  I like my job - this is only being done on the side.<br/>\""
        ],
        [
         "and the Golden Rule.I love dogs and have a white golden retriever and an Alaskian Malmute. 550031 added on 10/06/09 > In addition"
        ],
        [
         "000 per month"
        ],
        [
         "my APR would jack up to 30%.  This would ruin me for decades to come as I would likely try to do the right thing and pay it all off but I'm also afraid the bankruptcy abyss is where my creditors would drive me to should I not be able to come up with the minimum payments at these usurious interest rates.<br/><br/>I don't want to risk this. I want to do the right thing. <br/><br/>My financial situation:<br/>I am a good candidate for this loan because I want to do the right thing. I work very hard"
        ],
        [
         "honestly"
        ],
        [
         "553xx"
        ],
        [
         "199xx"
        ],
        [
         "we both stand to benefit! You can have peace of mind to know that your investment is sound and you will be helping us out in providing a better lifestyle for our growing family! Thank you again for taking the time to consider funding our loan! Feel free to ask us any questions! We look forward to partnering with you! Take care!!\""
        ],
        [
         "802xx"
        ],
        [
         "the rent).  John is now \"\"cancer free"
        ],
        [
         "a competition where cars had to drive themselves in Urban environments. - We have a working prototype"
        ],
        [
         "Pay Off Credit Cards"
        ],
        [
         "Consolidating Credit Cards"
        ],
        [
         "shopping. This past year though she has been showing \"\"her age\"\".....   even though she has faithfully been taken care of by a friend that owns a garage...... there is a time to let go"
        ],
        [
         "by December 31 it will be much lower.<br/><br/>The $400 monthly payment is not significant to us.  (Also"
        ],
        [
         "926xx"
        ],
        [
         "whom I hardly ever get to see.  Any remaining will go into my bank account to guarantee even further that I will always have enough to make sure you get paid back.  If you are seeing those 3 delinquencies"
        ],
        [
         "we do consider ourselves lucky.  There are others out there who find themselves in deep by tens and even hundreds of thousands of dollars.  It could have been worse for us â and we both agree that itâs a necessity"
        ],
        [
         "931xx"
        ],
        [
         "The Beginning of the Rest of My Life"
        ],
        [
         "I am unable to go into more detail about the business to anyone who is not under our Non-Disclosure Agreement.<br/>\""
        ],
        [
         "605xx"
        ],
        [
         "160xx"
        ],
        [
         "I will actually make $46000 this year. I am very serious about eliminating these debts"
        ],
        [
         "I have never owned a phone with them and have told them that several times.  I did not know this was on my credit report until last week.  I have had Sprint or Verizon for the last 10 years"
        ],
        [
         "Debt Consolidation"
        ],
        [
         "981xx"
        ],
        [
         "and Child Health Corporation of America that has helped me relate to underemployed corporate executives that want to change their lives and work for themselves. If for some reason I were to fail at this business"
        ],
        [
         "wedding"
        ],
        [
         null
        ],
        [
         "the one thing I swore to myself was that I was going to be financially stable for my kids. I wanted them to grow up without worrying about money as I did. Not that my kids are old enough to worry about that now but if this continues I know I will fail.  Whether or not you contribute to my loan request thank you for taking the time to read my note.       \""
        ],
        [
         "we have never had any issues with paying our debts. Thanks.<br/>\""
        ],
        [
         "but we'd rather save that money in case we have emergencies in the future.<br/><br/>As far as our financial situation"
        ],
        [
         "employed with the Court and lived at the same address for 18 years"
        ],
        [
         "I'm making an upward move in my workplace and I'm finding new life in an old place.\""
        ],
        [
         "educational"
        ],
        [
         "A Better Type Of Borrower"
        ],
        [
         "Blessings"
        ],
        [
         "100xx"
        ],
        [
         "and help expand the business. The current business climate is also improving"
        ],
        [
         "000 -- all of which will be invested in Lending Club loans.  I have no other debt"
        ],
        [
         "Debt Consolodation from Home Remodel"
        ],
        [
         "respectively"
        ],
        [
         "919xx"
        ],
        [
         "and have a strong focus on eliminating debt and maxing out my 401(k)/IRA contributions to help increase my liquid net worth by reducing my overall tax burden. Feel free to ask any questions!\""
        ],
        [
         "and we're not expecting any issues; all we have to do is wait til closing.<br/><br/>My wife and my finances are seperate"
        ],
        [
         "307xx"
        ],
        [
         "I ALWAYS pay my bills on time and usually early. I have a great credit score (over 720)"
        ],
        [
         "getting straight"
        ],
        [
         "101xx"
        ],
        [
         "922xx"
        ],
        [
         "wholesale and event catering.   Along these lines we've decided that the business is in need of a larger truck and I will be purchasing one within a few weeks. I will be trading an existing truck (Citizens Loan $8600) for a larger truck at approximately the same price.   My goal is to eliminate high interest debt from three revolving accounts"
        ],
        [
         "Home Improvements"
        ],
        [
         "debts"
        ],
        [
         "other"
        ],
        [
         "regulations"
        ],
        [
         "that I can take control of my finances.  I will appreciate any assistance that is offered and will take the obligation very seriously.  Thank you!\""
        ],
        [
         "112xx"
        ],
        [
         "and I'll also be happy to share news of my academic performance so you can see you're not throwing the money away on some loser. Maybe we could even turn this from just an investment into a friendship. By funding this loan"
        ],
        [
         "well paying job"
        ],
        [
         "I opened up Card #2 and transferred the balance--but eventually charged Card #1 right back up.  So here I am"
        ],
        [
         "000 to $32"
        ],
        [
         "Justin's Loan"
        ],
        [
         "gifts"
        ],
        [
         "hosting business recruiting seminars"
        ],
        [
         "but I have learned my lesson about them. Likewise"
        ],
        [
         "631xx"
        ],
        [
         "949xx"
        ],
        [
         "these expenses were incurred from surgery that my daughter had. The first surgery was covered under health insurance. The second surgery was required around the time we lost our insurance plan and state assistance was denied. Anyone that has had surgery has seen what the costs could be. My parents have helped me pay off some of this expense. If you are curious about how much"
        ],
        [
         "078xx"
        ],
        [
         "000.00 annually.   I have never been late on ANY bill"
        ],
        [
         "Jumping Off The CREDIT Swing Feet First!"
        ],
        [
         "I refuse to pay higher interest!"
        ],
        [
         "guiding"
        ],
        [
         "Get our of debt"
        ],
        [
         "Professional"
        ],
        [
         "used car purchase"
        ],
        [
         "Discover Payoff"
        ],
        [
         "489xx"
        ],
        [
         "210xx"
        ],
        [
         "they've only gotten rarer and more expensive. I found one locally after much scouring the classifieds"
        ],
        [
         "Faster"
        ],
        [
         "760xx"
        ],
        [
         "and businessman"
        ],
        [
         "April 2009 I moved into my first apartment ( no boyfriend"
        ],
        [
         "925xx"
        ],
        [
         "Individual School sites and School District contracts (5 contracts have already been negotiated) and online advertising from .EDU based learning programs (i.e SAT prep courses"
        ],
        [
         "935xx"
        ],
        [
         "Not so new car"
        ],
        [
         "921xx"
        ],
        [
         "Tax Loan"
        ],
        [
         "I've taken on the roll of supporting these boys financially"
        ],
        [
         "198xx"
        ],
        [
         "but I think because I'm never late"
        ],
        [
         "credit_card"
        ],
        [
         "is approximately $1146/mo. New inventory consumes the remainder of our monthly income -10% for our rainy day fund. <br/><br/>Thank you for reading my posting.<br/>\""
        ],
        [
         "but I usually pay these off every month - and I have an account just opened with a balance of $2100 that is 6 months same as cash (a new furniture purchase) that I will pay off in the 6 month period so I did not want to include this in the consolidation since it was 0% interest.<br/><br/>I usually pay all household bills with my income - mortgage"
        ],
        [
         "000+) currently manages the rent and most household expenditures so I may payoff our debt. Car expenses: $500  Utilities: $150 Phone"
        ],
        [
         "IA"
        ],
        [
         "328xx"
        ],
        [
         "Student Loan Needed"
        ],
        [
         "080xx"
        ],
        [
         "to get to the next series of contracts. And that is the reason for this request.   It was as a result of a TV news story that I have decided to try this"
        ],
        [
         "Engagement Ring Loan"
        ],
        [
         "928xx"
        ],
        [
         "I want a home for myself and my Chihuahua (Puck).  He (Puck) is 10 pounds of joy.  Before I got him a year ago"
        ],
        [
         "324xx"
        ],
        [
         "Friday the 13th Part VII: The New Blood (1988). The movies director and production coordinator are moving this straight to DVD & Blu-Ray as to open the market right up for the viewers. The movie will be produced by late 2009 and seeing income as soon as October. As for myself I am a very responsible person and will stake my name on this project"
        ],
        [
         "975xx"
        ],
        [
         "I found an unique class asset"
        ],
        [
         "and I believe in honesty and integrity in my business.  I will honor your investment in this business.\""
        ],
        [
         "and face a better financial and emotional future with your help.   Thank you in advance"
        ],
        [
         "980xx"
        ],
        [
         "which I will dismantel and carry with me to India in my carry on luggage.   These routes are very profitable whereas I earn on average $1200.00 per day while they are active. In most cases"
        ],
        [
         "Private school tuition payment"
        ],
        [
         "152xx"
        ],
        [
         "Consolidate & Accelerate"
        ],
        [
         "became a certified teacher"
        ],
        [
         "500 per car sale. This is worth it even if I just sold 2 or 3 a month.  I need this loan to give me a very much needed boost to start investing in this type of business. <br/>My plan"
        ],
        [
         "Home Improvement to make Home Green (Energy Efficient)"
        ],
        [
         "296xx"
        ],
        [
         "941xx"
        ],
        [
         "but not to my satisfaction and only for the next 6 months. I need your help in getting a better grip on this situation. What can you do for me???\""
        ],
        [
         "bridge loan for successful marketing consultancy"
        ],
        [
         "double sided body and fashion tape"
        ],
        [
         "I'd like to repair and restore in smaller steps. This is the first step"
        ],
        [
         "<br/>I'M LITERATE"
        ],
        [
         "as you can see"
        ],
        [
         "RE Investment Property at 62% of Value"
        ],
        [
         "we teach our incoming Freshmen an acronym that embodies the qualities we would like to see them embody while as student and as they move into the \"\"real world.\"\"  RACER stands for Respect"
        ],
        [
         "etc.\""
        ],
        [
         "024xx"
        ],
        [
         "or paid off all of our credit card debt. This Loan would finish it off completely! We pay all of our debts on time.  We live up to the obligations we create!  I live in Wisconsin with my wife Tiffaney and 4 daughters Lauren"
        ],
        [
         "750xx"
        ],
        [
         "Consolidation loan"
        ],
        [
         "we would like to offer a differente dinning experience.Set up tables with white table cloth and candle light/soft music and a server taking the order would be offered once a week or week end or every evening. This second service will give to Bandera residents/vacationers and daily visitor a special way of dinning. There is nowhere in Bandera to have a nice dinning experience! The Greek Tavern would feature 2 restaurants in one!More information coming up....and thank you for believing in The Greek Tavern"
        ],
        [
         "Break  The Rates"
        ],
        [
         "816xx"
        ],
        [
         "173xx"
        ],
        [
         "**Pay off 3 to 10 yr old CC debt in 3yrs for the same pymt-I NEVER PAY LATE**"
        ],
        [
         "I will not have to resort to using credit cards and will be able to pay any bills in full should an emergency arise.<br/><br/>Thank You for your time<br/>\""
        ],
        [
         "107xx"
        ],
        [
         "equal time. <br/><br/>Sorry this is so long"
        ],
        [
         "and have never had any other type of loan.\""
        ],
        [
         "personal/business"
        ],
        [
         "etc.  We will cancel all credit cards to ensure that we do not charge for unnecessary reasons"
        ],
        [
         "Boat Loan"
        ],
        [
         "American women use 12 personal care products daily. Seventy-nine percent apply a makeup product at least 22.3 times during an average week. An estimated<br/>90% of girls age 14 and older regularly use cosmetics.<br/> Borrower added on 03/28/10 > Business is good"
        ],
        [
         "To heck with Credit Cards - you get my interest!"
        ],
        [
         "and assisting us with our goal.\""
        ],
        [
         "internet: $ 250    Food"
        ],
        [
         "Debt Consolidation Initiative"
        ],
        [
         "insurance"
        ],
        [
         "Moving up & up"
        ],
        [
         "871xx"
        ],
        [
         "without using this loan money for that.  And the Lowes and Best Buy are very far off from the pay off dates"
        ],
        [
         "600xx"
        ],
        [
         "000"
        ],
        [
         "roof"
        ],
        [
         "High Interest Rate"
        ],
        [
         "car"
        ],
        [
         "013xx"
        ],
        [
         "profit sharing & a generous annual holiday bonus. I bring home $2"
        ],
        [
         "major_purchase"
        ],
        [
         "so unexpected/ill planned expenses got the best of me due to me being too lazy to keep track of my spending register.\""
        ],
        [
         "as anything less would be of no use and would be declined. Fingers crossed to get over this hurdle......Thank you again"
        ],
        [
         "500.   \""
        ],
        [
         "medical"
        ],
        [
         "if I am ever truly going to see a light at the end of the tunnel I think it would be a better option for me to be able to pay everything immediately and make 1 monthly payment.    Thank you for your time and consideration  \""
        ],
        [
         "015xx"
        ],
        [
         "this does not interfere with my primary source of income due to the second job only allowing me to schedule on days that I have off. My monthly expenses will be substantially lower due to my increase in pay. My monthly rent is extremely low.\"\"\""
        ],
        [
         "I think you'd have to live on the other side of the moon to not know how depressingly weak the U.S. dollar is"
        ],
        [
         "000 in assets.    The assets from the divorce will be used to settle all debts.  Remaining proceeds would start a retirement fund"
        ],
        [
         "I will let this loan fund as my last resort.<br/><br/>My financial situation:<br/><br/>Non-liquid assets:<br/>    * condo/primary residence: $142000 purchase price / $67000 remaining mortgage balance<br/>    * condo/investment property: $115000 purchase price / $60000 remaining mortgage balance<br/>    * parking space rights: $25000 / cash purchase (i.e. not encumbered by mortgage)<br/>    * stocks portfolio: $20000<br/>    * other non-liquid assets: $120000 (lent some of that to a relative who is in the process of purchasing a condo -- for cash"
        ],
        [
         "Consolidation Loan"
        ],
        [
         "home_improvement"
        ],
        [
         "327xx"
        ],
        [
         "and anyone this time who may do so under as a new investor. I sincerely appreciate this opportunity. For those unfamiliar with my goals and mindset"
        ],
        [
         "031xx"
        ],
        [
         "it's already been closed"
        ],
        [
         "I've been given a great opportunity to continue my schooling and not everyone gets that chance.  Still"
        ],
        [
         "761xx"
        ],
        [
         "making around $35"
        ],
        [
         "I'm looking to get $25"
        ],
        [
         "HOA"
        ],
        [
         "CBR1000"
        ],
        [
         "not paid for by financial aid and scholarships. Having all my bills consolidated into one monthly payment will help me pay them off faster and allow me to add to my savings for school.  Expenses are: $600 mortgage (my brother left me his house) utilities/gas/ electric $400.00 - CC $100.00 ( I apply more than minimum due). I due have a small savings"
        ],
        [
         "and Expense Reimbursements for non W2 income have been submitted.<br/>\""
        ],
        [
         "and then as a consultant for two. So I do have a stable employment history.  Please feel free to ask any questions you may have. Thank you for your consideration and support.\""
        ],
        [
         "827xx"
        ],
        [
         "Bridge Loan"
        ]
       ],
       "datasetInfos": [],
       "dbfsResultPath": null,
       "isJsonSchema": true,
       "metadata": {},
       "overflow": false,
       "plotOptions": {
        "customPlotOptions": {},
        "displayType": "table",
        "pivotAggregation": null,
        "pivotColumns": null,
        "xColumns": null,
        "yColumns": null
       },
       "removedWidgets": [],
       "schema": [
        {
         "metadata": "{}",
         "name": "address_state",
         "type": "\"string\""
        }
       ],
       "type": "table"
      }
     },
     "output_type": "display_data"
    }
   ],
   "source": [
    "display(spark.sql(\"select distinct(address_state) from customers\"))"
   ]
  },
  {
   "cell_type": "code",
   "execution_count": 0,
   "metadata": {
    "application/vnd.databricks.v1+cell": {
     "cellMetadata": {
      "byteLimit": 2048000,
      "rowLimit": 10000
     },
     "inputWidgets": {},
     "nuid": "51edc5b6-93e6-4e26-8159-f9ffe9861b25",
     "showTitle": false,
     "tableResultSettingsMap": {},
     "title": ""
    }
   },
   "outputs": [
    {
     "output_type": "display_data",
     "data": {
      "text/html": [
       "<style scoped>\n",
       "  .table-result-container {\n",
       "    max-height: 300px;\n",
       "    overflow: auto;\n",
       "  }\n",
       "  table, th, td {\n",
       "    border: 1px solid black;\n",
       "    border-collapse: collapse;\n",
       "  }\n",
       "  th, td {\n",
       "    padding: 5px;\n",
       "  }\n",
       "  th {\n",
       "    text-align: left;\n",
       "  }\n",
       "</style><div class='table-result-container'><table class='table-result'><thead style='background-color: white'><tr><th>count(address_state)</th></tr></thead><tbody><tr><td>254</td></tr></tbody></table></div>"
      ]
     },
     "metadata": {
      "application/vnd.databricks.v1+output": {
       "addedWidgets": {},
       "aggData": [],
       "aggError": "",
       "aggOverflow": false,
       "aggSchema": [],
       "aggSeriesLimitReached": false,
       "aggType": "",
       "arguments": {},
       "columnCustomDisplayInfos": {},
       "data": [
        [
         254
        ]
       ],
       "datasetInfos": [],
       "dbfsResultPath": null,
       "isJsonSchema": true,
       "metadata": {},
       "overflow": false,
       "plotOptions": {
        "customPlotOptions": {},
        "displayType": "table",
        "pivotAggregation": null,
        "pivotColumns": null,
        "xColumns": null,
        "yColumns": null
       },
       "removedWidgets": [],
       "schema": [
        {
         "metadata": "{\"__autoGeneratedAlias\":\"true\"}",
         "name": "count(address_state)",
         "type": "\"long\""
        }
       ],
       "type": "table"
      }
     },
     "output_type": "display_data"
    }
   ],
   "source": [
    "display(spark.sql(\"select count(address_state) from customers where length(address_state)>2\"))"
   ]
  },
  {
   "cell_type": "code",
   "execution_count": 0,
   "metadata": {
    "application/vnd.databricks.v1+cell": {
     "cellMetadata": {
      "byteLimit": 2048000,
      "rowLimit": 10000
     },
     "inputWidgets": {},
     "nuid": "cc494a9f-e768-4f4e-918b-08a615675a11",
     "showTitle": false,
     "tableResultSettingsMap": {},
     "title": ""
    }
   },
   "outputs": [],
   "source": [
    "from pyspark.sql.functions import when, col, length"
   ]
  },
  {
   "cell_type": "code",
   "execution_count": 0,
   "metadata": {
    "application/vnd.databricks.v1+cell": {
     "cellMetadata": {
      "byteLimit": 2048000,
      "rowLimit": 10000
     },
     "inputWidgets": {},
     "nuid": "629a4675-69f0-4b01-a321-cb8c88b5584a",
     "showTitle": false,
     "tableResultSettingsMap": {},
     "title": ""
    }
   },
   "outputs": [],
   "source": [
    "customers_state_cleaned = customers_emplength_replaced.withColumn(\n",
    "    \"address_state\",\n",
    "    when(length(col(\"address_state\"))> 2, \"NA\").otherwise(col(\"address_state\"))\n",
    ")"
   ]
  },
  {
   "cell_type": "code",
   "execution_count": 0,
   "metadata": {
    "application/vnd.databricks.v1+cell": {
     "cellMetadata": {
      "byteLimit": 2048000,
      "rowLimit": 10000
     },
     "inputWidgets": {},
     "nuid": "ee5ab127-f0aa-4de0-9480-6a2817a9ac53",
     "showTitle": false,
     "tableResultSettingsMap": {},
     "title": ""
    }
   },
   "outputs": [
    {
     "output_type": "display_data",
     "data": {
      "text/html": [
       "<style scoped>\n",
       "  .table-result-container {\n",
       "    max-height: 300px;\n",
       "    overflow: auto;\n",
       "  }\n",
       "  table, th, td {\n",
       "    border: 1px solid black;\n",
       "    border-collapse: collapse;\n",
       "  }\n",
       "  th, td {\n",
       "    padding: 5px;\n",
       "  }\n",
       "  th {\n",
       "    text-align: left;\n",
       "  }\n",
       "</style><div class='table-result-container'><table class='table-result'><thead style='background-color: white'><tr><th>member_id</th><th>emp_title</th><th>emp_length</th><th>home_ownership</th><th>annual_income</th><th>address_state</th><th>address_zipcode</th><th>address_country</th><th>grade</th><th>sub_grade</th><th>verification_status</th><th>tot_hi_cred_lim</th><th>application_type</th><th>join_annual_income</th><th>verification_status_joint</th><th>ingest_date</th></tr></thead><tbody><tr><td>8aef4bb29d609d8d684fd709af965bd690fc9ef3a2691777f38e0c10d622fe97</td><td>Veterinary Tecnician</td><td>4</td><td>RENT</td><td>34000.0</td><td>GA</td><td>300xx</td><td>USA</td><td>C</td><td>C3</td><td>Source Verified</td><td>16900.0</td><td>Individual</td><td>null</td><td>null</td><td>2025-08-15T04:37:13.584556Z</td></tr><tr><td>f74e401c1ab0adf788a7279dd70a27459fcc47733d35eed71149ff371d2a7283</td><td>Contract Specialist</td><td>3</td><td>MORTGAGE</td><td>104433.0</td><td>PA</td><td>174xx</td><td>USA</td><td>F</td><td>F1</td><td>Source Verified</td><td>439570.0</td><td>Individual</td><td>null</td><td>null</td><td>2025-08-15T04:37:13.584556Z</td></tr><tr><td>b5e7938b0a2da4ceaa75ea2e3c111d1e33ca0f944f954b6d65671ef395d21713</td><td>Engineer</td><td>10</td><td>MORTGAGE</td><td>65000.0</td><td>SD</td><td>577xx</td><td>USA</td><td>C</td><td>C1</td><td>Not Verified</td><td>314017.0</td><td>Individual</td><td>null</td><td>null</td><td>2025-08-15T04:37:13.584556Z</td></tr><tr><td>1035c5401b0ca76d02c334b813302a9b72825e70b1659e8bc8ce5eea6c5d1f52</td><td>SERVICE MANAGER</td><td>6</td><td>RENT</td><td>85000.0</td><td>PA</td><td>160xx</td><td>USA</td><td>A</td><td>A2</td><td>Not Verified</td><td>61099.0</td><td>Individual</td><td>null</td><td>null</td><td>2025-08-15T04:37:13.584556Z</td></tr><tr><td>b24d55f21390533c512f78f822153dc247e984dcd0cfe031c341ccef1c689817</td><td>road driver</td><td>10</td><td>MORTGAGE</td><td>85000.0</td><td>SC</td><td>293xx</td><td>USA</td><td>B</td><td>B1</td><td>Not Verified</td><td>193390.0</td><td>Individual</td><td>null</td><td>null</td><td>2025-08-15T04:37:13.584556Z</td></tr><tr><td>6d5091b3fcaaeb4eac37445042b6b79e8b21f16943b9c32c4f5dd74dcb0f2210</td><td>leadman</td><td>10</td><td>MORTGAGE</td><td>55000.0</td><td>PA</td><td>190xx</td><td>USA</td><td>C</td><td>C4</td><td>Not Verified</td><td>178050.0</td><td>Individual</td><td>null</td><td>null</td><td>2025-08-15T04:37:13.584556Z</td></tr><tr><td>538b4653da3b1e8142b50baacf97a57b721eb6ec565f5fb63a1b71d191e9e934</td><td>Vice President of Recruiting Operations</td><td>10</td><td>MORTGAGE</td><td>180000.0</td><td>MN</td><td>550xx</td><td>USA</td><td>B</td><td>B2</td><td>Not Verified</td><td>388852.0</td><td>Individual</td><td>null</td><td>null</td><td>2025-08-15T04:37:13.584556Z</td></tr><tr><td>cab1fa9f533688b0aab7c6be7b6256d15ad1dd5f3c4ca061a49cfeb26901977d</td><td>Information Systems Officer</td><td>10</td><td>MORTGAGE</td><td>110000.0</td><td>NJ</td><td>076xx</td><td>USA</td><td>C</td><td>C5</td><td>Source Verified</td><td>381215.0</td><td>Individual</td><td>null</td><td>null</td><td>2025-08-15T04:37:13.584556Z</td></tr><tr><td>cb0f1777593e77909d0d359a6d9e633f28568500e17806f815395c92f0cd375d</td><td>Vendor liaison</td><td>10</td><td>MORTGAGE</td><td>42000.0</td><td>RI</td><td>029xx</td><td>USA</td><td>B</td><td>B5</td><td>Not Verified</td><td>256513.0</td><td>Individual</td><td>null</td><td>null</td><td>2025-08-15T04:37:13.584556Z</td></tr><tr><td>91060b858433e8a6107be9b76b324e304b5802631fc081b449188fe4b4e32205</td><td>truck driver</td><td>10</td><td>MORTGAGE</td><td>63000.0</td><td>IL</td><td>605xx</td><td>USA</td><td>B</td><td>B4</td><td>Not Verified</td><td>218418.0</td><td>Joint App</td><td>71000.0</td><td>Not Verified</td><td>2025-08-15T04:37:13.584556Z</td></tr></tbody></table></div>"
      ]
     },
     "metadata": {
      "application/vnd.databricks.v1+output": {
       "addedWidgets": {},
       "aggData": [],
       "aggError": "",
       "aggOverflow": false,
       "aggSchema": [],
       "aggSeriesLimitReached": false,
       "aggType": "",
       "arguments": {},
       "columnCustomDisplayInfos": {},
       "data": [
        [
         "8aef4bb29d609d8d684fd709af965bd690fc9ef3a2691777f38e0c10d622fe97",
         "Veterinary Tecnician",
         4,
         "RENT",
         34000.0,
         "GA",
         "300xx",
         "USA",
         "C",
         "C3",
         "Source Verified",
         16900.0,
         "Individual",
         null,
         null,
         "2025-08-15T04:37:13.584556Z"
        ],
        [
         "f74e401c1ab0adf788a7279dd70a27459fcc47733d35eed71149ff371d2a7283",
         "Contract Specialist",
         3,
         "MORTGAGE",
         104433.0,
         "PA",
         "174xx",
         "USA",
         "F",
         "F1",
         "Source Verified",
         439570.0,
         "Individual",
         null,
         null,
         "2025-08-15T04:37:13.584556Z"
        ],
        [
         "b5e7938b0a2da4ceaa75ea2e3c111d1e33ca0f944f954b6d65671ef395d21713",
         "Engineer",
         10,
         "MORTGAGE",
         65000.0,
         "SD",
         "577xx",
         "USA",
         "C",
         "C1",
         "Not Verified",
         314017.0,
         "Individual",
         null,
         null,
         "2025-08-15T04:37:13.584556Z"
        ],
        [
         "1035c5401b0ca76d02c334b813302a9b72825e70b1659e8bc8ce5eea6c5d1f52",
         "SERVICE MANAGER",
         6,
         "RENT",
         85000.0,
         "PA",
         "160xx",
         "USA",
         "A",
         "A2",
         "Not Verified",
         61099.0,
         "Individual",
         null,
         null,
         "2025-08-15T04:37:13.584556Z"
        ],
        [
         "b24d55f21390533c512f78f822153dc247e984dcd0cfe031c341ccef1c689817",
         "road driver",
         10,
         "MORTGAGE",
         85000.0,
         "SC",
         "293xx",
         "USA",
         "B",
         "B1",
         "Not Verified",
         193390.0,
         "Individual",
         null,
         null,
         "2025-08-15T04:37:13.584556Z"
        ],
        [
         "6d5091b3fcaaeb4eac37445042b6b79e8b21f16943b9c32c4f5dd74dcb0f2210",
         "leadman",
         10,
         "MORTGAGE",
         55000.0,
         "PA",
         "190xx",
         "USA",
         "C",
         "C4",
         "Not Verified",
         178050.0,
         "Individual",
         null,
         null,
         "2025-08-15T04:37:13.584556Z"
        ],
        [
         "538b4653da3b1e8142b50baacf97a57b721eb6ec565f5fb63a1b71d191e9e934",
         "Vice President of Recruiting Operations",
         10,
         "MORTGAGE",
         180000.0,
         "MN",
         "550xx",
         "USA",
         "B",
         "B2",
         "Not Verified",
         388852.0,
         "Individual",
         null,
         null,
         "2025-08-15T04:37:13.584556Z"
        ],
        [
         "cab1fa9f533688b0aab7c6be7b6256d15ad1dd5f3c4ca061a49cfeb26901977d",
         "Information Systems Officer",
         10,
         "MORTGAGE",
         110000.0,
         "NJ",
         "076xx",
         "USA",
         "C",
         "C5",
         "Source Verified",
         381215.0,
         "Individual",
         null,
         null,
         "2025-08-15T04:37:13.584556Z"
        ],
        [
         "cb0f1777593e77909d0d359a6d9e633f28568500e17806f815395c92f0cd375d",
         "Vendor liaison",
         10,
         "MORTGAGE",
         42000.0,
         "RI",
         "029xx",
         "USA",
         "B",
         "B5",
         "Not Verified",
         256513.0,
         "Individual",
         null,
         null,
         "2025-08-15T04:37:13.584556Z"
        ],
        [
         "91060b858433e8a6107be9b76b324e304b5802631fc081b449188fe4b4e32205",
         "truck driver",
         10,
         "MORTGAGE",
         63000.0,
         "IL",
         "605xx",
         "USA",
         "B",
         "B4",
         "Not Verified",
         218418.0,
         "Joint App",
         71000.0,
         "Not Verified",
         "2025-08-15T04:37:13.584556Z"
        ]
       ],
       "datasetInfos": [],
       "dbfsResultPath": null,
       "isJsonSchema": true,
       "metadata": {},
       "overflow": false,
       "plotOptions": {
        "customPlotOptions": {},
        "displayType": "table",
        "pivotAggregation": null,
        "pivotColumns": null,
        "xColumns": null,
        "yColumns": null
       },
       "removedWidgets": [],
       "schema": [
        {
         "metadata": "{}",
         "name": "member_id",
         "type": "\"string\""
        },
        {
         "metadata": "{}",
         "name": "emp_title",
         "type": "\"string\""
        },
        {
         "metadata": "{}",
         "name": "emp_length",
         "type": "\"integer\""
        },
        {
         "metadata": "{}",
         "name": "home_ownership",
         "type": "\"string\""
        },
        {
         "metadata": "{}",
         "name": "annual_income",
         "type": "\"float\""
        },
        {
         "metadata": "{}",
         "name": "address_state",
         "type": "\"string\""
        },
        {
         "metadata": "{}",
         "name": "address_zipcode",
         "type": "\"string\""
        },
        {
         "metadata": "{}",
         "name": "address_country",
         "type": "\"string\""
        },
        {
         "metadata": "{}",
         "name": "grade",
         "type": "\"string\""
        },
        {
         "metadata": "{}",
         "name": "sub_grade",
         "type": "\"string\""
        },
        {
         "metadata": "{}",
         "name": "verification_status",
         "type": "\"string\""
        },
        {
         "metadata": "{}",
         "name": "tot_hi_cred_lim",
         "type": "\"float\""
        },
        {
         "metadata": "{}",
         "name": "application_type",
         "type": "\"string\""
        },
        {
         "metadata": "{}",
         "name": "join_annual_income",
         "type": "\"float\""
        },
        {
         "metadata": "{}",
         "name": "verification_status_joint",
         "type": "\"string\""
        },
        {
         "metadata": "{}",
         "name": "ingest_date",
         "type": "\"timestamp\""
        }
       ],
       "type": "table"
      }
     },
     "output_type": "display_data"
    }
   ],
   "source": [
    "display(customers_state_cleaned.limit(10))"
   ]
  },
  {
   "cell_type": "code",
   "execution_count": 0,
   "metadata": {
    "application/vnd.databricks.v1+cell": {
     "cellMetadata": {
      "byteLimit": 2048000,
      "rowLimit": 10000
     },
     "inputWidgets": {},
     "nuid": "99c6b6a7-8868-4176-b608-3aec6ec57ab3",
     "showTitle": false,
     "tableResultSettingsMap": {},
     "title": ""
    }
   },
   "outputs": [
    {
     "output_type": "display_data",
     "data": {
      "text/html": [
       "<style scoped>\n",
       "  .table-result-container {\n",
       "    max-height: 300px;\n",
       "    overflow: auto;\n",
       "  }\n",
       "  table, th, td {\n",
       "    border: 1px solid black;\n",
       "    border-collapse: collapse;\n",
       "  }\n",
       "  th, td {\n",
       "    padding: 5px;\n",
       "  }\n",
       "  th {\n",
       "    text-align: left;\n",
       "  }\n",
       "</style><div class='table-result-container'><table class='table-result'><thead style='background-color: white'><tr><th>address_state</th></tr></thead><tbody><tr><td>SC</td></tr><tr><td>AZ</td></tr><tr><td>LA</td></tr><tr><td>MN</td></tr><tr><td>NJ</td></tr><tr><td>DC</td></tr><tr><td>OR</td></tr><tr><td>VA</td></tr><tr><td>RI</td></tr><tr><td>WY</td></tr><tr><td>KY</td></tr><tr><td>NH</td></tr><tr><td>MI</td></tr><tr><td>NV</td></tr><tr><td>WI</td></tr><tr><td>ID</td></tr><tr><td>CA</td></tr><tr><td>NE</td></tr><tr><td>CT</td></tr><tr><td>MT</td></tr><tr><td>NC</td></tr><tr><td>VT</td></tr><tr><td>MD</td></tr><tr><td>DE</td></tr><tr><td>MO</td></tr><tr><td>IL</td></tr><tr><td>ME</td></tr><tr><td>WA</td></tr><tr><td>ND</td></tr><tr><td>MS</td></tr><tr><td>AL</td></tr><tr><td>IN</td></tr><tr><td>OH</td></tr><tr><td>TN</td></tr><tr><td>NM</td></tr><tr><td>PA</td></tr><tr><td>SD</td></tr><tr><td>NY</td></tr><tr><td>TX</td></tr><tr><td>WV</td></tr><tr><td>GA</td></tr><tr><td>MA</td></tr><tr><td>KS</td></tr><tr><td>FL</td></tr><tr><td>CO</td></tr><tr><td>AK</td></tr><tr><td>AR</td></tr><tr><td>OK</td></tr><tr><td>UT</td></tr><tr><td>HI</td></tr><tr><td>NA</td></tr><tr><td>null</td></tr><tr><td>IA</td></tr></tbody></table></div>"
      ]
     },
     "metadata": {
      "application/vnd.databricks.v1+output": {
       "addedWidgets": {},
       "aggData": [],
       "aggError": "",
       "aggOverflow": false,
       "aggSchema": [],
       "aggSeriesLimitReached": false,
       "aggType": "",
       "arguments": {},
       "columnCustomDisplayInfos": {},
       "data": [
        [
         "SC"
        ],
        [
         "AZ"
        ],
        [
         "LA"
        ],
        [
         "MN"
        ],
        [
         "NJ"
        ],
        [
         "DC"
        ],
        [
         "OR"
        ],
        [
         "VA"
        ],
        [
         "RI"
        ],
        [
         "WY"
        ],
        [
         "KY"
        ],
        [
         "NH"
        ],
        [
         "MI"
        ],
        [
         "NV"
        ],
        [
         "WI"
        ],
        [
         "ID"
        ],
        [
         "CA"
        ],
        [
         "NE"
        ],
        [
         "CT"
        ],
        [
         "MT"
        ],
        [
         "NC"
        ],
        [
         "VT"
        ],
        [
         "MD"
        ],
        [
         "DE"
        ],
        [
         "MO"
        ],
        [
         "IL"
        ],
        [
         "ME"
        ],
        [
         "WA"
        ],
        [
         "ND"
        ],
        [
         "MS"
        ],
        [
         "AL"
        ],
        [
         "IN"
        ],
        [
         "OH"
        ],
        [
         "TN"
        ],
        [
         "NM"
        ],
        [
         "PA"
        ],
        [
         "SD"
        ],
        [
         "NY"
        ],
        [
         "TX"
        ],
        [
         "WV"
        ],
        [
         "GA"
        ],
        [
         "MA"
        ],
        [
         "KS"
        ],
        [
         "FL"
        ],
        [
         "CO"
        ],
        [
         "AK"
        ],
        [
         "AR"
        ],
        [
         "OK"
        ],
        [
         "UT"
        ],
        [
         "HI"
        ],
        [
         "NA"
        ],
        [
         null
        ],
        [
         "IA"
        ]
       ],
       "datasetInfos": [],
       "dbfsResultPath": null,
       "isJsonSchema": true,
       "metadata": {},
       "overflow": false,
       "plotOptions": {
        "customPlotOptions": {},
        "displayType": "table",
        "pivotAggregation": null,
        "pivotColumns": null,
        "xColumns": null,
        "yColumns": null
       },
       "removedWidgets": [],
       "schema": [
        {
         "metadata": "{}",
         "name": "address_state",
         "type": "\"string\""
        }
       ],
       "type": "table"
      }
     },
     "output_type": "display_data"
    }
   ],
   "source": [
    "display(customers_state_cleaned.select(\"address_state\").distinct())"
   ]
  },
  {
   "cell_type": "code",
   "execution_count": 0,
   "metadata": {
    "application/vnd.databricks.v1+cell": {
     "cellMetadata": {
      "byteLimit": 2048000,
      "rowLimit": 10000
     },
     "inputWidgets": {},
     "nuid": "fe9ebe85-ffe5-4b6c-b562-bf70388644a7",
     "showTitle": false,
     "tableResultSettingsMap": {},
     "title": ""
    }
   },
   "outputs": [],
   "source": [
    "customers_state_cleaned.write \\\n",
    ".format(\"parquet\") \\\n",
    ".mode(\"overwrite\") \\\n",
    ".option(\"path\", \"/mnt/Lendingclub/Lendingclub/Lendingclub/cleaned/customers_parquet\") \\\n",
    ".save()"
   ]
  }
 ],
 "metadata": {
  "application/vnd.databricks.v1+notebook": {
   "computePreferences": null,
   "dashboards": [],
   "environmentMetadata": null,
   "inputWidgetPreferences": null,
   "language": "python",
   "notebookMetadata": {
    "pythonIndentUnit": 4
   },
   "notebookName": "111_Customers_data_cleaning",
   "widgets": {}
  },
  "kernelspec": {
   "display_name": "Pyspark 3",
   "language": "python",
   "name": "pyspark3"
  },
  "language_info": {
   "name": "python"
  }
 },
 "nbformat": 4,
 "nbformat_minor": 0
}
