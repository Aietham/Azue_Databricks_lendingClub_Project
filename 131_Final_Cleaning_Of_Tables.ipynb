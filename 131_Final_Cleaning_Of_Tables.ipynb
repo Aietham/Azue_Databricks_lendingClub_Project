{
 "cells": [
  {
   "cell_type": "markdown",
   "metadata": {
    "application/vnd.databricks.v1+cell": {
     "cellMetadata": {},
     "inputWidgets": {},
     "nuid": "bcfa7b59-b911-46ec-af16-1dd21c4e11d6",
     "showTitle": false,
     "tableResultSettingsMap": {},
     "title": ""
    }
   },
   "source": [
    "# Cleaning the Tables, removing and writing back the bad data in csv where we have multiple enties for each customers for further analysis and correction"
   ]
  },
  {
   "cell_type": "code",
   "execution_count": 0,
   "metadata": {
    "application/vnd.databricks.v1+cell": {
     "cellMetadata": {
      "byteLimit": 2048000,
      "rowLimit": 10000
     },
     "inputWidgets": {},
     "nuid": "0b95198c-a773-4087-9551-81a335be0e84",
     "showTitle": false,
     "tableResultSettingsMap": {},
     "title": ""
    }
   },
   "outputs": [
    {
     "output_type": "display_data",
     "data": {
      "text/html": [
       "<style scoped>\n",
       "  .table-result-container {\n",
       "    max-height: 300px;\n",
       "    overflow: auto;\n",
       "  }\n",
       "  table, th, td {\n",
       "    border: 1px solid black;\n",
       "    border-collapse: collapse;\n",
       "  }\n",
       "  th, td {\n",
       "    padding: 5px;\n",
       "  }\n",
       "  th {\n",
       "    text-align: left;\n",
       "  }\n",
       "</style><div class='table-result-container'><table class='table-result'><thead style='background-color: white'><tr><th>member_id</th><th>total</th></tr></thead><tbody><tr><td>e4c167053d54182305bf5ea081111e06bf298584cfcaebe792744eee19461f7f</td><td>5</td></tr><tr><td>76b577467eda5bdbc1f3640c35e2f84284bebc20eb1002a565776fd9fbb9b4ef</td><td>4</td></tr><tr><td>3f87585a20f702838d6869aa59e7016e48592c80cf433dd53ea22648f482cc5c</td><td>4</td></tr><tr><td>ad8e5d384dae17e06ed14adcc84d9a8076cad1e618f3843d42c24f45f41264d8</td><td>4</td></tr><tr><td>09afb4e74f1234220a3a1f4df131e366c12f79f7facc8b4d33d1e52e0fed129e</td><td>3</td></tr><tr><td>b67f4aa39e82954f2e32a613c5b37ecd1cb15621c26d217e127f399de1fad5a8</td><td>3</td></tr><tr><td>059d401bb603d9a8053760c305cfd56dc91861afdf3bf84b404f4270c296acd8</td><td>3</td></tr><tr><td>6e520d95b6401fb11a73d14b279c3c8956c765e3b9a9ec00c038bc91fe86cf08</td><td>3</td></tr><tr><td>53789bea7edc660edf340d3eec7bbcd264b79316f911dd8f6af1fd485120d067</td><td>3</td></tr><tr><td>1a594f95f63362b332a281c0daa18188151fc9c92be3b1937e04acd079644037</td><td>3</td></tr><tr><td>bf3d06b33c49a9375789a92326c64047e1c2a741158f161efd54c581bb25b7b6</td><td>3</td></tr><tr><td>9020d7d2b0f2a661b3e177dbebd55a3666c1afe6610c0349b13d1200f86fafdb</td><td>3</td></tr><tr><td>a2356725aa9da92c6abde64d3970c375bbd98e9d2d54f03dcee1cda3dc728a7b</td><td>3</td></tr><tr><td>941617e0330078c0cb3512133e588129e7cb9dbb4b0131dfb8330078e0c45990</td><td>3</td></tr><tr><td>066ddaa64bee66dff95b503738b4e60b9fb3360c7b1202e35cb5eba575f3e1b5</td><td>3</td></tr><tr><td>52f6455c1b3b75d12c610da440dba719d720df4540b0fa43994650b6badbb213</td><td>3</td></tr><tr><td>4ab6205de571ccb7bd42031d4db17a1605ad340e782db69c07bcc007bad1aa76</td><td>3</td></tr><tr><td>4cba41b3614fcf4613113b939d520346ade901166599b7c2bedcb4b79a3ae120</td><td>3</td></tr><tr><td>f54295a60946dedad3bd684accb36dbf1d91a9304623868e05ec78473e35c496</td><td>3</td></tr><tr><td>0480dec0694eacf3f202b2cb5eb2057b1f9332391493563a338dcc1cb812593a</td><td>3</td></tr></tbody></table></div>"
      ]
     },
     "metadata": {
      "application/vnd.databricks.v1+output": {
       "addedWidgets": {},
       "aggData": [],
       "aggError": "",
       "aggOverflow": false,
       "aggSchema": [],
       "aggSeriesLimitReached": false,
       "aggType": "",
       "arguments": {},
       "columnCustomDisplayInfos": {},
       "data": [
        [
         "e4c167053d54182305bf5ea081111e06bf298584cfcaebe792744eee19461f7f",
         5
        ],
        [
         "76b577467eda5bdbc1f3640c35e2f84284bebc20eb1002a565776fd9fbb9b4ef",
         4
        ],
        [
         "3f87585a20f702838d6869aa59e7016e48592c80cf433dd53ea22648f482cc5c",
         4
        ],
        [
         "ad8e5d384dae17e06ed14adcc84d9a8076cad1e618f3843d42c24f45f41264d8",
         4
        ],
        [
         "09afb4e74f1234220a3a1f4df131e366c12f79f7facc8b4d33d1e52e0fed129e",
         3
        ],
        [
         "b67f4aa39e82954f2e32a613c5b37ecd1cb15621c26d217e127f399de1fad5a8",
         3
        ],
        [
         "059d401bb603d9a8053760c305cfd56dc91861afdf3bf84b404f4270c296acd8",
         3
        ],
        [
         "6e520d95b6401fb11a73d14b279c3c8956c765e3b9a9ec00c038bc91fe86cf08",
         3
        ],
        [
         "53789bea7edc660edf340d3eec7bbcd264b79316f911dd8f6af1fd485120d067",
         3
        ],
        [
         "1a594f95f63362b332a281c0daa18188151fc9c92be3b1937e04acd079644037",
         3
        ],
        [
         "bf3d06b33c49a9375789a92326c64047e1c2a741158f161efd54c581bb25b7b6",
         3
        ],
        [
         "9020d7d2b0f2a661b3e177dbebd55a3666c1afe6610c0349b13d1200f86fafdb",
         3
        ],
        [
         "a2356725aa9da92c6abde64d3970c375bbd98e9d2d54f03dcee1cda3dc728a7b",
         3
        ],
        [
         "941617e0330078c0cb3512133e588129e7cb9dbb4b0131dfb8330078e0c45990",
         3
        ],
        [
         "066ddaa64bee66dff95b503738b4e60b9fb3360c7b1202e35cb5eba575f3e1b5",
         3
        ],
        [
         "52f6455c1b3b75d12c610da440dba719d720df4540b0fa43994650b6badbb213",
         3
        ],
        [
         "4ab6205de571ccb7bd42031d4db17a1605ad340e782db69c07bcc007bad1aa76",
         3
        ],
        [
         "4cba41b3614fcf4613113b939d520346ade901166599b7c2bedcb4b79a3ae120",
         3
        ],
        [
         "f54295a60946dedad3bd684accb36dbf1d91a9304623868e05ec78473e35c496",
         3
        ],
        [
         "0480dec0694eacf3f202b2cb5eb2057b1f9332391493563a338dcc1cb812593a",
         3
        ]
       ],
       "datasetInfos": [],
       "dbfsResultPath": null,
       "isJsonSchema": true,
       "metadata": {},
       "overflow": false,
       "plotOptions": {
        "customPlotOptions": {},
        "displayType": "table",
        "pivotAggregation": null,
        "pivotColumns": null,
        "xColumns": null,
        "yColumns": null
       },
       "removedWidgets": [],
       "schema": [
        {
         "metadata": "{}",
         "name": "member_id",
         "type": "\"string\""
        },
        {
         "metadata": "{}",
         "name": "total",
         "type": "\"long\""
        }
       ],
       "type": "table"
      }
     },
     "output_type": "display_data"
    }
   ],
   "source": [
    "display(spark.sql(\"\"\"select member_id, count(*) as total \n",
    "from lending_club.customers\n",
    "group by member_id order by total desc\n",
    "\"\"\").limit(20))"
   ]
  },
  {
   "cell_type": "code",
   "execution_count": 0,
   "metadata": {
    "application/vnd.databricks.v1+cell": {
     "cellMetadata": {
      "byteLimit": 2048000,
      "rowLimit": 10000
     },
     "inputWidgets": {},
     "nuid": "fc75fb91-85b1-4386-943c-727826837294",
     "showTitle": false,
     "tableResultSettingsMap": {},
     "title": ""
    }
   },
   "outputs": [
    {
     "output_type": "display_data",
     "data": {
      "text/html": [
       "<style scoped>\n",
       "  .table-result-container {\n",
       "    max-height: 300px;\n",
       "    overflow: auto;\n",
       "  }\n",
       "  table, th, td {\n",
       "    border: 1px solid black;\n",
       "    border-collapse: collapse;\n",
       "  }\n",
       "  th, td {\n",
       "    padding: 5px;\n",
       "  }\n",
       "  th {\n",
       "    text-align: left;\n",
       "  }\n",
       "</style><div class='table-result-container'><table class='table-result'><thead style='background-color: white'><tr><th>member_id</th><th>emp_title</th><th>emp_length</th><th>home_ownership</th><th>annual_income</th><th>address_state</th><th>address_zipcode</th><th>address_country</th><th>grade</th><th>sub_grade</th><th>verification_status</th><th>tot_hi_cred_lim</th><th>application_type</th><th>join_annual_income</th><th>verification_status_joint</th><th>ingest_date</th></tr></thead><tbody><tr><td>e4c167053d54182305bf5ea081111e06bf298584cfcaebe792744eee19461f7f</td><td>null</td><td>6</td><td>MORTGAGE</td><td>55000.0</td><td>IL</td><td>604xx</td><td>USA</td><td>B</td><td>B5</td><td>Verified</td><td>171165.0</td><td>Individual</td><td>null</td><td>null</td><td>2025-08-15T04:37:19.803916Z</td></tr><tr><td>e4c167053d54182305bf5ea081111e06bf298584cfcaebe792744eee19461f7f</td><td>null</td><td>6</td><td>MORTGAGE</td><td>55000.0</td><td>IL</td><td>604xx</td><td>USA</td><td>B</td><td>B5</td><td>Verified</td><td>207300.0</td><td>Individual</td><td>null</td><td>null</td><td>2025-08-15T04:37:19.803916Z</td></tr><tr><td>e4c167053d54182305bf5ea081111e06bf298584cfcaebe792744eee19461f7f</td><td>null</td><td>6</td><td>MORTGAGE</td><td>55000.0</td><td>IL</td><td>604xx</td><td>USA</td><td>B</td><td>B5</td><td>Verified</td><td>138780.0</td><td>Individual</td><td>null</td><td>null</td><td>2025-08-15T04:37:19.803916Z</td></tr><tr><td>e4c167053d54182305bf5ea081111e06bf298584cfcaebe792744eee19461f7f</td><td>null</td><td>6</td><td>MORTGAGE</td><td>55000.0</td><td>IL</td><td>604xx</td><td>USA</td><td>B</td><td>B5</td><td>Verified</td><td>110907.0</td><td>Individual</td><td>null</td><td>null</td><td>2025-08-15T04:37:19.803916Z</td></tr><tr><td>e4c167053d54182305bf5ea081111e06bf298584cfcaebe792744eee19461f7f</td><td>null</td><td>6</td><td>MORTGAGE</td><td>55000.0</td><td>IL</td><td>604xx</td><td>USA</td><td>B</td><td>B5</td><td>Verified</td><td>129833.0</td><td>Individual</td><td>null</td><td>null</td><td>2025-08-15T04:37:19.803916Z</td></tr></tbody></table></div>"
      ]
     },
     "metadata": {
      "application/vnd.databricks.v1+output": {
       "addedWidgets": {},
       "aggData": [],
       "aggError": "",
       "aggOverflow": false,
       "aggSchema": [],
       "aggSeriesLimitReached": false,
       "aggType": "",
       "arguments": {},
       "columnCustomDisplayInfos": {},
       "data": [
        [
         "e4c167053d54182305bf5ea081111e06bf298584cfcaebe792744eee19461f7f",
         null,
         6,
         "MORTGAGE",
         55000.0,
         "IL",
         "604xx",
         "USA",
         "B",
         "B5",
         "Verified",
         171165.0,
         "Individual",
         null,
         null,
         "2025-08-15T04:37:19.803916Z"
        ],
        [
         "e4c167053d54182305bf5ea081111e06bf298584cfcaebe792744eee19461f7f",
         null,
         6,
         "MORTGAGE",
         55000.0,
         "IL",
         "604xx",
         "USA",
         "B",
         "B5",
         "Verified",
         207300.0,
         "Individual",
         null,
         null,
         "2025-08-15T04:37:19.803916Z"
        ],
        [
         "e4c167053d54182305bf5ea081111e06bf298584cfcaebe792744eee19461f7f",
         null,
         6,
         "MORTGAGE",
         55000.0,
         "IL",
         "604xx",
         "USA",
         "B",
         "B5",
         "Verified",
         138780.0,
         "Individual",
         null,
         null,
         "2025-08-15T04:37:19.803916Z"
        ],
        [
         "e4c167053d54182305bf5ea081111e06bf298584cfcaebe792744eee19461f7f",
         null,
         6,
         "MORTGAGE",
         55000.0,
         "IL",
         "604xx",
         "USA",
         "B",
         "B5",
         "Verified",
         110907.0,
         "Individual",
         null,
         null,
         "2025-08-15T04:37:19.803916Z"
        ],
        [
         "e4c167053d54182305bf5ea081111e06bf298584cfcaebe792744eee19461f7f",
         null,
         6,
         "MORTGAGE",
         55000.0,
         "IL",
         "604xx",
         "USA",
         "B",
         "B5",
         "Verified",
         129833.0,
         "Individual",
         null,
         null,
         "2025-08-15T04:37:19.803916Z"
        ]
       ],
       "datasetInfos": [],
       "dbfsResultPath": null,
       "isJsonSchema": true,
       "metadata": {},
       "overflow": false,
       "plotOptions": {
        "customPlotOptions": {},
        "displayType": "table",
        "pivotAggregation": null,
        "pivotColumns": null,
        "xColumns": null,
        "yColumns": null
       },
       "removedWidgets": [],
       "schema": [
        {
         "metadata": "{}",
         "name": "member_id",
         "type": "\"string\""
        },
        {
         "metadata": "{}",
         "name": "emp_title",
         "type": "\"string\""
        },
        {
         "metadata": "{}",
         "name": "emp_length",
         "type": "\"integer\""
        },
        {
         "metadata": "{}",
         "name": "home_ownership",
         "type": "\"string\""
        },
        {
         "metadata": "{}",
         "name": "annual_income",
         "type": "\"float\""
        },
        {
         "metadata": "{}",
         "name": "address_state",
         "type": "\"string\""
        },
        {
         "metadata": "{}",
         "name": "address_zipcode",
         "type": "\"string\""
        },
        {
         "metadata": "{}",
         "name": "address_country",
         "type": "\"string\""
        },
        {
         "metadata": "{}",
         "name": "grade",
         "type": "\"string\""
        },
        {
         "metadata": "{}",
         "name": "sub_grade",
         "type": "\"string\""
        },
        {
         "metadata": "{}",
         "name": "verification_status",
         "type": "\"string\""
        },
        {
         "metadata": "{}",
         "name": "tot_hi_cred_lim",
         "type": "\"float\""
        },
        {
         "metadata": "{}",
         "name": "application_type",
         "type": "\"string\""
        },
        {
         "metadata": "{}",
         "name": "join_annual_income",
         "type": "\"float\""
        },
        {
         "metadata": "{}",
         "name": "verification_status_joint",
         "type": "\"string\""
        },
        {
         "metadata": "{}",
         "name": "ingest_date",
         "type": "\"timestamp\""
        }
       ],
       "type": "table"
      }
     },
     "output_type": "display_data"
    }
   ],
   "source": [
    "display(spark.sql(\"\"\"select * from lending_club.customers \n",
    "where member_id like 'e4c167053d5418230%'\"\"\"))"
   ]
  },
  {
   "cell_type": "code",
   "execution_count": 0,
   "metadata": {
    "application/vnd.databricks.v1+cell": {
     "cellMetadata": {
      "byteLimit": 2048000,
      "rowLimit": 10000
     },
     "inputWidgets": {},
     "nuid": "3b9ac372-fd20-4e4d-b352-06b06e6f1922",
     "showTitle": false,
     "tableResultSettingsMap": {},
     "title": ""
    }
   },
   "outputs": [
    {
     "output_type": "display_data",
     "data": {
      "text/html": [
       "<style scoped>\n",
       "  .table-result-container {\n",
       "    max-height: 300px;\n",
       "    overflow: auto;\n",
       "  }\n",
       "  table, th, td {\n",
       "    border: 1px solid black;\n",
       "    border-collapse: collapse;\n",
       "  }\n",
       "  th, td {\n",
       "    padding: 5px;\n",
       "  }\n",
       "  th {\n",
       "    text-align: left;\n",
       "  }\n",
       "</style><div class='table-result-container'><table class='table-result'><thead style='background-color: white'><tr><th>member_id</th><th>total</th></tr></thead><tbody><tr><td>9240fa4e744ff08464b0c212cf550a5d4c891c8f0251086955895d797d9caca7</td><td>3</td></tr><tr><td>b67f4aa39e82954f2e32a613c5b37ecd1cb15621c26d217e127f399de1fad5a8</td><td>3</td></tr><tr><td>ee2d0dd6ad9e048b83ab3a76e1d5f78c33893132e19e204904d03b13793d4ae3</td><td>3</td></tr><tr><td>e4c167053d54182305bf5ea081111e06bf298584cfcaebe792744eee19461f7f</td><td>3</td></tr><tr><td>41d36a5e709d6218a99f0809bd99fccc8f8777f8ca86c95de270822b891b288d</td><td>3</td></tr><tr><td>793b618a7de10f813652ea710b73f6ad1270ca875e27cadd47bb5ce9c0ed30c4</td><td>3</td></tr><tr><td>1f392553105eebc55c598033d4561d642379eae75a24892f34bd246208ef7b76</td><td>3</td></tr><tr><td>6f88761291d14b65ee9d048ee5ea2f07af09c645f1701e3cddd37a461574906f</td><td>3</td></tr><tr><td>bca141343d9405a9aa61302d1964eb95f36f0f39e86104717be2c294569e6282</td><td>3</td></tr><tr><td>fd535c228e59fa3e801b2b04d8b64fd418aa91fd0c1e2f820814d9ec8a5d3642</td><td>2</td></tr><tr><td>cd1fdca829c443fa7a2ac1ddf70a89c0851d76a3ab39a61ba0df0cef9ec2f221</td><td>2</td></tr><tr><td>0ceea79bfc60d8f0756c763b0c648e23e8f8075cd22fc098d2a0159d997cb62f</td><td>2</td></tr><tr><td>cf5a47d6245428af36b01dd69a2b2bd46790c41fd46d530b9020dc8c33724e80</td><td>2</td></tr><tr><td>383129220e7350343947208f53a06d2af9e8ac8bffa510a8894f11abb8600d77</td><td>2</td></tr><tr><td>597e4648c0355d2e29bfdc3c8f68dfa8daef064120402357171734cbf2ad9786</td><td>2</td></tr><tr><td>16d72f9158a477b1967ad7421353accb8f71412ff10779c678a468de68e98c27</td><td>2</td></tr><tr><td>3051227c81940f1f244bc3ca2a98f78044f631351be1940cea26c3ce9beb8d05</td><td>2</td></tr><tr><td>a635cffdbf01bcce400f3920350ef34b31b1cddc378a8d4531c3534692cd649a</td><td>2</td></tr><tr><td>66f2ea37b9c6dc70fe87bdc0c4090275e2d50e14fe1af1c20bf7244b5153b4d8</td><td>2</td></tr><tr><td>248b301e00f964d9ca0e032423fa51a2ce92a8486de944d0c80880029a3cee7f</td><td>2</td></tr></tbody></table></div>"
      ]
     },
     "metadata": {
      "application/vnd.databricks.v1+output": {
       "addedWidgets": {},
       "aggData": [],
       "aggError": "",
       "aggOverflow": false,
       "aggSchema": [],
       "aggSeriesLimitReached": false,
       "aggType": "",
       "arguments": {},
       "columnCustomDisplayInfos": {},
       "data": [
        [
         "9240fa4e744ff08464b0c212cf550a5d4c891c8f0251086955895d797d9caca7",
         3
        ],
        [
         "b67f4aa39e82954f2e32a613c5b37ecd1cb15621c26d217e127f399de1fad5a8",
         3
        ],
        [
         "ee2d0dd6ad9e048b83ab3a76e1d5f78c33893132e19e204904d03b13793d4ae3",
         3
        ],
        [
         "e4c167053d54182305bf5ea081111e06bf298584cfcaebe792744eee19461f7f",
         3
        ],
        [
         "41d36a5e709d6218a99f0809bd99fccc8f8777f8ca86c95de270822b891b288d",
         3
        ],
        [
         "793b618a7de10f813652ea710b73f6ad1270ca875e27cadd47bb5ce9c0ed30c4",
         3
        ],
        [
         "1f392553105eebc55c598033d4561d642379eae75a24892f34bd246208ef7b76",
         3
        ],
        [
         "6f88761291d14b65ee9d048ee5ea2f07af09c645f1701e3cddd37a461574906f",
         3
        ],
        [
         "bca141343d9405a9aa61302d1964eb95f36f0f39e86104717be2c294569e6282",
         3
        ],
        [
         "fd535c228e59fa3e801b2b04d8b64fd418aa91fd0c1e2f820814d9ec8a5d3642",
         2
        ],
        [
         "cd1fdca829c443fa7a2ac1ddf70a89c0851d76a3ab39a61ba0df0cef9ec2f221",
         2
        ],
        [
         "0ceea79bfc60d8f0756c763b0c648e23e8f8075cd22fc098d2a0159d997cb62f",
         2
        ],
        [
         "cf5a47d6245428af36b01dd69a2b2bd46790c41fd46d530b9020dc8c33724e80",
         2
        ],
        [
         "383129220e7350343947208f53a06d2af9e8ac8bffa510a8894f11abb8600d77",
         2
        ],
        [
         "597e4648c0355d2e29bfdc3c8f68dfa8daef064120402357171734cbf2ad9786",
         2
        ],
        [
         "16d72f9158a477b1967ad7421353accb8f71412ff10779c678a468de68e98c27",
         2
        ],
        [
         "3051227c81940f1f244bc3ca2a98f78044f631351be1940cea26c3ce9beb8d05",
         2
        ],
        [
         "a635cffdbf01bcce400f3920350ef34b31b1cddc378a8d4531c3534692cd649a",
         2
        ],
        [
         "66f2ea37b9c6dc70fe87bdc0c4090275e2d50e14fe1af1c20bf7244b5153b4d8",
         2
        ],
        [
         "248b301e00f964d9ca0e032423fa51a2ce92a8486de944d0c80880029a3cee7f",
         2
        ]
       ],
       "datasetInfos": [],
       "dbfsResultPath": null,
       "isJsonSchema": true,
       "metadata": {},
       "overflow": false,
       "plotOptions": {
        "customPlotOptions": {},
        "displayType": "table",
        "pivotAggregation": null,
        "pivotColumns": null,
        "xColumns": null,
        "yColumns": null
       },
       "removedWidgets": [],
       "schema": [
        {
         "metadata": "{}",
         "name": "member_id",
         "type": "\"string\""
        },
        {
         "metadata": "{}",
         "name": "total",
         "type": "\"long\""
        }
       ],
       "type": "table"
      }
     },
     "output_type": "display_data"
    }
   ],
   "source": [
    "display(spark.sql(\"\"\"select member_id, count(*) as total \n",
    "from lending_club.loans_defaulters_delinq\n",
    "group by member_id order by total desc\n",
    "\"\"\").limit(20))"
   ]
  },
  {
   "cell_type": "code",
   "execution_count": 0,
   "metadata": {
    "application/vnd.databricks.v1+cell": {
     "cellMetadata": {
      "byteLimit": 2048000,
      "rowLimit": 10000
     },
     "inputWidgets": {},
     "nuid": "8645288f-23b4-4b7b-8a4d-2af059d0a9ea",
     "showTitle": false,
     "tableResultSettingsMap": {},
     "title": ""
    }
   },
   "outputs": [
    {
     "output_type": "display_data",
     "data": {
      "text/html": [
       "<style scoped>\n",
       "  .table-result-container {\n",
       "    max-height: 300px;\n",
       "    overflow: auto;\n",
       "  }\n",
       "  table, th, td {\n",
       "    border: 1px solid black;\n",
       "    border-collapse: collapse;\n",
       "  }\n",
       "  th, td {\n",
       "    padding: 5px;\n",
       "  }\n",
       "  th {\n",
       "    text-align: left;\n",
       "  }\n",
       "</style><div class='table-result-container'><table class='table-result'><thead style='background-color: white'><tr><th>member_id</th><th>delinq_2yrs</th><th>delinq_amnt</th><th>mths_since_last_delinq</th></tr></thead><tbody><tr><td>e4c167053d54182305bf5ea081111e06bf298584cfcaebe792744eee19461f7f</td><td>3</td><td>0.0</td><td>13</td></tr><tr><td>e4c167053d54182305bf5ea081111e06bf298584cfcaebe792744eee19461f7f</td><td>1</td><td>0.0</td><td>16</td></tr><tr><td>e4c167053d54182305bf5ea081111e06bf298584cfcaebe792744eee19461f7f</td><td>1</td><td>0.0</td><td>37</td></tr></tbody></table></div>"
      ]
     },
     "metadata": {
      "application/vnd.databricks.v1+output": {
       "addedWidgets": {},
       "aggData": [],
       "aggError": "",
       "aggOverflow": false,
       "aggSchema": [],
       "aggSeriesLimitReached": false,
       "aggType": "",
       "arguments": {},
       "columnCustomDisplayInfos": {},
       "data": [
        [
         "e4c167053d54182305bf5ea081111e06bf298584cfcaebe792744eee19461f7f",
         3,
         0.0,
         13
        ],
        [
         "e4c167053d54182305bf5ea081111e06bf298584cfcaebe792744eee19461f7f",
         1,
         0.0,
         16
        ],
        [
         "e4c167053d54182305bf5ea081111e06bf298584cfcaebe792744eee19461f7f",
         1,
         0.0,
         37
        ]
       ],
       "datasetInfos": [],
       "dbfsResultPath": null,
       "isJsonSchema": true,
       "metadata": {},
       "overflow": false,
       "plotOptions": {
        "customPlotOptions": {},
        "displayType": "table",
        "pivotAggregation": null,
        "pivotColumns": null,
        "xColumns": null,
        "yColumns": null
       },
       "removedWidgets": [],
       "schema": [
        {
         "metadata": "{}",
         "name": "member_id",
         "type": "\"string\""
        },
        {
         "metadata": "{}",
         "name": "delinq_2yrs",
         "type": "\"integer\""
        },
        {
         "metadata": "{}",
         "name": "delinq_amnt",
         "type": "\"float\""
        },
        {
         "metadata": "{}",
         "name": "mths_since_last_delinq",
         "type": "\"integer\""
        }
       ],
       "type": "table"
      }
     },
     "output_type": "display_data"
    }
   ],
   "source": [
    "display(spark.sql(\"\"\"select * from lending_club.loans_defaulters_delinq\n",
    "where member_id like 'e4c167053d54182305bf5ea081111%'\"\"\"))"
   ]
  },
  {
   "cell_type": "code",
   "execution_count": 0,
   "metadata": {
    "application/vnd.databricks.v1+cell": {
     "cellMetadata": {
      "byteLimit": 2048000,
      "rowLimit": 10000
     },
     "inputWidgets": {},
     "nuid": "6358be91-6df2-49ce-931b-b06bcbe90a45",
     "showTitle": false,
     "tableResultSettingsMap": {},
     "title": ""
    }
   },
   "outputs": [
    {
     "output_type": "display_data",
     "data": {
      "text/html": [
       "<style scoped>\n",
       "  .table-result-container {\n",
       "    max-height: 300px;\n",
       "    overflow: auto;\n",
       "  }\n",
       "  table, th, td {\n",
       "    border: 1px solid black;\n",
       "    border-collapse: collapse;\n",
       "  }\n",
       "  th, td {\n",
       "    padding: 5px;\n",
       "  }\n",
       "  th {\n",
       "    text-align: left;\n",
       "  }\n",
       "</style><div class='table-result-container'><table class='table-result'><thead style='background-color: white'><tr><th>member_id</th><th>total</th></tr></thead><tbody><tr><td>e3b0c44298fc1c149afbf4c8996fb92427ae41e4649b934ca495991b7852b855</td><td>33</td></tr><tr><td>e4c167053d54182305bf5ea081111e06bf298584cfcaebe792744eee19461f7f</td><td>5</td></tr><tr><td>76b577467eda5bdbc1f3640c35e2f84284bebc20eb1002a565776fd9fbb9b4ef</td><td>4</td></tr><tr><td>3f87585a20f702838d6869aa59e7016e48592c80cf433dd53ea22648f482cc5c</td><td>4</td></tr><tr><td>ad8e5d384dae17e06ed14adcc84d9a8076cad1e618f3843d42c24f45f41264d8</td><td>4</td></tr><tr><td>09afb4e74f1234220a3a1f4df131e366c12f79f7facc8b4d33d1e52e0fed129e</td><td>3</td></tr><tr><td>059d401bb603d9a8053760c305cfd56dc91861afdf3bf84b404f4270c296acd8</td><td>3</td></tr><tr><td>6f88761291d14b65ee9d048ee5ea2f07af09c645f1701e3cddd37a461574906f</td><td>3</td></tr><tr><td>d9ce4046daf599732d53cef7b798b055869d8363d8981295d85c98c2bc8af0c7</td><td>3</td></tr><tr><td>b67f4aa39e82954f2e32a613c5b37ecd1cb15621c26d217e127f399de1fad5a8</td><td>3</td></tr><tr><td>c563428cb58da48ffed4290d65c8e8b3538f5c8f6f2d08be060316d170cdca3a</td><td>3</td></tr><tr><td>13d0e1fae89e5e7e4f2cacaa4f5dcbd9a48f6579a36063cabdb8ca089c25d676</td><td>3</td></tr><tr><td>bf3d06b33c49a9375789a92326c64047e1c2a741158f161efd54c581bb25b7b6</td><td>3</td></tr><tr><td>1f392553105eebc55c598033d4561d642379eae75a24892f34bd246208ef7b76</td><td>3</td></tr><tr><td>d3731bad3e6a82515ed7f2cb0f08c3b4f6babfb7e848d9b2390f886d17ec3f70</td><td>3</td></tr><tr><td>6e520d95b6401fb11a73d14b279c3c8956c765e3b9a9ec00c038bc91fe86cf08</td><td>3</td></tr><tr><td>f9fc581aae696e0bdf19d3b63c062e1b8a9d419015f6fdc82c786667b8f5dd82</td><td>3</td></tr><tr><td>937b02d9fd88b9d164a377b2049469bf3dd41a65961c092c57f40e8dd60ad8f3</td><td>3</td></tr><tr><td>e7d8d16928817ec8f61aeb20bb699543a86fec9505a66f38dd81f385ceaf7f7d</td><td>3</td></tr><tr><td>39803eb8abd96d869a5957c098b50bac91d9796326cecd6d1169548352ef0011</td><td>3</td></tr></tbody></table></div>"
      ]
     },
     "metadata": {
      "application/vnd.databricks.v1+output": {
       "addedWidgets": {},
       "aggData": [],
       "aggError": "",
       "aggOverflow": false,
       "aggSchema": [],
       "aggSeriesLimitReached": false,
       "aggType": "",
       "arguments": {},
       "columnCustomDisplayInfos": {},
       "data": [
        [
         "e3b0c44298fc1c149afbf4c8996fb92427ae41e4649b934ca495991b7852b855",
         33
        ],
        [
         "e4c167053d54182305bf5ea081111e06bf298584cfcaebe792744eee19461f7f",
         5
        ],
        [
         "76b577467eda5bdbc1f3640c35e2f84284bebc20eb1002a565776fd9fbb9b4ef",
         4
        ],
        [
         "3f87585a20f702838d6869aa59e7016e48592c80cf433dd53ea22648f482cc5c",
         4
        ],
        [
         "ad8e5d384dae17e06ed14adcc84d9a8076cad1e618f3843d42c24f45f41264d8",
         4
        ],
        [
         "09afb4e74f1234220a3a1f4df131e366c12f79f7facc8b4d33d1e52e0fed129e",
         3
        ],
        [
         "059d401bb603d9a8053760c305cfd56dc91861afdf3bf84b404f4270c296acd8",
         3
        ],
        [
         "6f88761291d14b65ee9d048ee5ea2f07af09c645f1701e3cddd37a461574906f",
         3
        ],
        [
         "d9ce4046daf599732d53cef7b798b055869d8363d8981295d85c98c2bc8af0c7",
         3
        ],
        [
         "b67f4aa39e82954f2e32a613c5b37ecd1cb15621c26d217e127f399de1fad5a8",
         3
        ],
        [
         "c563428cb58da48ffed4290d65c8e8b3538f5c8f6f2d08be060316d170cdca3a",
         3
        ],
        [
         "13d0e1fae89e5e7e4f2cacaa4f5dcbd9a48f6579a36063cabdb8ca089c25d676",
         3
        ],
        [
         "bf3d06b33c49a9375789a92326c64047e1c2a741158f161efd54c581bb25b7b6",
         3
        ],
        [
         "1f392553105eebc55c598033d4561d642379eae75a24892f34bd246208ef7b76",
         3
        ],
        [
         "d3731bad3e6a82515ed7f2cb0f08c3b4f6babfb7e848d9b2390f886d17ec3f70",
         3
        ],
        [
         "6e520d95b6401fb11a73d14b279c3c8956c765e3b9a9ec00c038bc91fe86cf08",
         3
        ],
        [
         "f9fc581aae696e0bdf19d3b63c062e1b8a9d419015f6fdc82c786667b8f5dd82",
         3
        ],
        [
         "937b02d9fd88b9d164a377b2049469bf3dd41a65961c092c57f40e8dd60ad8f3",
         3
        ],
        [
         "e7d8d16928817ec8f61aeb20bb699543a86fec9505a66f38dd81f385ceaf7f7d",
         3
        ],
        [
         "39803eb8abd96d869a5957c098b50bac91d9796326cecd6d1169548352ef0011",
         3
        ]
       ],
       "datasetInfos": [],
       "dbfsResultPath": null,
       "isJsonSchema": true,
       "metadata": {},
       "overflow": false,
       "plotOptions": {
        "customPlotOptions": {},
        "displayType": "table",
        "pivotAggregation": null,
        "pivotColumns": null,
        "xColumns": null,
        "yColumns": null
       },
       "removedWidgets": [],
       "schema": [
        {
         "metadata": "{}",
         "name": "member_id",
         "type": "\"string\""
        },
        {
         "metadata": "{}",
         "name": "total",
         "type": "\"long\""
        }
       ],
       "type": "table"
      }
     },
     "output_type": "display_data"
    }
   ],
   "source": [
    "display(spark.sql(\"\"\"select member_id, count(*) as total \n",
    "from lending_club.loans_defaulters_detail_rec_enq\n",
    "group by member_id order by total desc\n",
    "\"\"\").limit(20))"
   ]
  },
  {
   "cell_type": "code",
   "execution_count": 0,
   "metadata": {
    "application/vnd.databricks.v1+cell": {
     "cellMetadata": {
      "byteLimit": 2048000,
      "rowLimit": 10000
     },
     "inputWidgets": {},
     "nuid": "6771aef1-d53e-4c63-9316-b29ea2296105",
     "showTitle": false,
     "tableResultSettingsMap": {},
     "title": ""
    }
   },
   "outputs": [
    {
     "output_type": "display_data",
     "data": {
      "text/html": [
       "<style scoped>\n",
       "  .table-result-container {\n",
       "    max-height: 300px;\n",
       "    overflow: auto;\n",
       "  }\n",
       "  table, th, td {\n",
       "    border: 1px solid black;\n",
       "    border-collapse: collapse;\n",
       "  }\n",
       "  th, td {\n",
       "    padding: 5px;\n",
       "  }\n",
       "  th {\n",
       "    text-align: left;\n",
       "  }\n",
       "</style><div class='table-result-container'><table class='table-result'><thead style='background-color: white'><tr><th>member_id</th><th>pub_rec</th><th>pub_rec_bankruptcies</th><th>inq_last_6mths</th></tr></thead><tbody><tr><td>e4c167053d54182305bf5ea081111e06bf298584cfcaebe792744eee19461f7f</td><td>0</td><td>0</td><td>0</td></tr><tr><td>e4c167053d54182305bf5ea081111e06bf298584cfcaebe792744eee19461f7f</td><td>0</td><td>0</td><td>0</td></tr><tr><td>e4c167053d54182305bf5ea081111e06bf298584cfcaebe792744eee19461f7f</td><td>0</td><td>0</td><td>3</td></tr><tr><td>e4c167053d54182305bf5ea081111e06bf298584cfcaebe792744eee19461f7f</td><td>0</td><td>0</td><td>2</td></tr><tr><td>e4c167053d54182305bf5ea081111e06bf298584cfcaebe792744eee19461f7f</td><td>0</td><td>0</td><td>1</td></tr></tbody></table></div>"
      ]
     },
     "metadata": {
      "application/vnd.databricks.v1+output": {
       "addedWidgets": {},
       "aggData": [],
       "aggError": "",
       "aggOverflow": false,
       "aggSchema": [],
       "aggSeriesLimitReached": false,
       "aggType": "",
       "arguments": {},
       "columnCustomDisplayInfos": {},
       "data": [
        [
         "e4c167053d54182305bf5ea081111e06bf298584cfcaebe792744eee19461f7f",
         0,
         0,
         0
        ],
        [
         "e4c167053d54182305bf5ea081111e06bf298584cfcaebe792744eee19461f7f",
         0,
         0,
         0
        ],
        [
         "e4c167053d54182305bf5ea081111e06bf298584cfcaebe792744eee19461f7f",
         0,
         0,
         3
        ],
        [
         "e4c167053d54182305bf5ea081111e06bf298584cfcaebe792744eee19461f7f",
         0,
         0,
         2
        ],
        [
         "e4c167053d54182305bf5ea081111e06bf298584cfcaebe792744eee19461f7f",
         0,
         0,
         1
        ]
       ],
       "datasetInfos": [],
       "dbfsResultPath": null,
       "isJsonSchema": true,
       "metadata": {},
       "overflow": false,
       "plotOptions": {
        "customPlotOptions": {},
        "displayType": "table",
        "pivotAggregation": null,
        "pivotColumns": null,
        "xColumns": null,
        "yColumns": null
       },
       "removedWidgets": [],
       "schema": [
        {
         "metadata": "{}",
         "name": "member_id",
         "type": "\"string\""
        },
        {
         "metadata": "{}",
         "name": "pub_rec",
         "type": "\"integer\""
        },
        {
         "metadata": "{}",
         "name": "pub_rec_bankruptcies",
         "type": "\"integer\""
        },
        {
         "metadata": "{}",
         "name": "inq_last_6mths",
         "type": "\"integer\""
        }
       ],
       "type": "table"
      }
     },
     "output_type": "display_data"
    }
   ],
   "source": [
    "display(spark.sql(\"\"\"select * from lending_club.loans_defaulters_detail_rec_enq\n",
    "where member_id like 'e4c167053d54182305bf5ea081111%'\"\"\"))"
   ]
  },
  {
   "cell_type": "code",
   "execution_count": 0,
   "metadata": {
    "application/vnd.databricks.v1+cell": {
     "cellMetadata": {
      "byteLimit": 2048000,
      "rowLimit": 10000
     },
     "inputWidgets": {},
     "nuid": "1ccf8627-d97f-47a3-ac3b-5293f23e4532",
     "showTitle": false,
     "tableResultSettingsMap": {},
     "title": ""
    }
   },
   "outputs": [],
   "source": [
    "bad_data_customer_df = spark.sql(\"\"\"select member_id from(select member_id, count(*)\n",
    "as total from lending_club.customers\n",
    "group by member_id having total > 1)\"\"\")"
   ]
  },
  {
   "cell_type": "code",
   "execution_count": 0,
   "metadata": {
    "application/vnd.databricks.v1+cell": {
     "cellMetadata": {
      "byteLimit": 2048000,
      "rowLimit": 10000
     },
     "inputWidgets": {},
     "nuid": "87b5d90c-3107-4d5e-861a-ee5cb13fc615",
     "showTitle": false,
     "tableResultSettingsMap": {},
     "title": ""
    }
   },
   "outputs": [
    {
     "output_type": "execute_result",
     "data": {
      "text/plain": [
       "3157"
      ]
     },
     "execution_count": 11,
     "metadata": {},
     "output_type": "execute_result"
    }
   ],
   "source": [
    "bad_data_customer_df.count()"
   ]
  },
  {
   "cell_type": "code",
   "execution_count": 0,
   "metadata": {
    "application/vnd.databricks.v1+cell": {
     "cellMetadata": {
      "byteLimit": 2048000,
      "rowLimit": 10000
     },
     "inputWidgets": {},
     "nuid": "cfe17bee-9641-45f7-a927-d70e2f413fab",
     "showTitle": false,
     "tableResultSettingsMap": {},
     "title": ""
    }
   },
   "outputs": [
    {
     "output_type": "display_data",
     "data": {
      "text/html": [
       "<style scoped>\n",
       "  .table-result-container {\n",
       "    max-height: 300px;\n",
       "    overflow: auto;\n",
       "  }\n",
       "  table, th, td {\n",
       "    border: 1px solid black;\n",
       "    border-collapse: collapse;\n",
       "  }\n",
       "  th, td {\n",
       "    padding: 5px;\n",
       "  }\n",
       "  th {\n",
       "    text-align: left;\n",
       "  }\n",
       "</style><div class='table-result-container'><table class='table-result'><thead style='background-color: white'><tr><th>member_id</th></tr></thead><tbody><tr><td>f99c6e9cfe3a7a2d201105961e4c02dcde643e827b6780f824d0c4cb898083be</td></tr><tr><td>3b8ffe19f24749a73028cd93bfd47207229aaacb1b86f252d461f28b54575a72</td></tr><tr><td>a2af7506825a7dcff5e9a2f898929f2f715eed891015b990a1dcbdc7193c5825</td></tr><tr><td>d4782ddad8591f44d28a18333d7709c5bdb319629d59705b99a604a31f5bf268</td></tr><tr><td>7115ace193e13d8f301ed3a2995233f1e9e321d5ce74926271b749eea83e768f</td></tr><tr><td>761b2f1e61999e14ecbbbde6806b4b80b5a251010898c020e1073ebb1cf054ea</td></tr><tr><td>a53e2f488d2d76a30c619bdaa5fe65707677841b4e5054cd9a1075f153de1681</td></tr><tr><td>4231a55d0199c619ad0139979d5fcadff1624db48bed642102c5f7e18526ad57</td></tr><tr><td>759c2dc5f485e54653cb6dddf81ae94afb82098b1ba74266595c2084597a0d2a</td></tr><tr><td>53789bea7edc660edf340d3eec7bbcd264b79316f911dd8f6af1fd485120d067</td></tr></tbody></table></div>"
      ]
     },
     "metadata": {
      "application/vnd.databricks.v1+output": {
       "addedWidgets": {},
       "aggData": [],
       "aggError": "",
       "aggOverflow": false,
       "aggSchema": [],
       "aggSeriesLimitReached": false,
       "aggType": "",
       "arguments": {},
       "columnCustomDisplayInfos": {},
       "data": [
        [
         "f99c6e9cfe3a7a2d201105961e4c02dcde643e827b6780f824d0c4cb898083be"
        ],
        [
         "3b8ffe19f24749a73028cd93bfd47207229aaacb1b86f252d461f28b54575a72"
        ],
        [
         "a2af7506825a7dcff5e9a2f898929f2f715eed891015b990a1dcbdc7193c5825"
        ],
        [
         "d4782ddad8591f44d28a18333d7709c5bdb319629d59705b99a604a31f5bf268"
        ],
        [
         "7115ace193e13d8f301ed3a2995233f1e9e321d5ce74926271b749eea83e768f"
        ],
        [
         "761b2f1e61999e14ecbbbde6806b4b80b5a251010898c020e1073ebb1cf054ea"
        ],
        [
         "a53e2f488d2d76a30c619bdaa5fe65707677841b4e5054cd9a1075f153de1681"
        ],
        [
         "4231a55d0199c619ad0139979d5fcadff1624db48bed642102c5f7e18526ad57"
        ],
        [
         "759c2dc5f485e54653cb6dddf81ae94afb82098b1ba74266595c2084597a0d2a"
        ],
        [
         "53789bea7edc660edf340d3eec7bbcd264b79316f911dd8f6af1fd485120d067"
        ]
       ],
       "datasetInfos": [],
       "dbfsResultPath": null,
       "isJsonSchema": true,
       "metadata": {},
       "overflow": false,
       "plotOptions": {
        "customPlotOptions": {},
        "displayType": "table",
        "pivotAggregation": null,
        "pivotColumns": null,
        "xColumns": null,
        "yColumns": null
       },
       "removedWidgets": [],
       "schema": [
        {
         "metadata": "{}",
         "name": "member_id",
         "type": "\"string\""
        }
       ],
       "type": "table"
      }
     },
     "output_type": "display_data"
    }
   ],
   "source": [
    "display(bad_data_customer_df.limit(10))"
   ]
  },
  {
   "cell_type": "code",
   "execution_count": 0,
   "metadata": {
    "application/vnd.databricks.v1+cell": {
     "cellMetadata": {
      "byteLimit": 2048000,
      "rowLimit": 10000
     },
     "inputWidgets": {},
     "nuid": "7165a4e1-91fa-4d52-8f50-f79b3154bdbb",
     "showTitle": false,
     "tableResultSettingsMap": {},
     "title": ""
    }
   },
   "outputs": [],
   "source": [
    "bad_data_loans_defaulters_delinq_df = spark.sql(\"\"\"select member_id from(select member_id, count(*)\n",
    "as total from lending_club.loans_defaulters_delinq\n",
    "group by member_id having total > 1)\"\"\")"
   ]
  },
  {
   "cell_type": "code",
   "execution_count": 0,
   "metadata": {
    "application/vnd.databricks.v1+cell": {
     "cellMetadata": {
      "byteLimit": 2048000,
      "rowLimit": 10000
     },
     "inputWidgets": {},
     "nuid": "09ade470-70c1-47de-8881-95783744fce5",
     "showTitle": false,
     "tableResultSettingsMap": {},
     "title": ""
    }
   },
   "outputs": [
    {
     "output_type": "execute_result",
     "data": {
      "text/plain": [
       "939"
      ]
     },
     "execution_count": 18,
     "metadata": {},
     "output_type": "execute_result"
    }
   ],
   "source": [
    "bad_data_loans_defaulters_delinq_df.count()"
   ]
  },
  {
   "cell_type": "code",
   "execution_count": 0,
   "metadata": {
    "application/vnd.databricks.v1+cell": {
     "cellMetadata": {
      "byteLimit": 2048000,
      "rowLimit": 10000
     },
     "inputWidgets": {},
     "nuid": "c43de49b-01e2-486f-8c4c-8ff2ae31db97",
     "showTitle": false,
     "tableResultSettingsMap": {},
     "title": ""
    }
   },
   "outputs": [
    {
     "output_type": "display_data",
     "data": {
      "text/html": [
       "<style scoped>\n",
       "  .table-result-container {\n",
       "    max-height: 300px;\n",
       "    overflow: auto;\n",
       "  }\n",
       "  table, th, td {\n",
       "    border: 1px solid black;\n",
       "    border-collapse: collapse;\n",
       "  }\n",
       "  th, td {\n",
       "    padding: 5px;\n",
       "  }\n",
       "  th {\n",
       "    text-align: left;\n",
       "  }\n",
       "</style><div class='table-result-container'><table class='table-result'><thead style='background-color: white'><tr><th>member_id</th></tr></thead><tbody><tr><td>cd1fdca829c443fa7a2ac1ddf70a89c0851d76a3ab39a61ba0df0cef9ec2f221</td></tr><tr><td>7115ace193e13d8f301ed3a2995233f1e9e321d5ce74926271b749eea83e768f</td></tr><tr><td>d4782ddad8591f44d28a18333d7709c5bdb319629d59705b99a604a31f5bf268</td></tr><tr><td>3b94fbab00b7a0ec4c595d2b0207f435f7384dc3d4f2a36aadbe0bf96e31f25e</td></tr><tr><td>48846377688c803fa8697e29bb15b4e71e660b75ba4686316bb76d7308e1b214</td></tr><tr><td>e884f4108b3c6b1f4d06e687d5dca47b141810de8402360edf2301ab5221b9ea</td></tr><tr><td>d34249ef84980fb46d942d2bf3421590c70d15953eeb0467b183cb46c602f731</td></tr><tr><td>e1f91eb87353347fdfec56603a2cc8798ddad4f8bcaf5d75a577ce3aceac8f1a</td></tr><tr><td>827a048c072fb44b0322976e957750adcaabe4910c75235b3b934a4740d87285</td></tr><tr><td>4273588c35c7b7f4030b04f12d24e82bc44bbcd2cfc7b78959c084a4b55efd31</td></tr></tbody></table></div>"
      ]
     },
     "metadata": {
      "application/vnd.databricks.v1+output": {
       "addedWidgets": {},
       "aggData": [],
       "aggError": "",
       "aggOverflow": false,
       "aggSchema": [],
       "aggSeriesLimitReached": false,
       "aggType": "",
       "arguments": {},
       "columnCustomDisplayInfos": {},
       "data": [
        [
         "cd1fdca829c443fa7a2ac1ddf70a89c0851d76a3ab39a61ba0df0cef9ec2f221"
        ],
        [
         "7115ace193e13d8f301ed3a2995233f1e9e321d5ce74926271b749eea83e768f"
        ],
        [
         "d4782ddad8591f44d28a18333d7709c5bdb319629d59705b99a604a31f5bf268"
        ],
        [
         "3b94fbab00b7a0ec4c595d2b0207f435f7384dc3d4f2a36aadbe0bf96e31f25e"
        ],
        [
         "48846377688c803fa8697e29bb15b4e71e660b75ba4686316bb76d7308e1b214"
        ],
        [
         "e884f4108b3c6b1f4d06e687d5dca47b141810de8402360edf2301ab5221b9ea"
        ],
        [
         "d34249ef84980fb46d942d2bf3421590c70d15953eeb0467b183cb46c602f731"
        ],
        [
         "e1f91eb87353347fdfec56603a2cc8798ddad4f8bcaf5d75a577ce3aceac8f1a"
        ],
        [
         "827a048c072fb44b0322976e957750adcaabe4910c75235b3b934a4740d87285"
        ],
        [
         "4273588c35c7b7f4030b04f12d24e82bc44bbcd2cfc7b78959c084a4b55efd31"
        ]
       ],
       "datasetInfos": [],
       "dbfsResultPath": null,
       "isJsonSchema": true,
       "metadata": {},
       "overflow": false,
       "plotOptions": {
        "customPlotOptions": {},
        "displayType": "table",
        "pivotAggregation": null,
        "pivotColumns": null,
        "xColumns": null,
        "yColumns": null
       },
       "removedWidgets": [],
       "schema": [
        {
         "metadata": "{}",
         "name": "member_id",
         "type": "\"string\""
        }
       ],
       "type": "table"
      }
     },
     "output_type": "display_data"
    }
   ],
   "source": [
    "display(bad_data_loans_defaulters_delinq_df.limit(10))"
   ]
  },
  {
   "cell_type": "code",
   "execution_count": 0,
   "metadata": {
    "application/vnd.databricks.v1+cell": {
     "cellMetadata": {
      "byteLimit": 2048000,
      "rowLimit": 10000
     },
     "inputWidgets": {},
     "nuid": "0a0e630d-1e7a-4ec7-bf1a-d89238b1c4c6",
     "showTitle": false,
     "tableResultSettingsMap": {},
     "title": ""
    }
   },
   "outputs": [],
   "source": [
    "bad_data_loans_defaulters_detail_rec_enq_df = spark.sql(\"\"\"select member_id from(select member_id, count(*)\n",
    "as total from lending_club.loans_defaulters_detail_rec_enq\n",
    "group by member_id having total > 1)\"\"\")"
   ]
  },
  {
   "cell_type": "code",
   "execution_count": 0,
   "metadata": {
    "application/vnd.databricks.v1+cell": {
     "cellMetadata": {
      "byteLimit": 2048000,
      "rowLimit": 10000
     },
     "inputWidgets": {},
     "nuid": "7c224fce-1baa-48e4-b77c-ce1cdd22c93b",
     "showTitle": false,
     "tableResultSettingsMap": {},
     "title": ""
    }
   },
   "outputs": [
    {
     "output_type": "execute_result",
     "data": {
      "text/plain": [
       "3189"
      ]
     },
     "execution_count": 21,
     "metadata": {},
     "output_type": "execute_result"
    }
   ],
   "source": [
    "bad_data_loans_defaulters_detail_rec_enq_df.count()"
   ]
  },
  {
   "cell_type": "code",
   "execution_count": 0,
   "metadata": {
    "application/vnd.databricks.v1+cell": {
     "cellMetadata": {
      "byteLimit": 2048000,
      "rowLimit": 10000
     },
     "inputWidgets": {},
     "nuid": "12cd5b83-a0b3-4e81-a27a-7e5fcec42938",
     "showTitle": false,
     "tableResultSettingsMap": {},
     "title": ""
    }
   },
   "outputs": [
    {
     "output_type": "display_data",
     "data": {
      "text/html": [
       "<style scoped>\n",
       "  .table-result-container {\n",
       "    max-height: 300px;\n",
       "    overflow: auto;\n",
       "  }\n",
       "  table, th, td {\n",
       "    border: 1px solid black;\n",
       "    border-collapse: collapse;\n",
       "  }\n",
       "  th, td {\n",
       "    padding: 5px;\n",
       "  }\n",
       "  th {\n",
       "    text-align: left;\n",
       "  }\n",
       "</style><div class='table-result-container'><table class='table-result'><thead style='background-color: white'><tr><th>member_id</th></tr></thead><tbody><tr><td>5130d0087970e032e64cfa83f4cbcabaee7f63dfc1451d3940d53c09d26bcc6b</td></tr><tr><td>761b2f1e61999e14ecbbbde6806b4b80b5a251010898c020e1073ebb1cf054ea</td></tr><tr><td>f99c6e9cfe3a7a2d201105961e4c02dcde643e827b6780f824d0c4cb898083be</td></tr><tr><td>a53e2f488d2d76a30c619bdaa5fe65707677841b4e5054cd9a1075f153de1681</td></tr><tr><td>a2af7506825a7dcff5e9a2f898929f2f715eed891015b990a1dcbdc7193c5825</td></tr><tr><td>d4782ddad8591f44d28a18333d7709c5bdb319629d59705b99a604a31f5bf268</td></tr><tr><td>3b8ffe19f24749a73028cd93bfd47207229aaacb1b86f252d461f28b54575a72</td></tr><tr><td>675151e58a628e87b7f492093464ec7bde4dba583ba2de8b662c72e25d56acb8</td></tr><tr><td>f284044b881f218c0f96352f6e86d7dd0c3c2eba1824ae2e78ce1dd12bcb7292</td></tr><tr><td>eebbd89aa7efc13e79b33f1b89f2f933eeb1589bf5ed6d3a3adbdd08f10d8147</td></tr></tbody></table></div>"
      ]
     },
     "metadata": {
      "application/vnd.databricks.v1+output": {
       "addedWidgets": {},
       "aggData": [],
       "aggError": "",
       "aggOverflow": false,
       "aggSchema": [],
       "aggSeriesLimitReached": false,
       "aggType": "",
       "arguments": {},
       "columnCustomDisplayInfos": {},
       "data": [
        [
         "5130d0087970e032e64cfa83f4cbcabaee7f63dfc1451d3940d53c09d26bcc6b"
        ],
        [
         "761b2f1e61999e14ecbbbde6806b4b80b5a251010898c020e1073ebb1cf054ea"
        ],
        [
         "f99c6e9cfe3a7a2d201105961e4c02dcde643e827b6780f824d0c4cb898083be"
        ],
        [
         "a53e2f488d2d76a30c619bdaa5fe65707677841b4e5054cd9a1075f153de1681"
        ],
        [
         "a2af7506825a7dcff5e9a2f898929f2f715eed891015b990a1dcbdc7193c5825"
        ],
        [
         "d4782ddad8591f44d28a18333d7709c5bdb319629d59705b99a604a31f5bf268"
        ],
        [
         "3b8ffe19f24749a73028cd93bfd47207229aaacb1b86f252d461f28b54575a72"
        ],
        [
         "675151e58a628e87b7f492093464ec7bde4dba583ba2de8b662c72e25d56acb8"
        ],
        [
         "f284044b881f218c0f96352f6e86d7dd0c3c2eba1824ae2e78ce1dd12bcb7292"
        ],
        [
         "eebbd89aa7efc13e79b33f1b89f2f933eeb1589bf5ed6d3a3adbdd08f10d8147"
        ]
       ],
       "datasetInfos": [],
       "dbfsResultPath": null,
       "isJsonSchema": true,
       "metadata": {},
       "overflow": false,
       "plotOptions": {
        "customPlotOptions": {},
        "displayType": "table",
        "pivotAggregation": null,
        "pivotColumns": null,
        "xColumns": null,
        "yColumns": null
       },
       "removedWidgets": [],
       "schema": [
        {
         "metadata": "{}",
         "name": "member_id",
         "type": "\"string\""
        }
       ],
       "type": "table"
      }
     },
     "output_type": "display_data"
    }
   ],
   "source": [
    "display(bad_data_loans_defaulters_detail_rec_enq_df.limit(10))"
   ]
  },
  {
   "cell_type": "code",
   "execution_count": 0,
   "metadata": {
    "application/vnd.databricks.v1+cell": {
     "cellMetadata": {
      "byteLimit": 2048000,
      "rowLimit": 10000
     },
     "inputWidgets": {},
     "nuid": "c257c1c5-2068-4a0d-a6df-449400763bbf",
     "showTitle": false,
     "tableResultSettingsMap": {},
     "title": ""
    }
   },
   "outputs": [],
   "source": [
    "bad_data_customer_df.repartition(1).write \\\n",
    ".format(\"csv\") \\\n",
    ".option(\"header\", True) \\\n",
    ".mode(\"overwrite\") \\\n",
    ".option(\"path\", \"/mnt/Lendingclub/Lendingclub/Lendingclub/bad/bad_data_customers\") \\\n",
    ".save()"
   ]
  },
  {
   "cell_type": "code",
   "execution_count": 0,
   "metadata": {
    "application/vnd.databricks.v1+cell": {
     "cellMetadata": {
      "byteLimit": 2048000,
      "rowLimit": 10000
     },
     "inputWidgets": {},
     "nuid": "6d159ce4-f79d-4a6b-97b4-29c12c525fbe",
     "showTitle": false,
     "tableResultSettingsMap": {},
     "title": ""
    }
   },
   "outputs": [],
   "source": [
    "bad_data_loans_defaulters_delinq_df.repartition(1).write \\\n",
    ".format(\"csv\") \\\n",
    ".option(\"header\", True) \\\n",
    ".mode(\"overwrite\") \\\n",
    ".option(\"path\", \"/mnt/Lendingclub/Lendingclub/Lendingclub/bad/bad_data_loans_defaulters_delinq\") \\\n",
    ".save()"
   ]
  },
  {
   "cell_type": "code",
   "execution_count": 0,
   "metadata": {
    "application/vnd.databricks.v1+cell": {
     "cellMetadata": {
      "byteLimit": 2048000,
      "rowLimit": 10000
     },
     "inputWidgets": {},
     "nuid": "4580f7a4-c7bf-4cab-87e0-76cda46763e6",
     "showTitle": false,
     "tableResultSettingsMap": {},
     "title": ""
    }
   },
   "outputs": [],
   "source": [
    "bad_data_loans_defaulters_detail_rec_enq_df.repartition(1).write \\\n",
    ".format(\"csv\") \\\n",
    ".option(\"header\", True) \\\n",
    ".mode(\"overwrite\") \\\n",
    ".option(\"path\", \"/mnt/Lendingclub/Lendingclub/Lendingclub/bad/bad_data_loans_defaulters_detail_rec_enq\") \\\n",
    ".save()"
   ]
  },
  {
   "cell_type": "code",
   "execution_count": 0,
   "metadata": {
    "application/vnd.databricks.v1+cell": {
     "cellMetadata": {
      "byteLimit": 2048000,
      "rowLimit": 10000
     },
     "inputWidgets": {},
     "nuid": "9e9baaae-5155-4ebd-aa84-9f7dd62d48b3",
     "showTitle": false,
     "tableResultSettingsMap": {},
     "title": ""
    }
   },
   "outputs": [],
   "source": [
    "bad_customer_data_df = bad_data_customer_df.select(\"member_id\") \\\n",
    ".union(bad_data_loans_defaulters_delinq_df.select(\"member_id\")) \\\n",
    ".union(bad_data_loans_defaulters_detail_rec_enq_df.select(\"member_id\"))"
   ]
  },
  {
   "cell_type": "code",
   "execution_count": 0,
   "metadata": {
    "application/vnd.databricks.v1+cell": {
     "cellMetadata": {
      "byteLimit": 2048000,
      "rowLimit": 10000
     },
     "inputWidgets": {},
     "nuid": "d04bd2a8-992d-4005-b962-6902cca589db",
     "showTitle": false,
     "tableResultSettingsMap": {},
     "title": ""
    }
   },
   "outputs": [],
   "source": [
    "bad_customer_data_final_df = bad_customer_data_df.distinct()"
   ]
  },
  {
   "cell_type": "code",
   "execution_count": 0,
   "metadata": {
    "application/vnd.databricks.v1+cell": {
     "cellMetadata": {
      "byteLimit": 2048000,
      "rowLimit": 10000
     },
     "inputWidgets": {},
     "nuid": "1c50aeed-a5d3-4902-afcb-5feb32af0da1",
     "showTitle": false,
     "tableResultSettingsMap": {},
     "title": ""
    }
   },
   "outputs": [
    {
     "output_type": "execute_result",
     "data": {
      "text/plain": [
       "3189"
      ]
     },
     "execution_count": 28,
     "metadata": {},
     "output_type": "execute_result"
    }
   ],
   "source": [
    "bad_customer_data_final_df.count()"
   ]
  },
  {
   "cell_type": "code",
   "execution_count": 0,
   "metadata": {
    "application/vnd.databricks.v1+cell": {
     "cellMetadata": {
      "byteLimit": 2048000,
      "rowLimit": 10000
     },
     "inputWidgets": {},
     "nuid": "3087c9e8-21e5-4c33-be81-bc7adb461f1f",
     "showTitle": false,
     "tableResultSettingsMap": {},
     "title": ""
    }
   },
   "outputs": [],
   "source": [
    "bad_customer_data_final_df.repartition(1).write \\\n",
    ".format(\"csv\") \\\n",
    ".option(\"header\", True) \\\n",
    ".mode(\"overwrite\") \\\n",
    ".option(\"path\", \"/mnt/Lendingclub/Lendingclub/Lendingclub/bad/bad_customer_data_final\") \\\n",
    ".save()"
   ]
  },
  {
   "cell_type": "code",
   "execution_count": 0,
   "metadata": {
    "application/vnd.databricks.v1+cell": {
     "cellMetadata": {
      "byteLimit": 2048000,
      "rowLimit": 10000
     },
     "inputWidgets": {},
     "nuid": "6cdf762f-c878-493b-8f49-a98f9a88098b",
     "showTitle": false,
     "tableResultSettingsMap": {},
     "title": ""
    }
   },
   "outputs": [],
   "source": [
    "bad_customer_data_final_df.createOrReplaceTempView(\"bad_data_customer\")"
   ]
  },
  {
   "cell_type": "code",
   "execution_count": 0,
   "metadata": {
    "application/vnd.databricks.v1+cell": {
     "cellMetadata": {
      "byteLimit": 2048000,
      "rowLimit": 10000
     },
     "inputWidgets": {},
     "nuid": "b66cc946-9ae1-4660-b7ec-fd8be8792f83",
     "showTitle": false,
     "tableResultSettingsMap": {},
     "title": ""
    }
   },
   "outputs": [],
   "source": [
    "customers_df = spark.sql(\"\"\"select * from lending_club.customers\n",
    "where member_id NOT IN (select member_id from bad_data_customer)\n",
    "\"\"\")"
   ]
  },
  {
   "cell_type": "code",
   "execution_count": 0,
   "metadata": {
    "application/vnd.databricks.v1+cell": {
     "cellMetadata": {
      "byteLimit": 2048000,
      "rowLimit": 10000
     },
     "inputWidgets": {},
     "nuid": "ded064ac-541a-46e4-9acd-eaf235ce178e",
     "showTitle": false,
     "tableResultSettingsMap": {},
     "title": ""
    }
   },
   "outputs": [],
   "source": [
    "customers_df.write \\\n",
    ".format(\"parquet\") \\\n",
    ".mode(\"overwrite\") \\\n",
    ".option(\"path\", \"/mnt/Lendingclub/Lendingclub/Lendingclub/cleaned_final/customers_parquet\") \\\n",
    ".save()"
   ]
  },
  {
   "cell_type": "code",
   "execution_count": 0,
   "metadata": {
    "application/vnd.databricks.v1+cell": {
     "cellMetadata": {
      "byteLimit": 2048000,
      "rowLimit": 10000
     },
     "inputWidgets": {},
     "nuid": "8464740d-3348-42cd-adf6-bd3dc7491d6a",
     "showTitle": false,
     "tableResultSettingsMap": {},
     "title": ""
    }
   },
   "outputs": [],
   "source": [
    "loans_defaulters_delinq_df = spark.sql(\"\"\"select * from lending_club.loans_defaulters_delinq\n",
    "where member_id NOT IN (select member_id from bad_data_customer)\n",
    "\"\"\")"
   ]
  },
  {
   "cell_type": "code",
   "execution_count": 0,
   "metadata": {
    "application/vnd.databricks.v1+cell": {
     "cellMetadata": {
      "byteLimit": 2048000,
      "rowLimit": 10000
     },
     "inputWidgets": {},
     "nuid": "05e2ba92-0f87-4976-916e-c2899319f137",
     "showTitle": false,
     "tableResultSettingsMap": {},
     "title": ""
    }
   },
   "outputs": [],
   "source": [
    "loans_defaulters_delinq_df.write \\\n",
    ".format(\"parquet\") \\\n",
    ".mode(\"overwrite\") \\\n",
    ".option(\"path\", \"/mnt/Lendingclub/Lendingclub/Lendingclub/cleaned_final/loans_defaulters_delinq_parquet\") \\\n",
    ".save()"
   ]
  },
  {
   "cell_type": "code",
   "execution_count": 0,
   "metadata": {
    "application/vnd.databricks.v1+cell": {
     "cellMetadata": {
      "byteLimit": 2048000,
      "rowLimit": 10000
     },
     "inputWidgets": {},
     "nuid": "e5762c52-74a5-4893-96b8-9572f0fc2179",
     "showTitle": false,
     "tableResultSettingsMap": {},
     "title": ""
    }
   },
   "outputs": [],
   "source": [
    "loans_defaulters_detail_rec_enq_df = spark.sql(\"\"\"select * from lending_club.loans_defaulters_detail_rec_enq\n",
    "where member_id NOT IN (select member_id from bad_data_customer)\n",
    "\"\"\")"
   ]
  },
  {
   "cell_type": "code",
   "execution_count": 0,
   "metadata": {
    "application/vnd.databricks.v1+cell": {
     "cellMetadata": {
      "byteLimit": 2048000,
      "rowLimit": 10000
     },
     "inputWidgets": {},
     "nuid": "e5f0e594-64e0-43bd-a820-1663c7190f71",
     "showTitle": false,
     "tableResultSettingsMap": {},
     "title": ""
    }
   },
   "outputs": [],
   "source": [
    "loans_defaulters_detail_rec_enq_df.write \\\n",
    ".format(\"parquet\") \\\n",
    ".mode(\"overwrite\") \\\n",
    ".option(\"path\", \"/mnt/Lendingclub/Lendingclub/Lendingclub/cleaned_final/loans_defaulters_detail_rec_enq_parquet\") \\\n",
    ".save()"
   ]
  },
  {
   "cell_type": "code",
   "execution_count": 0,
   "metadata": {
    "application/vnd.databricks.v1+cell": {
     "cellMetadata": {
      "byteLimit": 2048000,
      "implicitDf": true,
      "rowLimit": 10000
     },
     "inputWidgets": {},
     "nuid": "ce31cc6b-61f8-4afb-aa91-149947446a53",
     "showTitle": false,
     "tableResultSettingsMap": {},
     "title": ""
    }
   },
   "outputs": [],
   "source": [
    "%sql\n",
    "CREATE TABLE IF NOT EXISTS lending_club.customers_new\n",
    "USING PARQUET\n",
    "LOCATION 'abfss://lendingclub@sparkprojectadls.dfs.core.windows.net/Lendingclub/cleaned_final/customers_parquet';"
   ]
  },
  {
   "cell_type": "code",
   "execution_count": 0,
   "metadata": {
    "application/vnd.databricks.v1+cell": {
     "cellMetadata": {
      "byteLimit": 2048000,
      "implicitDf": true,
      "rowLimit": 10000
     },
     "inputWidgets": {},
     "nuid": "96e0c519-9160-495e-b807-807274814aaa",
     "showTitle": false,
     "tableResultSettingsMap": {},
     "title": ""
    }
   },
   "outputs": [],
   "source": [
    "%sql\n",
    "CREATE TABLE IF NOT EXISTS lending_club.loans_defaulters_delinq_new\n",
    "USING PARQUET\n",
    "LOCATION 'abfss://lendingclub@sparkprojectadls.dfs.core.windows.net/Lendingclub/cleaned_final/loans_defaulters_delinq_parquet';"
   ]
  },
  {
   "cell_type": "code",
   "execution_count": 0,
   "metadata": {
    "application/vnd.databricks.v1+cell": {
     "cellMetadata": {
      "byteLimit": 2048000,
      "implicitDf": true,
      "rowLimit": 10000
     },
     "inputWidgets": {},
     "nuid": "f787da1f-ee6e-4a30-aa9a-badaf4b82105",
     "showTitle": false,
     "tableResultSettingsMap": {},
     "title": ""
    }
   },
   "outputs": [],
   "source": [
    "%sql\n",
    "CREATE TABLE IF NOT EXISTS lending_club.loans_defaulters_detail_rec_enq_new\n",
    "USING PARQUET\n",
    "LOCATION 'abfss://lendingclub@sparkprojectadls.dfs.core.windows.net/Lendingclub/cleaned_final/loans_defaulters_detail_rec_enq_parquet';"
   ]
  },
  {
   "cell_type": "code",
   "execution_count": 0,
   "metadata": {
    "application/vnd.databricks.v1+cell": {
     "cellMetadata": {
      "byteLimit": 2048000,
      "rowLimit": 10000
     },
     "inputWidgets": {},
     "nuid": "483380ba-1d32-4716-a087-d50adeb59fba",
     "showTitle": false,
     "tableResultSettingsMap": {},
     "title": ""
    }
   },
   "outputs": [
    {
     "output_type": "display_data",
     "data": {
      "text/html": [
       "<style scoped>\n",
       "  .table-result-container {\n",
       "    max-height: 300px;\n",
       "    overflow: auto;\n",
       "  }\n",
       "  table, th, td {\n",
       "    border: 1px solid black;\n",
       "    border-collapse: collapse;\n",
       "  }\n",
       "  th, td {\n",
       "    padding: 5px;\n",
       "  }\n",
       "  th {\n",
       "    text-align: left;\n",
       "  }\n",
       "</style><div class='table-result-container'><table class='table-result'><thead style='background-color: white'><tr><th>member_id</th><th>total</th></tr></thead><tbody><tr><td>d2e995f74939fc7680c2acf8da2102fac6e6213383343f4c35f66fa4b250755d</td><td>1</td></tr><tr><td>dc32134554ea287167853a1c9bfd336ca3992715a976dcc6d0d5b4ef88ee5566</td><td>1</td></tr><tr><td>ceae3ecc932bb678da9ea299be8159adddd8daec054ab0ede13e4ce711175914</td><td>1</td></tr><tr><td>fc502d9a97b54af50938338026ea2e1b9ac22a97a21c9212850cd58ab1b51d0f</td><td>1</td></tr><tr><td>1cb5e2b57ee07a82d849153c790f6ce7feab392b39a11dd2f2605b7f786a030a</td><td>1</td></tr><tr><td>1837cdcab950dd5714b30e530dd6ce32165dc05eee3bc715b43e565f24464cfc</td><td>1</td></tr><tr><td>3d6c953a86f06912b77af29e691cb81860e16319d95e1f1df361ce6c4dd75037</td><td>1</td></tr><tr><td>1fa1114fb5efd62c88f73b55c12238c4f64f986feecbd8d2b1feb1af42befce6</td><td>1</td></tr><tr><td>c1e18ef1f4aace907868455a9af852cec1b50371d2fcfe2270ccbd333e5e8ef9</td><td>1</td></tr><tr><td>3dba612acb7cc2e61412fea2e873aa2523f137b7528f1db9160e17b2f790c2cb</td><td>1</td></tr></tbody></table></div>"
      ]
     },
     "metadata": {
      "application/vnd.databricks.v1+output": {
       "addedWidgets": {},
       "aggData": [],
       "aggError": "",
       "aggOverflow": false,
       "aggSchema": [],
       "aggSeriesLimitReached": false,
       "aggType": "",
       "arguments": {},
       "columnCustomDisplayInfos": {},
       "data": [
        [
         "d2e995f74939fc7680c2acf8da2102fac6e6213383343f4c35f66fa4b250755d",
         1
        ],
        [
         "dc32134554ea287167853a1c9bfd336ca3992715a976dcc6d0d5b4ef88ee5566",
         1
        ],
        [
         "ceae3ecc932bb678da9ea299be8159adddd8daec054ab0ede13e4ce711175914",
         1
        ],
        [
         "fc502d9a97b54af50938338026ea2e1b9ac22a97a21c9212850cd58ab1b51d0f",
         1
        ],
        [
         "1cb5e2b57ee07a82d849153c790f6ce7feab392b39a11dd2f2605b7f786a030a",
         1
        ],
        [
         "1837cdcab950dd5714b30e530dd6ce32165dc05eee3bc715b43e565f24464cfc",
         1
        ],
        [
         "3d6c953a86f06912b77af29e691cb81860e16319d95e1f1df361ce6c4dd75037",
         1
        ],
        [
         "1fa1114fb5efd62c88f73b55c12238c4f64f986feecbd8d2b1feb1af42befce6",
         1
        ],
        [
         "c1e18ef1f4aace907868455a9af852cec1b50371d2fcfe2270ccbd333e5e8ef9",
         1
        ],
        [
         "3dba612acb7cc2e61412fea2e873aa2523f137b7528f1db9160e17b2f790c2cb",
         1
        ]
       ],
       "datasetInfos": [],
       "dbfsResultPath": null,
       "isJsonSchema": true,
       "metadata": {},
       "overflow": false,
       "plotOptions": {
        "customPlotOptions": {},
        "displayType": "table",
        "pivotAggregation": null,
        "pivotColumns": null,
        "xColumns": null,
        "yColumns": null
       },
       "removedWidgets": [],
       "schema": [
        {
         "metadata": "{}",
         "name": "member_id",
         "type": "\"string\""
        },
        {
         "metadata": "{}",
         "name": "total",
         "type": "\"long\""
        }
       ],
       "type": "table"
      }
     },
     "output_type": "display_data"
    }
   ],
   "source": [
    "display(spark.sql(\"\"\"select member_id, count(*) as total \n",
    "from lending_club.customers_new\n",
    "group by member_id order by total desc\"\"\").limit(10))"
   ]
  }
 ],
 "metadata": {
  "application/vnd.databricks.v1+notebook": {
   "computePreferences": null,
   "dashboards": [],
   "environmentMetadata": null,
   "inputWidgetPreferences": null,
   "language": "python",
   "notebookMetadata": {
    "mostRecentlyExecutedCommandWithImplicitDF": {
     "commandId": 8917210138442951,
     "dataframes": [
      "_sqldf"
     ]
    },
    "pythonIndentUnit": 4
   },
   "notebookName": "131_Final_Cleaning_Of_Tables",
   "widgets": {}
  },
  "kernelspec": {
   "display_name": "Pyspark 3",
   "language": "python",
   "name": "pyspark3"
  },
  "language_info": {
   "name": "python"
  }
 },
 "nbformat": 4,
 "nbformat_minor": 0
}
