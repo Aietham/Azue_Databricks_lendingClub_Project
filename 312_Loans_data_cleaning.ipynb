{
 "cells": [
  {
   "cell_type": "markdown",
   "metadata": {
    "application/vnd.databricks.v1+cell": {
     "cellMetadata": {},
     "inputWidgets": {},
     "nuid": "a4ccce91-f975-429e-9b1e-116d61188bd0",
     "showTitle": false,
     "tableResultSettingsMap": {},
     "title": ""
    }
   },
   "source": []
  },
  {
   "cell_type": "markdown",
   "metadata": {
    "application/vnd.databricks.v1+cell": {
     "cellMetadata": {},
     "inputWidgets": {},
     "nuid": "005b6e74-4159-4ba0-9709-e09707c85b78",
     "showTitle": false,
     "tableResultSettingsMap": {},
     "title": ""
    }
   },
   "source": [
    "#### 1. create a dataframe with proper datatypes and names"
   ]
  },
  {
   "cell_type": "code",
   "execution_count": 0,
   "metadata": {
    "application/vnd.databricks.v1+cell": {
     "cellMetadata": {
      "byteLimit": 2048000,
      "rowLimit": 10000
     },
     "inputWidgets": {},
     "nuid": "4a66be09-b913-4d19-a242-ced418cc2ca0",
     "showTitle": false,
     "tableResultSettingsMap": {},
     "title": ""
    }
   },
   "outputs": [],
   "source": [
    "loans_schema = 'loan_id string, member_id string, loan_amount float, funded_amount float, loan_term_months string, interest_rate float, monthly_installment float, issue_date string, loan_status string, loan_purpose string, loan_title string'"
   ]
  },
  {
   "cell_type": "code",
   "execution_count": 0,
   "metadata": {
    "application/vnd.databricks.v1+cell": {
     "cellMetadata": {
      "byteLimit": 2048000,
      "rowLimit": 10000
     },
     "inputWidgets": {},
     "nuid": "2078bb94-df4a-4878-ae46-c62df54d6cd7",
     "showTitle": false,
     "tableResultSettingsMap": {},
     "title": ""
    }
   },
   "outputs": [],
   "source": [
    "loans_raw_df = spark.read \\\n",
    ".format(\"csv\") \\\n",
    ".option(\"header\",True) \\\n",
    ".schema(loans_schema) \\\n",
    ".load(\"/mnt/Lendingclub/Lendingclub/Lendingclub/raw/loans_data_csv\")"
   ]
  },
  {
   "cell_type": "code",
   "execution_count": 0,
   "metadata": {
    "application/vnd.databricks.v1+cell": {
     "cellMetadata": {
      "byteLimit": 2048000,
      "rowLimit": 10000
     },
     "inputWidgets": {},
     "nuid": "f4b94863-5216-4d97-850d-e851c37106aa",
     "showTitle": false,
     "tableResultSettingsMap": {},
     "title": ""
    }
   },
   "outputs": [
    {
     "output_type": "display_data",
     "data": {
      "text/html": [
       "<style scoped>\n",
       "  .table-result-container {\n",
       "    max-height: 300px;\n",
       "    overflow: auto;\n",
       "  }\n",
       "  table, th, td {\n",
       "    border: 1px solid black;\n",
       "    border-collapse: collapse;\n",
       "  }\n",
       "  th, td {\n",
       "    padding: 5px;\n",
       "  }\n",
       "  th {\n",
       "    text-align: left;\n",
       "  }\n",
       "</style><div class='table-result-container'><table class='table-result'><thead style='background-color: white'><tr><th>loan_id</th><th>member_id</th><th>loan_amount</th><th>funded_amount</th><th>loan_term_months</th><th>interest_rate</th><th>monthly_installment</th><th>issue_date</th><th>loan_status</th><th>loan_purpose</th><th>loan_title</th></tr></thead><tbody><tr><td>68407277</td><td>6d5091b3fcaaeb4eac37445042b6b79e8b21f16943b9c32c4f5dd74dcb0f2210</td><td>3600.0</td><td>3600.0</td><td>36 months</td><td>13.99</td><td>123.03</td><td>Dec-2015</td><td>Fully Paid</td><td>debt_consolidation</td><td>Debt consolidation</td></tr><tr><td>68355089</td><td>b5e7938b0a2da4ceaa75ea2e3c111d1e33ca0f944f954b6d65671ef395d21713</td><td>24700.0</td><td>24700.0</td><td>36 months</td><td>11.99</td><td>820.28</td><td>Dec-2015</td><td>Fully Paid</td><td>small_business</td><td>Business</td></tr><tr><td>68341763</td><td>91060b858433e8a6107be9b76b324e304b5802631fc081b449188fe4b4e32205</td><td>20000.0</td><td>20000.0</td><td>60 months</td><td>10.78</td><td>432.66</td><td>Dec-2015</td><td>Fully Paid</td><td>home_improvement</td><td>null</td></tr><tr><td>66310712</td><td>cab1fa9f533688b0aab7c6be7b6256d15ad1dd5f3c4ca061a49cfeb26901977d</td><td>35000.0</td><td>35000.0</td><td>60 months</td><td>14.85</td><td>829.9</td><td>Dec-2015</td><td>Current</td><td>debt_consolidation</td><td>Debt consolidation</td></tr><tr><td>68476807</td><td>f74e401c1ab0adf788a7279dd70a27459fcc47733d35eed71149ff371d2a7283</td><td>10400.0</td><td>10400.0</td><td>60 months</td><td>22.45</td><td>289.91</td><td>Dec-2015</td><td>Fully Paid</td><td>major_purchase</td><td>Major purchase</td></tr><tr><td>68426831</td><td>8aef4bb29d609d8d684fd709af965bd690fc9ef3a2691777f38e0c10d622fe97</td><td>11950.0</td><td>11950.0</td><td>36 months</td><td>13.44</td><td>405.18</td><td>Dec-2015</td><td>Fully Paid</td><td>debt_consolidation</td><td>Debt consolidation</td></tr><tr><td>68476668</td><td>538b4653da3b1e8142b50baacf97a57b721eb6ec565f5fb63a1b71d191e9e934</td><td>20000.0</td><td>20000.0</td><td>36 months</td><td>9.17</td><td>637.58</td><td>Dec-2015</td><td>Fully Paid</td><td>debt_consolidation</td><td>Debt consolidation</td></tr><tr><td>67275481</td><td>b24d55f21390533c512f78f822153dc247e984dcd0cfe031c341ccef1c689817</td><td>20000.0</td><td>20000.0</td><td>36 months</td><td>8.49</td><td>631.26</td><td>Dec-2015</td><td>Fully Paid</td><td>major_purchase</td><td>Major purchase</td></tr><tr><td>68466926</td><td>1035c5401b0ca76d02c334b813302a9b72825e70b1659e8bc8ce5eea6c5d1f52</td><td>10000.0</td><td>10000.0</td><td>36 months</td><td>6.49</td><td>306.45</td><td>Dec-2015</td><td>Fully Paid</td><td>credit_card</td><td>Credit card refinancing</td></tr><tr><td>68616873</td><td>cb0f1777593e77909d0d359a6d9e633f28568500e17806f815395c92f0cd375d</td><td>8000.0</td><td>8000.0</td><td>36 months</td><td>11.48</td><td>263.74</td><td>Dec-2015</td><td>Fully Paid</td><td>credit_card</td><td>Credit card refinancing</td></tr></tbody></table></div>"
      ]
     },
     "metadata": {
      "application/vnd.databricks.v1+output": {
       "addedWidgets": {},
       "aggData": [],
       "aggError": "",
       "aggOverflow": false,
       "aggSchema": [],
       "aggSeriesLimitReached": false,
       "aggType": "",
       "arguments": {},
       "columnCustomDisplayInfos": {},
       "data": [
        [
         "68407277",
         "6d5091b3fcaaeb4eac37445042b6b79e8b21f16943b9c32c4f5dd74dcb0f2210",
         3600.0,
         3600.0,
         "36 months",
         13.99,
         123.03,
         "Dec-2015",
         "Fully Paid",
         "debt_consolidation",
         "Debt consolidation"
        ],
        [
         "68355089",
         "b5e7938b0a2da4ceaa75ea2e3c111d1e33ca0f944f954b6d65671ef395d21713",
         24700.0,
         24700.0,
         "36 months",
         11.99,
         820.28,
         "Dec-2015",
         "Fully Paid",
         "small_business",
         "Business"
        ],
        [
         "68341763",
         "91060b858433e8a6107be9b76b324e304b5802631fc081b449188fe4b4e32205",
         20000.0,
         20000.0,
         "60 months",
         10.78,
         432.66,
         "Dec-2015",
         "Fully Paid",
         "home_improvement",
         null
        ],
        [
         "66310712",
         "cab1fa9f533688b0aab7c6be7b6256d15ad1dd5f3c4ca061a49cfeb26901977d",
         35000.0,
         35000.0,
         "60 months",
         14.85,
         829.9,
         "Dec-2015",
         "Current",
         "debt_consolidation",
         "Debt consolidation"
        ],
        [
         "68476807",
         "f74e401c1ab0adf788a7279dd70a27459fcc47733d35eed71149ff371d2a7283",
         10400.0,
         10400.0,
         "60 months",
         22.45,
         289.91,
         "Dec-2015",
         "Fully Paid",
         "major_purchase",
         "Major purchase"
        ],
        [
         "68426831",
         "8aef4bb29d609d8d684fd709af965bd690fc9ef3a2691777f38e0c10d622fe97",
         11950.0,
         11950.0,
         "36 months",
         13.44,
         405.18,
         "Dec-2015",
         "Fully Paid",
         "debt_consolidation",
         "Debt consolidation"
        ],
        [
         "68476668",
         "538b4653da3b1e8142b50baacf97a57b721eb6ec565f5fb63a1b71d191e9e934",
         20000.0,
         20000.0,
         "36 months",
         9.17,
         637.58,
         "Dec-2015",
         "Fully Paid",
         "debt_consolidation",
         "Debt consolidation"
        ],
        [
         "67275481",
         "b24d55f21390533c512f78f822153dc247e984dcd0cfe031c341ccef1c689817",
         20000.0,
         20000.0,
         "36 months",
         8.49,
         631.26,
         "Dec-2015",
         "Fully Paid",
         "major_purchase",
         "Major purchase"
        ],
        [
         "68466926",
         "1035c5401b0ca76d02c334b813302a9b72825e70b1659e8bc8ce5eea6c5d1f52",
         10000.0,
         10000.0,
         "36 months",
         6.49,
         306.45,
         "Dec-2015",
         "Fully Paid",
         "credit_card",
         "Credit card refinancing"
        ],
        [
         "68616873",
         "cb0f1777593e77909d0d359a6d9e633f28568500e17806f815395c92f0cd375d",
         8000.0,
         8000.0,
         "36 months",
         11.48,
         263.74,
         "Dec-2015",
         "Fully Paid",
         "credit_card",
         "Credit card refinancing"
        ]
       ],
       "datasetInfos": [],
       "dbfsResultPath": null,
       "isJsonSchema": true,
       "metadata": {},
       "overflow": false,
       "plotOptions": {
        "customPlotOptions": {},
        "displayType": "table",
        "pivotAggregation": null,
        "pivotColumns": null,
        "xColumns": null,
        "yColumns": null
       },
       "removedWidgets": [],
       "schema": [
        {
         "metadata": "{}",
         "name": "loan_id",
         "type": "\"string\""
        },
        {
         "metadata": "{}",
         "name": "member_id",
         "type": "\"string\""
        },
        {
         "metadata": "{}",
         "name": "loan_amount",
         "type": "\"float\""
        },
        {
         "metadata": "{}",
         "name": "funded_amount",
         "type": "\"float\""
        },
        {
         "metadata": "{}",
         "name": "loan_term_months",
         "type": "\"string\""
        },
        {
         "metadata": "{}",
         "name": "interest_rate",
         "type": "\"float\""
        },
        {
         "metadata": "{}",
         "name": "monthly_installment",
         "type": "\"float\""
        },
        {
         "metadata": "{}",
         "name": "issue_date",
         "type": "\"string\""
        },
        {
         "metadata": "{}",
         "name": "loan_status",
         "type": "\"string\""
        },
        {
         "metadata": "{}",
         "name": "loan_purpose",
         "type": "\"string\""
        },
        {
         "metadata": "{}",
         "name": "loan_title",
         "type": "\"string\""
        }
       ],
       "type": "table"
      }
     },
     "output_type": "display_data"
    }
   ],
   "source": [
    "display(loans_raw_df.limit(10))"
   ]
  },
  {
   "cell_type": "code",
   "execution_count": 0,
   "metadata": {
    "application/vnd.databricks.v1+cell": {
     "cellMetadata": {
      "byteLimit": 2048000,
      "rowLimit": 10000
     },
     "inputWidgets": {},
     "nuid": "5c318ebf-62f9-44fa-8813-4ebe4f094dfb",
     "showTitle": false,
     "tableResultSettingsMap": {},
     "title": ""
    }
   },
   "outputs": [
    {
     "output_type": "stream",
     "name": "stdout",
     "output_type": "stream",
     "text": [
      "root\n |-- loan_id: string (nullable = true)\n |-- member_id: string (nullable = true)\n |-- loan_amount: float (nullable = true)\n |-- funded_amount: float (nullable = true)\n |-- loan_term_months: string (nullable = true)\n |-- interest_rate: float (nullable = true)\n |-- monthly_installment: float (nullable = true)\n |-- issue_date: string (nullable = true)\n |-- loan_status: string (nullable = true)\n |-- loan_purpose: string (nullable = true)\n |-- loan_title: string (nullable = true)\n\n"
     ]
    }
   ],
   "source": [
    "loans_raw_df.printSchema()"
   ]
  },
  {
   "cell_type": "code",
   "execution_count": 0,
   "metadata": {
    "application/vnd.databricks.v1+cell": {
     "cellMetadata": {
      "byteLimit": 2048000,
      "rowLimit": 10000
     },
     "inputWidgets": {},
     "nuid": "d722967e-47c3-4ddb-a6f7-cf29af3c52bc",
     "showTitle": false,
     "tableResultSettingsMap": {},
     "title": ""
    }
   },
   "outputs": [],
   "source": [
    "from pyspark.sql.functions import current_timestamp"
   ]
  },
  {
   "cell_type": "markdown",
   "metadata": {
    "application/vnd.databricks.v1+cell": {
     "cellMetadata": {},
     "inputWidgets": {},
     "nuid": "8818dbb6-db57-4ae8-96ec-df083bd3d307",
     "showTitle": false,
     "tableResultSettingsMap": {},
     "title": ""
    }
   },
   "source": [
    "#### 2. insert a new column named as ingestion date(current time)"
   ]
  },
  {
   "cell_type": "code",
   "execution_count": 0,
   "metadata": {
    "application/vnd.databricks.v1+cell": {
     "cellMetadata": {
      "byteLimit": 2048000,
      "rowLimit": 10000
     },
     "inputWidgets": {},
     "nuid": "b1357e36-853d-4dc6-8963-2030c6a71d44",
     "showTitle": false,
     "tableResultSettingsMap": {},
     "title": ""
    }
   },
   "outputs": [],
   "source": [
    "loans_df_ingestd = loans_raw_df.withColumn(\"ingest_date\", current_timestamp())"
   ]
  },
  {
   "cell_type": "code",
   "execution_count": 0,
   "metadata": {
    "application/vnd.databricks.v1+cell": {
     "cellMetadata": {
      "byteLimit": 2048000,
      "rowLimit": 10000
     },
     "inputWidgets": {},
     "nuid": "bdca283e-11c2-463c-912f-e15b2e1544ba",
     "showTitle": false,
     "tableResultSettingsMap": {},
     "title": ""
    }
   },
   "outputs": [
    {
     "output_type": "display_data",
     "data": {
      "text/html": [
       "<style scoped>\n",
       "  .table-result-container {\n",
       "    max-height: 300px;\n",
       "    overflow: auto;\n",
       "  }\n",
       "  table, th, td {\n",
       "    border: 1px solid black;\n",
       "    border-collapse: collapse;\n",
       "  }\n",
       "  th, td {\n",
       "    padding: 5px;\n",
       "  }\n",
       "  th {\n",
       "    text-align: left;\n",
       "  }\n",
       "</style><div class='table-result-container'><table class='table-result'><thead style='background-color: white'><tr><th>loan_id</th><th>member_id</th><th>loan_amount</th><th>funded_amount</th><th>loan_term_months</th><th>interest_rate</th><th>monthly_installment</th><th>issue_date</th><th>loan_status</th><th>loan_purpose</th><th>loan_title</th><th>ingest_date</th></tr></thead><tbody><tr><td>68407277</td><td>6d5091b3fcaaeb4eac37445042b6b79e8b21f16943b9c32c4f5dd74dcb0f2210</td><td>3600.0</td><td>3600.0</td><td>36 months</td><td>13.99</td><td>123.03</td><td>Dec-2015</td><td>Fully Paid</td><td>debt_consolidation</td><td>Debt consolidation</td><td>2025-08-15T04:47:40.089807Z</td></tr><tr><td>68355089</td><td>b5e7938b0a2da4ceaa75ea2e3c111d1e33ca0f944f954b6d65671ef395d21713</td><td>24700.0</td><td>24700.0</td><td>36 months</td><td>11.99</td><td>820.28</td><td>Dec-2015</td><td>Fully Paid</td><td>small_business</td><td>Business</td><td>2025-08-15T04:47:40.089807Z</td></tr><tr><td>68341763</td><td>91060b858433e8a6107be9b76b324e304b5802631fc081b449188fe4b4e32205</td><td>20000.0</td><td>20000.0</td><td>60 months</td><td>10.78</td><td>432.66</td><td>Dec-2015</td><td>Fully Paid</td><td>home_improvement</td><td>null</td><td>2025-08-15T04:47:40.089807Z</td></tr><tr><td>66310712</td><td>cab1fa9f533688b0aab7c6be7b6256d15ad1dd5f3c4ca061a49cfeb26901977d</td><td>35000.0</td><td>35000.0</td><td>60 months</td><td>14.85</td><td>829.9</td><td>Dec-2015</td><td>Current</td><td>debt_consolidation</td><td>Debt consolidation</td><td>2025-08-15T04:47:40.089807Z</td></tr><tr><td>68476807</td><td>f74e401c1ab0adf788a7279dd70a27459fcc47733d35eed71149ff371d2a7283</td><td>10400.0</td><td>10400.0</td><td>60 months</td><td>22.45</td><td>289.91</td><td>Dec-2015</td><td>Fully Paid</td><td>major_purchase</td><td>Major purchase</td><td>2025-08-15T04:47:40.089807Z</td></tr><tr><td>68426831</td><td>8aef4bb29d609d8d684fd709af965bd690fc9ef3a2691777f38e0c10d622fe97</td><td>11950.0</td><td>11950.0</td><td>36 months</td><td>13.44</td><td>405.18</td><td>Dec-2015</td><td>Fully Paid</td><td>debt_consolidation</td><td>Debt consolidation</td><td>2025-08-15T04:47:40.089807Z</td></tr><tr><td>68476668</td><td>538b4653da3b1e8142b50baacf97a57b721eb6ec565f5fb63a1b71d191e9e934</td><td>20000.0</td><td>20000.0</td><td>36 months</td><td>9.17</td><td>637.58</td><td>Dec-2015</td><td>Fully Paid</td><td>debt_consolidation</td><td>Debt consolidation</td><td>2025-08-15T04:47:40.089807Z</td></tr><tr><td>67275481</td><td>b24d55f21390533c512f78f822153dc247e984dcd0cfe031c341ccef1c689817</td><td>20000.0</td><td>20000.0</td><td>36 months</td><td>8.49</td><td>631.26</td><td>Dec-2015</td><td>Fully Paid</td><td>major_purchase</td><td>Major purchase</td><td>2025-08-15T04:47:40.089807Z</td></tr><tr><td>68466926</td><td>1035c5401b0ca76d02c334b813302a9b72825e70b1659e8bc8ce5eea6c5d1f52</td><td>10000.0</td><td>10000.0</td><td>36 months</td><td>6.49</td><td>306.45</td><td>Dec-2015</td><td>Fully Paid</td><td>credit_card</td><td>Credit card refinancing</td><td>2025-08-15T04:47:40.089807Z</td></tr><tr><td>68616873</td><td>cb0f1777593e77909d0d359a6d9e633f28568500e17806f815395c92f0cd375d</td><td>8000.0</td><td>8000.0</td><td>36 months</td><td>11.48</td><td>263.74</td><td>Dec-2015</td><td>Fully Paid</td><td>credit_card</td><td>Credit card refinancing</td><td>2025-08-15T04:47:40.089807Z</td></tr></tbody></table></div>"
      ]
     },
     "metadata": {
      "application/vnd.databricks.v1+output": {
       "addedWidgets": {},
       "aggData": [],
       "aggError": "",
       "aggOverflow": false,
       "aggSchema": [],
       "aggSeriesLimitReached": false,
       "aggType": "",
       "arguments": {},
       "columnCustomDisplayInfos": {},
       "data": [
        [
         "68407277",
         "6d5091b3fcaaeb4eac37445042b6b79e8b21f16943b9c32c4f5dd74dcb0f2210",
         3600.0,
         3600.0,
         "36 months",
         13.99,
         123.03,
         "Dec-2015",
         "Fully Paid",
         "debt_consolidation",
         "Debt consolidation",
         "2025-08-15T04:47:40.089807Z"
        ],
        [
         "68355089",
         "b5e7938b0a2da4ceaa75ea2e3c111d1e33ca0f944f954b6d65671ef395d21713",
         24700.0,
         24700.0,
         "36 months",
         11.99,
         820.28,
         "Dec-2015",
         "Fully Paid",
         "small_business",
         "Business",
         "2025-08-15T04:47:40.089807Z"
        ],
        [
         "68341763",
         "91060b858433e8a6107be9b76b324e304b5802631fc081b449188fe4b4e32205",
         20000.0,
         20000.0,
         "60 months",
         10.78,
         432.66,
         "Dec-2015",
         "Fully Paid",
         "home_improvement",
         null,
         "2025-08-15T04:47:40.089807Z"
        ],
        [
         "66310712",
         "cab1fa9f533688b0aab7c6be7b6256d15ad1dd5f3c4ca061a49cfeb26901977d",
         35000.0,
         35000.0,
         "60 months",
         14.85,
         829.9,
         "Dec-2015",
         "Current",
         "debt_consolidation",
         "Debt consolidation",
         "2025-08-15T04:47:40.089807Z"
        ],
        [
         "68476807",
         "f74e401c1ab0adf788a7279dd70a27459fcc47733d35eed71149ff371d2a7283",
         10400.0,
         10400.0,
         "60 months",
         22.45,
         289.91,
         "Dec-2015",
         "Fully Paid",
         "major_purchase",
         "Major purchase",
         "2025-08-15T04:47:40.089807Z"
        ],
        [
         "68426831",
         "8aef4bb29d609d8d684fd709af965bd690fc9ef3a2691777f38e0c10d622fe97",
         11950.0,
         11950.0,
         "36 months",
         13.44,
         405.18,
         "Dec-2015",
         "Fully Paid",
         "debt_consolidation",
         "Debt consolidation",
         "2025-08-15T04:47:40.089807Z"
        ],
        [
         "68476668",
         "538b4653da3b1e8142b50baacf97a57b721eb6ec565f5fb63a1b71d191e9e934",
         20000.0,
         20000.0,
         "36 months",
         9.17,
         637.58,
         "Dec-2015",
         "Fully Paid",
         "debt_consolidation",
         "Debt consolidation",
         "2025-08-15T04:47:40.089807Z"
        ],
        [
         "67275481",
         "b24d55f21390533c512f78f822153dc247e984dcd0cfe031c341ccef1c689817",
         20000.0,
         20000.0,
         "36 months",
         8.49,
         631.26,
         "Dec-2015",
         "Fully Paid",
         "major_purchase",
         "Major purchase",
         "2025-08-15T04:47:40.089807Z"
        ],
        [
         "68466926",
         "1035c5401b0ca76d02c334b813302a9b72825e70b1659e8bc8ce5eea6c5d1f52",
         10000.0,
         10000.0,
         "36 months",
         6.49,
         306.45,
         "Dec-2015",
         "Fully Paid",
         "credit_card",
         "Credit card refinancing",
         "2025-08-15T04:47:40.089807Z"
        ],
        [
         "68616873",
         "cb0f1777593e77909d0d359a6d9e633f28568500e17806f815395c92f0cd375d",
         8000.0,
         8000.0,
         "36 months",
         11.48,
         263.74,
         "Dec-2015",
         "Fully Paid",
         "credit_card",
         "Credit card refinancing",
         "2025-08-15T04:47:40.089807Z"
        ]
       ],
       "datasetInfos": [],
       "dbfsResultPath": null,
       "isJsonSchema": true,
       "metadata": {},
       "overflow": false,
       "plotOptions": {
        "customPlotOptions": {},
        "displayType": "table",
        "pivotAggregation": null,
        "pivotColumns": null,
        "xColumns": null,
        "yColumns": null
       },
       "removedWidgets": [],
       "schema": [
        {
         "metadata": "{}",
         "name": "loan_id",
         "type": "\"string\""
        },
        {
         "metadata": "{}",
         "name": "member_id",
         "type": "\"string\""
        },
        {
         "metadata": "{}",
         "name": "loan_amount",
         "type": "\"float\""
        },
        {
         "metadata": "{}",
         "name": "funded_amount",
         "type": "\"float\""
        },
        {
         "metadata": "{}",
         "name": "loan_term_months",
         "type": "\"string\""
        },
        {
         "metadata": "{}",
         "name": "interest_rate",
         "type": "\"float\""
        },
        {
         "metadata": "{}",
         "name": "monthly_installment",
         "type": "\"float\""
        },
        {
         "metadata": "{}",
         "name": "issue_date",
         "type": "\"string\""
        },
        {
         "metadata": "{}",
         "name": "loan_status",
         "type": "\"string\""
        },
        {
         "metadata": "{}",
         "name": "loan_purpose",
         "type": "\"string\""
        },
        {
         "metadata": "{}",
         "name": "loan_title",
         "type": "\"string\""
        },
        {
         "metadata": "{}",
         "name": "ingest_date",
         "type": "\"timestamp\""
        }
       ],
       "type": "table"
      }
     },
     "output_type": "display_data"
    }
   ],
   "source": [
    "display(loans_df_ingestd.limit(10))"
   ]
  },
  {
   "cell_type": "code",
   "execution_count": 0,
   "metadata": {
    "application/vnd.databricks.v1+cell": {
     "cellMetadata": {
      "byteLimit": 2048000,
      "rowLimit": 10000
     },
     "inputWidgets": {},
     "nuid": "749771b2-5eae-4aca-8a9e-4a63793b452f",
     "showTitle": false,
     "tableResultSettingsMap": {},
     "title": ""
    }
   },
   "outputs": [],
   "source": [
    "loans_df_ingestd.createOrReplaceTempView(\"loans\")"
   ]
  },
  {
   "cell_type": "code",
   "execution_count": 0,
   "metadata": {
    "application/vnd.databricks.v1+cell": {
     "cellMetadata": {
      "byteLimit": 2048000,
      "rowLimit": 10000
     },
     "inputWidgets": {},
     "nuid": "b1993f92-ff92-4e4e-8d52-622e24380ea6",
     "showTitle": false,
     "tableResultSettingsMap": {},
     "title": ""
    }
   },
   "outputs": [
    {
     "output_type": "display_data",
     "data": {
      "text/html": [
       "<style scoped>\n",
       "  .table-result-container {\n",
       "    max-height: 300px;\n",
       "    overflow: auto;\n",
       "  }\n",
       "  table, th, td {\n",
       "    border: 1px solid black;\n",
       "    border-collapse: collapse;\n",
       "  }\n",
       "  th, td {\n",
       "    padding: 5px;\n",
       "  }\n",
       "  th {\n",
       "    text-align: left;\n",
       "  }\n",
       "</style><div class='table-result-container'><table class='table-result'><thead style='background-color: white'><tr><th>count(1)</th></tr></thead><tbody><tr><td>2260701</td></tr></tbody></table></div>"
      ]
     },
     "metadata": {
      "application/vnd.databricks.v1+output": {
       "addedWidgets": {},
       "aggData": [],
       "aggError": "",
       "aggOverflow": false,
       "aggSchema": [],
       "aggSeriesLimitReached": false,
       "aggType": "",
       "arguments": {},
       "columnCustomDisplayInfos": {},
       "data": [
        [
         2260701
        ]
       ],
       "datasetInfos": [],
       "dbfsResultPath": null,
       "isJsonSchema": true,
       "metadata": {},
       "overflow": false,
       "plotOptions": {
        "customPlotOptions": {},
        "displayType": "table",
        "pivotAggregation": null,
        "pivotColumns": null,
        "xColumns": null,
        "yColumns": null
       },
       "removedWidgets": [],
       "schema": [
        {
         "metadata": "{\"__autoGeneratedAlias\":\"true\"}",
         "name": "count(1)",
         "type": "\"long\""
        }
       ],
       "type": "table"
      }
     },
     "output_type": "display_data"
    }
   ],
   "source": [
    "display(spark.sql(\"select count(*) from loans\"))"
   ]
  },
  {
   "cell_type": "code",
   "execution_count": 0,
   "metadata": {
    "application/vnd.databricks.v1+cell": {
     "cellMetadata": {
      "byteLimit": 2048000,
      "rowLimit": 10000
     },
     "inputWidgets": {},
     "nuid": "4b8c7f01-3652-456b-bbd4-0efb3b64f30b",
     "showTitle": false,
     "tableResultSettingsMap": {},
     "title": ""
    }
   },
   "outputs": [
    {
     "output_type": "display_data",
     "data": {
      "text/html": [
       "<style scoped>\n",
       "  .table-result-container {\n",
       "    max-height: 300px;\n",
       "    overflow: auto;\n",
       "  }\n",
       "  table, th, td {\n",
       "    border: 1px solid black;\n",
       "    border-collapse: collapse;\n",
       "  }\n",
       "  th, td {\n",
       "    padding: 5px;\n",
       "  }\n",
       "  th {\n",
       "    text-align: left;\n",
       "  }\n",
       "</style><div class='table-result-container'><table class='table-result'><thead style='background-color: white'><tr><th>loan_id</th><th>member_id</th><th>loan_amount</th><th>funded_amount</th><th>loan_term_months</th><th>interest_rate</th><th>monthly_installment</th><th>issue_date</th><th>loan_status</th><th>loan_purpose</th><th>loan_title</th><th>ingest_date</th></tr></thead><tbody><tr><td>Total amount funded in policy code 1: 6417608175</td><td>e3b0c44298fc1c149afbf4c8996fb92427ae41e4649b934ca495991b7852b855</td><td>null</td><td>null</td><td>null</td><td>null</td><td>null</td><td>null</td><td>null</td><td>null</td><td>null</td><td>2025-08-14T22:09:33.890283Z</td></tr><tr><td>Total amount funded in policy code 2: 1944088810</td><td>e3b0c44298fc1c149afbf4c8996fb92427ae41e4649b934ca495991b7852b855</td><td>null</td><td>null</td><td>null</td><td>null</td><td>null</td><td>null</td><td>null</td><td>null</td><td>null</td><td>2025-08-14T22:09:33.890283Z</td></tr><tr><td>Total amount funded in policy code 1: 1741781700</td><td>e3b0c44298fc1c149afbf4c8996fb92427ae41e4649b934ca495991b7852b855</td><td>null</td><td>null</td><td>null</td><td>null</td><td>null</td><td>null</td><td>null</td><td>null</td><td>null</td><td>2025-08-14T22:09:33.890283Z</td></tr><tr><td>Total amount funded in policy code 2: 564202131</td><td>e3b0c44298fc1c149afbf4c8996fb92427ae41e4649b934ca495991b7852b855</td><td>null</td><td>null</td><td>null</td><td>null</td><td>null</td><td>null</td><td>null</td><td>null</td><td>null</td><td>2025-08-14T22:09:33.890283Z</td></tr><tr><td>Total amount funded in policy code 1: 1791201400</td><td>e3b0c44298fc1c149afbf4c8996fb92427ae41e4649b934ca495991b7852b855</td><td>null</td><td>null</td><td>null</td><td>null</td><td>null</td><td>null</td><td>null</td><td>null</td><td>null</td><td>2025-08-14T22:09:33.890283Z</td></tr><tr><td>Total amount funded in policy code 2: 651669342</td><td>e3b0c44298fc1c149afbf4c8996fb92427ae41e4649b934ca495991b7852b855</td><td>null</td><td>null</td><td>null</td><td>null</td><td>null</td><td>null</td><td>null</td><td>null</td><td>null</td><td>2025-08-14T22:09:33.890283Z</td></tr><tr><td>Total amount funded in policy code 1: 1443412975</td><td>e3b0c44298fc1c149afbf4c8996fb92427ae41e4649b934ca495991b7852b855</td><td>null</td><td>null</td><td>null</td><td>null</td><td>null</td><td>null</td><td>null</td><td>null</td><td>null</td><td>2025-08-14T22:09:33.890283Z</td></tr><tr><td>Total amount funded in policy code 2: 511988838</td><td>e3b0c44298fc1c149afbf4c8996fb92427ae41e4649b934ca495991b7852b855</td><td>null</td><td>null</td><td>null</td><td>null</td><td>null</td><td>null</td><td>null</td><td>null</td><td>null</td><td>2025-08-14T22:09:33.890283Z</td></tr><tr><td>Total amount funded in policy code 1: 2063142975</td><td>e3b0c44298fc1c149afbf4c8996fb92427ae41e4649b934ca495991b7852b855</td><td>null</td><td>null</td><td>null</td><td>null</td><td>null</td><td>null</td><td>null</td><td>null</td><td>null</td><td>2025-08-14T22:09:33.890283Z</td></tr><tr><td>Total amount funded in policy code 2: 823319310</td><td>e3b0c44298fc1c149afbf4c8996fb92427ae41e4649b934ca495991b7852b855</td><td>null</td><td>null</td><td>null</td><td>null</td><td>null</td><td>null</td><td>null</td><td>null</td><td>null</td><td>2025-08-14T22:09:33.890283Z</td></tr><tr><td>Total amount funded in policy code 1: 1538432075</td><td>e3b0c44298fc1c149afbf4c8996fb92427ae41e4649b934ca495991b7852b855</td><td>null</td><td>null</td><td>null</td><td>null</td><td>null</td><td>null</td><td>null</td><td>null</td><td>null</td><td>2025-08-14T22:09:33.890283Z</td></tr><tr><td>Total amount funded in policy code 2: 608903141</td><td>e3b0c44298fc1c149afbf4c8996fb92427ae41e4649b934ca495991b7852b855</td><td>null</td><td>null</td><td>null</td><td>null</td><td>null</td><td>null</td><td>null</td><td>null</td><td>null</td><td>2025-08-14T22:09:33.890283Z</td></tr><tr><td>Total amount funded in policy code 1: 2087217200</td><td>e3b0c44298fc1c149afbf4c8996fb92427ae41e4649b934ca495991b7852b855</td><td>null</td><td>null</td><td>null</td><td>null</td><td>null</td><td>null</td><td>null</td><td>null</td><td>null</td><td>2025-08-14T22:09:33.890283Z</td></tr><tr><td>Total amount funded in policy code 2: 662815446</td><td>e3b0c44298fc1c149afbf4c8996fb92427ae41e4649b934ca495991b7852b855</td><td>null</td><td>null</td><td>null</td><td>null</td><td>null</td><td>null</td><td>null</td><td>null</td><td>null</td><td>2025-08-14T22:09:33.890283Z</td></tr><tr><td>Total amount funded in policy code 1: 3503840175</td><td>e3b0c44298fc1c149afbf4c8996fb92427ae41e4649b934ca495991b7852b855</td><td>null</td><td>null</td><td>null</td><td>null</td><td>null</td><td>null</td><td>null</td><td>null</td><td>null</td><td>2025-08-14T22:09:33.890283Z</td></tr><tr><td>Total amount funded in policy code 2: 873652739</td><td>e3b0c44298fc1c149afbf4c8996fb92427ae41e4649b934ca495991b7852b855</td><td>null</td><td>null</td><td>null</td><td>null</td><td>null</td><td>null</td><td>null</td><td>null</td><td>null</td><td>2025-08-14T22:09:33.890283Z</td></tr><tr><td>Total amount funded in policy code 1: 2050909275</td><td>e3b0c44298fc1c149afbf4c8996fb92427ae41e4649b934ca495991b7852b855</td><td>null</td><td>null</td><td>null</td><td>null</td><td>null</td><td>null</td><td>null</td><td>null</td><td>null</td><td>2025-08-14T22:09:33.890283Z</td></tr><tr><td>Total amount funded in policy code 2: 820109297</td><td>e3b0c44298fc1c149afbf4c8996fb92427ae41e4649b934ca495991b7852b855</td><td>null</td><td>null</td><td>null</td><td>null</td><td>null</td><td>null</td><td>null</td><td>null</td><td>null</td><td>2025-08-14T22:09:33.890283Z</td></tr><tr><td>Total amount funded in policy code 1: 2080429200</td><td>e3b0c44298fc1c149afbf4c8996fb92427ae41e4649b934ca495991b7852b855</td><td>null</td><td>null</td><td>null</td><td>null</td><td>null</td><td>null</td><td>null</td><td>null</td><td>null</td><td>2025-08-14T22:09:33.890283Z</td></tr><tr><td>Total amount funded in policy code 2: 737901574</td><td>e3b0c44298fc1c149afbf4c8996fb92427ae41e4649b934ca495991b7852b855</td><td>null</td><td>null</td><td>null</td><td>null</td><td>null</td><td>null</td><td>null</td><td>null</td><td>null</td><td>2025-08-14T22:09:33.890283Z</td></tr><tr><td>Loans that do not meet the credit policy</td><td>e3b0c44298fc1c149afbf4c8996fb92427ae41e4649b934ca495991b7852b855</td><td>null</td><td>null</td><td>null</td><td>null</td><td>null</td><td>null</td><td>null</td><td>null</td><td>null</td><td>2025-08-14T22:09:33.890283Z</td></tr><tr><td>Total amount funded in policy code 1: 460296150</td><td>e3b0c44298fc1c149afbf4c8996fb92427ae41e4649b934ca495991b7852b855</td><td>null</td><td>null</td><td>null</td><td>null</td><td>null</td><td>null</td><td>null</td><td>null</td><td>null</td><td>2025-08-14T22:09:33.890283Z</td></tr><tr><td>Total amount funded in policy code 2: 0</td><td>e3b0c44298fc1c149afbf4c8996fb92427ae41e4649b934ca495991b7852b855</td><td>null</td><td>null</td><td>null</td><td>null</td><td>null</td><td>null</td><td>null</td><td>null</td><td>null</td><td>2025-08-14T22:09:33.890283Z</td></tr><tr><td>Total amount funded in policy code 1: 1437969475</td><td>e3b0c44298fc1c149afbf4c8996fb92427ae41e4649b934ca495991b7852b855</td><td>null</td><td>null</td><td>null</td><td>null</td><td>null</td><td>null</td><td>null</td><td>null</td><td>null</td><td>2025-08-14T22:09:33.890283Z</td></tr><tr><td>Total amount funded in policy code 2: 520780182</td><td>e3b0c44298fc1c149afbf4c8996fb92427ae41e4649b934ca495991b7852b855</td><td>null</td><td>null</td><td>null</td><td>null</td><td>null</td><td>null</td><td>null</td><td>null</td><td>null</td><td>2025-08-14T22:09:33.890283Z</td></tr><tr><td>Total amount funded in policy code 1: 2700702175</td><td>e3b0c44298fc1c149afbf4c8996fb92427ae41e4649b934ca495991b7852b855</td><td>null</td><td>null</td><td>null</td><td>null</td><td>null</td><td>null</td><td>null</td><td>null</td><td>null</td><td>2025-08-14T22:09:33.890283Z</td></tr><tr><td>Total amount funded in policy code 2: 81866225</td><td>e3b0c44298fc1c149afbf4c8996fb92427ae41e4649b934ca495991b7852b855</td><td>null</td><td>null</td><td>null</td><td>null</td><td>null</td><td>null</td><td>null</td><td>null</td><td>null</td><td>2025-08-14T22:09:33.890283Z</td></tr><tr><td>Total amount funded in policy code 1: 1404586950</td><td>e3b0c44298fc1c149afbf4c8996fb92427ae41e4649b934ca495991b7852b855</td><td>null</td><td>null</td><td>null</td><td>null</td><td>null</td><td>null</td><td>null</td><td>null</td><td>null</td><td>2025-08-14T22:09:33.890283Z</td></tr><tr><td>Total amount funded in policy code 2: 567447023</td><td>e3b0c44298fc1c149afbf4c8996fb92427ae41e4649b934ca495991b7852b855</td><td>null</td><td>null</td><td>null</td><td>null</td><td>null</td><td>null</td><td>null</td><td>null</td><td>null</td><td>2025-08-14T22:09:33.890283Z</td></tr><tr><td>Total amount funded in policy code 1: 1817354125</td><td>e3b0c44298fc1c149afbf4c8996fb92427ae41e4649b934ca495991b7852b855</td><td>null</td><td>null</td><td>null</td><td>null</td><td>null</td><td>null</td><td>null</td><td>null</td><td>null</td><td>2025-08-14T22:09:33.890283Z</td></tr><tr><td>Total amount funded in policy code 2: 620899600</td><td>e3b0c44298fc1c149afbf4c8996fb92427ae41e4649b934ca495991b7852b855</td><td>null</td><td>null</td><td>null</td><td>null</td><td>null</td><td>null</td><td>null</td><td>null</td><td>null</td><td>2025-08-14T22:09:33.890283Z</td></tr><tr><td>Total amount funded in policy code 1: 1465324575</td><td>e3b0c44298fc1c149afbf4c8996fb92427ae41e4649b934ca495991b7852b855</td><td>null</td><td>null</td><td>null</td><td>null</td><td>null</td><td>null</td><td>null</td><td>null</td><td>null</td><td>2025-08-14T22:09:33.890283Z</td></tr><tr><td>Total amount funded in policy code 2: 521953170</td><td>e3b0c44298fc1c149afbf4c8996fb92427ae41e4649b934ca495991b7852b855</td><td>null</td><td>null</td><td>null</td><td>null</td><td>null</td><td>null</td><td>null</td><td>null</td><td>null</td><td>2025-08-14T22:09:33.890283Z</td></tr></tbody></table></div>"
      ]
     },
     "metadata": {
      "application/vnd.databricks.v1+output": {
       "addedWidgets": {},
       "aggData": [],
       "aggError": "",
       "aggOverflow": false,
       "aggSchema": [],
       "aggSeriesLimitReached": false,
       "aggType": "",
       "arguments": {},
       "columnCustomDisplayInfos": {},
       "data": [
        [
         "Total amount funded in policy code 1: 6417608175",
         "e3b0c44298fc1c149afbf4c8996fb92427ae41e4649b934ca495991b7852b855",
         null,
         null,
         null,
         null,
         null,
         null,
         null,
         null,
         null,
         "2025-08-14T22:09:33.890283Z"
        ],
        [
         "Total amount funded in policy code 2: 1944088810",
         "e3b0c44298fc1c149afbf4c8996fb92427ae41e4649b934ca495991b7852b855",
         null,
         null,
         null,
         null,
         null,
         null,
         null,
         null,
         null,
         "2025-08-14T22:09:33.890283Z"
        ],
        [
         "Total amount funded in policy code 1: 1741781700",
         "e3b0c44298fc1c149afbf4c8996fb92427ae41e4649b934ca495991b7852b855",
         null,
         null,
         null,
         null,
         null,
         null,
         null,
         null,
         null,
         "2025-08-14T22:09:33.890283Z"
        ],
        [
         "Total amount funded in policy code 2: 564202131",
         "e3b0c44298fc1c149afbf4c8996fb92427ae41e4649b934ca495991b7852b855",
         null,
         null,
         null,
         null,
         null,
         null,
         null,
         null,
         null,
         "2025-08-14T22:09:33.890283Z"
        ],
        [
         "Total amount funded in policy code 1: 1791201400",
         "e3b0c44298fc1c149afbf4c8996fb92427ae41e4649b934ca495991b7852b855",
         null,
         null,
         null,
         null,
         null,
         null,
         null,
         null,
         null,
         "2025-08-14T22:09:33.890283Z"
        ],
        [
         "Total amount funded in policy code 2: 651669342",
         "e3b0c44298fc1c149afbf4c8996fb92427ae41e4649b934ca495991b7852b855",
         null,
         null,
         null,
         null,
         null,
         null,
         null,
         null,
         null,
         "2025-08-14T22:09:33.890283Z"
        ],
        [
         "Total amount funded in policy code 1: 1443412975",
         "e3b0c44298fc1c149afbf4c8996fb92427ae41e4649b934ca495991b7852b855",
         null,
         null,
         null,
         null,
         null,
         null,
         null,
         null,
         null,
         "2025-08-14T22:09:33.890283Z"
        ],
        [
         "Total amount funded in policy code 2: 511988838",
         "e3b0c44298fc1c149afbf4c8996fb92427ae41e4649b934ca495991b7852b855",
         null,
         null,
         null,
         null,
         null,
         null,
         null,
         null,
         null,
         "2025-08-14T22:09:33.890283Z"
        ],
        [
         "Total amount funded in policy code 1: 2063142975",
         "e3b0c44298fc1c149afbf4c8996fb92427ae41e4649b934ca495991b7852b855",
         null,
         null,
         null,
         null,
         null,
         null,
         null,
         null,
         null,
         "2025-08-14T22:09:33.890283Z"
        ],
        [
         "Total amount funded in policy code 2: 823319310",
         "e3b0c44298fc1c149afbf4c8996fb92427ae41e4649b934ca495991b7852b855",
         null,
         null,
         null,
         null,
         null,
         null,
         null,
         null,
         null,
         "2025-08-14T22:09:33.890283Z"
        ],
        [
         "Total amount funded in policy code 1: 1538432075",
         "e3b0c44298fc1c149afbf4c8996fb92427ae41e4649b934ca495991b7852b855",
         null,
         null,
         null,
         null,
         null,
         null,
         null,
         null,
         null,
         "2025-08-14T22:09:33.890283Z"
        ],
        [
         "Total amount funded in policy code 2: 608903141",
         "e3b0c44298fc1c149afbf4c8996fb92427ae41e4649b934ca495991b7852b855",
         null,
         null,
         null,
         null,
         null,
         null,
         null,
         null,
         null,
         "2025-08-14T22:09:33.890283Z"
        ],
        [
         "Total amount funded in policy code 1: 2087217200",
         "e3b0c44298fc1c149afbf4c8996fb92427ae41e4649b934ca495991b7852b855",
         null,
         null,
         null,
         null,
         null,
         null,
         null,
         null,
         null,
         "2025-08-14T22:09:33.890283Z"
        ],
        [
         "Total amount funded in policy code 2: 662815446",
         "e3b0c44298fc1c149afbf4c8996fb92427ae41e4649b934ca495991b7852b855",
         null,
         null,
         null,
         null,
         null,
         null,
         null,
         null,
         null,
         "2025-08-14T22:09:33.890283Z"
        ],
        [
         "Total amount funded in policy code 1: 3503840175",
         "e3b0c44298fc1c149afbf4c8996fb92427ae41e4649b934ca495991b7852b855",
         null,
         null,
         null,
         null,
         null,
         null,
         null,
         null,
         null,
         "2025-08-14T22:09:33.890283Z"
        ],
        [
         "Total amount funded in policy code 2: 873652739",
         "e3b0c44298fc1c149afbf4c8996fb92427ae41e4649b934ca495991b7852b855",
         null,
         null,
         null,
         null,
         null,
         null,
         null,
         null,
         null,
         "2025-08-14T22:09:33.890283Z"
        ],
        [
         "Total amount funded in policy code 1: 2050909275",
         "e3b0c44298fc1c149afbf4c8996fb92427ae41e4649b934ca495991b7852b855",
         null,
         null,
         null,
         null,
         null,
         null,
         null,
         null,
         null,
         "2025-08-14T22:09:33.890283Z"
        ],
        [
         "Total amount funded in policy code 2: 820109297",
         "e3b0c44298fc1c149afbf4c8996fb92427ae41e4649b934ca495991b7852b855",
         null,
         null,
         null,
         null,
         null,
         null,
         null,
         null,
         null,
         "2025-08-14T22:09:33.890283Z"
        ],
        [
         "Total amount funded in policy code 1: 2080429200",
         "e3b0c44298fc1c149afbf4c8996fb92427ae41e4649b934ca495991b7852b855",
         null,
         null,
         null,
         null,
         null,
         null,
         null,
         null,
         null,
         "2025-08-14T22:09:33.890283Z"
        ],
        [
         "Total amount funded in policy code 2: 737901574",
         "e3b0c44298fc1c149afbf4c8996fb92427ae41e4649b934ca495991b7852b855",
         null,
         null,
         null,
         null,
         null,
         null,
         null,
         null,
         null,
         "2025-08-14T22:09:33.890283Z"
        ],
        [
         "Loans that do not meet the credit policy",
         "e3b0c44298fc1c149afbf4c8996fb92427ae41e4649b934ca495991b7852b855",
         null,
         null,
         null,
         null,
         null,
         null,
         null,
         null,
         null,
         "2025-08-14T22:09:33.890283Z"
        ],
        [
         "Total amount funded in policy code 1: 460296150",
         "e3b0c44298fc1c149afbf4c8996fb92427ae41e4649b934ca495991b7852b855",
         null,
         null,
         null,
         null,
         null,
         null,
         null,
         null,
         null,
         "2025-08-14T22:09:33.890283Z"
        ],
        [
         "Total amount funded in policy code 2: 0",
         "e3b0c44298fc1c149afbf4c8996fb92427ae41e4649b934ca495991b7852b855",
         null,
         null,
         null,
         null,
         null,
         null,
         null,
         null,
         null,
         "2025-08-14T22:09:33.890283Z"
        ],
        [
         "Total amount funded in policy code 1: 1437969475",
         "e3b0c44298fc1c149afbf4c8996fb92427ae41e4649b934ca495991b7852b855",
         null,
         null,
         null,
         null,
         null,
         null,
         null,
         null,
         null,
         "2025-08-14T22:09:33.890283Z"
        ],
        [
         "Total amount funded in policy code 2: 520780182",
         "e3b0c44298fc1c149afbf4c8996fb92427ae41e4649b934ca495991b7852b855",
         null,
         null,
         null,
         null,
         null,
         null,
         null,
         null,
         null,
         "2025-08-14T22:09:33.890283Z"
        ],
        [
         "Total amount funded in policy code 1: 2700702175",
         "e3b0c44298fc1c149afbf4c8996fb92427ae41e4649b934ca495991b7852b855",
         null,
         null,
         null,
         null,
         null,
         null,
         null,
         null,
         null,
         "2025-08-14T22:09:33.890283Z"
        ],
        [
         "Total amount funded in policy code 2: 81866225",
         "e3b0c44298fc1c149afbf4c8996fb92427ae41e4649b934ca495991b7852b855",
         null,
         null,
         null,
         null,
         null,
         null,
         null,
         null,
         null,
         "2025-08-14T22:09:33.890283Z"
        ],
        [
         "Total amount funded in policy code 1: 1404586950",
         "e3b0c44298fc1c149afbf4c8996fb92427ae41e4649b934ca495991b7852b855",
         null,
         null,
         null,
         null,
         null,
         null,
         null,
         null,
         null,
         "2025-08-14T22:09:33.890283Z"
        ],
        [
         "Total amount funded in policy code 2: 567447023",
         "e3b0c44298fc1c149afbf4c8996fb92427ae41e4649b934ca495991b7852b855",
         null,
         null,
         null,
         null,
         null,
         null,
         null,
         null,
         null,
         "2025-08-14T22:09:33.890283Z"
        ],
        [
         "Total amount funded in policy code 1: 1817354125",
         "e3b0c44298fc1c149afbf4c8996fb92427ae41e4649b934ca495991b7852b855",
         null,
         null,
         null,
         null,
         null,
         null,
         null,
         null,
         null,
         "2025-08-14T22:09:33.890283Z"
        ],
        [
         "Total amount funded in policy code 2: 620899600",
         "e3b0c44298fc1c149afbf4c8996fb92427ae41e4649b934ca495991b7852b855",
         null,
         null,
         null,
         null,
         null,
         null,
         null,
         null,
         null,
         "2025-08-14T22:09:33.890283Z"
        ],
        [
         "Total amount funded in policy code 1: 1465324575",
         "e3b0c44298fc1c149afbf4c8996fb92427ae41e4649b934ca495991b7852b855",
         null,
         null,
         null,
         null,
         null,
         null,
         null,
         null,
         null,
         "2025-08-14T22:09:33.890283Z"
        ],
        [
         "Total amount funded in policy code 2: 521953170",
         "e3b0c44298fc1c149afbf4c8996fb92427ae41e4649b934ca495991b7852b855",
         null,
         null,
         null,
         null,
         null,
         null,
         null,
         null,
         null,
         "2025-08-14T22:09:33.890283Z"
        ]
       ],
       "datasetInfos": [],
       "dbfsResultPath": null,
       "isJsonSchema": true,
       "metadata": {},
       "overflow": false,
       "plotOptions": {
        "customPlotOptions": {},
        "displayType": "table",
        "pivotAggregation": null,
        "pivotColumns": null,
        "xColumns": null,
        "yColumns": null
       },
       "removedWidgets": [],
       "schema": [
        {
         "metadata": "{}",
         "name": "loan_id",
         "type": "\"string\""
        },
        {
         "metadata": "{}",
         "name": "member_id",
         "type": "\"string\""
        },
        {
         "metadata": "{}",
         "name": "loan_amount",
         "type": "\"float\""
        },
        {
         "metadata": "{}",
         "name": "funded_amount",
         "type": "\"float\""
        },
        {
         "metadata": "{}",
         "name": "loan_term_months",
         "type": "\"string\""
        },
        {
         "metadata": "{}",
         "name": "interest_rate",
         "type": "\"float\""
        },
        {
         "metadata": "{}",
         "name": "monthly_installment",
         "type": "\"float\""
        },
        {
         "metadata": "{}",
         "name": "issue_date",
         "type": "\"string\""
        },
        {
         "metadata": "{}",
         "name": "loan_status",
         "type": "\"string\""
        },
        {
         "metadata": "{}",
         "name": "loan_purpose",
         "type": "\"string\""
        },
        {
         "metadata": "{}",
         "name": "loan_title",
         "type": "\"string\""
        },
        {
         "metadata": "{}",
         "name": "ingest_date",
         "type": "\"timestamp\""
        }
       ],
       "type": "table"
      }
     },
     "output_type": "display_data"
    }
   ],
   "source": [
    "display(spark.sql(\"select * from loans where loan_amount is null\"))"
   ]
  },
  {
   "cell_type": "markdown",
   "metadata": {
    "application/vnd.databricks.v1+cell": {
     "cellMetadata": {},
     "inputWidgets": {},
     "nuid": "5cfa1b2b-5b1e-47f7-af04-dfa12329d518",
     "showTitle": false,
     "tableResultSettingsMap": {},
     "title": ""
    }
   },
   "source": [
    "#### 3. Dropping the rows which has null values in the mentioned columns"
   ]
  },
  {
   "cell_type": "code",
   "execution_count": 0,
   "metadata": {
    "application/vnd.databricks.v1+cell": {
     "cellMetadata": {
      "byteLimit": 2048000,
      "rowLimit": 10000
     },
     "inputWidgets": {},
     "nuid": "40698fd3-bcda-4d41-87e8-b8d845136b1d",
     "showTitle": false,
     "tableResultSettingsMap": {},
     "title": ""
    }
   },
   "outputs": [],
   "source": [
    "columns_to_check = [\"loan_amount\", \"funded_amount\", \"loan_term_months\", \"interest_rate\", \"monthly_installment\", \"issue_date\", \"loan_status\", \"loan_purpose\"]"
   ]
  },
  {
   "cell_type": "code",
   "execution_count": 0,
   "metadata": {
    "application/vnd.databricks.v1+cell": {
     "cellMetadata": {
      "byteLimit": 2048000,
      "rowLimit": 10000
     },
     "inputWidgets": {},
     "nuid": "8d320587-6f40-4948-b3fa-c93b857cb9b1",
     "showTitle": false,
     "tableResultSettingsMap": {},
     "title": ""
    }
   },
   "outputs": [],
   "source": [
    "loans_filtered_df = loans_df_ingestd.na.drop(subset=columns_to_check)"
   ]
  },
  {
   "cell_type": "code",
   "execution_count": 0,
   "metadata": {
    "application/vnd.databricks.v1+cell": {
     "cellMetadata": {
      "byteLimit": 2048000,
      "rowLimit": 10000
     },
     "inputWidgets": {},
     "nuid": "f692599b-0bed-4a4b-93db-0968c424535b",
     "showTitle": false,
     "tableResultSettingsMap": {},
     "title": ""
    }
   },
   "outputs": [
    {
     "output_type": "execute_result",
     "data": {
      "text/plain": [
       "2260667"
      ]
     },
     "execution_count": 15,
     "metadata": {},
     "output_type": "execute_result"
    }
   ],
   "source": [
    "loans_filtered_df.count()"
   ]
  },
  {
   "cell_type": "code",
   "execution_count": 0,
   "metadata": {
    "application/vnd.databricks.v1+cell": {
     "cellMetadata": {
      "byteLimit": 2048000,
      "rowLimit": 10000
     },
     "inputWidgets": {},
     "nuid": "4004b83d-df0b-4e1a-9e5e-cb5aac28052b",
     "showTitle": false,
     "tableResultSettingsMap": {},
     "title": ""
    }
   },
   "outputs": [],
   "source": [
    "loans_filtered_df.createOrReplaceTempView(\"loans\")"
   ]
  },
  {
   "cell_type": "code",
   "execution_count": 0,
   "metadata": {
    "application/vnd.databricks.v1+cell": {
     "cellMetadata": {
      "byteLimit": 2048000,
      "rowLimit": 10000
     },
     "inputWidgets": {},
     "nuid": "4323c23d-c967-493e-a203-64c924c17896",
     "showTitle": false,
     "tableResultSettingsMap": {},
     "title": ""
    }
   },
   "outputs": [
    {
     "output_type": "display_data",
     "data": {
      "text/html": [
       "<style scoped>\n",
       "  .table-result-container {\n",
       "    max-height: 300px;\n",
       "    overflow: auto;\n",
       "  }\n",
       "  table, th, td {\n",
       "    border: 1px solid black;\n",
       "    border-collapse: collapse;\n",
       "  }\n",
       "  th, td {\n",
       "    padding: 5px;\n",
       "  }\n",
       "  th {\n",
       "    text-align: left;\n",
       "  }\n",
       "</style><div class='table-result-container'><table class='table-result'><thead style='background-color: white'><tr><th>loan_id</th><th>member_id</th><th>loan_amount</th><th>funded_amount</th><th>loan_term_months</th><th>interest_rate</th><th>monthly_installment</th><th>issue_date</th><th>loan_status</th><th>loan_purpose</th><th>loan_title</th><th>ingest_date</th></tr></thead><tbody><tr><td>68407277</td><td>6d5091b3fcaaeb4eac37445042b6b79e8b21f16943b9c32c4f5dd74dcb0f2210</td><td>3600.0</td><td>3600.0</td><td>36 months</td><td>13.99</td><td>123.03</td><td>Dec-2015</td><td>Fully Paid</td><td>debt_consolidation</td><td>Debt consolidation</td><td>2025-08-15T04:48:24.371149Z</td></tr><tr><td>68355089</td><td>b5e7938b0a2da4ceaa75ea2e3c111d1e33ca0f944f954b6d65671ef395d21713</td><td>24700.0</td><td>24700.0</td><td>36 months</td><td>11.99</td><td>820.28</td><td>Dec-2015</td><td>Fully Paid</td><td>small_business</td><td>Business</td><td>2025-08-15T04:48:24.371149Z</td></tr><tr><td>68341763</td><td>91060b858433e8a6107be9b76b324e304b5802631fc081b449188fe4b4e32205</td><td>20000.0</td><td>20000.0</td><td>60 months</td><td>10.78</td><td>432.66</td><td>Dec-2015</td><td>Fully Paid</td><td>home_improvement</td><td>null</td><td>2025-08-15T04:48:24.371149Z</td></tr><tr><td>66310712</td><td>cab1fa9f533688b0aab7c6be7b6256d15ad1dd5f3c4ca061a49cfeb26901977d</td><td>35000.0</td><td>35000.0</td><td>60 months</td><td>14.85</td><td>829.9</td><td>Dec-2015</td><td>Current</td><td>debt_consolidation</td><td>Debt consolidation</td><td>2025-08-15T04:48:24.371149Z</td></tr><tr><td>68476807</td><td>f74e401c1ab0adf788a7279dd70a27459fcc47733d35eed71149ff371d2a7283</td><td>10400.0</td><td>10400.0</td><td>60 months</td><td>22.45</td><td>289.91</td><td>Dec-2015</td><td>Fully Paid</td><td>major_purchase</td><td>Major purchase</td><td>2025-08-15T04:48:24.371149Z</td></tr><tr><td>68426831</td><td>8aef4bb29d609d8d684fd709af965bd690fc9ef3a2691777f38e0c10d622fe97</td><td>11950.0</td><td>11950.0</td><td>36 months</td><td>13.44</td><td>405.18</td><td>Dec-2015</td><td>Fully Paid</td><td>debt_consolidation</td><td>Debt consolidation</td><td>2025-08-15T04:48:24.371149Z</td></tr><tr><td>68476668</td><td>538b4653da3b1e8142b50baacf97a57b721eb6ec565f5fb63a1b71d191e9e934</td><td>20000.0</td><td>20000.0</td><td>36 months</td><td>9.17</td><td>637.58</td><td>Dec-2015</td><td>Fully Paid</td><td>debt_consolidation</td><td>Debt consolidation</td><td>2025-08-15T04:48:24.371149Z</td></tr><tr><td>67275481</td><td>b24d55f21390533c512f78f822153dc247e984dcd0cfe031c341ccef1c689817</td><td>20000.0</td><td>20000.0</td><td>36 months</td><td>8.49</td><td>631.26</td><td>Dec-2015</td><td>Fully Paid</td><td>major_purchase</td><td>Major purchase</td><td>2025-08-15T04:48:24.371149Z</td></tr><tr><td>68466926</td><td>1035c5401b0ca76d02c334b813302a9b72825e70b1659e8bc8ce5eea6c5d1f52</td><td>10000.0</td><td>10000.0</td><td>36 months</td><td>6.49</td><td>306.45</td><td>Dec-2015</td><td>Fully Paid</td><td>credit_card</td><td>Credit card refinancing</td><td>2025-08-15T04:48:24.371149Z</td></tr><tr><td>68616873</td><td>cb0f1777593e77909d0d359a6d9e633f28568500e17806f815395c92f0cd375d</td><td>8000.0</td><td>8000.0</td><td>36 months</td><td>11.48</td><td>263.74</td><td>Dec-2015</td><td>Fully Paid</td><td>credit_card</td><td>Credit card refinancing</td><td>2025-08-15T04:48:24.371149Z</td></tr></tbody></table></div>"
      ]
     },
     "metadata": {
      "application/vnd.databricks.v1+output": {
       "addedWidgets": {},
       "aggData": [],
       "aggError": "",
       "aggOverflow": false,
       "aggSchema": [],
       "aggSeriesLimitReached": false,
       "aggType": "",
       "arguments": {},
       "columnCustomDisplayInfos": {},
       "data": [
        [
         "68407277",
         "6d5091b3fcaaeb4eac37445042b6b79e8b21f16943b9c32c4f5dd74dcb0f2210",
         3600.0,
         3600.0,
         "36 months",
         13.99,
         123.03,
         "Dec-2015",
         "Fully Paid",
         "debt_consolidation",
         "Debt consolidation",
         "2025-08-15T04:48:24.371149Z"
        ],
        [
         "68355089",
         "b5e7938b0a2da4ceaa75ea2e3c111d1e33ca0f944f954b6d65671ef395d21713",
         24700.0,
         24700.0,
         "36 months",
         11.99,
         820.28,
         "Dec-2015",
         "Fully Paid",
         "small_business",
         "Business",
         "2025-08-15T04:48:24.371149Z"
        ],
        [
         "68341763",
         "91060b858433e8a6107be9b76b324e304b5802631fc081b449188fe4b4e32205",
         20000.0,
         20000.0,
         "60 months",
         10.78,
         432.66,
         "Dec-2015",
         "Fully Paid",
         "home_improvement",
         null,
         "2025-08-15T04:48:24.371149Z"
        ],
        [
         "66310712",
         "cab1fa9f533688b0aab7c6be7b6256d15ad1dd5f3c4ca061a49cfeb26901977d",
         35000.0,
         35000.0,
         "60 months",
         14.85,
         829.9,
         "Dec-2015",
         "Current",
         "debt_consolidation",
         "Debt consolidation",
         "2025-08-15T04:48:24.371149Z"
        ],
        [
         "68476807",
         "f74e401c1ab0adf788a7279dd70a27459fcc47733d35eed71149ff371d2a7283",
         10400.0,
         10400.0,
         "60 months",
         22.45,
         289.91,
         "Dec-2015",
         "Fully Paid",
         "major_purchase",
         "Major purchase",
         "2025-08-15T04:48:24.371149Z"
        ],
        [
         "68426831",
         "8aef4bb29d609d8d684fd709af965bd690fc9ef3a2691777f38e0c10d622fe97",
         11950.0,
         11950.0,
         "36 months",
         13.44,
         405.18,
         "Dec-2015",
         "Fully Paid",
         "debt_consolidation",
         "Debt consolidation",
         "2025-08-15T04:48:24.371149Z"
        ],
        [
         "68476668",
         "538b4653da3b1e8142b50baacf97a57b721eb6ec565f5fb63a1b71d191e9e934",
         20000.0,
         20000.0,
         "36 months",
         9.17,
         637.58,
         "Dec-2015",
         "Fully Paid",
         "debt_consolidation",
         "Debt consolidation",
         "2025-08-15T04:48:24.371149Z"
        ],
        [
         "67275481",
         "b24d55f21390533c512f78f822153dc247e984dcd0cfe031c341ccef1c689817",
         20000.0,
         20000.0,
         "36 months",
         8.49,
         631.26,
         "Dec-2015",
         "Fully Paid",
         "major_purchase",
         "Major purchase",
         "2025-08-15T04:48:24.371149Z"
        ],
        [
         "68466926",
         "1035c5401b0ca76d02c334b813302a9b72825e70b1659e8bc8ce5eea6c5d1f52",
         10000.0,
         10000.0,
         "36 months",
         6.49,
         306.45,
         "Dec-2015",
         "Fully Paid",
         "credit_card",
         "Credit card refinancing",
         "2025-08-15T04:48:24.371149Z"
        ],
        [
         "68616873",
         "cb0f1777593e77909d0d359a6d9e633f28568500e17806f815395c92f0cd375d",
         8000.0,
         8000.0,
         "36 months",
         11.48,
         263.74,
         "Dec-2015",
         "Fully Paid",
         "credit_card",
         "Credit card refinancing",
         "2025-08-15T04:48:24.371149Z"
        ]
       ],
       "datasetInfos": [],
       "dbfsResultPath": null,
       "isJsonSchema": true,
       "metadata": {},
       "overflow": false,
       "plotOptions": {
        "customPlotOptions": {},
        "displayType": "table",
        "pivotAggregation": null,
        "pivotColumns": null,
        "xColumns": null,
        "yColumns": null
       },
       "removedWidgets": [],
       "schema": [
        {
         "metadata": "{}",
         "name": "loan_id",
         "type": "\"string\""
        },
        {
         "metadata": "{}",
         "name": "member_id",
         "type": "\"string\""
        },
        {
         "metadata": "{}",
         "name": "loan_amount",
         "type": "\"float\""
        },
        {
         "metadata": "{}",
         "name": "funded_amount",
         "type": "\"float\""
        },
        {
         "metadata": "{}",
         "name": "loan_term_months",
         "type": "\"string\""
        },
        {
         "metadata": "{}",
         "name": "interest_rate",
         "type": "\"float\""
        },
        {
         "metadata": "{}",
         "name": "monthly_installment",
         "type": "\"float\""
        },
        {
         "metadata": "{}",
         "name": "issue_date",
         "type": "\"string\""
        },
        {
         "metadata": "{}",
         "name": "loan_status",
         "type": "\"string\""
        },
        {
         "metadata": "{}",
         "name": "loan_purpose",
         "type": "\"string\""
        },
        {
         "metadata": "{}",
         "name": "loan_title",
         "type": "\"string\""
        },
        {
         "metadata": "{}",
         "name": "ingest_date",
         "type": "\"timestamp\""
        }
       ],
       "type": "table"
      }
     },
     "output_type": "display_data"
    }
   ],
   "source": [
    "display(loans_filtered_df.limit(10))"
   ]
  },
  {
   "cell_type": "markdown",
   "metadata": {
    "application/vnd.databricks.v1+cell": {
     "cellMetadata": {},
     "inputWidgets": {},
     "nuid": "00eeae12-f8cc-4ccc-87c3-041d10846cc5",
     "showTitle": false,
     "tableResultSettingsMap": {},
     "title": ""
    }
   },
   "source": [
    "#### 4. convert loan_term_months to integer"
   ]
  },
  {
   "cell_type": "code",
   "execution_count": 0,
   "metadata": {
    "application/vnd.databricks.v1+cell": {
     "cellMetadata": {
      "byteLimit": 2048000,
      "rowLimit": 10000
     },
     "inputWidgets": {},
     "nuid": "9be3b046-4c74-4687-bd50-c8aa771965c5",
     "showTitle": false,
     "tableResultSettingsMap": {},
     "title": ""
    }
   },
   "outputs": [],
   "source": [
    "from pyspark.sql.functions import regexp_replace, col"
   ]
  },
  {
   "cell_type": "code",
   "execution_count": 0,
   "metadata": {
    "application/vnd.databricks.v1+cell": {
     "cellMetadata": {
      "byteLimit": 2048000,
      "rowLimit": 10000
     },
     "inputWidgets": {},
     "nuid": "4d1cfb46-a97b-4038-a48a-090294ecd188",
     "showTitle": false,
     "tableResultSettingsMap": {},
     "title": ""
    }
   },
   "outputs": [],
   "source": [
    "loans_term_modified_df = loans_filtered_df.withColumn(\"loan_term_months\", (regexp_replace(col(\"loan_term_months\"), \" months\", \"\") \\\n",
    ".try_cast(\"int\") / 12) \\\n",
    ".try_cast(\"int\")) \\\n",
    ".withColumnRenamed(\"loan_term_months\",\"loan_term_years\")"
   ]
  },
  {
   "cell_type": "code",
   "execution_count": 0,
   "metadata": {
    "application/vnd.databricks.v1+cell": {
     "cellMetadata": {
      "byteLimit": 2048000,
      "rowLimit": 10000
     },
     "inputWidgets": {},
     "nuid": "c8e7fd82-7171-4216-a739-927740bed050",
     "showTitle": false,
     "tableResultSettingsMap": {},
     "title": ""
    }
   },
   "outputs": [
    {
     "output_type": "display_data",
     "data": {
      "text/html": [
       "<style scoped>\n",
       "  .table-result-container {\n",
       "    max-height: 300px;\n",
       "    overflow: auto;\n",
       "  }\n",
       "  table, th, td {\n",
       "    border: 1px solid black;\n",
       "    border-collapse: collapse;\n",
       "  }\n",
       "  th, td {\n",
       "    padding: 5px;\n",
       "  }\n",
       "  th {\n",
       "    text-align: left;\n",
       "  }\n",
       "</style><div class='table-result-container'><table class='table-result'><thead style='background-color: white'><tr><th>loan_id</th><th>member_id</th><th>loan_amount</th><th>funded_amount</th><th>loan_term_years</th><th>interest_rate</th><th>monthly_installment</th><th>issue_date</th><th>loan_status</th><th>loan_purpose</th><th>loan_title</th><th>ingest_date</th></tr></thead><tbody><tr><td>68407277</td><td>6d5091b3fcaaeb4eac37445042b6b79e8b21f16943b9c32c4f5dd74dcb0f2210</td><td>3600.0</td><td>3600.0</td><td>3</td><td>13.99</td><td>123.03</td><td>Dec-2015</td><td>Fully Paid</td><td>debt_consolidation</td><td>Debt consolidation</td><td>2025-08-15T04:48:38.403742Z</td></tr><tr><td>68355089</td><td>b5e7938b0a2da4ceaa75ea2e3c111d1e33ca0f944f954b6d65671ef395d21713</td><td>24700.0</td><td>24700.0</td><td>3</td><td>11.99</td><td>820.28</td><td>Dec-2015</td><td>Fully Paid</td><td>small_business</td><td>Business</td><td>2025-08-15T04:48:38.403742Z</td></tr><tr><td>68341763</td><td>91060b858433e8a6107be9b76b324e304b5802631fc081b449188fe4b4e32205</td><td>20000.0</td><td>20000.0</td><td>5</td><td>10.78</td><td>432.66</td><td>Dec-2015</td><td>Fully Paid</td><td>home_improvement</td><td>null</td><td>2025-08-15T04:48:38.403742Z</td></tr><tr><td>66310712</td><td>cab1fa9f533688b0aab7c6be7b6256d15ad1dd5f3c4ca061a49cfeb26901977d</td><td>35000.0</td><td>35000.0</td><td>5</td><td>14.85</td><td>829.9</td><td>Dec-2015</td><td>Current</td><td>debt_consolidation</td><td>Debt consolidation</td><td>2025-08-15T04:48:38.403742Z</td></tr><tr><td>68476807</td><td>f74e401c1ab0adf788a7279dd70a27459fcc47733d35eed71149ff371d2a7283</td><td>10400.0</td><td>10400.0</td><td>5</td><td>22.45</td><td>289.91</td><td>Dec-2015</td><td>Fully Paid</td><td>major_purchase</td><td>Major purchase</td><td>2025-08-15T04:48:38.403742Z</td></tr><tr><td>68426831</td><td>8aef4bb29d609d8d684fd709af965bd690fc9ef3a2691777f38e0c10d622fe97</td><td>11950.0</td><td>11950.0</td><td>3</td><td>13.44</td><td>405.18</td><td>Dec-2015</td><td>Fully Paid</td><td>debt_consolidation</td><td>Debt consolidation</td><td>2025-08-15T04:48:38.403742Z</td></tr><tr><td>68476668</td><td>538b4653da3b1e8142b50baacf97a57b721eb6ec565f5fb63a1b71d191e9e934</td><td>20000.0</td><td>20000.0</td><td>3</td><td>9.17</td><td>637.58</td><td>Dec-2015</td><td>Fully Paid</td><td>debt_consolidation</td><td>Debt consolidation</td><td>2025-08-15T04:48:38.403742Z</td></tr><tr><td>67275481</td><td>b24d55f21390533c512f78f822153dc247e984dcd0cfe031c341ccef1c689817</td><td>20000.0</td><td>20000.0</td><td>3</td><td>8.49</td><td>631.26</td><td>Dec-2015</td><td>Fully Paid</td><td>major_purchase</td><td>Major purchase</td><td>2025-08-15T04:48:38.403742Z</td></tr><tr><td>68466926</td><td>1035c5401b0ca76d02c334b813302a9b72825e70b1659e8bc8ce5eea6c5d1f52</td><td>10000.0</td><td>10000.0</td><td>3</td><td>6.49</td><td>306.45</td><td>Dec-2015</td><td>Fully Paid</td><td>credit_card</td><td>Credit card refinancing</td><td>2025-08-15T04:48:38.403742Z</td></tr><tr><td>68616873</td><td>cb0f1777593e77909d0d359a6d9e633f28568500e17806f815395c92f0cd375d</td><td>8000.0</td><td>8000.0</td><td>3</td><td>11.48</td><td>263.74</td><td>Dec-2015</td><td>Fully Paid</td><td>credit_card</td><td>Credit card refinancing</td><td>2025-08-15T04:48:38.403742Z</td></tr></tbody></table></div>"
      ]
     },
     "metadata": {
      "application/vnd.databricks.v1+output": {
       "addedWidgets": {},
       "aggData": [],
       "aggError": "",
       "aggOverflow": false,
       "aggSchema": [],
       "aggSeriesLimitReached": false,
       "aggType": "",
       "arguments": {},
       "columnCustomDisplayInfos": {},
       "data": [
        [
         "68407277",
         "6d5091b3fcaaeb4eac37445042b6b79e8b21f16943b9c32c4f5dd74dcb0f2210",
         3600.0,
         3600.0,
         3,
         13.99,
         123.03,
         "Dec-2015",
         "Fully Paid",
         "debt_consolidation",
         "Debt consolidation",
         "2025-08-15T04:48:38.403742Z"
        ],
        [
         "68355089",
         "b5e7938b0a2da4ceaa75ea2e3c111d1e33ca0f944f954b6d65671ef395d21713",
         24700.0,
         24700.0,
         3,
         11.99,
         820.28,
         "Dec-2015",
         "Fully Paid",
         "small_business",
         "Business",
         "2025-08-15T04:48:38.403742Z"
        ],
        [
         "68341763",
         "91060b858433e8a6107be9b76b324e304b5802631fc081b449188fe4b4e32205",
         20000.0,
         20000.0,
         5,
         10.78,
         432.66,
         "Dec-2015",
         "Fully Paid",
         "home_improvement",
         null,
         "2025-08-15T04:48:38.403742Z"
        ],
        [
         "66310712",
         "cab1fa9f533688b0aab7c6be7b6256d15ad1dd5f3c4ca061a49cfeb26901977d",
         35000.0,
         35000.0,
         5,
         14.85,
         829.9,
         "Dec-2015",
         "Current",
         "debt_consolidation",
         "Debt consolidation",
         "2025-08-15T04:48:38.403742Z"
        ],
        [
         "68476807",
         "f74e401c1ab0adf788a7279dd70a27459fcc47733d35eed71149ff371d2a7283",
         10400.0,
         10400.0,
         5,
         22.45,
         289.91,
         "Dec-2015",
         "Fully Paid",
         "major_purchase",
         "Major purchase",
         "2025-08-15T04:48:38.403742Z"
        ],
        [
         "68426831",
         "8aef4bb29d609d8d684fd709af965bd690fc9ef3a2691777f38e0c10d622fe97",
         11950.0,
         11950.0,
         3,
         13.44,
         405.18,
         "Dec-2015",
         "Fully Paid",
         "debt_consolidation",
         "Debt consolidation",
         "2025-08-15T04:48:38.403742Z"
        ],
        [
         "68476668",
         "538b4653da3b1e8142b50baacf97a57b721eb6ec565f5fb63a1b71d191e9e934",
         20000.0,
         20000.0,
         3,
         9.17,
         637.58,
         "Dec-2015",
         "Fully Paid",
         "debt_consolidation",
         "Debt consolidation",
         "2025-08-15T04:48:38.403742Z"
        ],
        [
         "67275481",
         "b24d55f21390533c512f78f822153dc247e984dcd0cfe031c341ccef1c689817",
         20000.0,
         20000.0,
         3,
         8.49,
         631.26,
         "Dec-2015",
         "Fully Paid",
         "major_purchase",
         "Major purchase",
         "2025-08-15T04:48:38.403742Z"
        ],
        [
         "68466926",
         "1035c5401b0ca76d02c334b813302a9b72825e70b1659e8bc8ce5eea6c5d1f52",
         10000.0,
         10000.0,
         3,
         6.49,
         306.45,
         "Dec-2015",
         "Fully Paid",
         "credit_card",
         "Credit card refinancing",
         "2025-08-15T04:48:38.403742Z"
        ],
        [
         "68616873",
         "cb0f1777593e77909d0d359a6d9e633f28568500e17806f815395c92f0cd375d",
         8000.0,
         8000.0,
         3,
         11.48,
         263.74,
         "Dec-2015",
         "Fully Paid",
         "credit_card",
         "Credit card refinancing",
         "2025-08-15T04:48:38.403742Z"
        ]
       ],
       "datasetInfos": [],
       "dbfsResultPath": null,
       "isJsonSchema": true,
       "metadata": {},
       "overflow": false,
       "plotOptions": {
        "customPlotOptions": {},
        "displayType": "table",
        "pivotAggregation": null,
        "pivotColumns": null,
        "xColumns": null,
        "yColumns": null
       },
       "removedWidgets": [],
       "schema": [
        {
         "metadata": "{}",
         "name": "loan_id",
         "type": "\"string\""
        },
        {
         "metadata": "{}",
         "name": "member_id",
         "type": "\"string\""
        },
        {
         "metadata": "{}",
         "name": "loan_amount",
         "type": "\"float\""
        },
        {
         "metadata": "{}",
         "name": "funded_amount",
         "type": "\"float\""
        },
        {
         "metadata": "{}",
         "name": "loan_term_years",
         "type": "\"integer\""
        },
        {
         "metadata": "{}",
         "name": "interest_rate",
         "type": "\"float\""
        },
        {
         "metadata": "{}",
         "name": "monthly_installment",
         "type": "\"float\""
        },
        {
         "metadata": "{}",
         "name": "issue_date",
         "type": "\"string\""
        },
        {
         "metadata": "{}",
         "name": "loan_status",
         "type": "\"string\""
        },
        {
         "metadata": "{}",
         "name": "loan_purpose",
         "type": "\"string\""
        },
        {
         "metadata": "{}",
         "name": "loan_title",
         "type": "\"string\""
        },
        {
         "metadata": "{}",
         "name": "ingest_date",
         "type": "\"timestamp\""
        }
       ],
       "type": "table"
      }
     },
     "output_type": "display_data"
    }
   ],
   "source": [
    "display(loans_term_modified_df.limit(10))"
   ]
  },
  {
   "cell_type": "code",
   "execution_count": 0,
   "metadata": {
    "application/vnd.databricks.v1+cell": {
     "cellMetadata": {
      "byteLimit": 2048000,
      "rowLimit": 10000
     },
     "inputWidgets": {},
     "nuid": "d3abe426-6006-4cf3-a798-2dcb3b77a533",
     "showTitle": false,
     "tableResultSettingsMap": {},
     "title": ""
    }
   },
   "outputs": [
    {
     "output_type": "stream",
     "name": "stdout",
     "output_type": "stream",
     "text": [
      "root\n |-- loan_id: string (nullable = true)\n |-- member_id: string (nullable = true)\n |-- loan_amount: float (nullable = true)\n |-- funded_amount: float (nullable = true)\n |-- loan_term_years: integer (nullable = true)\n |-- interest_rate: float (nullable = true)\n |-- monthly_installment: float (nullable = true)\n |-- issue_date: string (nullable = true)\n |-- loan_status: string (nullable = true)\n |-- loan_purpose: string (nullable = true)\n |-- loan_title: string (nullable = true)\n |-- ingest_date: timestamp (nullable = false)\n\n"
     ]
    }
   ],
   "source": [
    "loans_term_modified_df.printSchema()"
   ]
  },
  {
   "cell_type": "markdown",
   "metadata": {
    "application/vnd.databricks.v1+cell": {
     "cellMetadata": {},
     "inputWidgets": {},
     "nuid": "06308601-7f6f-46e7-a66e-c760da032685",
     "showTitle": false,
     "tableResultSettingsMap": {},
     "title": ""
    }
   },
   "source": [
    "#### 5. Clean the loans_purpose column"
   ]
  },
  {
   "cell_type": "code",
   "execution_count": 0,
   "metadata": {
    "application/vnd.databricks.v1+cell": {
     "cellMetadata": {
      "byteLimit": 2048000,
      "rowLimit": 10000
     },
     "inputWidgets": {},
     "nuid": "8d3c9ed3-4276-4da4-a476-ae7563332f49",
     "showTitle": false,
     "tableResultSettingsMap": {},
     "title": ""
    }
   },
   "outputs": [],
   "source": [
    "loans_term_modified_df.createOrReplaceTempView(\"loans\")"
   ]
  },
  {
   "cell_type": "code",
   "execution_count": 0,
   "metadata": {
    "application/vnd.databricks.v1+cell": {
     "cellMetadata": {
      "byteLimit": 2048000,
      "rowLimit": 10000
     },
     "inputWidgets": {},
     "nuid": "242848e0-8754-4e19-bafd-37f07c40699b",
     "showTitle": false,
     "tableResultSettingsMap": {},
     "title": ""
    }
   },
   "outputs": [
    {
     "output_type": "display_data",
     "data": {
      "text/html": [
       "<style scoped>\n",
       "  .table-result-container {\n",
       "    max-height: 300px;\n",
       "    overflow: auto;\n",
       "  }\n",
       "  table, th, td {\n",
       "    border: 1px solid black;\n",
       "    border-collapse: collapse;\n",
       "  }\n",
       "  th, td {\n",
       "    padding: 5px;\n",
       "  }\n",
       "  th {\n",
       "    text-align: left;\n",
       "  }\n",
       "</style><div class='table-result-container'><table class='table-result'><thead style='background-color: white'><tr><th>loan_purpose</th></tr></thead><tbody><tr><td>wedding</td></tr><tr><td>educational</td></tr><tr><td>other</td></tr><tr><td>small_business</td></tr><tr><td>debt_consolidation</td></tr><tr><td>credit_card</td></tr><tr><td>moving</td></tr><tr><td>vacation</td></tr><tr><td>renewable_energy</td></tr><tr><td>house</td></tr><tr><td>car</td></tr><tr><td>major_purchase</td></tr><tr><td>medical</td></tr><tr><td>home_improvement</td></tr><tr><td>and also pay off some credit card debt.  I will be debt free except for my payment to you.  I don't care what the interest rate is</td></tr><tr><td>and if they are allocated properly. I have twenty plus years experience in the investment business so this is my area of expertise. My plan is unique and will be successful due to the biased nature of the investment business.<br/>\"</td></tr><tr><td>never had any trouble with debts.\"\"\"\"I bought a duplex in june. The only thing left to renovate is the roof and redo the sidewalk and drive way. I am secure in my job</td></tr><tr><td><br/><br/>Lending Club Member Support\"\"<br/>*********<br/><br/>Please contact the Lending Club if you have ANY questions about my loan.<br/>\"</td></tr><tr><td>I became his primary caregiver.<br/><br/>And to add more strain to our situation</td></tr><tr><td>on one of the busiest routes in the entire state</td></tr><tr><td>because of the nature of my business bonus income is very substantial.  Last year's bonus and origination share was over $105</td></tr><tr><td>progressive multi-media company start-up. The initial project of this single-member LLC is an entrepreneurial opportunity that must be taken advantage of immediately</td></tr><tr><td>but not much info for borrower. <br/><br/>If the lender goes bankruptcy.<br/>If the lender die. <br/>Who covers the cost... i'm guessing lenders club.<br/><br/>I'll probably invest in lending club in the near future... but i would not want to invest in something without seeing how the borrower experience is. I will also investigate the above question in more detail at that time.<br/><br/>Thank you for your time!<br/>\"</td></tr><tr><td>so I have to pay for my loss</td></tr><tr><td>I will be able to budget accordingly for future tax expenses.  Thank you for your help!\"</td></tr><tr><td>so I am trying to help clean his up some by clearing some of these bad rates.<br/>\"</td></tr><tr><td>we can guarantee you a few things. We are at LC because a bank has either turned us down for a loan or the interest rates were higher than the debt we have. We realize that we rather see a peer profit from our loans as well as helping us succeed.<br/><br/>Will this loan be paid back in 36 months. I have EVERY intention to pay this loan in LESS than 36 months. I would like to purchase a house in the future</td></tr><tr><td>but unfortunately</td></tr><tr><td>every month. I do not want to be on the \"\"Treadmill\"\" any longer and would appreciate you assistance in making this .<br/><br/>The reasons for the debt is due the following in which I will list below<br/><br/>1. Excessive auto repairs (I have since bought a newer late model used car). So having to have a 10+ YR old vehicle repaired on a regular basis will no longer be an issue.<br/><br/>2. Being unemployed and/or having low paying jobs which excessively exceeded my daily living expenses. I have been able to increase my income and have good job security. I have been with my current employer for nearly 2 years. I also plan to look for additional sources of income (i.e second job</td></tr><tr><td>I lacked the funds to see it through.  I asked the specialist in Toronto why insurance does not cover it</td></tr><tr><td>and it lasts through 2014.<br/><br/>Thank you very much for your consideration.<br/> Borrower added on 03/15/10 > I plan to use the loan to pay off my credit card debt so I will not have to worry about multiple credit card payments every month. Having a fixed interest rate will afford me the opportunity to have a fixed payment plan</td></tr><tr><td>judgments</td></tr><tr><td>so will not affect my budget to increase.  The final buyout price of the car is $15</td></tr><tr><td>when I meant \"\"home rehabilitation\"\" -- but I presume the text of my loan description makes that obvious FHA 203(k) program and all.<br/>  <br/>I just wanted to clarify. Thanks for your interest.<br/>\"</td></tr><tr><td>I'm with a Fed agency as a contractor and my wife is a teacher here in Northern VA.  I have talked to my client and have been assured that my position is as secure as his Fed slot.<br/> Borrower added on 06/04/10 > Please feel free to contact me with any questions or concerns.<br/>\"</td></tr><tr><td>so that our company will continue to realize the success which it has had for 25 years.    Please feel free to ask any questions. I will gladly provide any additional details you may require.    Thank you for your consideration.  Borrower added on 05/13/10 > We have recently incorporated a new division of our company in Nevada</td></tr><tr><td>but I could not</td></tr><tr><td>I am a good borrower because I have the ability to pay back loans in a timely manner. I have always paid above any minimum amounts due. I have paid any accounts before due dates and typically have paid off loans before the initial end of the loan. I have only had one late payment in the previous three years and that was a credit card annual fee added to my account from Capital One in the amount of $29. I would have paid the amount; however</td></tr><tr><td>without making them feel as though they are \"\"beneath\"\" the rest of us</td></tr><tr><td>however</td></tr><tr><td>once under contract</td></tr><tr><td>bushes</td></tr><tr><td>skin care</td></tr><tr><td>such as the plumbing</td></tr><tr><td>and have a solid income at $11.79/hr x 25 hr/wk. This is my last year of school and then I'm on to a real job!!! I only pay $225 a month for rent and $35 for utilities. I don't have a car payment</td></tr><tr><td>739.00. Primarily</td></tr><tr><td>Time has become an issue. This device allows me to expedite the process significantly</td></tr><tr><td>meaning the metrics I use are all based on best and worst case scenarios with contingencies for the major and obvious disasters (economy</td></tr><tr><td>and earns an additional $49</td></tr><tr><td>I have requested this loan because of the high interest I am paying on the balances on my credit cards. Some APRS  from  17.99 to 19.99 even with my good credit score. It is time to say good bye to these credit card companies.  <br/>   I have been on my job for 21 years and yes it is my career.<br/>I have learned that paying cash is the best way to go these days. I have a plan to be almost debt free because we all will have some type of debt in this lifetime. If I am funded/approved for this loan it will surely help.<br/>So if you have any questions feel free to submit them.<br/><br/> I Thank You for your time and consideration.<br/>\"</td></tr><tr><td>5 years).  I request this loan because of my families current unforeseen situation and it's time sensitivity.  I feel an incredible sense of duty to honor the commitment made to the lenders of this loan.  As I will do what it takes to keep the promise I made to my father to protect him</td></tr><tr><td>first as a Borrower then perhaps also as an Investor.<br/> Borrower added on 03/05/10 > Am a Senior Executive of a Healthcare Marketing & Communications Agency<br/>Have two Sons in College at the same time.<br/>Could liquidate stocks but want to give the market more time to come back.<br/>Also wanted to try \"\"peer-to-peer\"\" banking</td></tr><tr><td>let's hike his interest so we get more and he can't pay down principle.\"\" My response - enough is enough. I'd rather smart investors like Lending Club members get my interest money than keep sending it to a credit card company that treats me this way! Please help me free myself from these companies. Thanks.<br/> Borrower added on 03/12/10 > FYI: We do rent the home we live in</td></tr><tr><td>and the young lady I talked to that works for lending club advised me that I would have to wait for an email to come through in order to verify my income so I am waiting for that email.  Thank You</td></tr><tr><td>which necessitated incurring additional (unexpected) expenses to travel to their funerals. I have been employed by the same company for a little over 2 years</td></tr><tr><td>responsibility and compensation.  I made a lot of finanancal mistakes years ago when I graduated college but now I am ready to remedy those mistakes and achieve financial freedom from Credit Cards.<br/>\"</td></tr><tr><td>and extremely secure despite the grim economic woes felt by the rest of the world.  In 2010 and almost eighteen years later</td></tr><tr><td>I will be lowering my monthly payments and will have a definite payoff date of within three years of all my debt.  Even though one of the loans will be transferred to a higher interest rate</td></tr><tr><td>I decided I'd like to let some real people earn my interest dollars.<br/>\"</td></tr><tr><td>please do not hesitate to ask.  I have contacted Lending Club about how to verify my income to make my loan more attractive as well.  Thank you!<br/>\"</td></tr><tr><td>Macy's Visa is not new debt.  That account was opened in 2003.  I really don't know why the credit report isn't showing that balance.<br/> Borrower added on 02/07/10 > To Member_569427</td></tr><tr><td>and use the P2P method instead.  Thank you for taking the time to review my loan request.<br/> Borrower added on 01/16/10 > Thank you everyone who has funded my loan so far.  I<br/>am also quite impressed with ease of the Lending Club P2P process.<br/>\"</td></tr><tr><td>so that's where my credit card purchases began. My current interest on my card is too much so with this loan</td></tr><tr><td>and Software to major OEM's for sell to End Users.  I handle the Business Development for one of their largest OEM's.  I have been doing this for 2 years</td></tr><tr><td>movies</td></tr><tr><td>which leaves me with my $3100 after taxes to pay all bills. Thanks again.<br/> Borrower added on 05/20/10 > I know my credit score is not good</td></tr><tr><td>I am now ready to deliver this service via the web using an interactive website. The proceeds from this loan will help pay for the development and launch of this website.<br/><br/>This is the kind of business that does well in any economy (especially a down economy). I'm starting out as a service-based business</td></tr><tr><td>I helped that guy do that!\"\".  If it doesn't</td></tr><tr><td>and transparent relationship base of the Lending Club.<br/>\"</td></tr><tr><td>etc?<br/>\"</td></tr><tr><td>which is their life and possibly career one day.<br/>My job is stable and I am a good and valuable employee.  I've won multiple employee awards and have been recognized for my contributions to the company.  <br/>All I want is to pay my creditors and not incur new debt.  We've stopped using any kind of credit as of last year</td></tr><tr><td>just pending bank approval from the buyer) . This will free up more money to enable me to pay this off in a timely matter.<br/>\"</td></tr><tr><td>with a track record of success</td></tr><tr><td>my wife and I</td></tr><tr><td>i wasn't even born until October of 88. So i guess i need to contact the Credit bureau or whoever</td></tr><tr><td>it would be greatly appreciated.  Thank you.<br/>\"</td></tr><tr><td>and 2) I need to reduce my commuting time now that my company is moving a few miles away from our current home.  I have pristine credit history</td></tr><tr><td>it was going to be tougher then I thought. Long and interesting story short.. I am currently an Investigator for American International Group. This might make you scratch your head... Let me explain... I was previously employed by JP Morgan Chase  as the Computer Forensic Analyst in Corporate Global Security Department.  I was recruited to American International Group  in 2008 as a member of there Investigation Team</td></tr><tr><td>and wish to explore how the borrower side of this website is managed. To blanket answer a few of my fellow investors questions... No - I do not need the loan of $2K to support a purchase. I have plenty of funds to accommodate my lifestyle. As you will notice in my income; debt to income ratio; and outstanding balances - I'm financially secure.   Past delinquency shown on the credit report is from a two medical bills which I was unaware of</td></tr><tr><td>but it is not at all due to unreliable behavior.\"\"<br/>\"</td></tr><tr><td>I have always been on time with my payments for all of my borrowing needs</td></tr><tr><td>768</td></tr><tr><td>000 so far this year.<br/>><br/>> I'm currently employed at a top 100 DOD Contractor and have been for over 10 years.  Income is more than sufficient to carry the debt load and if for some reason the business can not afford the payment and I need to pay it myself</td></tr><tr><td><br/>BUT I'VE NEVER MISSED A PAYMENT--NOR BEEN LATE</td></tr><tr><td>no interest</td></tr><tr><td>I am not comfortable with broadcasting the what and how of my financial problems. My Credit Report should speak for my credibility and if it does'nt I Thank You for the Consideration. I am capable of paying the loan back no later than Feb. 2011</td></tr><tr><td>I will never be able to spend time with our boys. My ex wife</td></tr><tr><td>000 (income approx $10</td></tr><tr><td>will fix. I previously have been a finance manager and a buyer for fragrance and accessories.<br/>\"</td></tr><tr><td>hopefully in time for the holidays. I want to thank</td></tr><tr><td>they will sell at a way lower value than what it's worth in order to make quick money.  I will buy these items and flip them around for profits later on.<br/> Borrower added on 06/09/10 > I'm going to verify my bank account as soon as the transaction appears on my statement.  I need the funding ASAP! Please people</td></tr><tr><td>not 3</td></tr><tr><td>at the time</td></tr><tr><td>and I would like to keep the finance charges to a minimum.  I have never made a late payment on any account I have ever had.  I expect to pay off the loan within a year</td></tr><tr><td>BUT I LOVE THE CONCEPT OF LENDING CLUB.<br/><br/>THANKS FOR ALL YOUR HELP<br/> Borrower added on 05/23/10 > down to last two days!!  thanks to all of you who have helped us.  much appreciated  and wont let you down !!    Eddie and Karen<br/>\"</td></tr><tr><td>my monthly budget is $3</td></tr><tr><td>it is my intention to take the full 36 month term to pay off the loan I am seeking.  If I receive substantial raises over the next two years</td></tr><tr><td>which is $250 a month (in a family members basement)</td></tr><tr><td>as we affectionately call it</td></tr><tr><td>After graduating from college</td></tr></tbody></table></div>"
      ]
     },
     "metadata": {
      "application/vnd.databricks.v1+output": {
       "addedWidgets": {},
       "aggData": [],
       "aggError": "",
       "aggOverflow": false,
       "aggSchema": [],
       "aggSeriesLimitReached": false,
       "aggType": "",
       "arguments": {},
       "columnCustomDisplayInfos": {},
       "data": [
        [
         "wedding"
        ],
        [
         "educational"
        ],
        [
         "other"
        ],
        [
         "small_business"
        ],
        [
         "debt_consolidation"
        ],
        [
         "credit_card"
        ],
        [
         "moving"
        ],
        [
         "vacation"
        ],
        [
         "renewable_energy"
        ],
        [
         "house"
        ],
        [
         "car"
        ],
        [
         "major_purchase"
        ],
        [
         "medical"
        ],
        [
         "home_improvement"
        ],
        [
         "and also pay off some credit card debt.  I will be debt free except for my payment to you.  I don't care what the interest rate is"
        ],
        [
         "and if they are allocated properly. I have twenty plus years experience in the investment business so this is my area of expertise. My plan is unique and will be successful due to the biased nature of the investment business.<br/>\""
        ],
        [
         "never had any trouble with debts.\"\"\"\"I bought a duplex in june. The only thing left to renovate is the roof and redo the sidewalk and drive way. I am secure in my job"
        ],
        [
         "<br/><br/>Lending Club Member Support\"\"<br/>*********<br/><br/>Please contact the Lending Club if you have ANY questions about my loan.<br/>\""
        ],
        [
         "I became his primary caregiver.<br/><br/>And to add more strain to our situation"
        ],
        [
         "on one of the busiest routes in the entire state"
        ],
        [
         "because of the nature of my business bonus income is very substantial.  Last year's bonus and origination share was over $105"
        ],
        [
         "progressive multi-media company start-up. The initial project of this single-member LLC is an entrepreneurial opportunity that must be taken advantage of immediately"
        ],
        [
         "but not much info for borrower. <br/><br/>If the lender goes bankruptcy.<br/>If the lender die. <br/>Who covers the cost... i'm guessing lenders club.<br/><br/>I'll probably invest in lending club in the near future... but i would not want to invest in something without seeing how the borrower experience is. I will also investigate the above question in more detail at that time.<br/><br/>Thank you for your time!<br/>\""
        ],
        [
         "so I have to pay for my loss"
        ],
        [
         "I will be able to budget accordingly for future tax expenses.  Thank you for your help!\""
        ],
        [
         "so I am trying to help clean his up some by clearing some of these bad rates.<br/>\""
        ],
        [
         "we can guarantee you a few things. We are at LC because a bank has either turned us down for a loan or the interest rates were higher than the debt we have. We realize that we rather see a peer profit from our loans as well as helping us succeed.<br/><br/>Will this loan be paid back in 36 months. I have EVERY intention to pay this loan in LESS than 36 months. I would like to purchase a house in the future"
        ],
        [
         "but unfortunately"
        ],
        [
         "every month. I do not want to be on the \"\"Treadmill\"\" any longer and would appreciate you assistance in making this .<br/><br/>The reasons for the debt is due the following in which I will list below<br/><br/>1. Excessive auto repairs (I have since bought a newer late model used car). So having to have a 10+ YR old vehicle repaired on a regular basis will no longer be an issue.<br/><br/>2. Being unemployed and/or having low paying jobs which excessively exceeded my daily living expenses. I have been able to increase my income and have good job security. I have been with my current employer for nearly 2 years. I also plan to look for additional sources of income (i.e second job"
        ],
        [
         "I lacked the funds to see it through.  I asked the specialist in Toronto why insurance does not cover it"
        ],
        [
         "and it lasts through 2014.<br/><br/>Thank you very much for your consideration.<br/> Borrower added on 03/15/10 > I plan to use the loan to pay off my credit card debt so I will not have to worry about multiple credit card payments every month. Having a fixed interest rate will afford me the opportunity to have a fixed payment plan"
        ],
        [
         "judgments"
        ],
        [
         "so will not affect my budget to increase.  The final buyout price of the car is $15"
        ],
        [
         "when I meant \"\"home rehabilitation\"\" -- but I presume the text of my loan description makes that obvious FHA 203(k) program and all.<br/>  <br/>I just wanted to clarify. Thanks for your interest.<br/>\""
        ],
        [
         "I'm with a Fed agency as a contractor and my wife is a teacher here in Northern VA.  I have talked to my client and have been assured that my position is as secure as his Fed slot.<br/> Borrower added on 06/04/10 > Please feel free to contact me with any questions or concerns.<br/>\""
        ],
        [
         "so that our company will continue to realize the success which it has had for 25 years.    Please feel free to ask any questions. I will gladly provide any additional details you may require.    Thank you for your consideration.  Borrower added on 05/13/10 > We have recently incorporated a new division of our company in Nevada"
        ],
        [
         "but I could not"
        ],
        [
         "I am a good borrower because I have the ability to pay back loans in a timely manner. I have always paid above any minimum amounts due. I have paid any accounts before due dates and typically have paid off loans before the initial end of the loan. I have only had one late payment in the previous three years and that was a credit card annual fee added to my account from Capital One in the amount of $29. I would have paid the amount; however"
        ],
        [
         "without making them feel as though they are \"\"beneath\"\" the rest of us"
        ],
        [
         "however"
        ],
        [
         "once under contract"
        ],
        [
         "bushes"
        ],
        [
         "skin care"
        ],
        [
         "such as the plumbing"
        ],
        [
         "and have a solid income at $11.79/hr x 25 hr/wk. This is my last year of school and then I'm on to a real job!!! I only pay $225 a month for rent and $35 for utilities. I don't have a car payment"
        ],
        [
         "739.00. Primarily"
        ],
        [
         "Time has become an issue. This device allows me to expedite the process significantly"
        ],
        [
         "meaning the metrics I use are all based on best and worst case scenarios with contingencies for the major and obvious disasters (economy"
        ],
        [
         "and earns an additional $49"
        ],
        [
         "I have requested this loan because of the high interest I am paying on the balances on my credit cards. Some APRS  from  17.99 to 19.99 even with my good credit score. It is time to say good bye to these credit card companies.  <br/>   I have been on my job for 21 years and yes it is my career.<br/>I have learned that paying cash is the best way to go these days. I have a plan to be almost debt free because we all will have some type of debt in this lifetime. If I am funded/approved for this loan it will surely help.<br/>So if you have any questions feel free to submit them.<br/><br/> I Thank You for your time and consideration.<br/>\""
        ],
        [
         "5 years).  I request this loan because of my families current unforeseen situation and it's time sensitivity.  I feel an incredible sense of duty to honor the commitment made to the lenders of this loan.  As I will do what it takes to keep the promise I made to my father to protect him"
        ],
        [
         "first as a Borrower then perhaps also as an Investor.<br/> Borrower added on 03/05/10 > Am a Senior Executive of a Healthcare Marketing & Communications Agency<br/>Have two Sons in College at the same time.<br/>Could liquidate stocks but want to give the market more time to come back.<br/>Also wanted to try \"\"peer-to-peer\"\" banking"
        ],
        [
         "let's hike his interest so we get more and he can't pay down principle.\"\" My response - enough is enough. I'd rather smart investors like Lending Club members get my interest money than keep sending it to a credit card company that treats me this way! Please help me free myself from these companies. Thanks.<br/> Borrower added on 03/12/10 > FYI: We do rent the home we live in"
        ],
        [
         "and the young lady I talked to that works for lending club advised me that I would have to wait for an email to come through in order to verify my income so I am waiting for that email.  Thank You"
        ],
        [
         "which necessitated incurring additional (unexpected) expenses to travel to their funerals. I have been employed by the same company for a little over 2 years"
        ],
        [
         "responsibility and compensation.  I made a lot of finanancal mistakes years ago when I graduated college but now I am ready to remedy those mistakes and achieve financial freedom from Credit Cards.<br/>\""
        ],
        [
         "and extremely secure despite the grim economic woes felt by the rest of the world.  In 2010 and almost eighteen years later"
        ],
        [
         "I will be lowering my monthly payments and will have a definite payoff date of within three years of all my debt.  Even though one of the loans will be transferred to a higher interest rate"
        ],
        [
         "I decided I'd like to let some real people earn my interest dollars.<br/>\""
        ],
        [
         "please do not hesitate to ask.  I have contacted Lending Club about how to verify my income to make my loan more attractive as well.  Thank you!<br/>\""
        ],
        [
         "Macy's Visa is not new debt.  That account was opened in 2003.  I really don't know why the credit report isn't showing that balance.<br/> Borrower added on 02/07/10 > To Member_569427"
        ],
        [
         "and use the P2P method instead.  Thank you for taking the time to review my loan request.<br/> Borrower added on 01/16/10 > Thank you everyone who has funded my loan so far.  I<br/>am also quite impressed with ease of the Lending Club P2P process.<br/>\""
        ],
        [
         "so that's where my credit card purchases began. My current interest on my card is too much so with this loan"
        ],
        [
         "and Software to major OEM's for sell to End Users.  I handle the Business Development for one of their largest OEM's.  I have been doing this for 2 years"
        ],
        [
         "movies"
        ],
        [
         "which leaves me with my $3100 after taxes to pay all bills. Thanks again.<br/> Borrower added on 05/20/10 > I know my credit score is not good"
        ],
        [
         "I am now ready to deliver this service via the web using an interactive website. The proceeds from this loan will help pay for the development and launch of this website.<br/><br/>This is the kind of business that does well in any economy (especially a down economy). I'm starting out as a service-based business"
        ],
        [
         "I helped that guy do that!\"\".  If it doesn't"
        ],
        [
         "and transparent relationship base of the Lending Club.<br/>\""
        ],
        [
         "etc?<br/>\""
        ],
        [
         "which is their life and possibly career one day.<br/>My job is stable and I am a good and valuable employee.  I've won multiple employee awards and have been recognized for my contributions to the company.  <br/>All I want is to pay my creditors and not incur new debt.  We've stopped using any kind of credit as of last year"
        ],
        [
         "just pending bank approval from the buyer) . This will free up more money to enable me to pay this off in a timely matter.<br/>\""
        ],
        [
         "with a track record of success"
        ],
        [
         "my wife and I"
        ],
        [
         "i wasn't even born until October of 88. So i guess i need to contact the Credit bureau or whoever"
        ],
        [
         "it would be greatly appreciated.  Thank you.<br/>\""
        ],
        [
         "and 2) I need to reduce my commuting time now that my company is moving a few miles away from our current home.  I have pristine credit history"
        ],
        [
         "it was going to be tougher then I thought. Long and interesting story short.. I am currently an Investigator for American International Group. This might make you scratch your head... Let me explain... I was previously employed by JP Morgan Chase  as the Computer Forensic Analyst in Corporate Global Security Department.  I was recruited to American International Group  in 2008 as a member of there Investigation Team"
        ],
        [
         "and wish to explore how the borrower side of this website is managed. To blanket answer a few of my fellow investors questions... No - I do not need the loan of $2K to support a purchase. I have plenty of funds to accommodate my lifestyle. As you will notice in my income; debt to income ratio; and outstanding balances - I'm financially secure.   Past delinquency shown on the credit report is from a two medical bills which I was unaware of"
        ],
        [
         "but it is not at all due to unreliable behavior.\"\"<br/>\""
        ],
        [
         "I have always been on time with my payments for all of my borrowing needs"
        ],
        [
         "768"
        ],
        [
         "000 so far this year.<br/>><br/>> I'm currently employed at a top 100 DOD Contractor and have been for over 10 years.  Income is more than sufficient to carry the debt load and if for some reason the business can not afford the payment and I need to pay it myself"
        ],
        [
         "<br/>BUT I'VE NEVER MISSED A PAYMENT--NOR BEEN LATE"
        ],
        [
         "no interest"
        ],
        [
         "I am not comfortable with broadcasting the what and how of my financial problems. My Credit Report should speak for my credibility and if it does'nt I Thank You for the Consideration. I am capable of paying the loan back no later than Feb. 2011"
        ],
        [
         "I will never be able to spend time with our boys. My ex wife"
        ],
        [
         "000 (income approx $10"
        ],
        [
         "will fix. I previously have been a finance manager and a buyer for fragrance and accessories.<br/>\""
        ],
        [
         "hopefully in time for the holidays. I want to thank"
        ],
        [
         "they will sell at a way lower value than what it's worth in order to make quick money.  I will buy these items and flip them around for profits later on.<br/> Borrower added on 06/09/10 > I'm going to verify my bank account as soon as the transaction appears on my statement.  I need the funding ASAP! Please people"
        ],
        [
         "not 3"
        ],
        [
         "at the time"
        ],
        [
         "and I would like to keep the finance charges to a minimum.  I have never made a late payment on any account I have ever had.  I expect to pay off the loan within a year"
        ],
        [
         "BUT I LOVE THE CONCEPT OF LENDING CLUB.<br/><br/>THANKS FOR ALL YOUR HELP<br/> Borrower added on 05/23/10 > down to last two days!!  thanks to all of you who have helped us.  much appreciated  and wont let you down !!    Eddie and Karen<br/>\""
        ],
        [
         "my monthly budget is $3"
        ],
        [
         "it is my intention to take the full 36 month term to pay off the loan I am seeking.  If I receive substantial raises over the next two years"
        ],
        [
         "which is $250 a month (in a family members basement)"
        ],
        [
         "as we affectionately call it"
        ],
        [
         "After graduating from college"
        ]
       ],
       "datasetInfos": [],
       "dbfsResultPath": null,
       "isJsonSchema": true,
       "metadata": {},
       "overflow": false,
       "plotOptions": {
        "customPlotOptions": {},
        "displayType": "table",
        "pivotAggregation": null,
        "pivotColumns": null,
        "xColumns": null,
        "yColumns": null
       },
       "removedWidgets": [],
       "schema": [
        {
         "metadata": "{}",
         "name": "loan_purpose",
         "type": "\"string\""
        }
       ],
       "type": "table"
      }
     },
     "output_type": "display_data"
    }
   ],
   "source": [
    "display(spark.sql(\"select distinct(loan_purpose) from loans\").limit(100))"
   ]
  },
  {
   "cell_type": "code",
   "execution_count": 0,
   "metadata": {
    "application/vnd.databricks.v1+cell": {
     "cellMetadata": {
      "byteLimit": 2048000,
      "rowLimit": 10000
     },
     "inputWidgets": {},
     "nuid": "b3105514-3aff-4807-ae17-aebd55a427b4",
     "showTitle": false,
     "tableResultSettingsMap": {},
     "title": ""
    }
   },
   "outputs": [
    {
     "output_type": "display_data",
     "data": {
      "text/html": [
       "<style scoped>\n",
       "  .table-result-container {\n",
       "    max-height: 300px;\n",
       "    overflow: auto;\n",
       "  }\n",
       "  table, th, td {\n",
       "    border: 1px solid black;\n",
       "    border-collapse: collapse;\n",
       "  }\n",
       "  th, td {\n",
       "    padding: 5px;\n",
       "  }\n",
       "  th {\n",
       "    text-align: left;\n",
       "  }\n",
       "</style><div class='table-result-container'><table class='table-result'><thead style='background-color: white'><tr><th>loan_purpose</th><th>total</th></tr></thead><tbody><tr><td>debt_consolidation</td><td>1277790</td></tr><tr><td>credit_card</td><td>516926</td></tr><tr><td>home_improvement</td><td>150440</td></tr><tr><td>other</td><td>139413</td></tr><tr><td>major_purchase</td><td>50429</td></tr><tr><td>medical</td><td>27481</td></tr><tr><td>small_business</td><td>24659</td></tr><tr><td>car</td><td>24009</td></tr><tr><td>vacation</td><td>15525</td></tr><tr><td>moving</td><td>15402</td></tr><tr><td>house</td><td>14131</td></tr><tr><td>wedding</td><td>2351</td></tr><tr><td>renewable_energy</td><td>1445</td></tr><tr><td>educational</td><td>412</td></tr><tr><td>and also pay off some credit card debt.  I will be debt free except for my payment to you.  I don't care what the interest rate is</td><td>1</td></tr><tr><td>guaranteed!\"</td><td>1</td></tr><tr><td>and if they are allocated properly. I have twenty plus years experience in the investment business so this is my area of expertise. My plan is unique and will be successful due to the biased nature of the investment business.<br/>\"</td><td>1</td></tr><tr><td>never had any trouble with debts.\"\"\"\"I bought a duplex in june. The only thing left to renovate is the roof and redo the sidewalk and drive way. I am secure in my job</td><td>1</td></tr><tr><td><br/><br/>Lending Club Member Support\"\"<br/>*********<br/><br/>Please contact the Lending Club if you have ANY questions about my loan.<br/>\"</td><td>1</td></tr><tr><td>Bank of America cut our business credit. This left us without the \"\"bridge\"\" capital that we use for seasonal fluctuations in our business income.   Our contracts are usually enacted in the 2nd and 3rd quarters of each year. Therefore</td><td>1</td></tr><tr><td>stocks</td><td>1</td></tr><tr><td>please feel free to ask and I will enlighten you.\"</td><td>1</td></tr><tr><td>I became his primary caregiver.<br/><br/>And to add more strain to our situation</td><td>1</td></tr><tr><td>brakes</td><td>1</td></tr><tr><td>on one of the busiest routes in the entire state</td><td>1</td></tr><tr><td>because of the nature of my business bonus income is very substantial.  Last year's bonus and origination share was over $105</td><td>1</td></tr><tr><td>progressive multi-media company start-up. The initial project of this single-member LLC is an entrepreneurial opportunity that must be taken advantage of immediately</td><td>1</td></tr><tr><td>but not much info for borrower. <br/><br/>If the lender goes bankruptcy.<br/>If the lender die. <br/>Who covers the cost... i'm guessing lenders club.<br/><br/>I'll probably invest in lending club in the near future... but i would not want to invest in something without seeing how the borrower experience is. I will also investigate the above question in more detail at that time.<br/><br/>Thank you for your time!<br/>\"</td><td>1</td></tr><tr><td>I have eliminated 2 1/2 so far</td><td>1</td></tr><tr><td>TutoringOne is a leader in the next generation of innovative education techniques that will improve student achievement and potential for global success.  TutoringOne is staffed by “highly qualified teachers” and college experts or graduates who provide live services 24 hours a day.  Teachers are specifically qualified to teach high school core academic subject areas</td><td>1</td></tr><tr><td>so I have to pay for my loss</td><td>1</td></tr><tr><td>you may feel confident I can always make my payments. 558389 added on 10/16/09 > This loan will partially be used to include:  putting a 3.5% down payment on my newly purchased $105</td><td>1</td></tr><tr><td>Hilal Khalil Homaidan\"</td><td>1</td></tr><tr><td>000 in debt on credit cards. Yes</td><td>1</td></tr><tr><td>and the monthly payment are perfect for my situation.  Thank you in advance.  Sincerely</td><td>1</td></tr><tr><td>the state of the economy</td><td>1</td></tr><tr><td>I will receive the title and will be able to sell the motorcycle ASAP.  I will most likely be able to get around 6500 for the motorcycle so most of this loan will get paid back once the motorcycle is sold.  Thank you for your time</td><td>1</td></tr><tr><td>Credit Card</td><td>1</td></tr><tr><td>I will be able to budget accordingly for future tax expenses.  Thank you for your help!\"</td><td>1</td></tr><tr><td>but you never know.  My wife and I decided to start living in our basement and renting out the top of the house as a Vacation Rental and sometimes as a Bed & Breakfast. So we did some remodeling and racked up our first permanent CC debt in my life ($10 K). We have started renting our house and things look promising.  I hate the idea of giving the interest I made off of the CC companies back to them and would rather get a loan from investors here.\"</td><td>1</td></tr><tr><td>so I am trying to help clean his up some by clearing some of these bad rates.<br/>\"</td><td>1</td></tr><tr><td>I am very serious about fulfilling my obligations to lenders. Financial health is my #1 priority. \"</td><td>1</td></tr><tr><td>but has seen his interest rates double due to blah</td><td>1</td></tr><tr><td>rental property</td><td>1</td></tr><tr><td>in \"\"lunar conditions\"\".  We have already built an initial prototype</td><td>1</td></tr><tr><td>in the past couple of months however</td><td>1</td></tr><tr><td>and I have never been late or even missed a payment. I have been trying to pay off this balance</td><td>1</td></tr><tr><td>we can guarantee you a few things. We are at LC because a bank has either turned us down for a loan or the interest rates were higher than the debt we have. We realize that we rather see a peer profit from our loans as well as helping us succeed.<br/><br/>Will this loan be paid back in 36 months. I have EVERY intention to pay this loan in LESS than 36 months. I would like to purchase a house in the future</td><td>1</td></tr><tr><td>but unfortunately</td><td>1</td></tr><tr><td>Butler PA. It is currently rented out so repaying the capital wouldn't be an issue.  They are currently locked in a 1 year lease with one tenant two months in with the other tenant three.  However I am on a time constraint with the seller because my initial loan from the bank was denied so quick financing would be the best option. It works out for you because you get your loan plus interest from a guaranteed investment source. Again thank you for your interest!\"</td><td>1</td></tr><tr><td>because we are not looking to give up equity in the company long-term. And</td><td>1</td></tr><tr><td>every month. I do not want to be on the \"\"Treadmill\"\" any longer and would appreciate you assistance in making this .<br/><br/>The reasons for the debt is due the following in which I will list below<br/><br/>1. Excessive auto repairs (I have since bought a newer late model used car). So having to have a 10+ YR old vehicle repaired on a regular basis will no longer be an issue.<br/><br/>2. Being unemployed and/or having low paying jobs which excessively exceeded my daily living expenses. I have been able to increase my income and have good job security. I have been with my current employer for nearly 2 years. I also plan to look for additional sources of income (i.e second job</td><td>1</td></tr><tr><td>I don't need extravagance... I just want to put my house back together!\"</td><td>1</td></tr><tr><td>which is easy to do.  $5000 goes to repaying a private loan while the rest will go towards buying a Laptop Computer</td><td>1</td></tr><tr><td>low Rate. Tired of Writing / E paying</td><td>1</td></tr><tr><td>I have the means to get myself out of the mess I created but I would like to quit rewarding the predatory \"\"enablers\"\" with interest payments. I am responsible for getting into this problem. I am now looking forward to getting out and if I can accelerate that process using the lending club with a better rate and not reward credit card companies any more than I already have. So much the better  Thank you for your consideration\"</td><td>1</td></tr><tr><td>I lacked the funds to see it through.  I asked the specialist in Toronto why insurance does not cover it</td><td>1</td></tr><tr><td>it is a historic treasure that deserves repair.    I was approved for a total home renovation loan</td><td>1</td></tr><tr><td>and from that my own stem cells are harvested. Then these stem cells are re-injected into the problem area of the bone to promote re-growth or at least halt the degeneration. This was done by Dr Centeno at the Regenexx clinic in CO. It seems to have been successful. I now need to have this done on my left hip. The procedure cost $8000 and I only have $4000. I have been turned down by my bank and we spent most of our savings on our adoption process. I am experiencing quite a bit of pain and have scheduled the procedure for July- hoping I can raise the money. \"</td><td>1</td></tr><tr><td>I want to pay off my credit cards as soon as possible and destroy them!  I don't have particularly high interest rates</td><td>1</td></tr><tr><td>too</td><td>1</td></tr><tr><td>and it lasts through 2014.<br/><br/>Thank you very much for your consideration.<br/> Borrower added on 03/15/10 > I plan to use the loan to pay off my credit card debt so I will not have to worry about multiple credit card payments every month. Having a fixed interest rate will afford me the opportunity to have a fixed payment plan</td><td>1</td></tr><tr><td>judgments</td><td>1</td></tr><tr><td>MD\"\"... approx. 4 miles North of Bethesda (an appreciating to stable market) and 6 miles South of Rockville (designated a declining market).  The need to borrow is created by timing.  I estimate that the current value of the divorce assets is approximately $200</td><td>1</td></tr><tr><td>so will not affect my budget to increase.  The final buyout price of the car is $15</td><td>1</td></tr><tr><td>550 amount</td><td>1</td></tr><tr><td>allowing me to double or triple payments.<br/>\"</td><td>1</td></tr><tr><td>when I meant \"\"home rehabilitation\"\" -- but I presume the text of my loan description makes that obvious FHA 203(k) program and all.<br/>  <br/>I just wanted to clarify. Thanks for your interest.<br/>\"</td><td>1</td></tr><tr><td>500 more to make my dream come true.  I was self-employed for 17 years it was the happiest times of my life.  Getting out working tirelessly for MY goals.  Then life came along and it was necessary for me to work in the corporate world for the last 10 years for their goals.  I now want to go back to working hard and being happy.  Help me make my dream come true.\"</td><td>1</td></tr><tr><td>lower my finance rate</td><td>1</td></tr><tr><td>so we will have the added greenhouse space for organic</td><td>1</td></tr><tr><td>\"\" even though I've made my payments on time for more than five years for each of the cards.   My goal is to completely pay off all of my non-mortgage debt and by refinancing this debt with a fixed rate I think this is completely obtainable within three years</td><td>1</td></tr><tr><td>it was too late to call and they are not open on weekends.***   ****Now that everything has been VERIFIED for me and they have spoken to me by phone they have stated I need to relist - as my original listing expired</td><td>1</td></tr><tr><td>a school being built in Kenya for deaf children.  These children are considered throw-aways in Kenya and some other African nations.  They are sometimes tied to trees in the bush and left for the wild animals to kill them and eat them.  I want to contribute all of this loan amount at once and would have to cash in some investments carrying a penalty for early withdrawal otherwise.  If you would like to help with a contribution of your own</td><td>1</td></tr><tr><td>my cell is on a family plan at 10 dollars a month</td><td>1</td></tr><tr><td>or over my credit limit? No! They are raising it because \"\"everyone else is doing it.\"\" What a scam! And this is not just a small nudge</td><td>1</td></tr><tr><td>art shows and book sales</td><td>1</td></tr><tr><td>I am married and my husband makes around 80-90K per year.  Since these are all my credit cards</td><td>1</td></tr><tr><td>so it is just not possible for me to get a part time job right now due to their age and also all of their school activities.  This consolidation will help save money each month</td><td>1</td></tr><tr><td>they love me</td><td>1</td></tr><tr><td>as long as we pay at least 5% of the balance each month (which we do). Unfortunately</td><td>1</td></tr><tr><td>I need the loan before my credit report \"\"fixes\"\" itself.\"</td><td>1</td></tr><tr><td>I'm with a Fed agency as a contractor and my wife is a teacher here in Northern VA.  I have talked to my client and have been assured that my position is as secure as his Fed slot.<br/> Borrower added on 06/04/10 > Please feel free to contact me with any questions or concerns.<br/>\"</td><td>1</td></tr><tr><td>so that our company will continue to realize the success which it has had for 25 years.    Please feel free to ask any questions. I will gladly provide any additional details you may require.    Thank you for your consideration.  Borrower added on 05/13/10 > We have recently incorporated a new division of our company in Nevada</td><td>1</td></tr><tr><td>we expect the return in this location to pay the lender(s) back in good time.\"</td><td>1</td></tr><tr><td>JC\"</td><td>1</td></tr><tr><td>our eaves on our house</td><td>1</td></tr><tr><td>but I could not</td><td>1</td></tr><tr><td>I am a good borrower because I have the ability to pay back loans in a timely manner. I have always paid above any minimum amounts due. I have paid any accounts before due dates and typically have paid off loans before the initial end of the loan. I have only had one late payment in the previous three years and that was a credit card annual fee added to my account from Capital One in the amount of $29. I would have paid the amount; however</td><td>1</td></tr><tr><td>without making them feel as though they are \"\"beneath\"\" the rest of us</td><td>1</td></tr><tr><td>300 across 3 retirement accounts.  I save 5% of my paycheck for my 401(k).  I stopped a year ago on my Roth and IRA due to the market meltdown (it sucked to see your money vanish the day after you put it in). We had a $2</td><td>1</td></tr><tr><td>LINE</td><td>1</td></tr><tr><td>20 foot Yamaha sport boat is quite a beauty</td><td>1</td></tr><tr><td>but it will stay open until paid off</td><td>1</td></tr><tr><td>and I am finally in a position to where I can afford a second car</td><td>1</td></tr><tr><td>but any help would be greatly appreciated.   I am trying to live a good life and I give back to others daily. While I am not able to do this finacially</td><td>1</td></tr><tr><td>I'll never be here again!) After coming back to the States</td><td>1</td></tr><tr><td>however</td><td>1</td></tr><tr><td>once under contract</td><td>1</td></tr><tr><td>putting together an apartment here</td><td>1</td></tr></tbody></table></div>"
      ]
     },
     "metadata": {
      "application/vnd.databricks.v1+output": {
       "addedWidgets": {},
       "aggData": [],
       "aggError": "",
       "aggOverflow": false,
       "aggSchema": [],
       "aggSeriesLimitReached": false,
       "aggType": "",
       "arguments": {},
       "columnCustomDisplayInfos": {},
       "data": [
        [
         "debt_consolidation",
         1277790
        ],
        [
         "credit_card",
         516926
        ],
        [
         "home_improvement",
         150440
        ],
        [
         "other",
         139413
        ],
        [
         "major_purchase",
         50429
        ],
        [
         "medical",
         27481
        ],
        [
         "small_business",
         24659
        ],
        [
         "car",
         24009
        ],
        [
         "vacation",
         15525
        ],
        [
         "moving",
         15402
        ],
        [
         "house",
         14131
        ],
        [
         "wedding",
         2351
        ],
        [
         "renewable_energy",
         1445
        ],
        [
         "educational",
         412
        ],
        [
         "and also pay off some credit card debt.  I will be debt free except for my payment to you.  I don't care what the interest rate is",
         1
        ],
        [
         "guaranteed!\"",
         1
        ],
        [
         "and if they are allocated properly. I have twenty plus years experience in the investment business so this is my area of expertise. My plan is unique and will be successful due to the biased nature of the investment business.<br/>\"",
         1
        ],
        [
         "never had any trouble with debts.\"\"\"\"I bought a duplex in june. The only thing left to renovate is the roof and redo the sidewalk and drive way. I am secure in my job",
         1
        ],
        [
         "<br/><br/>Lending Club Member Support\"\"<br/>*********<br/><br/>Please contact the Lending Club if you have ANY questions about my loan.<br/>\"",
         1
        ],
        [
         "Bank of America cut our business credit. This left us without the \"\"bridge\"\" capital that we use for seasonal fluctuations in our business income.   Our contracts are usually enacted in the 2nd and 3rd quarters of each year. Therefore",
         1
        ],
        [
         "stocks",
         1
        ],
        [
         "please feel free to ask and I will enlighten you.\"",
         1
        ],
        [
         "I became his primary caregiver.<br/><br/>And to add more strain to our situation",
         1
        ],
        [
         "brakes",
         1
        ],
        [
         "on one of the busiest routes in the entire state",
         1
        ],
        [
         "because of the nature of my business bonus income is very substantial.  Last year's bonus and origination share was over $105",
         1
        ],
        [
         "progressive multi-media company start-up. The initial project of this single-member LLC is an entrepreneurial opportunity that must be taken advantage of immediately",
         1
        ],
        [
         "but not much info for borrower. <br/><br/>If the lender goes bankruptcy.<br/>If the lender die. <br/>Who covers the cost... i'm guessing lenders club.<br/><br/>I'll probably invest in lending club in the near future... but i would not want to invest in something without seeing how the borrower experience is. I will also investigate the above question in more detail at that time.<br/><br/>Thank you for your time!<br/>\"",
         1
        ],
        [
         "I have eliminated 2 1/2 so far",
         1
        ],
        [
         "TutoringOne is a leader in the next generation of innovative education techniques that will improve student achievement and potential for global success.  TutoringOne is staffed by “highly qualified teachers” and college experts or graduates who provide live services 24 hours a day.  Teachers are specifically qualified to teach high school core academic subject areas",
         1
        ],
        [
         "so I have to pay for my loss",
         1
        ],
        [
         "you may feel confident I can always make my payments. 558389 added on 10/16/09 > This loan will partially be used to include:  putting a 3.5% down payment on my newly purchased $105",
         1
        ],
        [
         "Hilal Khalil Homaidan\"",
         1
        ],
        [
         "000 in debt on credit cards. Yes",
         1
        ],
        [
         "and the monthly payment are perfect for my situation.  Thank you in advance.  Sincerely",
         1
        ],
        [
         "the state of the economy",
         1
        ],
        [
         "I will receive the title and will be able to sell the motorcycle ASAP.  I will most likely be able to get around 6500 for the motorcycle so most of this loan will get paid back once the motorcycle is sold.  Thank you for your time",
         1
        ],
        [
         "Credit Card",
         1
        ],
        [
         "I will be able to budget accordingly for future tax expenses.  Thank you for your help!\"",
         1
        ],
        [
         "but you never know.  My wife and I decided to start living in our basement and renting out the top of the house as a Vacation Rental and sometimes as a Bed & Breakfast. So we did some remodeling and racked up our first permanent CC debt in my life ($10 K). We have started renting our house and things look promising.  I hate the idea of giving the interest I made off of the CC companies back to them and would rather get a loan from investors here.\"",
         1
        ],
        [
         "so I am trying to help clean his up some by clearing some of these bad rates.<br/>\"",
         1
        ],
        [
         "I am very serious about fulfilling my obligations to lenders. Financial health is my #1 priority. \"",
         1
        ],
        [
         "but has seen his interest rates double due to blah",
         1
        ],
        [
         "rental property",
         1
        ],
        [
         "in \"\"lunar conditions\"\".  We have already built an initial prototype",
         1
        ],
        [
         "in the past couple of months however",
         1
        ],
        [
         "and I have never been late or even missed a payment. I have been trying to pay off this balance",
         1
        ],
        [
         "we can guarantee you a few things. We are at LC because a bank has either turned us down for a loan or the interest rates were higher than the debt we have. We realize that we rather see a peer profit from our loans as well as helping us succeed.<br/><br/>Will this loan be paid back in 36 months. I have EVERY intention to pay this loan in LESS than 36 months. I would like to purchase a house in the future",
         1
        ],
        [
         "but unfortunately",
         1
        ],
        [
         "Butler PA. It is currently rented out so repaying the capital wouldn't be an issue.  They are currently locked in a 1 year lease with one tenant two months in with the other tenant three.  However I am on a time constraint with the seller because my initial loan from the bank was denied so quick financing would be the best option. It works out for you because you get your loan plus interest from a guaranteed investment source. Again thank you for your interest!\"",
         1
        ],
        [
         "because we are not looking to give up equity in the company long-term. And",
         1
        ],
        [
         "every month. I do not want to be on the \"\"Treadmill\"\" any longer and would appreciate you assistance in making this .<br/><br/>The reasons for the debt is due the following in which I will list below<br/><br/>1. Excessive auto repairs (I have since bought a newer late model used car). So having to have a 10+ YR old vehicle repaired on a regular basis will no longer be an issue.<br/><br/>2. Being unemployed and/or having low paying jobs which excessively exceeded my daily living expenses. I have been able to increase my income and have good job security. I have been with my current employer for nearly 2 years. I also plan to look for additional sources of income (i.e second job",
         1
        ],
        [
         "I don't need extravagance... I just want to put my house back together!\"",
         1
        ],
        [
         "which is easy to do.  $5000 goes to repaying a private loan while the rest will go towards buying a Laptop Computer",
         1
        ],
        [
         "low Rate. Tired of Writing / E paying",
         1
        ],
        [
         "I have the means to get myself out of the mess I created but I would like to quit rewarding the predatory \"\"enablers\"\" with interest payments. I am responsible for getting into this problem. I am now looking forward to getting out and if I can accelerate that process using the lending club with a better rate and not reward credit card companies any more than I already have. So much the better  Thank you for your consideration\"",
         1
        ],
        [
         "I lacked the funds to see it through.  I asked the specialist in Toronto why insurance does not cover it",
         1
        ],
        [
         "it is a historic treasure that deserves repair.    I was approved for a total home renovation loan",
         1
        ],
        [
         "and from that my own stem cells are harvested. Then these stem cells are re-injected into the problem area of the bone to promote re-growth or at least halt the degeneration. This was done by Dr Centeno at the Regenexx clinic in CO. It seems to have been successful. I now need to have this done on my left hip. The procedure cost $8000 and I only have $4000. I have been turned down by my bank and we spent most of our savings on our adoption process. I am experiencing quite a bit of pain and have scheduled the procedure for July- hoping I can raise the money. \"",
         1
        ],
        [
         "I want to pay off my credit cards as soon as possible and destroy them!  I don't have particularly high interest rates",
         1
        ],
        [
         "too",
         1
        ],
        [
         "and it lasts through 2014.<br/><br/>Thank you very much for your consideration.<br/> Borrower added on 03/15/10 > I plan to use the loan to pay off my credit card debt so I will not have to worry about multiple credit card payments every month. Having a fixed interest rate will afford me the opportunity to have a fixed payment plan",
         1
        ],
        [
         "judgments",
         1
        ],
        [
         "MD\"\"... approx. 4 miles North of Bethesda (an appreciating to stable market) and 6 miles South of Rockville (designated a declining market).  The need to borrow is created by timing.  I estimate that the current value of the divorce assets is approximately $200",
         1
        ],
        [
         "so will not affect my budget to increase.  The final buyout price of the car is $15",
         1
        ],
        [
         "550 amount",
         1
        ],
        [
         "allowing me to double or triple payments.<br/>\"",
         1
        ],
        [
         "when I meant \"\"home rehabilitation\"\" -- but I presume the text of my loan description makes that obvious FHA 203(k) program and all.<br/>  <br/>I just wanted to clarify. Thanks for your interest.<br/>\"",
         1
        ],
        [
         "500 more to make my dream come true.  I was self-employed for 17 years it was the happiest times of my life.  Getting out working tirelessly for MY goals.  Then life came along and it was necessary for me to work in the corporate world for the last 10 years for their goals.  I now want to go back to working hard and being happy.  Help me make my dream come true.\"",
         1
        ],
        [
         "lower my finance rate",
         1
        ],
        [
         "so we will have the added greenhouse space for organic",
         1
        ],
        [
         "\"\" even though I've made my payments on time for more than five years for each of the cards.   My goal is to completely pay off all of my non-mortgage debt and by refinancing this debt with a fixed rate I think this is completely obtainable within three years",
         1
        ],
        [
         "it was too late to call and they are not open on weekends.***   ****Now that everything has been VERIFIED for me and they have spoken to me by phone they have stated I need to relist - as my original listing expired",
         1
        ],
        [
         "a school being built in Kenya for deaf children.  These children are considered throw-aways in Kenya and some other African nations.  They are sometimes tied to trees in the bush and left for the wild animals to kill them and eat them.  I want to contribute all of this loan amount at once and would have to cash in some investments carrying a penalty for early withdrawal otherwise.  If you would like to help with a contribution of your own",
         1
        ],
        [
         "my cell is on a family plan at 10 dollars a month",
         1
        ],
        [
         "or over my credit limit? No! They are raising it because \"\"everyone else is doing it.\"\" What a scam! And this is not just a small nudge",
         1
        ],
        [
         "art shows and book sales",
         1
        ],
        [
         "I am married and my husband makes around 80-90K per year.  Since these are all my credit cards",
         1
        ],
        [
         "so it is just not possible for me to get a part time job right now due to their age and also all of their school activities.  This consolidation will help save money each month",
         1
        ],
        [
         "they love me",
         1
        ],
        [
         "as long as we pay at least 5% of the balance each month (which we do). Unfortunately",
         1
        ],
        [
         "I need the loan before my credit report \"\"fixes\"\" itself.\"",
         1
        ],
        [
         "I'm with a Fed agency as a contractor and my wife is a teacher here in Northern VA.  I have talked to my client and have been assured that my position is as secure as his Fed slot.<br/> Borrower added on 06/04/10 > Please feel free to contact me with any questions or concerns.<br/>\"",
         1
        ],
        [
         "so that our company will continue to realize the success which it has had for 25 years.    Please feel free to ask any questions. I will gladly provide any additional details you may require.    Thank you for your consideration.  Borrower added on 05/13/10 > We have recently incorporated a new division of our company in Nevada",
         1
        ],
        [
         "we expect the return in this location to pay the lender(s) back in good time.\"",
         1
        ],
        [
         "JC\"",
         1
        ],
        [
         "our eaves on our house",
         1
        ],
        [
         "but I could not",
         1
        ],
        [
         "I am a good borrower because I have the ability to pay back loans in a timely manner. I have always paid above any minimum amounts due. I have paid any accounts before due dates and typically have paid off loans before the initial end of the loan. I have only had one late payment in the previous three years and that was a credit card annual fee added to my account from Capital One in the amount of $29. I would have paid the amount; however",
         1
        ],
        [
         "without making them feel as though they are \"\"beneath\"\" the rest of us",
         1
        ],
        [
         "300 across 3 retirement accounts.  I save 5% of my paycheck for my 401(k).  I stopped a year ago on my Roth and IRA due to the market meltdown (it sucked to see your money vanish the day after you put it in). We had a $2",
         1
        ],
        [
         "LINE",
         1
        ],
        [
         "20 foot Yamaha sport boat is quite a beauty",
         1
        ],
        [
         "but it will stay open until paid off",
         1
        ],
        [
         "and I am finally in a position to where I can afford a second car",
         1
        ],
        [
         "but any help would be greatly appreciated.   I am trying to live a good life and I give back to others daily. While I am not able to do this finacially",
         1
        ],
        [
         "I'll never be here again!) After coming back to the States",
         1
        ],
        [
         "however",
         1
        ],
        [
         "once under contract",
         1
        ],
        [
         "putting together an apartment here",
         1
        ]
       ],
       "datasetInfos": [],
       "dbfsResultPath": null,
       "isJsonSchema": true,
       "metadata": {},
       "overflow": false,
       "plotOptions": {
        "customPlotOptions": {},
        "displayType": "table",
        "pivotAggregation": null,
        "pivotColumns": null,
        "xColumns": null,
        "yColumns": null
       },
       "removedWidgets": [],
       "schema": [
        {
         "metadata": "{}",
         "name": "loan_purpose",
         "type": "\"string\""
        },
        {
         "metadata": "{}",
         "name": "total",
         "type": "\"long\""
        }
       ],
       "type": "table"
      }
     },
     "output_type": "display_data"
    }
   ],
   "source": [
    "display(spark.sql(\"select loan_purpose, count(*) as total from loans group by loan_purpose order by total desc\").limit(100))"
   ]
  },
  {
   "cell_type": "code",
   "execution_count": 0,
   "metadata": {
    "application/vnd.databricks.v1+cell": {
     "cellMetadata": {
      "byteLimit": 2048000,
      "rowLimit": 10000
     },
     "inputWidgets": {},
     "nuid": "c80691f8-f627-47e2-9d7e-13b1fb3e47e9",
     "showTitle": false,
     "tableResultSettingsMap": {},
     "title": ""
    }
   },
   "outputs": [],
   "source": [
    "loan_purpose_lookup = [\"debt_consolidation\", \"credit_card\", \"home_improvement\", \"other\", \"major_purchase\", \"medical\", \"small_business\", \"car\", \"vacation\", \"moving\", \"house\", \"wedding\", \"renewable_energy\", \"educational\"]"
   ]
  },
  {
   "cell_type": "code",
   "execution_count": 0,
   "metadata": {
    "application/vnd.databricks.v1+cell": {
     "cellMetadata": {
      "byteLimit": 2048000,
      "rowLimit": 10000
     },
     "inputWidgets": {},
     "nuid": "80f6f7eb-75b7-4515-8959-f8c894db9166",
     "showTitle": false,
     "tableResultSettingsMap": {},
     "title": ""
    }
   },
   "outputs": [],
   "source": [
    "from pyspark.sql.functions import when"
   ]
  },
  {
   "cell_type": "code",
   "execution_count": 0,
   "metadata": {
    "application/vnd.databricks.v1+cell": {
     "cellMetadata": {
      "byteLimit": 2048000,
      "rowLimit": 10000
     },
     "inputWidgets": {},
     "nuid": "66ce0c91-d8fd-4cdf-b183-2b90ed5b4788",
     "showTitle": false,
     "tableResultSettingsMap": {},
     "title": ""
    }
   },
   "outputs": [],
   "source": [
    "loans_purpose_modified = loans_term_modified_df.withColumn(\"loan_purpose\", when(col(\"loan_purpose\").isin(loan_purpose_lookup), col(\"loan_purpose\")).otherwise(\"other\"))"
   ]
  },
  {
   "cell_type": "code",
   "execution_count": 0,
   "metadata": {
    "application/vnd.databricks.v1+cell": {
     "cellMetadata": {
      "byteLimit": 2048000,
      "rowLimit": 10000
     },
     "inputWidgets": {},
     "nuid": "1d6d46b6-e8f3-4321-a208-5993b619e4e8",
     "showTitle": false,
     "tableResultSettingsMap": {},
     "title": ""
    }
   },
   "outputs": [],
   "source": [
    "loans_purpose_modified.createOrReplaceTempView(\"loans\")"
   ]
  },
  {
   "cell_type": "code",
   "execution_count": 0,
   "metadata": {
    "application/vnd.databricks.v1+cell": {
     "cellMetadata": {
      "byteLimit": 2048000,
      "rowLimit": 10000
     },
     "inputWidgets": {},
     "nuid": "1520ae19-d3bb-404d-bee2-13279aaebc8a",
     "showTitle": false,
     "tableResultSettingsMap": {},
     "title": ""
    }
   },
   "outputs": [
    {
     "output_type": "display_data",
     "data": {
      "text/html": [
       "<style scoped>\n",
       "  .table-result-container {\n",
       "    max-height: 300px;\n",
       "    overflow: auto;\n",
       "  }\n",
       "  table, th, td {\n",
       "    border: 1px solid black;\n",
       "    border-collapse: collapse;\n",
       "  }\n",
       "  th, td {\n",
       "    padding: 5px;\n",
       "  }\n",
       "  th {\n",
       "    text-align: left;\n",
       "  }\n",
       "</style><div class='table-result-container'><table class='table-result'><thead style='background-color: white'><tr><th>loan_purpose</th><th>total</th></tr></thead><tbody><tr><td>debt_consolidation</td><td>1277790</td></tr><tr><td>credit_card</td><td>516926</td></tr><tr><td>home_improvement</td><td>150440</td></tr><tr><td>other</td><td>139667</td></tr><tr><td>major_purchase</td><td>50429</td></tr><tr><td>medical</td><td>27481</td></tr><tr><td>small_business</td><td>24659</td></tr><tr><td>car</td><td>24009</td></tr><tr><td>vacation</td><td>15525</td></tr><tr><td>moving</td><td>15402</td></tr><tr><td>house</td><td>14131</td></tr><tr><td>wedding</td><td>2351</td></tr><tr><td>renewable_energy</td><td>1445</td></tr><tr><td>educational</td><td>412</td></tr></tbody></table></div>"
      ]
     },
     "metadata": {
      "application/vnd.databricks.v1+output": {
       "addedWidgets": {},
       "aggData": [],
       "aggError": "",
       "aggOverflow": false,
       "aggSchema": [],
       "aggSeriesLimitReached": false,
       "aggType": "",
       "arguments": {},
       "columnCustomDisplayInfos": {},
       "data": [
        [
         "debt_consolidation",
         1277790
        ],
        [
         "credit_card",
         516926
        ],
        [
         "home_improvement",
         150440
        ],
        [
         "other",
         139667
        ],
        [
         "major_purchase",
         50429
        ],
        [
         "medical",
         27481
        ],
        [
         "small_business",
         24659
        ],
        [
         "car",
         24009
        ],
        [
         "vacation",
         15525
        ],
        [
         "moving",
         15402
        ],
        [
         "house",
         14131
        ],
        [
         "wedding",
         2351
        ],
        [
         "renewable_energy",
         1445
        ],
        [
         "educational",
         412
        ]
       ],
       "datasetInfos": [],
       "dbfsResultPath": null,
       "isJsonSchema": true,
       "metadata": {},
       "overflow": false,
       "plotOptions": {
        "customPlotOptions": {},
        "displayType": "table",
        "pivotAggregation": null,
        "pivotColumns": null,
        "xColumns": null,
        "yColumns": null
       },
       "removedWidgets": [],
       "schema": [
        {
         "metadata": "{}",
         "name": "loan_purpose",
         "type": "\"string\""
        },
        {
         "metadata": "{}",
         "name": "total",
         "type": "\"long\""
        }
       ],
       "type": "table"
      }
     },
     "output_type": "display_data"
    }
   ],
   "source": [
    "display(spark.sql(\"select loan_purpose, count(*) as total from loans group by loan_purpose order by total desc\"))"
   ]
  },
  {
   "cell_type": "code",
   "execution_count": 0,
   "metadata": {
    "application/vnd.databricks.v1+cell": {
     "cellMetadata": {
      "byteLimit": 2048000,
      "rowLimit": 10000
     },
     "inputWidgets": {},
     "nuid": "c9b27a65-0094-4905-95a2-15cc22f2af3a",
     "showTitle": false,
     "tableResultSettingsMap": {},
     "title": ""
    }
   },
   "outputs": [],
   "source": [
    "from pyspark.sql.functions import count"
   ]
  },
  {
   "cell_type": "code",
   "execution_count": 0,
   "metadata": {
    "application/vnd.databricks.v1+cell": {
     "cellMetadata": {
      "byteLimit": 2048000,
      "rowLimit": 10000
     },
     "inputWidgets": {},
     "nuid": "b47e2bbc-76df-477f-bb49-91af7e3539bf",
     "showTitle": false,
     "tableResultSettingsMap": {},
     "title": ""
    }
   },
   "outputs": [
    {
     "output_type": "display_data",
     "data": {
      "text/html": [
       "<style scoped>\n",
       "  .table-result-container {\n",
       "    max-height: 300px;\n",
       "    overflow: auto;\n",
       "  }\n",
       "  table, th, td {\n",
       "    border: 1px solid black;\n",
       "    border-collapse: collapse;\n",
       "  }\n",
       "  th, td {\n",
       "    padding: 5px;\n",
       "  }\n",
       "  th {\n",
       "    text-align: left;\n",
       "  }\n",
       "</style><div class='table-result-container'><table class='table-result'><thead style='background-color: white'><tr><th>loan_purpose</th><th>total</th></tr></thead><tbody><tr><td>debt_consolidation</td><td>1277790</td></tr><tr><td>credit_card</td><td>516926</td></tr><tr><td>home_improvement</td><td>150440</td></tr><tr><td>other</td><td>139667</td></tr><tr><td>major_purchase</td><td>50429</td></tr><tr><td>medical</td><td>27481</td></tr><tr><td>small_business</td><td>24659</td></tr><tr><td>car</td><td>24009</td></tr><tr><td>vacation</td><td>15525</td></tr><tr><td>moving</td><td>15402</td></tr><tr><td>house</td><td>14131</td></tr><tr><td>wedding</td><td>2351</td></tr><tr><td>renewable_energy</td><td>1445</td></tr><tr><td>educational</td><td>412</td></tr></tbody></table></div>"
      ]
     },
     "metadata": {
      "application/vnd.databricks.v1+output": {
       "addedWidgets": {},
       "aggData": [],
       "aggError": "",
       "aggOverflow": false,
       "aggSchema": [],
       "aggSeriesLimitReached": false,
       "aggType": "",
       "arguments": {},
       "columnCustomDisplayInfos": {},
       "data": [
        [
         "debt_consolidation",
         1277790
        ],
        [
         "credit_card",
         516926
        ],
        [
         "home_improvement",
         150440
        ],
        [
         "other",
         139667
        ],
        [
         "major_purchase",
         50429
        ],
        [
         "medical",
         27481
        ],
        [
         "small_business",
         24659
        ],
        [
         "car",
         24009
        ],
        [
         "vacation",
         15525
        ],
        [
         "moving",
         15402
        ],
        [
         "house",
         14131
        ],
        [
         "wedding",
         2351
        ],
        [
         "renewable_energy",
         1445
        ],
        [
         "educational",
         412
        ]
       ],
       "datasetInfos": [],
       "dbfsResultPath": null,
       "isJsonSchema": true,
       "metadata": {},
       "overflow": false,
       "plotOptions": {
        "customPlotOptions": {},
        "displayType": "table",
        "pivotAggregation": null,
        "pivotColumns": null,
        "xColumns": null,
        "yColumns": null
       },
       "removedWidgets": [],
       "schema": [
        {
         "metadata": "{}",
         "name": "loan_purpose",
         "type": "\"string\""
        },
        {
         "metadata": "{}",
         "name": "total",
         "type": "\"long\""
        }
       ],
       "type": "table"
      }
     },
     "output_type": "display_data"
    }
   ],
   "source": [
    "display(loans_purpose_modified.groupBy(\"loan_purpose\").agg(count(\"*\").alias(\"total\")).orderBy(col(\"total\").desc()))"
   ]
  },
  {
   "cell_type": "code",
   "execution_count": 0,
   "metadata": {
    "application/vnd.databricks.v1+cell": {
     "cellMetadata": {
      "byteLimit": 2048000,
      "rowLimit": 10000
     },
     "inputWidgets": {},
     "nuid": "ad6a1b90-0da6-48ba-a503-4821a3e8b07c",
     "showTitle": false,
     "tableResultSettingsMap": {},
     "title": ""
    }
   },
   "outputs": [],
   "source": [
    "loans_purpose_modified.write \\\n",
    ".format(\"parquet\") \\\n",
    ".mode(\"overwrite\") \\\n",
    ".option(\"path\", \"/mnt/Lendingclub/Lendingclub/Lendingclub/cleaned/loans_parquet\") \\\n",
    ".save()"
   ]
  }
 ],
 "metadata": {
  "application/vnd.databricks.v1+notebook": {
   "computePreferences": null,
   "dashboards": [],
   "environmentMetadata": null,
   "inputWidgetPreferences": null,
   "language": "python",
   "notebookMetadata": {
    "pythonIndentUnit": 4
   },
   "notebookName": "312_Loans_data_cleaning",
   "widgets": {}
  },
  "kernelspec": {
   "display_name": "Pyspark 3",
   "language": "python",
   "name": "pyspark3"
  },
  "language_info": {
   "name": "python"
  }
 },
 "nbformat": 4,
 "nbformat_minor": 0
}
