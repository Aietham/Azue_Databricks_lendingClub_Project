{
 "cells": [
  {
   "cell_type": "markdown",
   "metadata": {
    "application/vnd.databricks.v1+cell": {
     "cellMetadata": {
      "byteLimit": 2048000,
      "rowLimit": 10000
     },
     "inputWidgets": {},
     "nuid": "f9cf4ef5-78ed-4d4f-b0b2-0b43df4fac4f",
     "showTitle": false,
     "tableResultSettingsMap": {},
     "title": ""
    }
   },
   "source": [
    "# Creating External Tables for Celaned Data"
   ]
  },
  {
   "cell_type": "markdown",
   "metadata": {
    "application/vnd.databricks.v1+cell": {
     "cellMetadata": {
      "byteLimit": 2048000,
      "rowLimit": 10000
     },
     "inputWidgets": {},
     "nuid": "d066917f-59f9-4c79-a247-d643a65b844a",
     "showTitle": false,
     "tableResultSettingsMap": {},
     "title": ""
    }
   },
   "source": [
    "### Creating Schema"
   ]
  },
  {
   "cell_type": "code",
   "execution_count": 0,
   "metadata": {
    "application/vnd.databricks.v1+cell": {
     "cellMetadata": {
      "byteLimit": 2048000,
      "implicitDf": true,
      "rowLimit": 10000
     },
     "inputWidgets": {},
     "nuid": "c1932a62-9eea-4992-8736-3e39e213d4f5",
     "showTitle": false,
     "tableResultSettingsMap": {},
     "title": ""
    }
   },
   "outputs": [],
   "source": [
    "%sql\n",
    "CREATE SCHEMA IF NOT EXISTS lending_club;\n"
   ]
  },
  {
   "cell_type": "markdown",
   "metadata": {
    "application/vnd.databricks.v1+cell": {
     "cellMetadata": {
      "byteLimit": 2048000,
      "rowLimit": 10000
     },
     "inputWidgets": {},
     "nuid": "590e5461-9358-4852-85d5-e4c826fe2327",
     "showTitle": false,
     "tableResultSettingsMap": {},
     "title": ""
    }
   },
   "source": [
    "### Creating External Location"
   ]
  },
  {
   "cell_type": "code",
   "execution_count": 0,
   "metadata": {
    "application/vnd.databricks.v1+cell": {
     "cellMetadata": {
      "byteLimit": 2048000,
      "implicitDf": true,
      "rowLimit": 10000
     },
     "inputWidgets": {},
     "nuid": "71a027ea-10ce-406d-ab34-84e4f2d087a4",
     "showTitle": false,
     "tableResultSettingsMap": {},
     "title": ""
    }
   },
   "outputs": [],
   "source": [
    "%sql\n",
    "CREATE EXTERNAL LOCATION adls_storage_external_data URL\n",
    "'abfss://lendingclub@sparkprojectadls.dfs.core.windows.net/Lendingclub'\n",
    "WITH (CREDENTIAL adls_storage_cred)\n",
    "COMMENT 'external location for handling external data in adls'"
   ]
  },
  {
   "cell_type": "code",
   "execution_count": 0,
   "metadata": {
    "application/vnd.databricks.v1+cell": {
     "cellMetadata": {
      "byteLimit": 2048000,
      "rowLimit": 10000
     },
     "inputWidgets": {},
     "nuid": "e31aded7-677e-4428-8588-dfc88e7720f6",
     "showTitle": false,
     "tableResultSettingsMap": {},
     "title": ""
    }
   },
   "outputs": [
    {
     "output_type": "display_data",
     "data": {
      "text/html": [
       "<style scoped>\n",
       "  .table-result-container {\n",
       "    max-height: 300px;\n",
       "    overflow: auto;\n",
       "  }\n",
       "  table, th, td {\n",
       "    border: 1px solid black;\n",
       "    border-collapse: collapse;\n",
       "  }\n",
       "  th, td {\n",
       "    padding: 5px;\n",
       "  }\n",
       "  th {\n",
       "    text-align: left;\n",
       "  }\n",
       "</style><div class='table-result-container'><table class='table-result'><thead style='background-color: white'><tr><th>path</th><th>name</th><th>size</th><th>modificationTime</th></tr></thead><tbody><tr><td>abfss://lendingclub@sparkprojectadls.dfs.core.windows.net/Lendingclub/cleaned/customers_parquet/</td><td>customers_parquet/</td><td>0</td><td>1755232663000</td></tr><tr><td>abfss://lendingclub@sparkprojectadls.dfs.core.windows.net/Lendingclub/cleaned/loans_def_detail_records_enq_df_parquet/</td><td>loans_def_detail_records_enq_df_parquet/</td><td>0</td><td>1755225822000</td></tr><tr><td>abfss://lendingclub@sparkprojectadls.dfs.core.windows.net/Lendingclub/cleaned/loans_defaulters_deling_parquet/</td><td>loans_defaulters_deling_parquet/</td><td>0</td><td>1755225731000</td></tr><tr><td>abfss://lendingclub@sparkprojectadls.dfs.core.windows.net/Lendingclub/cleaned/loans_defaulters_records_enq_parquet/</td><td>loans_defaulters_records_enq_parquet/</td><td>0</td><td>1755225737000</td></tr><tr><td>abfss://lendingclub@sparkprojectadls.dfs.core.windows.net/Lendingclub/cleaned/loans_parquet/</td><td>loans_parquet/</td><td>0</td><td>1755209831000</td></tr><tr><td>abfss://lendingclub@sparkprojectadls.dfs.core.windows.net/Lendingclub/cleaned/loans_repayments_parquet/</td><td>loans_repayments_parquet/</td><td>0</td><td>1755216844000</td></tr></tbody></table></div>"
      ]
     },
     "metadata": {
      "application/vnd.databricks.v1+output": {
       "addedWidgets": {},
       "aggData": [],
       "aggError": "",
       "aggOverflow": false,
       "aggSchema": [],
       "aggSeriesLimitReached": false,
       "aggType": "",
       "arguments": {},
       "columnCustomDisplayInfos": {},
       "data": [
        [
         "abfss://lendingclub@sparkprojectadls.dfs.core.windows.net/Lendingclub/cleaned/customers_parquet/",
         "customers_parquet/",
         0,
         1755232663000
        ],
        [
         "abfss://lendingclub@sparkprojectadls.dfs.core.windows.net/Lendingclub/cleaned/loans_def_detail_records_enq_df_parquet/",
         "loans_def_detail_records_enq_df_parquet/",
         0,
         1755225822000
        ],
        [
         "abfss://lendingclub@sparkprojectadls.dfs.core.windows.net/Lendingclub/cleaned/loans_defaulters_deling_parquet/",
         "loans_defaulters_deling_parquet/",
         0,
         1755225731000
        ],
        [
         "abfss://lendingclub@sparkprojectadls.dfs.core.windows.net/Lendingclub/cleaned/loans_defaulters_records_enq_parquet/",
         "loans_defaulters_records_enq_parquet/",
         0,
         1755225737000
        ],
        [
         "abfss://lendingclub@sparkprojectadls.dfs.core.windows.net/Lendingclub/cleaned/loans_parquet/",
         "loans_parquet/",
         0,
         1755209831000
        ],
        [
         "abfss://lendingclub@sparkprojectadls.dfs.core.windows.net/Lendingclub/cleaned/loans_repayments_parquet/",
         "loans_repayments_parquet/",
         0,
         1755216844000
        ]
       ],
       "datasetInfos": [],
       "dbfsResultPath": null,
       "isJsonSchema": true,
       "metadata": {},
       "overflow": false,
       "plotOptions": {
        "customPlotOptions": {},
        "displayType": "table",
        "pivotAggregation": null,
        "pivotColumns": null,
        "xColumns": null,
        "yColumns": null
       },
       "removedWidgets": [],
       "schema": [
        {
         "metadata": "{}",
         "name": "path",
         "type": "\"string\""
        },
        {
         "metadata": "{}",
         "name": "name",
         "type": "\"string\""
        },
        {
         "metadata": "{}",
         "name": "size",
         "type": "\"long\""
        },
        {
         "metadata": "{}",
         "name": "modificationTime",
         "type": "\"long\""
        }
       ],
       "type": "table"
      }
     },
     "output_type": "display_data"
    }
   ],
   "source": [
    "display(dbutils.fs.ls(\"abfss://lendingclub@sparkprojectadls.dfs.core.windows.net/Lendingclub/cleaned\"))"
   ]
  },
  {
   "cell_type": "markdown",
   "metadata": {
    "application/vnd.databricks.v1+cell": {
     "cellMetadata": {
      "byteLimit": 2048000,
      "rowLimit": 10000
     },
     "inputWidgets": {},
     "nuid": "e8f85794-bdc1-4645-a7f9-8cb87447259d",
     "showTitle": false,
     "tableResultSettingsMap": {},
     "title": ""
    }
   },
   "source": [
    "### Customers Table"
   ]
  },
  {
   "cell_type": "code",
   "execution_count": 0,
   "metadata": {
    "application/vnd.databricks.v1+cell": {
     "cellMetadata": {
      "byteLimit": 2048000,
      "rowLimit": 10000
     },
     "inputWidgets": {},
     "nuid": "a23c6242-509b-4e73-aebc-247e11eac0cf",
     "showTitle": false,
     "tableResultSettingsMap": {},
     "title": ""
    }
   },
   "outputs": [],
   "source": [
    "customers_df = spark.read \\\n",
    ".format(\"parquet\") \\\n",
    ".load(\"/mnt/Lendingclub/Lendingclub/Lendingclub/cleaned/customers_parquet\")"
   ]
  },
  {
   "cell_type": "code",
   "execution_count": 0,
   "metadata": {
    "application/vnd.databricks.v1+cell": {
     "cellMetadata": {
      "byteLimit": 2048000,
      "rowLimit": 10000
     },
     "inputWidgets": {},
     "nuid": "5d1ea2d7-19d4-4464-b275-1fc0aef1af7b",
     "showTitle": false,
     "tableResultSettingsMap": {},
     "title": ""
    }
   },
   "outputs": [
    {
     "output_type": "display_data",
     "data": {
      "text/html": [
       "<style scoped>\n",
       "  .table-result-container {\n",
       "    max-height: 300px;\n",
       "    overflow: auto;\n",
       "  }\n",
       "  table, th, td {\n",
       "    border: 1px solid black;\n",
       "    border-collapse: collapse;\n",
       "  }\n",
       "  th, td {\n",
       "    padding: 5px;\n",
       "  }\n",
       "  th {\n",
       "    text-align: left;\n",
       "  }\n",
       "</style><div class='table-result-container'><table class='table-result'><thead style='background-color: white'><tr><th>member_id</th><th>emp_title</th><th>emp_length</th><th>home_ownership</th><th>annual_income</th><th>address_state</th><th>address_zipcode</th><th>address_country</th><th>grade</th><th>sub_grade</th><th>verification_status</th><th>tot_hi_cred_lim</th><th>application_type</th><th>join_annual_income</th><th>verification_status_joint</th><th>ingest_date</th></tr></thead><tbody><tr><td>0957763130bef781913744c21571637e8d213c5da0a40abdfd28a148faf494ee</td><td>Owner</td><td>10</td><td>OWN</td><td>120000.0</td><td>CO</td><td>815xx</td><td>USA</td><td>A</td><td>A3</td><td>Not Verified</td><td>211500.0</td><td>Individual</td><td>null</td><td>null</td><td>2025-08-15T04:37:19.803916Z</td></tr><tr><td>3c5ae42f639a987053d4981fd6b5ce71a4cf822d41153ba1219c5b366a24f50e</td><td>machine operator leadman</td><td>9</td><td>RENT</td><td>84000.0</td><td>TX</td><td>783xx</td><td>USA</td><td>C</td><td>C2</td><td>Not Verified</td><td>77450.0</td><td>Individual</td><td>null</td><td>null</td><td>2025-08-15T04:37:19.803916Z</td></tr><tr><td>66640e780b0479e8f42f80c1c8b406a19edfe539d9fd30d0fd59955f3b7a43b3</td><td>Registered Nurse</td><td>10</td><td>MORTGAGE</td><td>72000.0</td><td>AL</td><td>359xx</td><td>USA</td><td>F</td><td>F3</td><td>Source Verified</td><td>89350.0</td><td>Individual</td><td>null</td><td>null</td><td>2025-08-15T04:37:19.803916Z</td></tr><tr><td>30904f270a70154baebf356111ea0b1a8f562e56bdd087193d22156d236494da</td><td>Team member</td><td>5</td><td>MORTGAGE</td><td>68000.0</td><td>AL</td><td>357xx</td><td>USA</td><td>D</td><td>D1</td><td>Verified</td><td>152472.0</td><td>Individual</td><td>null</td><td>null</td><td>2025-08-15T04:37:19.803916Z</td></tr><tr><td>481a23dc9df940edab0916bcb3664c5a54c21a31ca81006cd2568e9ed3389ea5</td><td>Teacher</td><td>3</td><td>RENT</td><td>40000.0</td><td>FL</td><td>330xx</td><td>USA</td><td>C</td><td>C5</td><td>Not Verified</td><td>128831.0</td><td>Individual</td><td>null</td><td>null</td><td>2025-08-15T04:37:19.803916Z</td></tr><tr><td>5b0a715b6a069f46c251d15073f74768426c00c1506d2ca3089d653957812656</td><td>Associate Professor</td><td>1</td><td>MORTGAGE</td><td>109000.0</td><td>NV</td><td>890xx</td><td>USA</td><td>A</td><td>A1</td><td>Source Verified</td><td>429779.0</td><td>Individual</td><td>null</td><td>null</td><td>2025-08-15T04:37:19.803916Z</td></tr><tr><td>06bc6dca688fd8e4c7349849f85515ec1993420797c04ebcaaa8a652fcecd37f</td><td>Analyst</td><td>2</td><td>MORTGAGE</td><td>50000.0</td><td>TX</td><td>773xx</td><td>USA</td><td>E</td><td>E2</td><td>Source Verified</td><td>228153.0</td><td>Individual</td><td>null</td><td>null</td><td>2025-08-15T04:37:19.803916Z</td></tr><tr><td>86956b0d8638197fc9303e757cfbe1602590e0700df46927cc831a2cf6907c41</td><td>Director of Veteran Services</td><td>1</td><td>RENT</td><td>100000.0</td><td>NJ</td><td>076xx</td><td>USA</td><td>B</td><td>B2</td><td>Not Verified</td><td>94646.0</td><td>Individual</td><td>null</td><td>null</td><td>2025-08-15T04:37:19.803916Z</td></tr><tr><td>cc77b672a1010d8d17ebc57c7310de3f26bd49cc7fcf01ad17b6048f60d286e6</td><td>Server</td><td>1</td><td>RENT</td><td>35000.0</td><td>OR</td><td>977xx</td><td>USA</td><td>D</td><td>D3</td><td>Not Verified</td><td>32401.0</td><td>Individual</td><td>null</td><td>null</td><td>2025-08-15T04:37:19.803916Z</td></tr><tr><td>abc4a6454118a373a7febdd1c5dbef655ce66520c68dd96978c595adbce30352</td><td>Teacher</td><td>5</td><td>RENT</td><td>80000.0</td><td>CA</td><td>934xx</td><td>USA</td><td>C</td><td>C1</td><td>Not Verified</td><td>119033.0</td><td>Individual</td><td>null</td><td>null</td><td>2025-08-15T04:37:19.803916Z</td></tr></tbody></table></div>"
      ]
     },
     "metadata": {
      "application/vnd.databricks.v1+output": {
       "addedWidgets": {},
       "aggData": [],
       "aggError": "",
       "aggOverflow": false,
       "aggSchema": [],
       "aggSeriesLimitReached": false,
       "aggType": "",
       "arguments": {},
       "columnCustomDisplayInfos": {},
       "data": [
        [
         "0957763130bef781913744c21571637e8d213c5da0a40abdfd28a148faf494ee",
         "Owner",
         10,
         "OWN",
         120000.0,
         "CO",
         "815xx",
         "USA",
         "A",
         "A3",
         "Not Verified",
         211500.0,
         "Individual",
         null,
         null,
         "2025-08-15T04:37:19.803916Z"
        ],
        [
         "3c5ae42f639a987053d4981fd6b5ce71a4cf822d41153ba1219c5b366a24f50e",
         "machine operator leadman",
         9,
         "RENT",
         84000.0,
         "TX",
         "783xx",
         "USA",
         "C",
         "C2",
         "Not Verified",
         77450.0,
         "Individual",
         null,
         null,
         "2025-08-15T04:37:19.803916Z"
        ],
        [
         "66640e780b0479e8f42f80c1c8b406a19edfe539d9fd30d0fd59955f3b7a43b3",
         "Registered Nurse",
         10,
         "MORTGAGE",
         72000.0,
         "AL",
         "359xx",
         "USA",
         "F",
         "F3",
         "Source Verified",
         89350.0,
         "Individual",
         null,
         null,
         "2025-08-15T04:37:19.803916Z"
        ],
        [
         "30904f270a70154baebf356111ea0b1a8f562e56bdd087193d22156d236494da",
         "Team member",
         5,
         "MORTGAGE",
         68000.0,
         "AL",
         "357xx",
         "USA",
         "D",
         "D1",
         "Verified",
         152472.0,
         "Individual",
         null,
         null,
         "2025-08-15T04:37:19.803916Z"
        ],
        [
         "481a23dc9df940edab0916bcb3664c5a54c21a31ca81006cd2568e9ed3389ea5",
         "Teacher",
         3,
         "RENT",
         40000.0,
         "FL",
         "330xx",
         "USA",
         "C",
         "C5",
         "Not Verified",
         128831.0,
         "Individual",
         null,
         null,
         "2025-08-15T04:37:19.803916Z"
        ],
        [
         "5b0a715b6a069f46c251d15073f74768426c00c1506d2ca3089d653957812656",
         "Associate Professor",
         1,
         "MORTGAGE",
         109000.0,
         "NV",
         "890xx",
         "USA",
         "A",
         "A1",
         "Source Verified",
         429779.0,
         "Individual",
         null,
         null,
         "2025-08-15T04:37:19.803916Z"
        ],
        [
         "06bc6dca688fd8e4c7349849f85515ec1993420797c04ebcaaa8a652fcecd37f",
         "Analyst",
         2,
         "MORTGAGE",
         50000.0,
         "TX",
         "773xx",
         "USA",
         "E",
         "E2",
         "Source Verified",
         228153.0,
         "Individual",
         null,
         null,
         "2025-08-15T04:37:19.803916Z"
        ],
        [
         "86956b0d8638197fc9303e757cfbe1602590e0700df46927cc831a2cf6907c41",
         "Director of Veteran Services",
         1,
         "RENT",
         100000.0,
         "NJ",
         "076xx",
         "USA",
         "B",
         "B2",
         "Not Verified",
         94646.0,
         "Individual",
         null,
         null,
         "2025-08-15T04:37:19.803916Z"
        ],
        [
         "cc77b672a1010d8d17ebc57c7310de3f26bd49cc7fcf01ad17b6048f60d286e6",
         "Server",
         1,
         "RENT",
         35000.0,
         "OR",
         "977xx",
         "USA",
         "D",
         "D3",
         "Not Verified",
         32401.0,
         "Individual",
         null,
         null,
         "2025-08-15T04:37:19.803916Z"
        ],
        [
         "abc4a6454118a373a7febdd1c5dbef655ce66520c68dd96978c595adbce30352",
         "Teacher",
         5,
         "RENT",
         80000.0,
         "CA",
         "934xx",
         "USA",
         "C",
         "C1",
         "Not Verified",
         119033.0,
         "Individual",
         null,
         null,
         "2025-08-15T04:37:19.803916Z"
        ]
       ],
       "datasetInfos": [],
       "dbfsResultPath": null,
       "isJsonSchema": true,
       "metadata": {},
       "overflow": false,
       "plotOptions": {
        "customPlotOptions": {},
        "displayType": "table",
        "pivotAggregation": null,
        "pivotColumns": null,
        "xColumns": null,
        "yColumns": null
       },
       "removedWidgets": [],
       "schema": [
        {
         "metadata": "{}",
         "name": "member_id",
         "type": "\"string\""
        },
        {
         "metadata": "{}",
         "name": "emp_title",
         "type": "\"string\""
        },
        {
         "metadata": "{}",
         "name": "emp_length",
         "type": "\"integer\""
        },
        {
         "metadata": "{}",
         "name": "home_ownership",
         "type": "\"string\""
        },
        {
         "metadata": "{}",
         "name": "annual_income",
         "type": "\"float\""
        },
        {
         "metadata": "{}",
         "name": "address_state",
         "type": "\"string\""
        },
        {
         "metadata": "{}",
         "name": "address_zipcode",
         "type": "\"string\""
        },
        {
         "metadata": "{}",
         "name": "address_country",
         "type": "\"string\""
        },
        {
         "metadata": "{}",
         "name": "grade",
         "type": "\"string\""
        },
        {
         "metadata": "{}",
         "name": "sub_grade",
         "type": "\"string\""
        },
        {
         "metadata": "{}",
         "name": "verification_status",
         "type": "\"string\""
        },
        {
         "metadata": "{}",
         "name": "tot_hi_cred_lim",
         "type": "\"float\""
        },
        {
         "metadata": "{}",
         "name": "application_type",
         "type": "\"string\""
        },
        {
         "metadata": "{}",
         "name": "join_annual_income",
         "type": "\"float\""
        },
        {
         "metadata": "{}",
         "name": "verification_status_joint",
         "type": "\"string\""
        },
        {
         "metadata": "{}",
         "name": "ingest_date",
         "type": "\"timestamp\""
        }
       ],
       "type": "table"
      }
     },
     "output_type": "display_data"
    }
   ],
   "source": [
    "display(customers_df.limit(10))"
   ]
  },
  {
   "cell_type": "code",
   "execution_count": 0,
   "metadata": {
    "application/vnd.databricks.v1+cell": {
     "cellMetadata": {
      "byteLimit": 2048000,
      "implicitDf": true,
      "rowLimit": 10000
     },
     "inputWidgets": {},
     "nuid": "bd7ff149-d678-48de-a4ae-1cf6edcc27a4",
     "showTitle": false,
     "tableResultSettingsMap": {},
     "title": ""
    }
   },
   "outputs": [],
   "source": [
    "%sql\n",
    "CREATE TABLE IF NOT EXISTS lending_club.customers\n",
    "USING PARQUET\n",
    "LOCATION 'abfss://lendingclub@sparkprojectadls.dfs.core.windows.net/Lendingclub/cleaned/customers_parquet';\n"
   ]
  },
  {
   "cell_type": "code",
   "execution_count": 0,
   "metadata": {
    "application/vnd.databricks.v1+cell": {
     "cellMetadata": {
      "byteLimit": 2048000,
      "rowLimit": 10000
     },
     "inputWidgets": {},
     "nuid": "ea699b96-5ee3-4de4-af22-c35c2a3ac8a0",
     "showTitle": false,
     "tableResultSettingsMap": {},
     "title": ""
    }
   },
   "outputs": [
    {
     "output_type": "display_data",
     "data": {
      "text/html": [
       "<style scoped>\n",
       "  .table-result-container {\n",
       "    max-height: 300px;\n",
       "    overflow: auto;\n",
       "  }\n",
       "  table, th, td {\n",
       "    border: 1px solid black;\n",
       "    border-collapse: collapse;\n",
       "  }\n",
       "  th, td {\n",
       "    padding: 5px;\n",
       "  }\n",
       "  th {\n",
       "    text-align: left;\n",
       "  }\n",
       "</style><div class='table-result-container'><table class='table-result'><thead style='background-color: white'><tr><th>member_id</th><th>emp_title</th><th>emp_length</th><th>home_ownership</th><th>annual_income</th><th>address_state</th><th>address_zipcode</th><th>address_country</th><th>grade</th><th>sub_grade</th><th>verification_status</th><th>tot_hi_cred_lim</th><th>application_type</th><th>join_annual_income</th><th>verification_status_joint</th><th>ingest_date</th></tr></thead><tbody><tr><td>0957763130bef781913744c21571637e8d213c5da0a40abdfd28a148faf494ee</td><td>Owner</td><td>10</td><td>OWN</td><td>120000.0</td><td>CO</td><td>815xx</td><td>USA</td><td>A</td><td>A3</td><td>Not Verified</td><td>211500.0</td><td>Individual</td><td>null</td><td>null</td><td>2025-08-15T04:37:19.803916Z</td></tr><tr><td>3c5ae42f639a987053d4981fd6b5ce71a4cf822d41153ba1219c5b366a24f50e</td><td>machine operator leadman</td><td>9</td><td>RENT</td><td>84000.0</td><td>TX</td><td>783xx</td><td>USA</td><td>C</td><td>C2</td><td>Not Verified</td><td>77450.0</td><td>Individual</td><td>null</td><td>null</td><td>2025-08-15T04:37:19.803916Z</td></tr><tr><td>66640e780b0479e8f42f80c1c8b406a19edfe539d9fd30d0fd59955f3b7a43b3</td><td>Registered Nurse</td><td>10</td><td>MORTGAGE</td><td>72000.0</td><td>AL</td><td>359xx</td><td>USA</td><td>F</td><td>F3</td><td>Source Verified</td><td>89350.0</td><td>Individual</td><td>null</td><td>null</td><td>2025-08-15T04:37:19.803916Z</td></tr><tr><td>30904f270a70154baebf356111ea0b1a8f562e56bdd087193d22156d236494da</td><td>Team member</td><td>5</td><td>MORTGAGE</td><td>68000.0</td><td>AL</td><td>357xx</td><td>USA</td><td>D</td><td>D1</td><td>Verified</td><td>152472.0</td><td>Individual</td><td>null</td><td>null</td><td>2025-08-15T04:37:19.803916Z</td></tr><tr><td>481a23dc9df940edab0916bcb3664c5a54c21a31ca81006cd2568e9ed3389ea5</td><td>Teacher</td><td>3</td><td>RENT</td><td>40000.0</td><td>FL</td><td>330xx</td><td>USA</td><td>C</td><td>C5</td><td>Not Verified</td><td>128831.0</td><td>Individual</td><td>null</td><td>null</td><td>2025-08-15T04:37:19.803916Z</td></tr><tr><td>5b0a715b6a069f46c251d15073f74768426c00c1506d2ca3089d653957812656</td><td>Associate Professor</td><td>1</td><td>MORTGAGE</td><td>109000.0</td><td>NV</td><td>890xx</td><td>USA</td><td>A</td><td>A1</td><td>Source Verified</td><td>429779.0</td><td>Individual</td><td>null</td><td>null</td><td>2025-08-15T04:37:19.803916Z</td></tr><tr><td>06bc6dca688fd8e4c7349849f85515ec1993420797c04ebcaaa8a652fcecd37f</td><td>Analyst</td><td>2</td><td>MORTGAGE</td><td>50000.0</td><td>TX</td><td>773xx</td><td>USA</td><td>E</td><td>E2</td><td>Source Verified</td><td>228153.0</td><td>Individual</td><td>null</td><td>null</td><td>2025-08-15T04:37:19.803916Z</td></tr><tr><td>86956b0d8638197fc9303e757cfbe1602590e0700df46927cc831a2cf6907c41</td><td>Director of Veteran Services</td><td>1</td><td>RENT</td><td>100000.0</td><td>NJ</td><td>076xx</td><td>USA</td><td>B</td><td>B2</td><td>Not Verified</td><td>94646.0</td><td>Individual</td><td>null</td><td>null</td><td>2025-08-15T04:37:19.803916Z</td></tr><tr><td>cc77b672a1010d8d17ebc57c7310de3f26bd49cc7fcf01ad17b6048f60d286e6</td><td>Server</td><td>1</td><td>RENT</td><td>35000.0</td><td>OR</td><td>977xx</td><td>USA</td><td>D</td><td>D3</td><td>Not Verified</td><td>32401.0</td><td>Individual</td><td>null</td><td>null</td><td>2025-08-15T04:37:19.803916Z</td></tr><tr><td>abc4a6454118a373a7febdd1c5dbef655ce66520c68dd96978c595adbce30352</td><td>Teacher</td><td>5</td><td>RENT</td><td>80000.0</td><td>CA</td><td>934xx</td><td>USA</td><td>C</td><td>C1</td><td>Not Verified</td><td>119033.0</td><td>Individual</td><td>null</td><td>null</td><td>2025-08-15T04:37:19.803916Z</td></tr></tbody></table></div>"
      ]
     },
     "metadata": {
      "application/vnd.databricks.v1+output": {
       "addedWidgets": {},
       "aggData": [],
       "aggError": "",
       "aggOverflow": false,
       "aggSchema": [],
       "aggSeriesLimitReached": false,
       "aggType": "",
       "arguments": {},
       "columnCustomDisplayInfos": {},
       "data": [
        [
         "0957763130bef781913744c21571637e8d213c5da0a40abdfd28a148faf494ee",
         "Owner",
         10,
         "OWN",
         120000.0,
         "CO",
         "815xx",
         "USA",
         "A",
         "A3",
         "Not Verified",
         211500.0,
         "Individual",
         null,
         null,
         "2025-08-15T04:37:19.803916Z"
        ],
        [
         "3c5ae42f639a987053d4981fd6b5ce71a4cf822d41153ba1219c5b366a24f50e",
         "machine operator leadman",
         9,
         "RENT",
         84000.0,
         "TX",
         "783xx",
         "USA",
         "C",
         "C2",
         "Not Verified",
         77450.0,
         "Individual",
         null,
         null,
         "2025-08-15T04:37:19.803916Z"
        ],
        [
         "66640e780b0479e8f42f80c1c8b406a19edfe539d9fd30d0fd59955f3b7a43b3",
         "Registered Nurse",
         10,
         "MORTGAGE",
         72000.0,
         "AL",
         "359xx",
         "USA",
         "F",
         "F3",
         "Source Verified",
         89350.0,
         "Individual",
         null,
         null,
         "2025-08-15T04:37:19.803916Z"
        ],
        [
         "30904f270a70154baebf356111ea0b1a8f562e56bdd087193d22156d236494da",
         "Team member",
         5,
         "MORTGAGE",
         68000.0,
         "AL",
         "357xx",
         "USA",
         "D",
         "D1",
         "Verified",
         152472.0,
         "Individual",
         null,
         null,
         "2025-08-15T04:37:19.803916Z"
        ],
        [
         "481a23dc9df940edab0916bcb3664c5a54c21a31ca81006cd2568e9ed3389ea5",
         "Teacher",
         3,
         "RENT",
         40000.0,
         "FL",
         "330xx",
         "USA",
         "C",
         "C5",
         "Not Verified",
         128831.0,
         "Individual",
         null,
         null,
         "2025-08-15T04:37:19.803916Z"
        ],
        [
         "5b0a715b6a069f46c251d15073f74768426c00c1506d2ca3089d653957812656",
         "Associate Professor",
         1,
         "MORTGAGE",
         109000.0,
         "NV",
         "890xx",
         "USA",
         "A",
         "A1",
         "Source Verified",
         429779.0,
         "Individual",
         null,
         null,
         "2025-08-15T04:37:19.803916Z"
        ],
        [
         "06bc6dca688fd8e4c7349849f85515ec1993420797c04ebcaaa8a652fcecd37f",
         "Analyst",
         2,
         "MORTGAGE",
         50000.0,
         "TX",
         "773xx",
         "USA",
         "E",
         "E2",
         "Source Verified",
         228153.0,
         "Individual",
         null,
         null,
         "2025-08-15T04:37:19.803916Z"
        ],
        [
         "86956b0d8638197fc9303e757cfbe1602590e0700df46927cc831a2cf6907c41",
         "Director of Veteran Services",
         1,
         "RENT",
         100000.0,
         "NJ",
         "076xx",
         "USA",
         "B",
         "B2",
         "Not Verified",
         94646.0,
         "Individual",
         null,
         null,
         "2025-08-15T04:37:19.803916Z"
        ],
        [
         "cc77b672a1010d8d17ebc57c7310de3f26bd49cc7fcf01ad17b6048f60d286e6",
         "Server",
         1,
         "RENT",
         35000.0,
         "OR",
         "977xx",
         "USA",
         "D",
         "D3",
         "Not Verified",
         32401.0,
         "Individual",
         null,
         null,
         "2025-08-15T04:37:19.803916Z"
        ],
        [
         "abc4a6454118a373a7febdd1c5dbef655ce66520c68dd96978c595adbce30352",
         "Teacher",
         5,
         "RENT",
         80000.0,
         "CA",
         "934xx",
         "USA",
         "C",
         "C1",
         "Not Verified",
         119033.0,
         "Individual",
         null,
         null,
         "2025-08-15T04:37:19.803916Z"
        ]
       ],
       "datasetInfos": [],
       "dbfsResultPath": null,
       "isJsonSchema": true,
       "metadata": {},
       "overflow": false,
       "plotOptions": {
        "customPlotOptions": {},
        "displayType": "table",
        "pivotAggregation": null,
        "pivotColumns": null,
        "xColumns": null,
        "yColumns": null
       },
       "removedWidgets": [],
       "schema": [
        {
         "metadata": "{}",
         "name": "member_id",
         "type": "\"string\""
        },
        {
         "metadata": "{}",
         "name": "emp_title",
         "type": "\"string\""
        },
        {
         "metadata": "{}",
         "name": "emp_length",
         "type": "\"integer\""
        },
        {
         "metadata": "{}",
         "name": "home_ownership",
         "type": "\"string\""
        },
        {
         "metadata": "{}",
         "name": "annual_income",
         "type": "\"float\""
        },
        {
         "metadata": "{}",
         "name": "address_state",
         "type": "\"string\""
        },
        {
         "metadata": "{}",
         "name": "address_zipcode",
         "type": "\"string\""
        },
        {
         "metadata": "{}",
         "name": "address_country",
         "type": "\"string\""
        },
        {
         "metadata": "{}",
         "name": "grade",
         "type": "\"string\""
        },
        {
         "metadata": "{}",
         "name": "sub_grade",
         "type": "\"string\""
        },
        {
         "metadata": "{}",
         "name": "verification_status",
         "type": "\"string\""
        },
        {
         "metadata": "{}",
         "name": "tot_hi_cred_lim",
         "type": "\"float\""
        },
        {
         "metadata": "{}",
         "name": "application_type",
         "type": "\"string\""
        },
        {
         "metadata": "{}",
         "name": "join_annual_income",
         "type": "\"float\""
        },
        {
         "metadata": "{}",
         "name": "verification_status_joint",
         "type": "\"string\""
        },
        {
         "metadata": "{}",
         "name": "ingest_date",
         "type": "\"timestamp\""
        }
       ],
       "type": "table"
      }
     },
     "output_type": "display_data"
    }
   ],
   "source": [
    "display(spark.sql(\"select * from lending_club.customers\").limit(10))"
   ]
  },
  {
   "cell_type": "markdown",
   "metadata": {
    "application/vnd.databricks.v1+cell": {
     "cellMetadata": {
      "byteLimit": 2048000,
      "rowLimit": 10000
     },
     "inputWidgets": {},
     "nuid": "7f41e537-4a6c-415d-9e48-8f9efe4b1a7e",
     "showTitle": false,
     "tableResultSettingsMap": {},
     "title": ""
    }
   },
   "source": [
    "### Loans Table"
   ]
  },
  {
   "cell_type": "code",
   "execution_count": 0,
   "metadata": {
    "application/vnd.databricks.v1+cell": {
     "cellMetadata": {
      "byteLimit": 2048000,
      "implicitDf": true,
      "rowLimit": 10000
     },
     "inputWidgets": {},
     "nuid": "257aaf8c-a0cf-48b4-adeb-3c6f024bf1c0",
     "showTitle": false,
     "tableResultSettingsMap": {},
     "title": ""
    }
   },
   "outputs": [],
   "source": [
    "%sql\n",
    "CREATE TABLE IF NOT EXISTS lending_club.loans\n",
    "USING PARQUET\n",
    "LOCATION 'abfss://lendingclub@sparkprojectadls.dfs.core.windows.net/Lendingclub/cleaned/loans_parquet';"
   ]
  },
  {
   "cell_type": "code",
   "execution_count": 0,
   "metadata": {
    "application/vnd.databricks.v1+cell": {
     "cellMetadata": {
      "byteLimit": 2048000,
      "rowLimit": 10000
     },
     "inputWidgets": {},
     "nuid": "6eb8140f-8cd6-420e-8ac2-096b7d6b89ae",
     "showTitle": false,
     "tableResultSettingsMap": {},
     "title": ""
    }
   },
   "outputs": [
    {
     "output_type": "display_data",
     "data": {
      "text/html": [
       "<style scoped>\n",
       "  .table-result-container {\n",
       "    max-height: 300px;\n",
       "    overflow: auto;\n",
       "  }\n",
       "  table, th, td {\n",
       "    border: 1px solid black;\n",
       "    border-collapse: collapse;\n",
       "  }\n",
       "  th, td {\n",
       "    padding: 5px;\n",
       "  }\n",
       "  th {\n",
       "    text-align: left;\n",
       "  }\n",
       "</style><div class='table-result-container'><table class='table-result'><thead style='background-color: white'><tr><th>loan_id</th><th>member_id</th><th>loan_amount</th><th>funded_amount</th><th>loan_term_years</th><th>interest_rate</th><th>monthly_installment</th><th>issue_date</th><th>loan_status</th><th>loan_purpose</th><th>loan_title</th><th>ingest_date</th></tr></thead><tbody><tr><td>34722770</td><td>9f3dd01bc4251749bf4a4609be0095cd404b6d5d1738289dc26b9648b3c3be8e</td><td>12000.0</td><td>12000.0</td><td>5</td><td>8.67</td><td>247.19</td><td>Nov-2014</td><td>Fully Paid</td><td>credit_card</td><td>Credit card refinancing</td><td>2025-08-14T22:17:02.925378Z</td></tr><tr><td>31607676</td><td>b1ce2485b9a9bcbf2ab233487a3b8becf9181c432fed7ade87c184d69a1df1b5</td><td>35000.0</td><td>35000.0</td><td>3</td><td>12.39</td><td>1169.04</td><td>Nov-2014</td><td>Charged Off</td><td>credit_card</td><td>Credit card refinancing</td><td>2025-08-14T22:17:02.925378Z</td></tr><tr><td>34483808</td><td>5b7feffb9216aedde7a13dab49b86fa443d1979a9e6326efff522ac9b1f0ec23</td><td>10000.0</td><td>10000.0</td><td>3</td><td>14.99</td><td>346.61</td><td>Nov-2014</td><td>Charged Off</td><td>debt_consolidation</td><td>Debt consolidation</td><td>2025-08-14T22:17:02.925378Z</td></tr><tr><td>34712810</td><td>5e5d848316b6a01bc394d704ed92f61030947c6fe00ca9be85117d8cb29d207a</td><td>10000.0</td><td>10000.0</td><td>5</td><td>12.99</td><td>227.48</td><td>Nov-2014</td><td>Fully Paid</td><td>debt_consolidation</td><td>Debt consolidation</td><td>2025-08-14T22:17:02.925378Z</td></tr><tr><td>33330299</td><td>1bd5a74c0e269ed2a48810a0a7cf0f928a79f04e45ed87e6dafed6aef539063b</td><td>11325.0</td><td>11325.0</td><td>3</td><td>17.86</td><td>408.64</td><td>Nov-2014</td><td>Fully Paid</td><td>debt_consolidation</td><td>Debt consolidation</td><td>2025-08-14T22:17:02.925378Z</td></tr><tr><td>34812888</td><td>7f7028ddaecd7a9b43050004e267ac9f6f59b83eac82eb583ecf941b86c485f5</td><td>5000.0</td><td>5000.0</td><td>3</td><td>10.49</td><td>162.49</td><td>Nov-2014</td><td>Fully Paid</td><td>debt_consolidation</td><td>Debt consolidation</td><td>2025-08-14T22:17:02.925378Z</td></tr><tr><td>34652893</td><td>63f3629f0d5e2779c26e06425eebd40b60b00fd20ad5392e1c06630202e45266</td><td>11225.0</td><td>11225.0</td><td>5</td><td>25.8</td><td>334.76</td><td>Nov-2014</td><td>Charged Off</td><td>debt_consolidation</td><td>Debt consolidation</td><td>2025-08-14T22:17:02.925378Z</td></tr><tr><td>34702761</td><td>c6fb5c1935b022064f2bdd35c871015921475932b0fe4277e28761e538a12b5d</td><td>10000.0</td><td>10000.0</td><td>3</td><td>7.49</td><td>311.02</td><td>Nov-2014</td><td>Fully Paid</td><td>debt_consolidation</td><td>Debt consolidation</td><td>2025-08-14T22:17:02.925378Z</td></tr><tr><td>34732792</td><td>96072aac13c16de4a5501e7dbdcb2eec0bbb937f17923990c7e8ca2e394e9912</td><td>17000.0</td><td>17000.0</td><td>5</td><td>24.99</td><td>498.88</td><td>Nov-2014</td><td>Fully Paid</td><td>small_business</td><td>Business</td><td>2025-08-14T22:17:02.925378Z</td></tr><tr><td>34622924</td><td>f56c4ec2a44d1d241a7ea5bfea0ad6694828c508a4067998645a2c7f84b8db6f</td><td>6000.0</td><td>6000.0</td><td>3</td><td>15.99</td><td>210.92</td><td>Nov-2014</td><td>Fully Paid</td><td>debt_consolidation</td><td>Debt consolidation</td><td>2025-08-14T22:17:02.925378Z</td></tr></tbody></table></div>"
      ]
     },
     "metadata": {
      "application/vnd.databricks.v1+output": {
       "addedWidgets": {},
       "aggData": [],
       "aggError": "",
       "aggOverflow": false,
       "aggSchema": [],
       "aggSeriesLimitReached": false,
       "aggType": "",
       "arguments": {},
       "columnCustomDisplayInfos": {},
       "data": [
        [
         "34722770",
         "9f3dd01bc4251749bf4a4609be0095cd404b6d5d1738289dc26b9648b3c3be8e",
         12000.0,
         12000.0,
         5,
         8.67,
         247.19,
         "Nov-2014",
         "Fully Paid",
         "credit_card",
         "Credit card refinancing",
         "2025-08-14T22:17:02.925378Z"
        ],
        [
         "31607676",
         "b1ce2485b9a9bcbf2ab233487a3b8becf9181c432fed7ade87c184d69a1df1b5",
         35000.0,
         35000.0,
         3,
         12.39,
         1169.04,
         "Nov-2014",
         "Charged Off",
         "credit_card",
         "Credit card refinancing",
         "2025-08-14T22:17:02.925378Z"
        ],
        [
         "34483808",
         "5b7feffb9216aedde7a13dab49b86fa443d1979a9e6326efff522ac9b1f0ec23",
         10000.0,
         10000.0,
         3,
         14.99,
         346.61,
         "Nov-2014",
         "Charged Off",
         "debt_consolidation",
         "Debt consolidation",
         "2025-08-14T22:17:02.925378Z"
        ],
        [
         "34712810",
         "5e5d848316b6a01bc394d704ed92f61030947c6fe00ca9be85117d8cb29d207a",
         10000.0,
         10000.0,
         5,
         12.99,
         227.48,
         "Nov-2014",
         "Fully Paid",
         "debt_consolidation",
         "Debt consolidation",
         "2025-08-14T22:17:02.925378Z"
        ],
        [
         "33330299",
         "1bd5a74c0e269ed2a48810a0a7cf0f928a79f04e45ed87e6dafed6aef539063b",
         11325.0,
         11325.0,
         3,
         17.86,
         408.64,
         "Nov-2014",
         "Fully Paid",
         "debt_consolidation",
         "Debt consolidation",
         "2025-08-14T22:17:02.925378Z"
        ],
        [
         "34812888",
         "7f7028ddaecd7a9b43050004e267ac9f6f59b83eac82eb583ecf941b86c485f5",
         5000.0,
         5000.0,
         3,
         10.49,
         162.49,
         "Nov-2014",
         "Fully Paid",
         "debt_consolidation",
         "Debt consolidation",
         "2025-08-14T22:17:02.925378Z"
        ],
        [
         "34652893",
         "63f3629f0d5e2779c26e06425eebd40b60b00fd20ad5392e1c06630202e45266",
         11225.0,
         11225.0,
         5,
         25.8,
         334.76,
         "Nov-2014",
         "Charged Off",
         "debt_consolidation",
         "Debt consolidation",
         "2025-08-14T22:17:02.925378Z"
        ],
        [
         "34702761",
         "c6fb5c1935b022064f2bdd35c871015921475932b0fe4277e28761e538a12b5d",
         10000.0,
         10000.0,
         3,
         7.49,
         311.02,
         "Nov-2014",
         "Fully Paid",
         "debt_consolidation",
         "Debt consolidation",
         "2025-08-14T22:17:02.925378Z"
        ],
        [
         "34732792",
         "96072aac13c16de4a5501e7dbdcb2eec0bbb937f17923990c7e8ca2e394e9912",
         17000.0,
         17000.0,
         5,
         24.99,
         498.88,
         "Nov-2014",
         "Fully Paid",
         "small_business",
         "Business",
         "2025-08-14T22:17:02.925378Z"
        ],
        [
         "34622924",
         "f56c4ec2a44d1d241a7ea5bfea0ad6694828c508a4067998645a2c7f84b8db6f",
         6000.0,
         6000.0,
         3,
         15.99,
         210.92,
         "Nov-2014",
         "Fully Paid",
         "debt_consolidation",
         "Debt consolidation",
         "2025-08-14T22:17:02.925378Z"
        ]
       ],
       "datasetInfos": [],
       "dbfsResultPath": null,
       "isJsonSchema": true,
       "metadata": {},
       "overflow": false,
       "plotOptions": {
        "customPlotOptions": {},
        "displayType": "table",
        "pivotAggregation": null,
        "pivotColumns": null,
        "xColumns": null,
        "yColumns": null
       },
       "removedWidgets": [],
       "schema": [
        {
         "metadata": "{}",
         "name": "loan_id",
         "type": "\"string\""
        },
        {
         "metadata": "{}",
         "name": "member_id",
         "type": "\"string\""
        },
        {
         "metadata": "{}",
         "name": "loan_amount",
         "type": "\"float\""
        },
        {
         "metadata": "{}",
         "name": "funded_amount",
         "type": "\"float\""
        },
        {
         "metadata": "{}",
         "name": "loan_term_years",
         "type": "\"integer\""
        },
        {
         "metadata": "{}",
         "name": "interest_rate",
         "type": "\"float\""
        },
        {
         "metadata": "{}",
         "name": "monthly_installment",
         "type": "\"float\""
        },
        {
         "metadata": "{}",
         "name": "issue_date",
         "type": "\"string\""
        },
        {
         "metadata": "{}",
         "name": "loan_status",
         "type": "\"string\""
        },
        {
         "metadata": "{}",
         "name": "loan_purpose",
         "type": "\"string\""
        },
        {
         "metadata": "{}",
         "name": "loan_title",
         "type": "\"string\""
        },
        {
         "metadata": "{}",
         "name": "ingest_date",
         "type": "\"timestamp\""
        }
       ],
       "type": "table"
      }
     },
     "output_type": "display_data"
    }
   ],
   "source": [
    "display(spark.sql(\"select * from lending_club.loans\").limit(10))"
   ]
  },
  {
   "cell_type": "markdown",
   "metadata": {
    "application/vnd.databricks.v1+cell": {
     "cellMetadata": {
      "byteLimit": 2048000,
      "rowLimit": 10000
     },
     "inputWidgets": {},
     "nuid": "7b699cf0-4fd5-434d-a2c8-003fb7008442",
     "showTitle": false,
     "tableResultSettingsMap": {},
     "title": ""
    }
   },
   "source": [
    "### Loans Repayment Table"
   ]
  },
  {
   "cell_type": "code",
   "execution_count": 0,
   "metadata": {
    "application/vnd.databricks.v1+cell": {
     "cellMetadata": {
      "byteLimit": 2048000,
      "implicitDf": true,
      "rowLimit": 10000
     },
     "inputWidgets": {},
     "nuid": "4f623afa-792f-4e11-b9ca-30e916ef8e1f",
     "showTitle": false,
     "tableResultSettingsMap": {},
     "title": ""
    }
   },
   "outputs": [],
   "source": [
    "%sql\n",
    "CREATE TABLE IF NOT EXISTS lending_club.loans_repayments\n",
    "USING PARQUET\n",
    "LOCATION 'abfss://lendingclub@sparkprojectadls.dfs.core.windows.net/Lendingclub/cleaned/loans_repayments_parquet';"
   ]
  },
  {
   "cell_type": "code",
   "execution_count": 0,
   "metadata": {
    "application/vnd.databricks.v1+cell": {
     "cellMetadata": {
      "byteLimit": 2048000,
      "rowLimit": 10000
     },
     "inputWidgets": {},
     "nuid": "fd7e5aa6-46ea-4ee1-9d93-0dc8276359da",
     "showTitle": false,
     "tableResultSettingsMap": {},
     "title": ""
    }
   },
   "outputs": [
    {
     "output_type": "display_data",
     "data": {
      "text/html": [
       "<style scoped>\n",
       "  .table-result-container {\n",
       "    max-height: 300px;\n",
       "    overflow: auto;\n",
       "  }\n",
       "  table, th, td {\n",
       "    border: 1px solid black;\n",
       "    border-collapse: collapse;\n",
       "  }\n",
       "  th, td {\n",
       "    padding: 5px;\n",
       "  }\n",
       "  th {\n",
       "    text-align: left;\n",
       "  }\n",
       "</style><div class='table-result-container'><table class='table-result'><thead style='background-color: white'><tr><th>loan_id</th><th>total_principal_received</th><th>total_interest_received</th><th>total_late_fee_received</th><th>total_payment_received</th><th>last_payment_amount</th><th>last_payment_date</th><th>next_payment_date</th><th>ingest_date</th></tr></thead><tbody><tr><td>116524284</td><td>8407.2</td><td>7397.88</td><td>0.0</td><td>15805.08</td><td>833.57</td><td>Apr-2019</td><td>Apr-2019</td><td>2025-08-15T00:13:55.707394Z</td></tr><tr><td>116874020</td><td>5000.0</td><td>603.64</td><td>0.0</td><td>5603.6436</td><td>3877.5</td><td>null</td><td>null</td><td>2025-08-15T00:13:55.707394Z</td></tr><tr><td>116804460</td><td>1122.88</td><td>624.54</td><td>15.0</td><td>1762.42</td><td>198.0</td><td>null</td><td>null</td><td>2025-08-15T00:13:55.707394Z</td></tr><tr><td>116064618</td><td>6220.76</td><td>1535.27</td><td>0.0</td><td>7756.03</td><td>408.58</td><td>Apr-2019</td><td>Apr-2019</td><td>2025-08-15T00:13:55.707394Z</td></tr><tr><td>116862153</td><td>5000.0</td><td>297.62</td><td>0.0</td><td>5297.6187</td><td>4466.83</td><td>null</td><td>null</td><td>2025-08-15T00:13:55.707394Z</td></tr><tr><td>116787830</td><td>3448.26</td><td>777.3</td><td>0.0</td><td>4225.56</td><td>224.04</td><td>Apr-2019</td><td>Apr-2019</td><td>2025-08-15T00:13:55.707394Z</td></tr><tr><td>116597812</td><td>5911.12</td><td>1373.43</td><td>0.0</td><td>7284.55</td><td>384.06</td><td>Apr-2019</td><td>Apr-2019</td><td>2025-08-15T00:13:55.707394Z</td></tr><tr><td>116807174</td><td>4529.08</td><td>3161.01</td><td>0.0</td><td>7690.09</td><td>406.07</td><td>Apr-2019</td><td>Apr-2019</td><td>2025-08-15T00:13:55.707394Z</td></tr><tr><td>115434902</td><td>15000.0</td><td>753.93</td><td>0.0</td><td>15753.933</td><td>14198.1</td><td>null</td><td>null</td><td>2025-08-15T00:13:55.707394Z</td></tr><tr><td>115398424</td><td>2400.0</td><td>163.57</td><td>0.0</td><td>2563.5737</td><td>245.11</td><td>null</td><td>null</td><td>2025-08-15T00:13:55.707394Z</td></tr></tbody></table></div>"
      ]
     },
     "metadata": {
      "application/vnd.databricks.v1+output": {
       "addedWidgets": {},
       "aggData": [],
       "aggError": "",
       "aggOverflow": false,
       "aggSchema": [],
       "aggSeriesLimitReached": false,
       "aggType": "",
       "arguments": {},
       "columnCustomDisplayInfos": {},
       "data": [
        [
         "116524284",
         8407.2,
         7397.88,
         0.0,
         15805.08,
         833.57,
         "Apr-2019",
         "Apr-2019",
         "2025-08-15T00:13:55.707394Z"
        ],
        [
         "116874020",
         5000.0,
         603.64,
         0.0,
         5603.6436,
         3877.5,
         null,
         null,
         "2025-08-15T00:13:55.707394Z"
        ],
        [
         "116804460",
         1122.88,
         624.54,
         15.0,
         1762.42,
         198.0,
         null,
         null,
         "2025-08-15T00:13:55.707394Z"
        ],
        [
         "116064618",
         6220.76,
         1535.27,
         0.0,
         7756.03,
         408.58,
         "Apr-2019",
         "Apr-2019",
         "2025-08-15T00:13:55.707394Z"
        ],
        [
         "116862153",
         5000.0,
         297.62,
         0.0,
         5297.6187,
         4466.83,
         null,
         null,
         "2025-08-15T00:13:55.707394Z"
        ],
        [
         "116787830",
         3448.26,
         777.3,
         0.0,
         4225.56,
         224.04,
         "Apr-2019",
         "Apr-2019",
         "2025-08-15T00:13:55.707394Z"
        ],
        [
         "116597812",
         5911.12,
         1373.43,
         0.0,
         7284.55,
         384.06,
         "Apr-2019",
         "Apr-2019",
         "2025-08-15T00:13:55.707394Z"
        ],
        [
         "116807174",
         4529.08,
         3161.01,
         0.0,
         7690.09,
         406.07,
         "Apr-2019",
         "Apr-2019",
         "2025-08-15T00:13:55.707394Z"
        ],
        [
         "115434902",
         15000.0,
         753.93,
         0.0,
         15753.933,
         14198.1,
         null,
         null,
         "2025-08-15T00:13:55.707394Z"
        ],
        [
         "115398424",
         2400.0,
         163.57,
         0.0,
         2563.5737,
         245.11,
         null,
         null,
         "2025-08-15T00:13:55.707394Z"
        ]
       ],
       "datasetInfos": [],
       "dbfsResultPath": null,
       "isJsonSchema": true,
       "metadata": {},
       "overflow": false,
       "plotOptions": {
        "customPlotOptions": {},
        "displayType": "table",
        "pivotAggregation": null,
        "pivotColumns": null,
        "xColumns": null,
        "yColumns": null
       },
       "removedWidgets": [],
       "schema": [
        {
         "metadata": "{}",
         "name": "loan_id",
         "type": "\"string\""
        },
        {
         "metadata": "{}",
         "name": "total_principal_received",
         "type": "\"float\""
        },
        {
         "metadata": "{}",
         "name": "total_interest_received",
         "type": "\"float\""
        },
        {
         "metadata": "{}",
         "name": "total_late_fee_received",
         "type": "\"float\""
        },
        {
         "metadata": "{}",
         "name": "total_payment_received",
         "type": "\"float\""
        },
        {
         "metadata": "{}",
         "name": "last_payment_amount",
         "type": "\"float\""
        },
        {
         "metadata": "{}",
         "name": "last_payment_date",
         "type": "\"string\""
        },
        {
         "metadata": "{}",
         "name": "next_payment_date",
         "type": "\"string\""
        },
        {
         "metadata": "{}",
         "name": "ingest_date",
         "type": "\"timestamp\""
        }
       ],
       "type": "table"
      }
     },
     "output_type": "display_data"
    }
   ],
   "source": [
    "display(spark.sql(\"select * from lending_club.loans_repayments\").limit(10))"
   ]
  },
  {
   "cell_type": "markdown",
   "metadata": {
    "application/vnd.databricks.v1+cell": {
     "cellMetadata": {
      "byteLimit": 2048000,
      "rowLimit": 10000
     },
     "inputWidgets": {},
     "nuid": "aa5b4124-3ff7-4160-b418-b251c877d76a",
     "showTitle": false,
     "tableResultSettingsMap": {},
     "title": ""
    }
   },
   "source": [
    "### Loans Defaulters Delinq Table"
   ]
  },
  {
   "cell_type": "code",
   "execution_count": 0,
   "metadata": {
    "application/vnd.databricks.v1+cell": {
     "cellMetadata": {
      "byteLimit": 2048000,
      "implicitDf": true,
      "rowLimit": 10000
     },
     "inputWidgets": {},
     "nuid": "00dfb450-2fae-46cf-ba05-07e2f107500b",
     "showTitle": false,
     "tableResultSettingsMap": {},
     "title": ""
    }
   },
   "outputs": [],
   "source": [
    "%sql\n",
    "CREATE TABLE IF NOT EXISTS lending_club.loans_defaulters_delinq\n",
    "USING PARQUET\n",
    "LOCATION 'abfss://lendingclub@sparkprojectadls.dfs.core.windows.net/Lendingclub/cleaned/loans_defaulters_deling_parquet';"
   ]
  },
  {
   "cell_type": "code",
   "execution_count": 0,
   "metadata": {
    "application/vnd.databricks.v1+cell": {
     "cellMetadata": {
      "byteLimit": 2048000,
      "rowLimit": 10000
     },
     "inputWidgets": {},
     "nuid": "f7dcdf97-d2ba-450f-aa13-c29bc5592aa7",
     "showTitle": false,
     "tableResultSettingsMap": {},
     "title": ""
    }
   },
   "outputs": [
    {
     "output_type": "display_data",
     "data": {
      "text/html": [
       "<style scoped>\n",
       "  .table-result-container {\n",
       "    max-height: 300px;\n",
       "    overflow: auto;\n",
       "  }\n",
       "  table, th, td {\n",
       "    border: 1px solid black;\n",
       "    border-collapse: collapse;\n",
       "  }\n",
       "  th, td {\n",
       "    padding: 5px;\n",
       "  }\n",
       "  th {\n",
       "    text-align: left;\n",
       "  }\n",
       "</style><div class='table-result-container'><table class='table-result'><thead style='background-color: white'><tr><th>member_id</th><th>delinq_2yrs</th><th>delinq_amnt</th><th>mths_since_last_delinq</th></tr></thead><tbody><tr><td>12a1b70dca2079c66fa5a4fbcb5a0dc3683adaa85b3830365acf87d523ab7145</td><td>0</td><td>0.0</td><td>42</td></tr><tr><td>313e1bbc9db1a31e1f76c59780175808b7dd1740e09d1886830f514a9ea9fb6a</td><td>0</td><td>0.0</td><td>40</td></tr><tr><td>2929db3f2eb264350146fa16ee39694b0ac0d4c6875b40f14a701f9051e26d07</td><td>0</td><td>0.0</td><td>36</td></tr><tr><td>ddd07d13bfb6deba4ea45b6d71d14a60f0d1a3b7ca8ff45002d50942f6d7f537</td><td>0</td><td>0.0</td><td>27</td></tr><tr><td>186e2b268e5e93bf93a4e6f27bbfef4c7e33dbdd528316600bca866373808440</td><td>0</td><td>0.0</td><td>76</td></tr><tr><td>330de6055c692c8f78866a4791d7206af5b131443b09c012ccb97702f5891624</td><td>0</td><td>0.0</td><td>24</td></tr><tr><td>b13078ca89c721aae290e61eaa52eafb7f216f837c5e118d1574b1b35ca0b271</td><td>0</td><td>0.0</td><td>44</td></tr><tr><td>43a6b28e12a7f5384f86502f73d12008873a2e5c724d17ea1ab231ec9849836f</td><td>6</td><td>0.0</td><td>8</td></tr><tr><td>7a1a0dc20a37bb7e0938b25d4f921a6860a2e4a7dab5029a3a2bc015a2289328</td><td>1</td><td>0.0</td><td>17</td></tr><tr><td>6e5353e57e609864a5e62fe1f50856839d6ef2d4a7b842ad2c90fb9ece930c83</td><td>0</td><td>0.0</td><td>35</td></tr></tbody></table></div>"
      ]
     },
     "metadata": {
      "application/vnd.databricks.v1+output": {
       "addedWidgets": {},
       "aggData": [],
       "aggError": "",
       "aggOverflow": false,
       "aggSchema": [],
       "aggSeriesLimitReached": false,
       "aggType": "",
       "arguments": {},
       "columnCustomDisplayInfos": {},
       "data": [
        [
         "12a1b70dca2079c66fa5a4fbcb5a0dc3683adaa85b3830365acf87d523ab7145",
         0,
         0.0,
         42
        ],
        [
         "313e1bbc9db1a31e1f76c59780175808b7dd1740e09d1886830f514a9ea9fb6a",
         0,
         0.0,
         40
        ],
        [
         "2929db3f2eb264350146fa16ee39694b0ac0d4c6875b40f14a701f9051e26d07",
         0,
         0.0,
         36
        ],
        [
         "ddd07d13bfb6deba4ea45b6d71d14a60f0d1a3b7ca8ff45002d50942f6d7f537",
         0,
         0.0,
         27
        ],
        [
         "186e2b268e5e93bf93a4e6f27bbfef4c7e33dbdd528316600bca866373808440",
         0,
         0.0,
         76
        ],
        [
         "330de6055c692c8f78866a4791d7206af5b131443b09c012ccb97702f5891624",
         0,
         0.0,
         24
        ],
        [
         "b13078ca89c721aae290e61eaa52eafb7f216f837c5e118d1574b1b35ca0b271",
         0,
         0.0,
         44
        ],
        [
         "43a6b28e12a7f5384f86502f73d12008873a2e5c724d17ea1ab231ec9849836f",
         6,
         0.0,
         8
        ],
        [
         "7a1a0dc20a37bb7e0938b25d4f921a6860a2e4a7dab5029a3a2bc015a2289328",
         1,
         0.0,
         17
        ],
        [
         "6e5353e57e609864a5e62fe1f50856839d6ef2d4a7b842ad2c90fb9ece930c83",
         0,
         0.0,
         35
        ]
       ],
       "datasetInfos": [],
       "dbfsResultPath": null,
       "isJsonSchema": true,
       "metadata": {},
       "overflow": false,
       "plotOptions": {
        "customPlotOptions": {},
        "displayType": "table",
        "pivotAggregation": null,
        "pivotColumns": null,
        "xColumns": null,
        "yColumns": null
       },
       "removedWidgets": [],
       "schema": [
        {
         "metadata": "{}",
         "name": "member_id",
         "type": "\"string\""
        },
        {
         "metadata": "{}",
         "name": "delinq_2yrs",
         "type": "\"integer\""
        },
        {
         "metadata": "{}",
         "name": "delinq_amnt",
         "type": "\"float\""
        },
        {
         "metadata": "{}",
         "name": "mths_since_last_delinq",
         "type": "\"integer\""
        }
       ],
       "type": "table"
      }
     },
     "output_type": "display_data"
    }
   ],
   "source": [
    "display(spark.sql(\"select * from lending_club.loans_defaulters_delinq\").limit(10))"
   ]
  },
  {
   "cell_type": "markdown",
   "metadata": {
    "application/vnd.databricks.v1+cell": {
     "cellMetadata": {
      "byteLimit": 2048000,
      "rowLimit": 10000
     },
     "inputWidgets": {},
     "nuid": "360d4522-bf8a-4489-b803-ffdd0526875a",
     "showTitle": false,
     "tableResultSettingsMap": {},
     "title": ""
    }
   },
   "source": [
    "### Loans Defaulters Detail Records Enquiry Table"
   ]
  },
  {
   "cell_type": "code",
   "execution_count": 0,
   "metadata": {
    "application/vnd.databricks.v1+cell": {
     "cellMetadata": {
      "byteLimit": 2048000,
      "implicitDf": true,
      "rowLimit": 10000
     },
     "inputWidgets": {},
     "nuid": "4ca34327-7b9b-4ced-8010-e87d414301c2",
     "showTitle": false,
     "tableResultSettingsMap": {},
     "title": ""
    }
   },
   "outputs": [],
   "source": [
    "%sql\n",
    "CREATE TABLE IF NOT EXISTS lending_club.loans_defaulters_detail_rec_enq\n",
    "USING PARQUET\n",
    "LOCATION 'abfss://lendingclub@sparkprojectadls.dfs.core.windows.net/Lendingclub/cleaned/loans_def_detail_records_enq_df_parquet';"
   ]
  },
  {
   "cell_type": "code",
   "execution_count": 0,
   "metadata": {
    "application/vnd.databricks.v1+cell": {
     "cellMetadata": {
      "byteLimit": 2048000,
      "rowLimit": 10000
     },
     "inputWidgets": {},
     "nuid": "6f28a16d-2d40-4478-88ab-57e2b77074bd",
     "showTitle": false,
     "tableResultSettingsMap": {},
     "title": ""
    }
   },
   "outputs": [
    {
     "output_type": "display_data",
     "data": {
      "text/html": [
       "<style scoped>\n",
       "  .table-result-container {\n",
       "    max-height: 300px;\n",
       "    overflow: auto;\n",
       "  }\n",
       "  table, th, td {\n",
       "    border: 1px solid black;\n",
       "    border-collapse: collapse;\n",
       "  }\n",
       "  th, td {\n",
       "    padding: 5px;\n",
       "  }\n",
       "  th {\n",
       "    text-align: left;\n",
       "  }\n",
       "</style><div class='table-result-container'><table class='table-result'><thead style='background-color: white'><tr><th>member_id</th><th>pub_rec</th><th>pub_rec_bankruptcies</th><th>inq_last_6mths</th></tr></thead><tbody><tr><td>1893252d84d5b506e7fefd6bbba081bb11b369be440001c56985bb0509217eb9</td><td>1</td><td>1</td><td>0</td></tr><tr><td>6c353e734f4485ab3d7723d8fd56161def180ef345b4078ba16db3023a4bca14</td><td>0</td><td>0</td><td>0</td></tr><tr><td>b74cfc9451807c570540156b582f4ef90ad08b79aabb913ba4d5e17f1e3496c4</td><td>0</td><td>0</td><td>0</td></tr><tr><td>afb8786a1ec63746a3b76ee6ff3c7c4f1b6361a3402605a6ed78eb24ae9190d1</td><td>0</td><td>0</td><td>0</td></tr><tr><td>cd56b423974c5ded13e1772a3d19f62be3ce262e3e81c5c15bc6df567ce37212</td><td>0</td><td>0</td><td>0</td></tr><tr><td>d62d89bf80dd2c13f5c72f7734d5fb9b8a3eb3a027706a1ff14926e5cc896914</td><td>0</td><td>0</td><td>0</td></tr><tr><td>1a67771c29c4fe4c8a2dcb67984df171599de8862dc686cb52566738da9908b5</td><td>0</td><td>0</td><td>1</td></tr><tr><td>189e1899b7325a53910e26eaacffca3beb0b37b5b95b4b8b39a3ae51517b7469</td><td>0</td><td>0</td><td>0</td></tr><tr><td>f08779c30fcf7394eb44b6e68aa9c3d75e919baa18aef2642d5bb4f0742277bb</td><td>0</td><td>0</td><td>0</td></tr><tr><td>8435dd242b9d40336654314e663c2e672bd2682481be565cc8f45576fb4f658c</td><td>0</td><td>0</td><td>0</td></tr></tbody></table></div>"
      ]
     },
     "metadata": {
      "application/vnd.databricks.v1+output": {
       "addedWidgets": {},
       "aggData": [],
       "aggError": "",
       "aggOverflow": false,
       "aggSchema": [],
       "aggSeriesLimitReached": false,
       "aggType": "",
       "arguments": {},
       "columnCustomDisplayInfos": {},
       "data": [
        [
         "1893252d84d5b506e7fefd6bbba081bb11b369be440001c56985bb0509217eb9",
         1,
         1,
         0
        ],
        [
         "6c353e734f4485ab3d7723d8fd56161def180ef345b4078ba16db3023a4bca14",
         0,
         0,
         0
        ],
        [
         "b74cfc9451807c570540156b582f4ef90ad08b79aabb913ba4d5e17f1e3496c4",
         0,
         0,
         0
        ],
        [
         "afb8786a1ec63746a3b76ee6ff3c7c4f1b6361a3402605a6ed78eb24ae9190d1",
         0,
         0,
         0
        ],
        [
         "cd56b423974c5ded13e1772a3d19f62be3ce262e3e81c5c15bc6df567ce37212",
         0,
         0,
         0
        ],
        [
         "d62d89bf80dd2c13f5c72f7734d5fb9b8a3eb3a027706a1ff14926e5cc896914",
         0,
         0,
         0
        ],
        [
         "1a67771c29c4fe4c8a2dcb67984df171599de8862dc686cb52566738da9908b5",
         0,
         0,
         1
        ],
        [
         "189e1899b7325a53910e26eaacffca3beb0b37b5b95b4b8b39a3ae51517b7469",
         0,
         0,
         0
        ],
        [
         "f08779c30fcf7394eb44b6e68aa9c3d75e919baa18aef2642d5bb4f0742277bb",
         0,
         0,
         0
        ],
        [
         "8435dd242b9d40336654314e663c2e672bd2682481be565cc8f45576fb4f658c",
         0,
         0,
         0
        ]
       ],
       "datasetInfos": [],
       "dbfsResultPath": null,
       "isJsonSchema": true,
       "metadata": {},
       "overflow": false,
       "plotOptions": {
        "customPlotOptions": {},
        "displayType": "table",
        "pivotAggregation": null,
        "pivotColumns": null,
        "xColumns": null,
        "yColumns": null
       },
       "removedWidgets": [],
       "schema": [
        {
         "metadata": "{}",
         "name": "member_id",
         "type": "\"string\""
        },
        {
         "metadata": "{}",
         "name": "pub_rec",
         "type": "\"integer\""
        },
        {
         "metadata": "{}",
         "name": "pub_rec_bankruptcies",
         "type": "\"integer\""
        },
        {
         "metadata": "{}",
         "name": "inq_last_6mths",
         "type": "\"integer\""
        }
       ],
       "type": "table"
      }
     },
     "output_type": "display_data"
    }
   ],
   "source": [
    "display(spark.sql(\"select * from lending_club.loans_defaulters_detail_rec_enq\").limit(10))"
   ]
  }
 ],
 "metadata": {
  "application/vnd.databricks.v1+notebook": {
   "computePreferences": null,
   "dashboards": [],
   "environmentMetadata": null,
   "inputWidgetPreferences": null,
   "language": "python",
   "notebookMetadata": {
    "mostRecentlyExecutedCommandWithImplicitDF": {
     "commandId": 8917210138442907,
     "dataframes": [
      "_sqldf"
     ]
    },
    "pythonIndentUnit": 4
   },
   "notebookName": "121_Creating_External_Tables",
   "widgets": {}
  },
  "kernelspec": {
   "display_name": "Pyspark 3",
   "language": "python",
   "name": "pyspark3"
  },
  "language_info": {
   "name": "python"
  }
 },
 "nbformat": 4,
 "nbformat_minor": 0
}
