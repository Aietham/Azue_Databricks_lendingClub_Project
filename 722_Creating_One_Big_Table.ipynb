{
 "cells": [
  {
   "cell_type": "markdown",
   "metadata": {
    "application/vnd.databricks.v1+cell": {
     "cellMetadata": {},
     "inputWidgets": {},
     "nuid": "eb1e9054-27b4-4e44-8a21-04b0641c4cf0",
     "showTitle": false,
     "tableResultSettingsMap": {},
     "title": ""
    }
   },
   "source": [
    "**Purpose:** Create `lending_club.customers_loan_t`, a single view and table that combines customer profile, loan facts, repayment metrics, and default-risk signals.\n",
    "\n",
    "**Grain:** One row **per loan** (customer attributes repeat across that customer’s loans).  \n",
    "`LEFT JOIN`s ensure we keep the base record for each customer even when some detail from other tables are missing."
   ]
  },
  {
   "cell_type": "code",
   "execution_count": 0,
   "metadata": {
    "application/vnd.databricks.v1+cell": {
     "cellMetadata": {
      "byteLimit": 2048000,
      "rowLimit": 10000
     },
     "inputWidgets": {},
     "nuid": "a47fa003-e4d9-4dfd-ba69-efb71bb83694",
     "showTitle": false,
     "tableResultSettingsMap": {},
     "title": ""
    }
   },
   "outputs": [
    {
     "output_type": "execute_result",
     "data": {
      "text/plain": [
       "DataFrame[]"
      ]
     },
     "execution_count": 3,
     "metadata": {},
     "output_type": "execute_result"
    }
   ],
   "source": [
    "spark.sql(\"\"\"\n",
    "create or replace view lending_club.customers_loan_v as select\n",
    "l.loan_id,\n",
    "c.member_id,\n",
    "c.emp_title,\n",
    "c.emp_length,\n",
    "c.home_ownership,\n",
    "c.annual_income,\n",
    "c.address_state,\n",
    "c.address_zipcode,\n",
    "c.address_country,\n",
    "c.grade,\n",
    "c.sub_grade,\n",
    "c.verification_status,\n",
    "c.tot_hi_cred_lim,\n",
    "c.application_type,\n",
    "c.join_annual_income,\n",
    "c.verification_status_joint,\n",
    "l.loan_amount,\n",
    "l.funded_amount,\n",
    "l.loan_term_years,\n",
    "l.interest_rate,\n",
    "l.monthly_installment,\n",
    "l.issue_date,\n",
    "l.loan_status,\n",
    "l.loan_purpose,\n",
    "r.total_principal_received,\n",
    "r.total_interest_received,\n",
    "r.total_late_fee_received,\n",
    "r.last_payment_date,\n",
    "r.next_payment_date,\n",
    "d.delinq_2yrs,\n",
    "d.delinq_amnt,\n",
    "d.mths_since_last_delinq,\n",
    "e.pub_rec,\n",
    "e.pub_rec_bankruptcies,\n",
    "e.inq_last_6mths\n",
    "\n",
    "FROM lending_club.customers c\n",
    "LEFT JOIN lending_club.loans l on c.member_id = l.member_id\n",
    "LEFT JOIN lending_club.loans_repayments r ON l.loan_id = r.loan_id\n",
    "LEFT JOIN lending_club.loans_defaulters_delinq d ON c.member_id = d.member_id\n",
    "LEFT JOIN lending_club.loans_defaulters_detail_rec_enq e ON c.member_id = e.member_id\n",
    "\"\"\")"
   ]
  },
  {
   "cell_type": "code",
   "execution_count": 0,
   "metadata": {
    "application/vnd.databricks.v1+cell": {
     "cellMetadata": {
      "byteLimit": 2048000,
      "rowLimit": 10000
     },
     "inputWidgets": {},
     "nuid": "7b6dfeb9-106d-4602-bae0-9b4b4d89fae3",
     "showTitle": false,
     "tableResultSettingsMap": {},
     "title": ""
    }
   },
   "outputs": [
    {
     "output_type": "display_data",
     "data": {
      "text/html": [
       "<style scoped>\n",
       "  .table-result-container {\n",
       "    max-height: 300px;\n",
       "    overflow: auto;\n",
       "  }\n",
       "  table, th, td {\n",
       "    border: 1px solid black;\n",
       "    border-collapse: collapse;\n",
       "  }\n",
       "  th, td {\n",
       "    padding: 5px;\n",
       "  }\n",
       "  th {\n",
       "    text-align: left;\n",
       "  }\n",
       "</style><div class='table-result-container'><table class='table-result'><thead style='background-color: white'><tr><th>loan_id</th><th>member_id</th><th>emp_title</th><th>emp_length</th><th>home_ownership</th><th>annual_income</th><th>address_state</th><th>address_zipcode</th><th>address_country</th><th>grade</th><th>sub_grade</th><th>verification_status</th><th>tot_hi_cred_lim</th><th>application_type</th><th>join_annual_income</th><th>verification_status_joint</th><th>loan_amount</th><th>funded_amount</th><th>loan_term_years</th><th>interest_rate</th><th>monthly_installment</th><th>issue_date</th><th>loan_status</th><th>loan_purpose</th><th>total_principal_received</th><th>total_interest_received</th><th>total_late_fee_received</th><th>last_payment_date</th><th>next_payment_date</th><th>delinq_2yrs</th><th>delinq_amnt</th><th>mths_since_last_delinq</th><th>pub_rec</th><th>pub_rec_bankruptcies</th><th>inq_last_6mths</th></tr></thead><tbody><tr><td>68355461</td><td>0253f6501ea008424092cc88739e7f984788d4db85a45f97f59ac82e2cb67eb5</td><td>null</td><td>6</td><td>MORTGAGE</td><td>64627.0</td><td>ME</td><td>040xx</td><td>USA</td><td>D</td><td>D4</td><td>Verified</td><td>375240.0</td><td>Individual</td><td>null</td><td>null</td><td>9550.0</td><td>9550.0</td><td>3</td><td>17.97</td><td>345.12</td><td>Dec-2015</td><td>Charged Off</td><td>debt_consolidation</td><td>3122.14</td><td>1685.7</td><td>0.0</td><td>null</td><td>null</td><td>0</td><td>0.0</td><td>38</td><td>0</td><td>0</td><td>1</td></tr><tr><td>68546971</td><td>0c2c358e234308063bcc9f9bdd6565efe5fa1ecda63ae0742805c5b40f44ffcd</td><td>SR Sales Associate</td><td>8</td><td>MORTGAGE</td><td>56000.0</td><td>MN</td><td>553xx</td><td>USA</td><td>A</td><td>A2</td><td>Source Verified</td><td>265895.0</td><td>Individual</td><td>null</td><td>null</td><td>3500.0</td><td>3500.0</td><td>3</td><td>6.49</td><td>107.26</td><td>Dec-2015</td><td>Fully Paid</td><td>debt_consolidation</td><td>3500.0</td><td>358.09</td><td>0.0</td><td>null</td><td>null</td><td>3</td><td>0.0</td><td>5</td><td>0</td><td>0</td><td>0</td></tr><tr><td>68544404</td><td>1222aa4540cbe058e49af935ee069295142158fe6604ae69e3bee199cdce6f87</td><td>Administrator</td><td>10</td><td>RENT</td><td>93534.0</td><td>CA</td><td>950xx</td><td>USA</td><td>C</td><td>C2</td><td>Not Verified</td><td>71354.0</td><td>Individual</td><td>null</td><td>null</td><td>20000.0</td><td>20000.0</td><td>3</td><td>12.88</td><td>672.73</td><td>Dec-2015</td><td>Fully Paid</td><td>debt_consolidation</td><td>20000.0</td><td>4146.74</td><td>0.0</td><td>null</td><td>null</td><td>null</td><td>null</td><td>null</td><td>0</td><td>0</td><td>1</td></tr><tr><td>68292341</td><td>1ced12feb5fcf993d279402882785f61a37778d960537f0bdbc38bd7526f8270</td><td>Parts-delivery driver</td><td>1</td><td>MORTGAGE</td><td>47200.0</td><td>TN</td><td>379xx</td><td>USA</td><td>B</td><td>B4</td><td>Not Verified</td><td>72500.0</td><td>Individual</td><td>null</td><td>null</td><td>18000.0</td><td>18000.0</td><td>3</td><td>10.78</td><td>587.43</td><td>Dec-2015</td><td>Fully Paid</td><td>credit_card</td><td>18000.0</td><td>3131.03</td><td>0.0</td><td>null</td><td>null</td><td>1</td><td>0.0</td><td>13</td><td>0</td><td>0</td><td>0</td></tr><tr><td>68536503</td><td>3c5ae42f639a987053d4981fd6b5ce71a4cf822d41153ba1219c5b366a24f50e</td><td>machine operator leadman</td><td>9</td><td>RENT</td><td>84000.0</td><td>TX</td><td>783xx</td><td>USA</td><td>C</td><td>C2</td><td>Not Verified</td><td>77450.0</td><td>Individual</td><td>null</td><td>null</td><td>30000.0</td><td>30000.0</td><td>3</td><td>12.88</td><td>1009.09</td><td>Dec-2015</td><td>Charged Off</td><td>debt_consolidation</td><td>14266.95</td><td>4902.54</td><td>0.0</td><td>null</td><td>null</td><td>1</td><td>0.0</td><td>15</td><td>0</td><td>0</td><td>1</td></tr><tr><td>68405710</td><td>481a23dc9df940edab0916bcb3664c5a54c21a31ca81006cd2568e9ed3389ea5</td><td>Teacher</td><td>3</td><td>RENT</td><td>40000.0</td><td>FL</td><td>330xx</td><td>USA</td><td>C</td><td>C5</td><td>Not Verified</td><td>128831.0</td><td>Individual</td><td>null</td><td>null</td><td>15000.0</td><td>15000.0</td><td>5</td><td>14.85</td><td>355.67</td><td>Dec-2015</td><td>Current</td><td>major_purchase</td><td>8185.01</td><td>5299.51</td><td>0.0</td><td>Apr-2019</td><td>Apr-2019</td><td>0</td><td>0.0</td><td>38</td><td>0</td><td>0</td><td>2</td></tr><tr><td>68585924</td><td>5b0a715b6a069f46c251d15073f74768426c00c1506d2ca3089d653957812656</td><td>Associate Professor</td><td>1</td><td>MORTGAGE</td><td>109000.0</td><td>NV</td><td>890xx</td><td>USA</td><td>A</td><td>A1</td><td>Source Verified</td><td>429779.0</td><td>Individual</td><td>null</td><td>null</td><td>10000.0</td><td>10000.0</td><td>3</td><td>5.32</td><td>301.15</td><td>Dec-2015</td><td>Fully Paid</td><td>debt_consolidation</td><td>10000.0</td><td>809.14</td><td>0.0</td><td>null</td><td>null</td><td>0</td><td>0.0</td><td>42</td><td>0</td><td>0</td><td>1</td></tr><tr><td>67859219</td><td>611f9c60d4532f38354be4df71b4f24ad5bf984eb59987966aedd530fcce78e8</td><td>poster</td><td>7</td><td>MORTGAGE</td><td>30000.0</td><td>FL</td><td>349xx</td><td>USA</td><td>B</td><td>B5</td><td>Verified</td><td>174215.0</td><td>Individual</td><td>null</td><td>null</td><td>1000.0</td><td>1000.0</td><td>3</td><td>11.48</td><td>32.97</td><td>Dec-2015</td><td>Fully Paid</td><td>debt_consolidation</td><td>1000.0</td><td>68.82</td><td>0.0</td><td>null</td><td>null</td><td>null</td><td>null</td><td>null</td><td>0</td><td>0</td><td>2</td></tr><tr><td>68384777</td><td>86956b0d8638197fc9303e757cfbe1602590e0700df46927cc831a2cf6907c41</td><td>Director of Veteran Services</td><td>1</td><td>RENT</td><td>100000.0</td><td>NJ</td><td>076xx</td><td>USA</td><td>B</td><td>B2</td><td>Not Verified</td><td>94646.0</td><td>Individual</td><td>null</td><td>null</td><td>24000.0</td><td>24000.0</td><td>5</td><td>9.17</td><td>500.19</td><td>Dec-2015</td><td>Fully Paid</td><td>debt_consolidation</td><td>24000.0</td><td>2546.73</td><td>0.0</td><td>null</td><td>null</td><td>0</td><td>0.0</td><td>39</td><td>0</td><td>0</td><td>0</td></tr><tr><td>68525420</td><td>0524c113430bb97493593a388d98ca95b369cc558dabe30e0f0e7ed495ceda03</td><td>Financial Analyst</td><td>1</td><td>RENT</td><td>91000.0</td><td>AL</td><td>352xx</td><td>USA</td><td>C</td><td>C4</td><td>Not Verified</td><td>531113.0</td><td>Individual</td><td>null</td><td>null</td><td>14400.0</td><td>14400.0</td><td>5</td><td>13.99</td><td>334.99</td><td>Dec-2015</td><td>Fully Paid</td><td>debt_consolidation</td><td>14400.0</td><td>3637.29</td><td>0.0</td><td>null</td><td>null</td><td>null</td><td>null</td><td>null</td><td>0</td><td>0</td><td>1</td></tr></tbody></table></div>"
      ]
     },
     "metadata": {
      "application/vnd.databricks.v1+output": {
       "addedWidgets": {},
       "aggData": [],
       "aggError": "",
       "aggOverflow": false,
       "aggSchema": [],
       "aggSeriesLimitReached": false,
       "aggType": "",
       "arguments": {},
       "columnCustomDisplayInfos": {},
       "data": [
        [
         "68355461",
         "0253f6501ea008424092cc88739e7f984788d4db85a45f97f59ac82e2cb67eb5",
         null,
         6,
         "MORTGAGE",
         64627.0,
         "ME",
         "040xx",
         "USA",
         "D",
         "D4",
         "Verified",
         375240.0,
         "Individual",
         null,
         null,
         9550.0,
         9550.0,
         3,
         17.97,
         345.12,
         "Dec-2015",
         "Charged Off",
         "debt_consolidation",
         3122.14,
         1685.7,
         0.0,
         null,
         null,
         0,
         0.0,
         38,
         0,
         0,
         1
        ],
        [
         "68546971",
         "0c2c358e234308063bcc9f9bdd6565efe5fa1ecda63ae0742805c5b40f44ffcd",
         "SR Sales Associate",
         8,
         "MORTGAGE",
         56000.0,
         "MN",
         "553xx",
         "USA",
         "A",
         "A2",
         "Source Verified",
         265895.0,
         "Individual",
         null,
         null,
         3500.0,
         3500.0,
         3,
         6.49,
         107.26,
         "Dec-2015",
         "Fully Paid",
         "debt_consolidation",
         3500.0,
         358.09,
         0.0,
         null,
         null,
         3,
         0.0,
         5,
         0,
         0,
         0
        ],
        [
         "68544404",
         "1222aa4540cbe058e49af935ee069295142158fe6604ae69e3bee199cdce6f87",
         "Administrator",
         10,
         "RENT",
         93534.0,
         "CA",
         "950xx",
         "USA",
         "C",
         "C2",
         "Not Verified",
         71354.0,
         "Individual",
         null,
         null,
         20000.0,
         20000.0,
         3,
         12.88,
         672.73,
         "Dec-2015",
         "Fully Paid",
         "debt_consolidation",
         20000.0,
         4146.74,
         0.0,
         null,
         null,
         null,
         null,
         null,
         0,
         0,
         1
        ],
        [
         "68292341",
         "1ced12feb5fcf993d279402882785f61a37778d960537f0bdbc38bd7526f8270",
         "Parts-delivery driver",
         1,
         "MORTGAGE",
         47200.0,
         "TN",
         "379xx",
         "USA",
         "B",
         "B4",
         "Not Verified",
         72500.0,
         "Individual",
         null,
         null,
         18000.0,
         18000.0,
         3,
         10.78,
         587.43,
         "Dec-2015",
         "Fully Paid",
         "credit_card",
         18000.0,
         3131.03,
         0.0,
         null,
         null,
         1,
         0.0,
         13,
         0,
         0,
         0
        ],
        [
         "68536503",
         "3c5ae42f639a987053d4981fd6b5ce71a4cf822d41153ba1219c5b366a24f50e",
         "machine operator leadman",
         9,
         "RENT",
         84000.0,
         "TX",
         "783xx",
         "USA",
         "C",
         "C2",
         "Not Verified",
         77450.0,
         "Individual",
         null,
         null,
         30000.0,
         30000.0,
         3,
         12.88,
         1009.09,
         "Dec-2015",
         "Charged Off",
         "debt_consolidation",
         14266.95,
         4902.54,
         0.0,
         null,
         null,
         1,
         0.0,
         15,
         0,
         0,
         1
        ],
        [
         "68405710",
         "481a23dc9df940edab0916bcb3664c5a54c21a31ca81006cd2568e9ed3389ea5",
         "Teacher",
         3,
         "RENT",
         40000.0,
         "FL",
         "330xx",
         "USA",
         "C",
         "C5",
         "Not Verified",
         128831.0,
         "Individual",
         null,
         null,
         15000.0,
         15000.0,
         5,
         14.85,
         355.67,
         "Dec-2015",
         "Current",
         "major_purchase",
         8185.01,
         5299.51,
         0.0,
         "Apr-2019",
         "Apr-2019",
         0,
         0.0,
         38,
         0,
         0,
         2
        ],
        [
         "68585924",
         "5b0a715b6a069f46c251d15073f74768426c00c1506d2ca3089d653957812656",
         "Associate Professor",
         1,
         "MORTGAGE",
         109000.0,
         "NV",
         "890xx",
         "USA",
         "A",
         "A1",
         "Source Verified",
         429779.0,
         "Individual",
         null,
         null,
         10000.0,
         10000.0,
         3,
         5.32,
         301.15,
         "Dec-2015",
         "Fully Paid",
         "debt_consolidation",
         10000.0,
         809.14,
         0.0,
         null,
         null,
         0,
         0.0,
         42,
         0,
         0,
         1
        ],
        [
         "67859219",
         "611f9c60d4532f38354be4df71b4f24ad5bf984eb59987966aedd530fcce78e8",
         "poster",
         7,
         "MORTGAGE",
         30000.0,
         "FL",
         "349xx",
         "USA",
         "B",
         "B5",
         "Verified",
         174215.0,
         "Individual",
         null,
         null,
         1000.0,
         1000.0,
         3,
         11.48,
         32.97,
         "Dec-2015",
         "Fully Paid",
         "debt_consolidation",
         1000.0,
         68.82,
         0.0,
         null,
         null,
         null,
         null,
         null,
         0,
         0,
         2
        ],
        [
         "68384777",
         "86956b0d8638197fc9303e757cfbe1602590e0700df46927cc831a2cf6907c41",
         "Director of Veteran Services",
         1,
         "RENT",
         100000.0,
         "NJ",
         "076xx",
         "USA",
         "B",
         "B2",
         "Not Verified",
         94646.0,
         "Individual",
         null,
         null,
         24000.0,
         24000.0,
         5,
         9.17,
         500.19,
         "Dec-2015",
         "Fully Paid",
         "debt_consolidation",
         24000.0,
         2546.73,
         0.0,
         null,
         null,
         0,
         0.0,
         39,
         0,
         0,
         0
        ],
        [
         "68525420",
         "0524c113430bb97493593a388d98ca95b369cc558dabe30e0f0e7ed495ceda03",
         "Financial Analyst",
         1,
         "RENT",
         91000.0,
         "AL",
         "352xx",
         "USA",
         "C",
         "C4",
         "Not Verified",
         531113.0,
         "Individual",
         null,
         null,
         14400.0,
         14400.0,
         5,
         13.99,
         334.99,
         "Dec-2015",
         "Fully Paid",
         "debt_consolidation",
         14400.0,
         3637.29,
         0.0,
         null,
         null,
         null,
         null,
         null,
         0,
         0,
         1
        ]
       ],
       "datasetInfos": [],
       "dbfsResultPath": null,
       "isJsonSchema": true,
       "metadata": {},
       "overflow": false,
       "plotOptions": {
        "customPlotOptions": {},
        "displayType": "table",
        "pivotAggregation": null,
        "pivotColumns": null,
        "xColumns": null,
        "yColumns": null
       },
       "removedWidgets": [],
       "schema": [
        {
         "metadata": "{}",
         "name": "loan_id",
         "type": "\"string\""
        },
        {
         "metadata": "{}",
         "name": "member_id",
         "type": "\"string\""
        },
        {
         "metadata": "{}",
         "name": "emp_title",
         "type": "\"string\""
        },
        {
         "metadata": "{}",
         "name": "emp_length",
         "type": "\"integer\""
        },
        {
         "metadata": "{}",
         "name": "home_ownership",
         "type": "\"string\""
        },
        {
         "metadata": "{}",
         "name": "annual_income",
         "type": "\"float\""
        },
        {
         "metadata": "{}",
         "name": "address_state",
         "type": "\"string\""
        },
        {
         "metadata": "{}",
         "name": "address_zipcode",
         "type": "\"string\""
        },
        {
         "metadata": "{}",
         "name": "address_country",
         "type": "\"string\""
        },
        {
         "metadata": "{}",
         "name": "grade",
         "type": "\"string\""
        },
        {
         "metadata": "{}",
         "name": "sub_grade",
         "type": "\"string\""
        },
        {
         "metadata": "{}",
         "name": "verification_status",
         "type": "\"string\""
        },
        {
         "metadata": "{}",
         "name": "tot_hi_cred_lim",
         "type": "\"float\""
        },
        {
         "metadata": "{}",
         "name": "application_type",
         "type": "\"string\""
        },
        {
         "metadata": "{}",
         "name": "join_annual_income",
         "type": "\"float\""
        },
        {
         "metadata": "{}",
         "name": "verification_status_joint",
         "type": "\"string\""
        },
        {
         "metadata": "{}",
         "name": "loan_amount",
         "type": "\"float\""
        },
        {
         "metadata": "{}",
         "name": "funded_amount",
         "type": "\"float\""
        },
        {
         "metadata": "{}",
         "name": "loan_term_years",
         "type": "\"integer\""
        },
        {
         "metadata": "{}",
         "name": "interest_rate",
         "type": "\"float\""
        },
        {
         "metadata": "{}",
         "name": "monthly_installment",
         "type": "\"float\""
        },
        {
         "metadata": "{}",
         "name": "issue_date",
         "type": "\"string\""
        },
        {
         "metadata": "{}",
         "name": "loan_status",
         "type": "\"string\""
        },
        {
         "metadata": "{}",
         "name": "loan_purpose",
         "type": "\"string\""
        },
        {
         "metadata": "{}",
         "name": "total_principal_received",
         "type": "\"float\""
        },
        {
         "metadata": "{}",
         "name": "total_interest_received",
         "type": "\"float\""
        },
        {
         "metadata": "{}",
         "name": "total_late_fee_received",
         "type": "\"float\""
        },
        {
         "metadata": "{}",
         "name": "last_payment_date",
         "type": "\"string\""
        },
        {
         "metadata": "{}",
         "name": "next_payment_date",
         "type": "\"string\""
        },
        {
         "metadata": "{}",
         "name": "delinq_2yrs",
         "type": "\"integer\""
        },
        {
         "metadata": "{}",
         "name": "delinq_amnt",
         "type": "\"float\""
        },
        {
         "metadata": "{}",
         "name": "mths_since_last_delinq",
         "type": "\"integer\""
        },
        {
         "metadata": "{}",
         "name": "pub_rec",
         "type": "\"integer\""
        },
        {
         "metadata": "{}",
         "name": "pub_rec_bankruptcies",
         "type": "\"integer\""
        },
        {
         "metadata": "{}",
         "name": "inq_last_6mths",
         "type": "\"integer\""
        }
       ],
       "type": "table"
      }
     },
     "output_type": "display_data"
    }
   ],
   "source": [
    "display(spark.sql(\"select * from lending_club.customers_loan_v\").limit(10))"
   ]
  },
  {
   "cell_type": "code",
   "execution_count": 0,
   "metadata": {
    "application/vnd.databricks.v1+cell": {
     "cellMetadata": {
      "byteLimit": 2048000,
      "rowLimit": 10000
     },
     "inputWidgets": {},
     "nuid": "3a74af45-5fcd-45e1-b809-e419f56547b2",
     "showTitle": false,
     "tableResultSettingsMap": {},
     "title": ""
    }
   },
   "outputs": [
    {
     "output_type": "execute_result",
     "data": {
      "text/plain": [
       "DataFrame[num_affected_rows: bigint, num_inserted_rows: bigint]"
      ]
     },
     "execution_count": 5,
     "metadata": {},
     "output_type": "execute_result"
    }
   ],
   "source": [
    "spark.sql(\"\"\"\n",
    "create table lending_club.customers_loan_t as select\n",
    "l.loan_id,\n",
    "c.member_id,\n",
    "c.emp_title,\n",
    "c.emp_length,\n",
    "c.home_ownership,\n",
    "c.annual_income,\n",
    "c.address_state,\n",
    "c.address_zipcode,\n",
    "c.address_country,\n",
    "c.grade,\n",
    "c.sub_grade,\n",
    "c.verification_status,\n",
    "c.tot_hi_cred_lim,\n",
    "c.application_type,\n",
    "c.join_annual_income,\n",
    "c.verification_status_joint,\n",
    "l.loan_amount,\n",
    "l.funded_amount,\n",
    "l.loan_term_years,\n",
    "l.interest_rate,\n",
    "l.monthly_installment,\n",
    "l.issue_date,\n",
    "l.loan_status,\n",
    "l.loan_purpose,\n",
    "r.total_principal_received,\n",
    "r.total_interest_received,\n",
    "r.total_late_fee_received,\n",
    "r.last_payment_date,\n",
    "r.next_payment_date,\n",
    "d.delinq_2yrs,\n",
    "d.delinq_amnt,\n",
    "d.mths_since_last_delinq,\n",
    "e.pub_rec,\n",
    "e.pub_rec_bankruptcies,\n",
    "e.inq_last_6mths\n",
    "\n",
    "FROM lending_club.customers c\n",
    "LEFT JOIN lending_club.loans l on c.member_id = l.member_id\n",
    "LEFT JOIN lending_club.loans_repayments r ON l.loan_id = r.loan_id\n",
    "LEFT JOIN lending_club.loans_defaulters_delinq d ON c.member_id = d.member_id\n",
    "LEFT JOIN lending_club.loans_defaulters_detail_rec_enq e ON c.member_id = e.member_id\n",
    "\"\"\")"
   ]
  },
  {
   "cell_type": "code",
   "execution_count": 0,
   "metadata": {
    "application/vnd.databricks.v1+cell": {
     "cellMetadata": {
      "byteLimit": 2048000,
      "rowLimit": 10000
     },
     "inputWidgets": {},
     "nuid": "d6192de9-75ba-4f17-a3cb-260741495b01",
     "showTitle": false,
     "tableResultSettingsMap": {},
     "title": ""
    }
   },
   "outputs": [
    {
     "output_type": "display_data",
     "data": {
      "text/html": [
       "<style scoped>\n",
       "  .table-result-container {\n",
       "    max-height: 300px;\n",
       "    overflow: auto;\n",
       "  }\n",
       "  table, th, td {\n",
       "    border: 1px solid black;\n",
       "    border-collapse: collapse;\n",
       "  }\n",
       "  th, td {\n",
       "    padding: 5px;\n",
       "  }\n",
       "  th {\n",
       "    text-align: left;\n",
       "  }\n",
       "</style><div class='table-result-container'><table class='table-result'><thead style='background-color: white'><tr><th>loan_id</th><th>member_id</th><th>emp_title</th><th>emp_length</th><th>home_ownership</th><th>annual_income</th><th>address_state</th><th>address_zipcode</th><th>address_country</th><th>grade</th><th>sub_grade</th><th>verification_status</th><th>tot_hi_cred_lim</th><th>application_type</th><th>join_annual_income</th><th>verification_status_joint</th><th>loan_amount</th><th>funded_amount</th><th>loan_term_years</th><th>interest_rate</th><th>monthly_installment</th><th>issue_date</th><th>loan_status</th><th>loan_purpose</th><th>total_principal_received</th><th>total_interest_received</th><th>total_late_fee_received</th><th>last_payment_date</th><th>next_payment_date</th><th>delinq_2yrs</th><th>delinq_amnt</th><th>mths_since_last_delinq</th><th>pub_rec</th><th>pub_rec_bankruptcies</th><th>inq_last_6mths</th></tr></thead><tbody><tr><td>10168080</td><td>0000036e9afe019a699318476a8a0369a6077eaec49941fe3d2d20a8337a29da</td><td>Deputy District Attorney</td><td>10</td><td>MORTGAGE</td><td>150000.0</td><td>CA</td><td>917xx</td><td>USA</td><td>C</td><td>C1</td><td>Not Verified</td><td>160169.0</td><td>Individual</td><td>null</td><td>null</td><td>14500.0</td><td>14500.0</td><td>3</td><td>13.98</td><td>495.44</td><td>Dec-2013</td><td>Fully Paid</td><td>credit_card</td><td>14500.0</td><td>3331.43</td><td>0.0</td><td>null</td><td>null</td><td>2</td><td>0.0</td><td>15</td><td>0</td><td>0</td><td>3</td></tr><tr><td>43289163</td><td>00001c0c295167b3edb30f694ccaf11c495b615d5e54c5eb6d20591dcbd57357</td><td>Service Coordinator</td><td>1</td><td>RENT</td><td>48000.0</td><td>TX</td><td>770xx</td><td>USA</td><td>D</td><td>D2</td><td>Source Verified</td><td>41759.0</td><td>Individual</td><td>null</td><td>null</td><td>6000.0</td><td>6000.0</td><td>3</td><td>16.55</td><td>212.58</td><td>Mar-2015</td><td>Fully Paid</td><td>debt_consolidation</td><td>6000.0</td><td>1343.6</td><td>0.0</td><td>null</td><td>null</td><td>null</td><td>null</td><td>null</td><td>0</td><td>0</td><td>0</td></tr><tr><td>77625233</td><td>000152208b3e77b5b312ec37200c9e42bf55e919832deb42316f81b07b451071</td><td>ADMIN ASSIST</td><td>1</td><td>RENT</td><td>124248.0</td><td>VA</td><td>228xx</td><td>USA</td><td>D</td><td>D1</td><td>Not Verified</td><td>107158.0</td><td>Individual</td><td>null</td><td>null</td><td>12800.0</td><td>12800.0</td><td>5</td><td>16.29</td><td>313.25</td><td>May-2016</td><td>Current</td><td>debt_consolidation</td><td>5975.78</td><td>4674.07</td><td>0.0</td><td>Apr-2019</td><td>Apr-2019</td><td>0</td><td>0.0</td><td>75</td><td>0</td><td>0</td><td>0</td></tr><tr><td>88938989</td><td>000170b4ccb292792210dbabd9cf19972e101df6fc5afba151fa89a047c4ae61</td><td>Account Executive</td><td>10</td><td>MORTGAGE</td><td>120000.0</td><td>NV</td><td>891xx</td><td>USA</td><td>B</td><td>B3</td><td>Not Verified</td><td>397653.0</td><td>Individual</td><td>null</td><td>null</td><td>15000.0</td><td>15000.0</td><td>3</td><td>10.49</td><td>487.47</td><td>Sep-2016</td><td>Fully Paid</td><td>home_improvement</td><td>15000.0</td><td>2268.66</td><td>0.0</td><td>null</td><td>null</td><td>1</td><td>0.0</td><td>13</td><td>0</td><td>0</td><td>1</td></tr><tr><td>140691162</td><td>0001bac8ac76718b916f0b38bf453540738b95175b2922880711452f26421c00</td><td>null</td><td>6</td><td>RENT</td><td>9500.0</td><td>NY</td><td>112xx</td><td>USA</td><td>E</td><td>E5</td><td>Not Verified</td><td>14400.0</td><td>Individual</td><td>null</td><td>null</td><td>5500.0</td><td>5500.0</td><td>3</td><td>27.27</td><td>225.34</td><td>Sep-2018</td><td>Current</td><td>credit_card</td><td>637.38</td><td>648.56</td><td>0.0</td><td>Apr-2019</td><td>Apr-2019</td><td>null</td><td>null</td><td>null</td><td>0</td><td>0</td><td>1</td></tr><tr><td>112726584</td><td>0001cfa200f7480b9da8567b58c35f83eaa9b9582926103959e66f3479c83302</td><td>Social Services Manager</td><td>5</td><td>MORTGAGE</td><td>51000.0</td><td>MO</td><td>633xx</td><td>USA</td><td>C</td><td>C1</td><td>Source Verified</td><td>67656.0</td><td>Individual</td><td>null</td><td>null</td><td>8400.0</td><td>8400.0</td><td>3</td><td>12.62</td><td>281.5</td><td>Jul-2017</td><td>Current</td><td>debt_consolidation</td><td>4272.6</td><td>1392.74</td><td>15.0</td><td>Apr-2019</td><td>Apr-2019</td><td>1</td><td>7.0</td><td>1</td><td>1</td><td>1</td><td>1</td></tr><tr><td>101537441</td><td>00021313f11c93c861e75f3b4c7ab077e7bb2f9860cb7f5a967ff0a825df830a</td><td>Machine Operator</td><td>10</td><td>RENT</td><td>60000.0</td><td>OR</td><td>970xx</td><td>USA</td><td>D</td><td>D1</td><td>Source Verified</td><td>85968.0</td><td>Individual</td><td>null</td><td>null</td><td>12000.0</td><td>12000.0</td><td>5</td><td>16.99</td><td>298.17</td><td>Mar-2017</td><td>Fully Paid</td><td>debt_consolidation</td><td>12000.0</td><td>1768.72</td><td>0.0</td><td>null</td><td>null</td><td>null</td><td>null</td><td>null</td><td>2</td><td>1</td><td>0</td></tr><tr><td>142569453</td><td>00024adf1230710bd0ef07843ff9e1e47e8427e9054d6eea02c3ae61854f92ea</td><td>Chief Clerk</td><td>10</td><td>MORTGAGE</td><td>240000.0</td><td>FL</td><td>330xx</td><td>USA</td><td>C</td><td>C5</td><td>Verified</td><td>491138.0</td><td>Individual</td><td>null</td><td>null</td><td>16000.0</td><td>16000.0</td><td>3</td><td>16.91</td><td>569.73</td><td>Oct-2018</td><td>Current</td><td>credit_card</td><td>1770.52</td><td>1048.07</td><td>0.0</td><td>Apr-2019</td><td>Apr-2019</td><td>1</td><td>0.0</td><td>13</td><td>0</td><td>0</td><td>0</td></tr><tr><td>137529090</td><td>00026136ec721b938d8742c6eb93160e0f54b8e02c75ccdbed010e3c619f9e82</td><td>Principal</td><td>10</td><td>RENT</td><td>130000.0</td><td>NY</td><td>105xx</td><td>USA</td><td>B</td><td>B2</td><td>Not Verified</td><td>65378.0</td><td>Individual</td><td>null</td><td>null</td><td>25000.0</td><td>25000.0</td><td>5</td><td>10.47</td><td>536.98</td><td>Jul-2018</td><td>Current</td><td>debt_consolidation</td><td>2630.11</td><td>1636.65</td><td>0.0</td><td>Apr-2019</td><td>Apr-2019</td><td>1</td><td>0.0</td><td>8</td><td>0</td><td>0</td><td>1</td></tr><tr><td>90228597</td><td>00030e831c078f92ae63c5d683defc180eedf3c72726e244b017fefe3d10e256</td><td>Bus operator</td><td>1</td><td>RENT</td><td>30000.0</td><td>CA</td><td>906xx</td><td>USA</td><td>B</td><td>B4</td><td>Source Verified</td><td>48393.0</td><td>Individual</td><td>null</td><td>null</td><td>7000.0</td><td>7000.0</td><td>3</td><td>10.99</td><td>229.14</td><td>Oct-2016</td><td>Charged Off</td><td>debt_consolidation</td><td>3405.33</td><td>944.06</td><td>15.0</td><td>null</td><td>null</td><td>0</td><td>0.0</td><td>48</td><td>0</td><td>0</td><td>0</td></tr></tbody></table></div>"
      ]
     },
     "metadata": {
      "application/vnd.databricks.v1+output": {
       "addedWidgets": {},
       "aggData": [],
       "aggError": "",
       "aggOverflow": false,
       "aggSchema": [],
       "aggSeriesLimitReached": false,
       "aggType": "",
       "arguments": {},
       "columnCustomDisplayInfos": {},
       "data": [
        [
         "10168080",
         "0000036e9afe019a699318476a8a0369a6077eaec49941fe3d2d20a8337a29da",
         "Deputy District Attorney",
         10,
         "MORTGAGE",
         150000.0,
         "CA",
         "917xx",
         "USA",
         "C",
         "C1",
         "Not Verified",
         160169.0,
         "Individual",
         null,
         null,
         14500.0,
         14500.0,
         3,
         13.98,
         495.44,
         "Dec-2013",
         "Fully Paid",
         "credit_card",
         14500.0,
         3331.43,
         0.0,
         null,
         null,
         2,
         0.0,
         15,
         0,
         0,
         3
        ],
        [
         "43289163",
         "00001c0c295167b3edb30f694ccaf11c495b615d5e54c5eb6d20591dcbd57357",
         "Service Coordinator",
         1,
         "RENT",
         48000.0,
         "TX",
         "770xx",
         "USA",
         "D",
         "D2",
         "Source Verified",
         41759.0,
         "Individual",
         null,
         null,
         6000.0,
         6000.0,
         3,
         16.55,
         212.58,
         "Mar-2015",
         "Fully Paid",
         "debt_consolidation",
         6000.0,
         1343.6,
         0.0,
         null,
         null,
         null,
         null,
         null,
         0,
         0,
         0
        ],
        [
         "77625233",
         "000152208b3e77b5b312ec37200c9e42bf55e919832deb42316f81b07b451071",
         "ADMIN ASSIST",
         1,
         "RENT",
         124248.0,
         "VA",
         "228xx",
         "USA",
         "D",
         "D1",
         "Not Verified",
         107158.0,
         "Individual",
         null,
         null,
         12800.0,
         12800.0,
         5,
         16.29,
         313.25,
         "May-2016",
         "Current",
         "debt_consolidation",
         5975.78,
         4674.07,
         0.0,
         "Apr-2019",
         "Apr-2019",
         0,
         0.0,
         75,
         0,
         0,
         0
        ],
        [
         "88938989",
         "000170b4ccb292792210dbabd9cf19972e101df6fc5afba151fa89a047c4ae61",
         "Account Executive",
         10,
         "MORTGAGE",
         120000.0,
         "NV",
         "891xx",
         "USA",
         "B",
         "B3",
         "Not Verified",
         397653.0,
         "Individual",
         null,
         null,
         15000.0,
         15000.0,
         3,
         10.49,
         487.47,
         "Sep-2016",
         "Fully Paid",
         "home_improvement",
         15000.0,
         2268.66,
         0.0,
         null,
         null,
         1,
         0.0,
         13,
         0,
         0,
         1
        ],
        [
         "140691162",
         "0001bac8ac76718b916f0b38bf453540738b95175b2922880711452f26421c00",
         null,
         6,
         "RENT",
         9500.0,
         "NY",
         "112xx",
         "USA",
         "E",
         "E5",
         "Not Verified",
         14400.0,
         "Individual",
         null,
         null,
         5500.0,
         5500.0,
         3,
         27.27,
         225.34,
         "Sep-2018",
         "Current",
         "credit_card",
         637.38,
         648.56,
         0.0,
         "Apr-2019",
         "Apr-2019",
         null,
         null,
         null,
         0,
         0,
         1
        ],
        [
         "112726584",
         "0001cfa200f7480b9da8567b58c35f83eaa9b9582926103959e66f3479c83302",
         "Social Services Manager",
         5,
         "MORTGAGE",
         51000.0,
         "MO",
         "633xx",
         "USA",
         "C",
         "C1",
         "Source Verified",
         67656.0,
         "Individual",
         null,
         null,
         8400.0,
         8400.0,
         3,
         12.62,
         281.5,
         "Jul-2017",
         "Current",
         "debt_consolidation",
         4272.6,
         1392.74,
         15.0,
         "Apr-2019",
         "Apr-2019",
         1,
         7.0,
         1,
         1,
         1,
         1
        ],
        [
         "101537441",
         "00021313f11c93c861e75f3b4c7ab077e7bb2f9860cb7f5a967ff0a825df830a",
         "Machine Operator",
         10,
         "RENT",
         60000.0,
         "OR",
         "970xx",
         "USA",
         "D",
         "D1",
         "Source Verified",
         85968.0,
         "Individual",
         null,
         null,
         12000.0,
         12000.0,
         5,
         16.99,
         298.17,
         "Mar-2017",
         "Fully Paid",
         "debt_consolidation",
         12000.0,
         1768.72,
         0.0,
         null,
         null,
         null,
         null,
         null,
         2,
         1,
         0
        ],
        [
         "142569453",
         "00024adf1230710bd0ef07843ff9e1e47e8427e9054d6eea02c3ae61854f92ea",
         "Chief Clerk",
         10,
         "MORTGAGE",
         240000.0,
         "FL",
         "330xx",
         "USA",
         "C",
         "C5",
         "Verified",
         491138.0,
         "Individual",
         null,
         null,
         16000.0,
         16000.0,
         3,
         16.91,
         569.73,
         "Oct-2018",
         "Current",
         "credit_card",
         1770.52,
         1048.07,
         0.0,
         "Apr-2019",
         "Apr-2019",
         1,
         0.0,
         13,
         0,
         0,
         0
        ],
        [
         "137529090",
         "00026136ec721b938d8742c6eb93160e0f54b8e02c75ccdbed010e3c619f9e82",
         "Principal",
         10,
         "RENT",
         130000.0,
         "NY",
         "105xx",
         "USA",
         "B",
         "B2",
         "Not Verified",
         65378.0,
         "Individual",
         null,
         null,
         25000.0,
         25000.0,
         5,
         10.47,
         536.98,
         "Jul-2018",
         "Current",
         "debt_consolidation",
         2630.11,
         1636.65,
         0.0,
         "Apr-2019",
         "Apr-2019",
         1,
         0.0,
         8,
         0,
         0,
         1
        ],
        [
         "90228597",
         "00030e831c078f92ae63c5d683defc180eedf3c72726e244b017fefe3d10e256",
         "Bus operator",
         1,
         "RENT",
         30000.0,
         "CA",
         "906xx",
         "USA",
         "B",
         "B4",
         "Source Verified",
         48393.0,
         "Individual",
         null,
         null,
         7000.0,
         7000.0,
         3,
         10.99,
         229.14,
         "Oct-2016",
         "Charged Off",
         "debt_consolidation",
         3405.33,
         944.06,
         15.0,
         null,
         null,
         0,
         0.0,
         48,
         0,
         0,
         0
        ]
       ],
       "datasetInfos": [],
       "dbfsResultPath": null,
       "isJsonSchema": true,
       "metadata": {},
       "overflow": false,
       "plotOptions": {
        "customPlotOptions": {},
        "displayType": "table",
        "pivotAggregation": null,
        "pivotColumns": null,
        "xColumns": null,
        "yColumns": null
       },
       "removedWidgets": [],
       "schema": [
        {
         "metadata": "{}",
         "name": "loan_id",
         "type": "\"string\""
        },
        {
         "metadata": "{}",
         "name": "member_id",
         "type": "\"string\""
        },
        {
         "metadata": "{}",
         "name": "emp_title",
         "type": "\"string\""
        },
        {
         "metadata": "{}",
         "name": "emp_length",
         "type": "\"integer\""
        },
        {
         "metadata": "{}",
         "name": "home_ownership",
         "type": "\"string\""
        },
        {
         "metadata": "{}",
         "name": "annual_income",
         "type": "\"float\""
        },
        {
         "metadata": "{}",
         "name": "address_state",
         "type": "\"string\""
        },
        {
         "metadata": "{}",
         "name": "address_zipcode",
         "type": "\"string\""
        },
        {
         "metadata": "{}",
         "name": "address_country",
         "type": "\"string\""
        },
        {
         "metadata": "{}",
         "name": "grade",
         "type": "\"string\""
        },
        {
         "metadata": "{}",
         "name": "sub_grade",
         "type": "\"string\""
        },
        {
         "metadata": "{}",
         "name": "verification_status",
         "type": "\"string\""
        },
        {
         "metadata": "{}",
         "name": "tot_hi_cred_lim",
         "type": "\"float\""
        },
        {
         "metadata": "{}",
         "name": "application_type",
         "type": "\"string\""
        },
        {
         "metadata": "{}",
         "name": "join_annual_income",
         "type": "\"float\""
        },
        {
         "metadata": "{}",
         "name": "verification_status_joint",
         "type": "\"string\""
        },
        {
         "metadata": "{}",
         "name": "loan_amount",
         "type": "\"float\""
        },
        {
         "metadata": "{}",
         "name": "funded_amount",
         "type": "\"float\""
        },
        {
         "metadata": "{}",
         "name": "loan_term_years",
         "type": "\"integer\""
        },
        {
         "metadata": "{}",
         "name": "interest_rate",
         "type": "\"float\""
        },
        {
         "metadata": "{}",
         "name": "monthly_installment",
         "type": "\"float\""
        },
        {
         "metadata": "{}",
         "name": "issue_date",
         "type": "\"string\""
        },
        {
         "metadata": "{}",
         "name": "loan_status",
         "type": "\"string\""
        },
        {
         "metadata": "{}",
         "name": "loan_purpose",
         "type": "\"string\""
        },
        {
         "metadata": "{}",
         "name": "total_principal_received",
         "type": "\"float\""
        },
        {
         "metadata": "{}",
         "name": "total_interest_received",
         "type": "\"float\""
        },
        {
         "metadata": "{}",
         "name": "total_late_fee_received",
         "type": "\"float\""
        },
        {
         "metadata": "{}",
         "name": "last_payment_date",
         "type": "\"string\""
        },
        {
         "metadata": "{}",
         "name": "next_payment_date",
         "type": "\"string\""
        },
        {
         "metadata": "{}",
         "name": "delinq_2yrs",
         "type": "\"integer\""
        },
        {
         "metadata": "{}",
         "name": "delinq_amnt",
         "type": "\"float\""
        },
        {
         "metadata": "{}",
         "name": "mths_since_last_delinq",
         "type": "\"integer\""
        },
        {
         "metadata": "{}",
         "name": "pub_rec",
         "type": "\"integer\""
        },
        {
         "metadata": "{}",
         "name": "pub_rec_bankruptcies",
         "type": "\"integer\""
        },
        {
         "metadata": "{}",
         "name": "inq_last_6mths",
         "type": "\"integer\""
        }
       ],
       "type": "table"
      }
     },
     "output_type": "display_data"
    }
   ],
   "source": [
    "display(spark.sql(\"select * from lending_club.customers_loan_t\").limit(10))"
   ]
  },
  {
   "cell_type": "code",
   "execution_count": 0,
   "metadata": {
    "application/vnd.databricks.v1+cell": {
     "cellMetadata": {},
     "inputWidgets": {},
     "nuid": "b4e8c86e-9e7c-4676-b7b0-162fafcc4d1f",
     "showTitle": false,
     "tableResultSettingsMap": {},
     "title": ""
    }
   },
   "outputs": [],
   "source": []
  },
  {
   "cell_type": "code",
   "execution_count": 0,
   "metadata": {
    "application/vnd.databricks.v1+cell": {
     "cellMetadata": {},
     "inputWidgets": {},
     "nuid": "e04b2eee-11d5-46b0-88d7-af1bfd75242e",
     "showTitle": false,
     "tableResultSettingsMap": {},
     "title": ""
    }
   },
   "outputs": [],
   "source": []
  },
  {
   "cell_type": "code",
   "execution_count": 0,
   "metadata": {
    "application/vnd.databricks.v1+cell": {
     "cellMetadata": {},
     "inputWidgets": {},
     "nuid": "1f2f90db-b6c1-4fc6-b88d-d873dc2e6251",
     "showTitle": false,
     "tableResultSettingsMap": {},
     "title": ""
    }
   },
   "outputs": [],
   "source": []
  }
 ],
 "metadata": {
  "application/vnd.databricks.v1+notebook": {
   "computePreferences": null,
   "dashboards": [],
   "environmentMetadata": null,
   "inputWidgetPreferences": null,
   "language": "python",
   "notebookMetadata": {
    "pythonIndentUnit": 4
   },
   "notebookName": "722_Creating_One_Big_Table",
   "widgets": {}
  },
  "kernelspec": {
   "display_name": "Pyspark 3",
   "language": "python",
   "name": "pyspark3"
  },
  "language_info": {
   "name": "python"
  }
 },
 "nbformat": 4,
 "nbformat_minor": 0
}
