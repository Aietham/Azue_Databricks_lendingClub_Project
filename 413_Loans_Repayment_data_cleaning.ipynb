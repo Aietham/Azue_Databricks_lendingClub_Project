{
 "cells": [
  {
   "cell_type": "markdown",
   "metadata": {
    "application/vnd.databricks.v1+cell": {
     "cellMetadata": {},
     "inputWidgets": {},
     "nuid": "1e37a794-2935-4dff-8819-592b4d203192",
     "showTitle": false,
     "tableResultSettingsMap": {},
     "title": ""
    }
   },
   "source": [
    "## Cleaning loans_repayments Data"
   ]
  },
  {
   "cell_type": "code",
   "execution_count": 0,
   "metadata": {
    "application/vnd.databricks.v1+cell": {
     "cellMetadata": {
      "byteLimit": 2048000,
      "rowLimit": 10000
     },
     "inputWidgets": {},
     "nuid": "42936ec5-2e7f-47ad-8306-d31106bad3bf",
     "showTitle": false,
     "tableResultSettingsMap": {},
     "title": ""
    }
   },
   "outputs": [],
   "source": [
    "loans_repay_schema = 'loan_id string, total_principal_received float, total_interest_received float, total_late_fee_received float, total_payment_received float, last_payment_amount float, last_payment_date string, next_payment_date string'"
   ]
  },
  {
   "cell_type": "code",
   "execution_count": 0,
   "metadata": {
    "application/vnd.databricks.v1+cell": {
     "cellMetadata": {
      "byteLimit": 2048000,
      "rowLimit": 10000
     },
     "inputWidgets": {},
     "nuid": "e9f2c2e5-e021-424a-86c3-94df9fa18a89",
     "showTitle": false,
     "tableResultSettingsMap": {},
     "title": ""
    }
   },
   "outputs": [],
   "source": [
    "loans_repay_raw_df = spark.read \\\n",
    ".format(\"csv\") \\\n",
    ".option(\"header\",True) \\\n",
    ".schema(loans_repay_schema) \\\n",
    ".load(\"/mnt/Lendingclub/Lendingclub/Lendingclub/raw/loans_repayments_csv\")"
   ]
  },
  {
   "cell_type": "code",
   "execution_count": 0,
   "metadata": {
    "application/vnd.databricks.v1+cell": {
     "cellMetadata": {
      "byteLimit": 2048000,
      "rowLimit": 10000
     },
     "inputWidgets": {},
     "nuid": "e9a2feb6-23c9-48ba-a351-35033a5fa589",
     "showTitle": false,
     "tableResultSettingsMap": {},
     "title": ""
    }
   },
   "outputs": [
    {
     "output_type": "display_data",
     "data": {
      "text/html": [
       "<style scoped>\n",
       "  .table-result-container {\n",
       "    max-height: 300px;\n",
       "    overflow: auto;\n",
       "  }\n",
       "  table, th, td {\n",
       "    border: 1px solid black;\n",
       "    border-collapse: collapse;\n",
       "  }\n",
       "  th, td {\n",
       "    padding: 5px;\n",
       "  }\n",
       "  th {\n",
       "    text-align: left;\n",
       "  }\n",
       "</style><div class='table-result-container'><table class='table-result'><thead style='background-color: white'><tr><th>loan_id</th><th>total_principal_received</th><th>total_interest_received</th><th>total_late_fee_received</th><th>total_payment_received</th><th>last_payment_amount</th><th>last_payment_date</th><th>next_payment_date</th></tr></thead><tbody><tr><td>68407277</td><td>3600.0</td><td>821.72</td><td>0.0</td><td>4421.724</td><td>122.67</td><td>Jan-2019</td><td>null</td></tr><tr><td>68355089</td><td>24700.0</td><td>979.66</td><td>0.0</td><td>25679.66</td><td>926.35</td><td>Jun-2016</td><td>null</td></tr><tr><td>68341763</td><td>20000.0</td><td>2705.92</td><td>0.0</td><td>22705.924</td><td>15813.3</td><td>Jun-2017</td><td>null</td></tr><tr><td>66310712</td><td>19102.35</td><td>12361.66</td><td>0.0</td><td>31464.01</td><td>829.9</td><td>Feb-2019</td><td>Apr-2019</td></tr><tr><td>68476807</td><td>10400.0</td><td>1340.5</td><td>0.0</td><td>11740.5</td><td>10128.96</td><td>Jul-2016</td><td>null</td></tr><tr><td>68426831</td><td>11950.0</td><td>1758.95</td><td>0.0</td><td>13708.948</td><td>7653.56</td><td>May-2017</td><td>null</td></tr><tr><td>68476668</td><td>20000.0</td><td>1393.8</td><td>0.0</td><td>21393.8</td><td>15681.05</td><td>Nov-2016</td><td>null</td></tr><tr><td>67275481</td><td>20000.0</td><td>1538.51</td><td>0.0</td><td>21538.51</td><td>14618.23</td><td>Jan-2017</td><td>null</td></tr><tr><td>68466926</td><td>10000.0</td><td>998.97</td><td>0.0</td><td>10998.972</td><td>1814.48</td><td>Aug-2018</td><td>null</td></tr><tr><td>68616873</td><td>8000.0</td><td>939.58</td><td>0.0</td><td>8939.58</td><td>4996.24</td><td>Apr-2017</td><td>null</td></tr></tbody></table></div>"
      ]
     },
     "metadata": {
      "application/vnd.databricks.v1+output": {
       "addedWidgets": {},
       "aggData": [],
       "aggError": "",
       "aggOverflow": false,
       "aggSchema": [],
       "aggSeriesLimitReached": false,
       "aggType": "",
       "arguments": {},
       "columnCustomDisplayInfos": {},
       "data": [
        [
         "68407277",
         3600.0,
         821.72,
         0.0,
         4421.724,
         122.67,
         "Jan-2019",
         null
        ],
        [
         "68355089",
         24700.0,
         979.66,
         0.0,
         25679.66,
         926.35,
         "Jun-2016",
         null
        ],
        [
         "68341763",
         20000.0,
         2705.92,
         0.0,
         22705.924,
         15813.3,
         "Jun-2017",
         null
        ],
        [
         "66310712",
         19102.35,
         12361.66,
         0.0,
         31464.01,
         829.9,
         "Feb-2019",
         "Apr-2019"
        ],
        [
         "68476807",
         10400.0,
         1340.5,
         0.0,
         11740.5,
         10128.96,
         "Jul-2016",
         null
        ],
        [
         "68426831",
         11950.0,
         1758.95,
         0.0,
         13708.948,
         7653.56,
         "May-2017",
         null
        ],
        [
         "68476668",
         20000.0,
         1393.8,
         0.0,
         21393.8,
         15681.05,
         "Nov-2016",
         null
        ],
        [
         "67275481",
         20000.0,
         1538.51,
         0.0,
         21538.51,
         14618.23,
         "Jan-2017",
         null
        ],
        [
         "68466926",
         10000.0,
         998.97,
         0.0,
         10998.972,
         1814.48,
         "Aug-2018",
         null
        ],
        [
         "68616873",
         8000.0,
         939.58,
         0.0,
         8939.58,
         4996.24,
         "Apr-2017",
         null
        ]
       ],
       "datasetInfos": [],
       "dbfsResultPath": null,
       "isJsonSchema": true,
       "metadata": {},
       "overflow": false,
       "plotOptions": {
        "customPlotOptions": {},
        "displayType": "table",
        "pivotAggregation": null,
        "pivotColumns": null,
        "xColumns": null,
        "yColumns": null
       },
       "removedWidgets": [],
       "schema": [
        {
         "metadata": "{}",
         "name": "loan_id",
         "type": "\"string\""
        },
        {
         "metadata": "{}",
         "name": "total_principal_received",
         "type": "\"float\""
        },
        {
         "metadata": "{}",
         "name": "total_interest_received",
         "type": "\"float\""
        },
        {
         "metadata": "{}",
         "name": "total_late_fee_received",
         "type": "\"float\""
        },
        {
         "metadata": "{}",
         "name": "total_payment_received",
         "type": "\"float\""
        },
        {
         "metadata": "{}",
         "name": "last_payment_amount",
         "type": "\"float\""
        },
        {
         "metadata": "{}",
         "name": "last_payment_date",
         "type": "\"string\""
        },
        {
         "metadata": "{}",
         "name": "next_payment_date",
         "type": "\"string\""
        }
       ],
       "type": "table"
      }
     },
     "output_type": "display_data"
    }
   ],
   "source": [
    "display(loans_repay_raw_df.limit(10))"
   ]
  },
  {
   "cell_type": "code",
   "execution_count": 0,
   "metadata": {
    "application/vnd.databricks.v1+cell": {
     "cellMetadata": {
      "byteLimit": 2048000,
      "rowLimit": 10000
     },
     "inputWidgets": {},
     "nuid": "7aacdfdf-f538-44cb-8369-94d32e7a6f7e",
     "showTitle": false,
     "tableResultSettingsMap": {},
     "title": ""
    }
   },
   "outputs": [
    {
     "output_type": "stream",
     "name": "stdout",
     "output_type": "stream",
     "text": [
      "root\n |-- loan_id: string (nullable = true)\n |-- total_principal_received: float (nullable = true)\n |-- total_interest_received: float (nullable = true)\n |-- total_late_fee_received: float (nullable = true)\n |-- total_payment_received: float (nullable = true)\n |-- last_payment_amount: float (nullable = true)\n |-- last_payment_date: string (nullable = true)\n |-- next_payment_date: string (nullable = true)\n\n"
     ]
    }
   ],
   "source": [
    "loans_repay_raw_df.printSchema()"
   ]
  },
  {
   "cell_type": "code",
   "execution_count": 0,
   "metadata": {
    "application/vnd.databricks.v1+cell": {
     "cellMetadata": {
      "byteLimit": 2048000,
      "rowLimit": 10000
     },
     "inputWidgets": {},
     "nuid": "25285e14-a0cc-4f41-ab6d-413dc8e83072",
     "showTitle": false,
     "tableResultSettingsMap": {},
     "title": ""
    }
   },
   "outputs": [],
   "source": [
    "from pyspark.sql.functions import current_timestamp"
   ]
  },
  {
   "cell_type": "code",
   "execution_count": 0,
   "metadata": {
    "application/vnd.databricks.v1+cell": {
     "cellMetadata": {
      "byteLimit": 2048000,
      "rowLimit": 10000
     },
     "inputWidgets": {},
     "nuid": "9690ddcf-4b4a-4d02-9e56-caf356a3336c",
     "showTitle": false,
     "tableResultSettingsMap": {},
     "title": ""
    }
   },
   "outputs": [],
   "source": [
    "loans_repay_df_ingestd = loans_repay_raw_df.withColumn(\"ingest_date\", current_timestamp())"
   ]
  },
  {
   "cell_type": "code",
   "execution_count": 0,
   "metadata": {
    "application/vnd.databricks.v1+cell": {
     "cellMetadata": {
      "byteLimit": 2048000,
      "rowLimit": 10000
     },
     "inputWidgets": {},
     "nuid": "4540f321-0b82-4409-af93-47972438e545",
     "showTitle": false,
     "tableResultSettingsMap": {},
     "title": ""
    }
   },
   "outputs": [
    {
     "output_type": "display_data",
     "data": {
      "text/html": [
       "<style scoped>\n",
       "  .table-result-container {\n",
       "    max-height: 300px;\n",
       "    overflow: auto;\n",
       "  }\n",
       "  table, th, td {\n",
       "    border: 1px solid black;\n",
       "    border-collapse: collapse;\n",
       "  }\n",
       "  th, td {\n",
       "    padding: 5px;\n",
       "  }\n",
       "  th {\n",
       "    text-align: left;\n",
       "  }\n",
       "</style><div class='table-result-container'><table class='table-result'><thead style='background-color: white'><tr><th>loan_id</th><th>total_principal_received</th><th>total_interest_received</th><th>total_late_fee_received</th><th>total_payment_received</th><th>last_payment_amount</th><th>last_payment_date</th><th>next_payment_date</th><th>ingest_date</th></tr></thead><tbody><tr><td>68407277</td><td>3600.0</td><td>821.72</td><td>0.0</td><td>4421.724</td><td>122.67</td><td>Jan-2019</td><td>null</td><td>2025-08-15T04:58:17.405541Z</td></tr><tr><td>68355089</td><td>24700.0</td><td>979.66</td><td>0.0</td><td>25679.66</td><td>926.35</td><td>Jun-2016</td><td>null</td><td>2025-08-15T04:58:17.405541Z</td></tr><tr><td>68341763</td><td>20000.0</td><td>2705.92</td><td>0.0</td><td>22705.924</td><td>15813.3</td><td>Jun-2017</td><td>null</td><td>2025-08-15T04:58:17.405541Z</td></tr><tr><td>66310712</td><td>19102.35</td><td>12361.66</td><td>0.0</td><td>31464.01</td><td>829.9</td><td>Feb-2019</td><td>Apr-2019</td><td>2025-08-15T04:58:17.405541Z</td></tr><tr><td>68476807</td><td>10400.0</td><td>1340.5</td><td>0.0</td><td>11740.5</td><td>10128.96</td><td>Jul-2016</td><td>null</td><td>2025-08-15T04:58:17.405541Z</td></tr><tr><td>68426831</td><td>11950.0</td><td>1758.95</td><td>0.0</td><td>13708.948</td><td>7653.56</td><td>May-2017</td><td>null</td><td>2025-08-15T04:58:17.405541Z</td></tr><tr><td>68476668</td><td>20000.0</td><td>1393.8</td><td>0.0</td><td>21393.8</td><td>15681.05</td><td>Nov-2016</td><td>null</td><td>2025-08-15T04:58:17.405541Z</td></tr><tr><td>67275481</td><td>20000.0</td><td>1538.51</td><td>0.0</td><td>21538.51</td><td>14618.23</td><td>Jan-2017</td><td>null</td><td>2025-08-15T04:58:17.405541Z</td></tr><tr><td>68466926</td><td>10000.0</td><td>998.97</td><td>0.0</td><td>10998.972</td><td>1814.48</td><td>Aug-2018</td><td>null</td><td>2025-08-15T04:58:17.405541Z</td></tr><tr><td>68616873</td><td>8000.0</td><td>939.58</td><td>0.0</td><td>8939.58</td><td>4996.24</td><td>Apr-2017</td><td>null</td><td>2025-08-15T04:58:17.405541Z</td></tr></tbody></table></div>"
      ]
     },
     "metadata": {
      "application/vnd.databricks.v1+output": {
       "addedWidgets": {},
       "aggData": [],
       "aggError": "",
       "aggOverflow": false,
       "aggSchema": [],
       "aggSeriesLimitReached": false,
       "aggType": "",
       "arguments": {},
       "columnCustomDisplayInfos": {},
       "data": [
        [
         "68407277",
         3600.0,
         821.72,
         0.0,
         4421.724,
         122.67,
         "Jan-2019",
         null,
         "2025-08-15T04:58:17.405541Z"
        ],
        [
         "68355089",
         24700.0,
         979.66,
         0.0,
         25679.66,
         926.35,
         "Jun-2016",
         null,
         "2025-08-15T04:58:17.405541Z"
        ],
        [
         "68341763",
         20000.0,
         2705.92,
         0.0,
         22705.924,
         15813.3,
         "Jun-2017",
         null,
         "2025-08-15T04:58:17.405541Z"
        ],
        [
         "66310712",
         19102.35,
         12361.66,
         0.0,
         31464.01,
         829.9,
         "Feb-2019",
         "Apr-2019",
         "2025-08-15T04:58:17.405541Z"
        ],
        [
         "68476807",
         10400.0,
         1340.5,
         0.0,
         11740.5,
         10128.96,
         "Jul-2016",
         null,
         "2025-08-15T04:58:17.405541Z"
        ],
        [
         "68426831",
         11950.0,
         1758.95,
         0.0,
         13708.948,
         7653.56,
         "May-2017",
         null,
         "2025-08-15T04:58:17.405541Z"
        ],
        [
         "68476668",
         20000.0,
         1393.8,
         0.0,
         21393.8,
         15681.05,
         "Nov-2016",
         null,
         "2025-08-15T04:58:17.405541Z"
        ],
        [
         "67275481",
         20000.0,
         1538.51,
         0.0,
         21538.51,
         14618.23,
         "Jan-2017",
         null,
         "2025-08-15T04:58:17.405541Z"
        ],
        [
         "68466926",
         10000.0,
         998.97,
         0.0,
         10998.972,
         1814.48,
         "Aug-2018",
         null,
         "2025-08-15T04:58:17.405541Z"
        ],
        [
         "68616873",
         8000.0,
         939.58,
         0.0,
         8939.58,
         4996.24,
         "Apr-2017",
         null,
         "2025-08-15T04:58:17.405541Z"
        ]
       ],
       "datasetInfos": [],
       "dbfsResultPath": null,
       "isJsonSchema": true,
       "metadata": {},
       "overflow": false,
       "plotOptions": {
        "customPlotOptions": {},
        "displayType": "table",
        "pivotAggregation": null,
        "pivotColumns": null,
        "xColumns": null,
        "yColumns": null
       },
       "removedWidgets": [],
       "schema": [
        {
         "metadata": "{}",
         "name": "loan_id",
         "type": "\"string\""
        },
        {
         "metadata": "{}",
         "name": "total_principal_received",
         "type": "\"float\""
        },
        {
         "metadata": "{}",
         "name": "total_interest_received",
         "type": "\"float\""
        },
        {
         "metadata": "{}",
         "name": "total_late_fee_received",
         "type": "\"float\""
        },
        {
         "metadata": "{}",
         "name": "total_payment_received",
         "type": "\"float\""
        },
        {
         "metadata": "{}",
         "name": "last_payment_amount",
         "type": "\"float\""
        },
        {
         "metadata": "{}",
         "name": "last_payment_date",
         "type": "\"string\""
        },
        {
         "metadata": "{}",
         "name": "next_payment_date",
         "type": "\"string\""
        },
        {
         "metadata": "{}",
         "name": "ingest_date",
         "type": "\"timestamp\""
        }
       ],
       "type": "table"
      }
     },
     "output_type": "display_data"
    }
   ],
   "source": [
    "display(loans_repay_df_ingestd.limit(10))"
   ]
  },
  {
   "cell_type": "code",
   "execution_count": 0,
   "metadata": {
    "application/vnd.databricks.v1+cell": {
     "cellMetadata": {
      "byteLimit": 2048000,
      "rowLimit": 10000
     },
     "inputWidgets": {},
     "nuid": "0772b983-9c77-4873-a9af-2402b6db97eb",
     "showTitle": false,
     "tableResultSettingsMap": {},
     "title": ""
    }
   },
   "outputs": [
    {
     "output_type": "stream",
     "name": "stdout",
     "output_type": "stream",
     "text": [
      "root\n |-- loan_id: string (nullable = true)\n |-- total_principal_received: float (nullable = true)\n |-- total_interest_received: float (nullable = true)\n |-- total_late_fee_received: float (nullable = true)\n |-- total_payment_received: float (nullable = true)\n |-- last_payment_amount: float (nullable = true)\n |-- last_payment_date: string (nullable = true)\n |-- next_payment_date: string (nullable = true)\n |-- ingest_date: timestamp (nullable = false)\n\n"
     ]
    }
   ],
   "source": [
    "loans_repay_df_ingestd.printSchema()"
   ]
  },
  {
   "cell_type": "code",
   "execution_count": 0,
   "metadata": {
    "application/vnd.databricks.v1+cell": {
     "cellMetadata": {
      "byteLimit": 2048000,
      "rowLimit": 10000
     },
     "inputWidgets": {},
     "nuid": "fdd54c87-e70d-49bf-ab43-9858086d970a",
     "showTitle": false,
     "tableResultSettingsMap": {},
     "title": ""
    }
   },
   "outputs": [
    {
     "output_type": "execute_result",
     "data": {
      "text/plain": [
       "2260701"
      ]
     },
     "execution_count": 8,
     "metadata": {},
     "output_type": "execute_result"
    }
   ],
   "source": [
    "loans_repay_df_ingestd.count()"
   ]
  },
  {
   "cell_type": "code",
   "execution_count": 0,
   "metadata": {
    "application/vnd.databricks.v1+cell": {
     "cellMetadata": {
      "byteLimit": 2048000,
      "rowLimit": 10000
     },
     "inputWidgets": {},
     "nuid": "708597bb-c1d9-443d-8e5d-b3bb269ec342",
     "showTitle": false,
     "tableResultSettingsMap": {},
     "title": ""
    }
   },
   "outputs": [],
   "source": [
    "loans_repay_df_ingestd.createOrReplaceTempView(\"loan_repayments\")"
   ]
  },
  {
   "cell_type": "code",
   "execution_count": 0,
   "metadata": {
    "application/vnd.databricks.v1+cell": {
     "cellMetadata": {
      "byteLimit": 2048000,
      "rowLimit": 10000
     },
     "inputWidgets": {},
     "nuid": "53ce377f-91a2-4586-92b8-76a495c2031e",
     "showTitle": false,
     "tableResultSettingsMap": {},
     "title": ""
    }
   },
   "outputs": [
    {
     "output_type": "display_data",
     "data": {
      "text/html": [
       "<style scoped>\n",
       "  .table-result-container {\n",
       "    max-height: 300px;\n",
       "    overflow: auto;\n",
       "  }\n",
       "  table, th, td {\n",
       "    border: 1px solid black;\n",
       "    border-collapse: collapse;\n",
       "  }\n",
       "  th, td {\n",
       "    padding: 5px;\n",
       "  }\n",
       "  th {\n",
       "    text-align: left;\n",
       "  }\n",
       "</style><div class='table-result-container'><table class='table-result'><thead style='background-color: white'><tr><th>count(1)</th></tr></thead><tbody><tr><td>69</td></tr></tbody></table></div>"
      ]
     },
     "metadata": {
      "application/vnd.databricks.v1+output": {
       "addedWidgets": {},
       "aggData": [],
       "aggError": "",
       "aggOverflow": false,
       "aggSchema": [],
       "aggSeriesLimitReached": false,
       "aggType": "",
       "arguments": {},
       "columnCustomDisplayInfos": {},
       "data": [
        [
         69
        ]
       ],
       "datasetInfos": [],
       "dbfsResultPath": null,
       "isJsonSchema": true,
       "metadata": {},
       "overflow": false,
       "plotOptions": {
        "customPlotOptions": {},
        "displayType": "table",
        "pivotAggregation": null,
        "pivotColumns": null,
        "xColumns": null,
        "yColumns": null
       },
       "removedWidgets": [],
       "schema": [
        {
         "metadata": "{\"__autoGeneratedAlias\":\"true\"}",
         "name": "count(1)",
         "type": "\"long\""
        }
       ],
       "type": "table"
      }
     },
     "output_type": "display_data"
    }
   ],
   "source": [
    "display(spark.sql(\"select count(*) from loan_repayments where total_principal_received is null\"))"
   ]
  },
  {
   "cell_type": "code",
   "execution_count": 0,
   "metadata": {
    "application/vnd.databricks.v1+cell": {
     "cellMetadata": {
      "byteLimit": 2048000,
      "rowLimit": 10000
     },
     "inputWidgets": {},
     "nuid": "b906d423-4b37-4865-9ec2-fc252dbf5581",
     "showTitle": false,
     "tableResultSettingsMap": {},
     "title": ""
    }
   },
   "outputs": [],
   "source": [
    "columns_to_check = [\"total_principal_received\", \"total_interest_received\", \"total_late_fee_received\", \"total_payment_received\", \"last_payment_amount\"]"
   ]
  },
  {
   "cell_type": "code",
   "execution_count": 0,
   "metadata": {
    "application/vnd.databricks.v1+cell": {
     "cellMetadata": {
      "byteLimit": 2048000,
      "rowLimit": 10000
     },
     "inputWidgets": {},
     "nuid": "84f68dc4-cf6c-4a1e-a0c1-463357eb22a4",
     "showTitle": false,
     "tableResultSettingsMap": {},
     "title": ""
    }
   },
   "outputs": [],
   "source": [
    "loans_repay_filtered_df = loans_repay_df_ingestd.na.drop(subset=columns_to_check)"
   ]
  },
  {
   "cell_type": "code",
   "execution_count": 0,
   "metadata": {
    "application/vnd.databricks.v1+cell": {
     "cellMetadata": {
      "byteLimit": 2048000,
      "rowLimit": 10000
     },
     "inputWidgets": {},
     "nuid": "704bb622-9f27-4291-aad9-da1189fdd799",
     "showTitle": false,
     "tableResultSettingsMap": {},
     "title": ""
    }
   },
   "outputs": [
    {
     "output_type": "execute_result",
     "data": {
      "text/plain": [
       "2260498"
      ]
     },
     "execution_count": 64,
     "metadata": {},
     "output_type": "execute_result"
    }
   ],
   "source": [
    "loans_repay_filtered_df.count()"
   ]
  },
  {
   "cell_type": "code",
   "execution_count": 0,
   "metadata": {
    "application/vnd.databricks.v1+cell": {
     "cellMetadata": {
      "byteLimit": 2048000,
      "rowLimit": 10000
     },
     "inputWidgets": {},
     "nuid": "418b1c8b-3ceb-4730-8755-2ea732126830",
     "showTitle": false,
     "tableResultSettingsMap": {},
     "title": ""
    }
   },
   "outputs": [],
   "source": [
    "loans_repay_filtered_df.createOrReplaceTempView(\"loan_repayments\")"
   ]
  },
  {
   "cell_type": "code",
   "execution_count": 0,
   "metadata": {
    "application/vnd.databricks.v1+cell": {
     "cellMetadata": {
      "byteLimit": 2048000,
      "rowLimit": 10000
     },
     "inputWidgets": {},
     "nuid": "eb8dc2c7-c6d7-4454-bb87-39c420e585a2",
     "showTitle": false,
     "tableResultSettingsMap": {},
     "title": ""
    }
   },
   "outputs": [
    {
     "output_type": "display_data",
     "data": {
      "text/html": [
       "<style scoped>\n",
       "  .table-result-container {\n",
       "    max-height: 300px;\n",
       "    overflow: auto;\n",
       "  }\n",
       "  table, th, td {\n",
       "    border: 1px solid black;\n",
       "    border-collapse: collapse;\n",
       "  }\n",
       "  th, td {\n",
       "    padding: 5px;\n",
       "  }\n",
       "  th {\n",
       "    text-align: left;\n",
       "  }\n",
       "</style><div class='table-result-container'><table class='table-result'><thead style='background-color: white'><tr><th>count(1)</th></tr></thead><tbody><tr><td>995</td></tr></tbody></table></div>"
      ]
     },
     "metadata": {
      "application/vnd.databricks.v1+output": {
       "addedWidgets": {},
       "aggData": [],
       "aggError": "",
       "aggOverflow": false,
       "aggSchema": [],
       "aggSeriesLimitReached": false,
       "aggType": "",
       "arguments": {},
       "columnCustomDisplayInfos": {},
       "data": [
        [
         995
        ]
       ],
       "datasetInfos": [],
       "dbfsResultPath": null,
       "isJsonSchema": true,
       "metadata": {},
       "overflow": false,
       "plotOptions": {
        "customPlotOptions": {},
        "displayType": "table",
        "pivotAggregation": null,
        "pivotColumns": null,
        "xColumns": null,
        "yColumns": null
       },
       "removedWidgets": [],
       "schema": [
        {
         "metadata": "{\"__autoGeneratedAlias\":\"true\"}",
         "name": "count(1)",
         "type": "\"long\""
        }
       ],
       "type": "table"
      }
     },
     "output_type": "display_data"
    }
   ],
   "source": [
    "display(spark.sql(\"select count(*) from loan_repayments where total_payment_received = 0.0\"))"
   ]
  },
  {
   "cell_type": "code",
   "execution_count": 0,
   "metadata": {
    "application/vnd.databricks.v1+cell": {
     "cellMetadata": {
      "byteLimit": 2048000,
      "rowLimit": 10000
     },
     "inputWidgets": {},
     "nuid": "c0ba7be7-50ca-4f5d-bc62-3ec5a866dc96",
     "showTitle": false,
     "tableResultSettingsMap": {},
     "title": ""
    }
   },
   "outputs": [
    {
     "output_type": "display_data",
     "data": {
      "text/html": [
       "<style scoped>\n",
       "  .table-result-container {\n",
       "    max-height: 300px;\n",
       "    overflow: auto;\n",
       "  }\n",
       "  table, th, td {\n",
       "    border: 1px solid black;\n",
       "    border-collapse: collapse;\n",
       "  }\n",
       "  th, td {\n",
       "    padding: 5px;\n",
       "  }\n",
       "  th {\n",
       "    text-align: left;\n",
       "  }\n",
       "</style><div class='table-result-container'><table class='table-result'><thead style='background-color: white'><tr><th>count(1)</th></tr></thead><tbody><tr><td>46</td></tr></tbody></table></div>"
      ]
     },
     "metadata": {
      "application/vnd.databricks.v1+output": {
       "addedWidgets": {},
       "aggData": [],
       "aggError": "",
       "aggOverflow": false,
       "aggSchema": [],
       "aggSeriesLimitReached": false,
       "aggType": "",
       "arguments": {},
       "columnCustomDisplayInfos": {},
       "data": [
        [
         46
        ]
       ],
       "datasetInfos": [],
       "dbfsResultPath": null,
       "isJsonSchema": true,
       "metadata": {},
       "overflow": false,
       "plotOptions": {
        "customPlotOptions": {},
        "displayType": "table",
        "pivotAggregation": null,
        "pivotColumns": null,
        "xColumns": null,
        "yColumns": null
       },
       "removedWidgets": [],
       "schema": [
        {
         "metadata": "{\"__autoGeneratedAlias\":\"true\"}",
         "name": "count(1)",
         "type": "\"long\""
        }
       ],
       "type": "table"
      }
     },
     "output_type": "display_data"
    }
   ],
   "source": [
    "display(spark.sql(\"select count(*) from loan_repayments where total_payment_received = 0.0 and total_principal_received != 0.0\"))"
   ]
  },
  {
   "cell_type": "code",
   "execution_count": 0,
   "metadata": {
    "application/vnd.databricks.v1+cell": {
     "cellMetadata": {
      "byteLimit": 2048000,
      "rowLimit": 10000
     },
     "inputWidgets": {},
     "nuid": "295a87d3-77a6-4370-bdd8-64072c7eedb7",
     "showTitle": false,
     "tableResultSettingsMap": {},
     "title": ""
    }
   },
   "outputs": [
    {
     "output_type": "display_data",
     "data": {
      "text/html": [
       "<style scoped>\n",
       "  .table-result-container {\n",
       "    max-height: 300px;\n",
       "    overflow: auto;\n",
       "  }\n",
       "  table, th, td {\n",
       "    border: 1px solid black;\n",
       "    border-collapse: collapse;\n",
       "  }\n",
       "  th, td {\n",
       "    padding: 5px;\n",
       "  }\n",
       "  th {\n",
       "    text-align: left;\n",
       "  }\n",
       "</style><div class='table-result-container'><table class='table-result'><thead style='background-color: white'><tr><th>loan_id</th><th>total_principal_received</th><th>total_interest_received</th><th>total_late_fee_received</th><th>total_payment_received</th><th>last_payment_amount</th><th>last_payment_date</th><th>next_payment_date</th><th>ingest_date</th></tr></thead><tbody><tr><td>1064185</td><td>11600.98</td><td>11600.98</td><td>10000.0</td><td>0.0</td><td>0.0</td><td>0.0</td><td>Dec-2014</td><td>2025-08-15T04:59:31.958732Z</td></tr><tr><td>516382</td><td>21890.229</td><td>21856.03</td><td>16000.0</td><td>0.0</td><td>0.0</td><td>0.0</td><td>Mar-2014</td><td>2025-08-15T04:59:31.958732Z</td></tr><tr><td>528899</td><td>3045.0364</td><td>3019.64</td><td>2500.0</td><td>0.0</td><td>0.0</td><td>0.0</td><td>Jan-2013</td><td>2025-08-15T04:59:31.958732Z</td></tr><tr><td>527598</td><td>2398.9092</td><td>2220.51</td><td>2200.0</td><td>0.0</td><td>0.0</td><td>0.0</td><td>Jul-2011</td><td>2025-08-15T04:59:31.958732Z</td></tr><tr><td>525697</td><td>21797.86</td><td>19894.9</td><td>15750.0</td><td>0.0</td><td>0.0</td><td>0.0</td><td>Jun-2015</td><td>2025-08-15T04:59:31.958732Z</td></tr><tr><td>522641</td><td>3146.8193</td><td>3146.82</td><td>3000.0</td><td>0.0</td><td>0.0</td><td>0.0</td><td>Sep-2011</td><td>2025-08-15T04:59:31.958732Z</td></tr><tr><td>515655</td><td>29938.576</td><td>29905.75</td><td>22800.0</td><td>0.0</td><td>0.0</td><td>0.0</td><td>May-2013</td><td>2025-08-15T04:59:31.958732Z</td></tr><tr><td>501234</td><td>15219.313</td><td>15155.9</td><td>12000.0</td><td>0.0</td><td>0.0</td><td>0.0</td><td>May-2013</td><td>2025-08-15T04:59:31.958732Z</td></tr><tr><td>498194</td><td>11642.714</td><td>11031.47</td><td>10000.0</td><td>0.0</td><td>0.0</td><td>0.0</td><td>Jan-2013</td><td>2025-08-15T04:59:31.958732Z</td></tr><tr><td>495171</td><td>11138.843</td><td>10024.96</td><td>10000.0</td><td>0.0</td><td>0.0</td><td>0.0</td><td>Apr-2013</td><td>2025-08-15T04:59:31.958732Z</td></tr></tbody></table></div>"
      ]
     },
     "metadata": {
      "application/vnd.databricks.v1+output": {
       "addedWidgets": {},
       "aggData": [],
       "aggError": "",
       "aggOverflow": false,
       "aggSchema": [],
       "aggSeriesLimitReached": false,
       "aggType": "",
       "arguments": {},
       "columnCustomDisplayInfos": {},
       "data": [
        [
         "1064185",
         11600.98,
         11600.98,
         10000.0,
         0.0,
         0.0,
         "0.0",
         "Dec-2014",
         "2025-08-15T04:59:31.958732Z"
        ],
        [
         "516382",
         21890.229,
         21856.03,
         16000.0,
         0.0,
         0.0,
         "0.0",
         "Mar-2014",
         "2025-08-15T04:59:31.958732Z"
        ],
        [
         "528899",
         3045.0364,
         3019.64,
         2500.0,
         0.0,
         0.0,
         "0.0",
         "Jan-2013",
         "2025-08-15T04:59:31.958732Z"
        ],
        [
         "527598",
         2398.9092,
         2220.51,
         2200.0,
         0.0,
         0.0,
         "0.0",
         "Jul-2011",
         "2025-08-15T04:59:31.958732Z"
        ],
        [
         "525697",
         21797.86,
         19894.9,
         15750.0,
         0.0,
         0.0,
         "0.0",
         "Jun-2015",
         "2025-08-15T04:59:31.958732Z"
        ],
        [
         "522641",
         3146.8193,
         3146.82,
         3000.0,
         0.0,
         0.0,
         "0.0",
         "Sep-2011",
         "2025-08-15T04:59:31.958732Z"
        ],
        [
         "515655",
         29938.576,
         29905.75,
         22800.0,
         0.0,
         0.0,
         "0.0",
         "May-2013",
         "2025-08-15T04:59:31.958732Z"
        ],
        [
         "501234",
         15219.313,
         15155.9,
         12000.0,
         0.0,
         0.0,
         "0.0",
         "May-2013",
         "2025-08-15T04:59:31.958732Z"
        ],
        [
         "498194",
         11642.714,
         11031.47,
         10000.0,
         0.0,
         0.0,
         "0.0",
         "Jan-2013",
         "2025-08-15T04:59:31.958732Z"
        ],
        [
         "495171",
         11138.843,
         10024.96,
         10000.0,
         0.0,
         0.0,
         "0.0",
         "Apr-2013",
         "2025-08-15T04:59:31.958732Z"
        ]
       ],
       "datasetInfos": [],
       "dbfsResultPath": null,
       "isJsonSchema": true,
       "metadata": {},
       "overflow": false,
       "plotOptions": {
        "customPlotOptions": {},
        "displayType": "table",
        "pivotAggregation": null,
        "pivotColumns": null,
        "xColumns": null,
        "yColumns": null
       },
       "removedWidgets": [],
       "schema": [
        {
         "metadata": "{}",
         "name": "loan_id",
         "type": "\"string\""
        },
        {
         "metadata": "{}",
         "name": "total_principal_received",
         "type": "\"float\""
        },
        {
         "metadata": "{}",
         "name": "total_interest_received",
         "type": "\"float\""
        },
        {
         "metadata": "{}",
         "name": "total_late_fee_received",
         "type": "\"float\""
        },
        {
         "metadata": "{}",
         "name": "total_payment_received",
         "type": "\"float\""
        },
        {
         "metadata": "{}",
         "name": "last_payment_amount",
         "type": "\"float\""
        },
        {
         "metadata": "{}",
         "name": "last_payment_date",
         "type": "\"string\""
        },
        {
         "metadata": "{}",
         "name": "next_payment_date",
         "type": "\"string\""
        },
        {
         "metadata": "{}",
         "name": "ingest_date",
         "type": "\"timestamp\""
        }
       ],
       "type": "table"
      }
     },
     "output_type": "display_data"
    }
   ],
   "source": [
    "display(spark.sql(\"select * from loan_repayments where total_payment_received = 0.0 and total_principal_received != 0.0\").limit(10))"
   ]
  },
  {
   "cell_type": "code",
   "execution_count": 0,
   "metadata": {
    "application/vnd.databricks.v1+cell": {
     "cellMetadata": {
      "byteLimit": 2048000,
      "rowLimit": 10000
     },
     "inputWidgets": {},
     "nuid": "bc0b7ec0-8065-4c86-8bda-ddd797d85ce2",
     "showTitle": false,
     "tableResultSettingsMap": {},
     "title": ""
    }
   },
   "outputs": [],
   "source": [
    "from pyspark.sql.functions import when, col"
   ]
  },
  {
   "cell_type": "code",
   "execution_count": 0,
   "metadata": {
    "application/vnd.databricks.v1+cell": {
     "cellMetadata": {
      "byteLimit": 2048000,
      "rowLimit": 10000
     },
     "inputWidgets": {},
     "nuid": "c38ad71e-9799-40a1-947d-77d8c349a0a3",
     "showTitle": false,
     "tableResultSettingsMap": {},
     "title": ""
    }
   },
   "outputs": [],
   "source": [
    "loans_payments_fixed_df = loans_repay_filtered_df.withColumn(\n",
    "   \"total_payment_received\",\n",
    "    when(\n",
    "        (col(\"total_principal_received\") != 0.0) &\n",
    "        (col(\"total_payment_received\") == 0.0),\n",
    "        col(\"total_principal_received\") + col(\"total_interest_received\") + col(\"total_late_fee_received\")\n",
    "    ).otherwise(col(\"total_payment_received\"))\n",
    ")"
   ]
  },
  {
   "cell_type": "code",
   "execution_count": 0,
   "metadata": {
    "application/vnd.databricks.v1+cell": {
     "cellMetadata": {
      "byteLimit": 2048000,
      "rowLimit": 10000
     },
     "inputWidgets": {},
     "nuid": "76f7b8fc-3b60-48ab-884e-386eb5fa50da",
     "showTitle": false,
     "tableResultSettingsMap": {},
     "title": ""
    }
   },
   "outputs": [
    {
     "output_type": "display_data",
     "data": {
      "text/html": [
       "<style scoped>\n",
       "  .table-result-container {\n",
       "    max-height: 300px;\n",
       "    overflow: auto;\n",
       "  }\n",
       "  table, th, td {\n",
       "    border: 1px solid black;\n",
       "    border-collapse: collapse;\n",
       "  }\n",
       "  th, td {\n",
       "    padding: 5px;\n",
       "  }\n",
       "  th {\n",
       "    text-align: left;\n",
       "  }\n",
       "</style><div class='table-result-container'><table class='table-result'><thead style='background-color: white'><tr><th>loan_id</th><th>total_principal_received</th><th>total_interest_received</th><th>total_late_fee_received</th><th>total_payment_received</th><th>last_payment_amount</th><th>last_payment_date</th><th>next_payment_date</th><th>ingest_date</th></tr></thead><tbody><tr><td>68407277</td><td>3600.0</td><td>821.72</td><td>0.0</td><td>4421.724</td><td>122.67</td><td>Jan-2019</td><td>null</td><td>2025-08-15T04:59:57.659324Z</td></tr><tr><td>68355089</td><td>24700.0</td><td>979.66</td><td>0.0</td><td>25679.66</td><td>926.35</td><td>Jun-2016</td><td>null</td><td>2025-08-15T04:59:57.659324Z</td></tr><tr><td>68341763</td><td>20000.0</td><td>2705.92</td><td>0.0</td><td>22705.924</td><td>15813.3</td><td>Jun-2017</td><td>null</td><td>2025-08-15T04:59:57.659324Z</td></tr><tr><td>66310712</td><td>19102.35</td><td>12361.66</td><td>0.0</td><td>31464.01</td><td>829.9</td><td>Feb-2019</td><td>Apr-2019</td><td>2025-08-15T04:59:57.659324Z</td></tr><tr><td>68476807</td><td>10400.0</td><td>1340.5</td><td>0.0</td><td>11740.5</td><td>10128.96</td><td>Jul-2016</td><td>null</td><td>2025-08-15T04:59:57.659324Z</td></tr><tr><td>68426831</td><td>11950.0</td><td>1758.95</td><td>0.0</td><td>13708.948</td><td>7653.56</td><td>May-2017</td><td>null</td><td>2025-08-15T04:59:57.659324Z</td></tr><tr><td>68476668</td><td>20000.0</td><td>1393.8</td><td>0.0</td><td>21393.8</td><td>15681.05</td><td>Nov-2016</td><td>null</td><td>2025-08-15T04:59:57.659324Z</td></tr><tr><td>67275481</td><td>20000.0</td><td>1538.51</td><td>0.0</td><td>21538.51</td><td>14618.23</td><td>Jan-2017</td><td>null</td><td>2025-08-15T04:59:57.659324Z</td></tr><tr><td>68466926</td><td>10000.0</td><td>998.97</td><td>0.0</td><td>10998.972</td><td>1814.48</td><td>Aug-2018</td><td>null</td><td>2025-08-15T04:59:57.659324Z</td></tr><tr><td>68616873</td><td>8000.0</td><td>939.58</td><td>0.0</td><td>8939.58</td><td>4996.24</td><td>Apr-2017</td><td>null</td><td>2025-08-15T04:59:57.659324Z</td></tr></tbody></table></div>"
      ]
     },
     "metadata": {
      "application/vnd.databricks.v1+output": {
       "addedWidgets": {},
       "aggData": [],
       "aggError": "",
       "aggOverflow": false,
       "aggSchema": [],
       "aggSeriesLimitReached": false,
       "aggType": "",
       "arguments": {},
       "columnCustomDisplayInfos": {},
       "data": [
        [
         "68407277",
         3600.0,
         821.72,
         0.0,
         4421.724,
         122.67,
         "Jan-2019",
         null,
         "2025-08-15T04:59:57.659324Z"
        ],
        [
         "68355089",
         24700.0,
         979.66,
         0.0,
         25679.66,
         926.35,
         "Jun-2016",
         null,
         "2025-08-15T04:59:57.659324Z"
        ],
        [
         "68341763",
         20000.0,
         2705.92,
         0.0,
         22705.924,
         15813.3,
         "Jun-2017",
         null,
         "2025-08-15T04:59:57.659324Z"
        ],
        [
         "66310712",
         19102.35,
         12361.66,
         0.0,
         31464.01,
         829.9,
         "Feb-2019",
         "Apr-2019",
         "2025-08-15T04:59:57.659324Z"
        ],
        [
         "68476807",
         10400.0,
         1340.5,
         0.0,
         11740.5,
         10128.96,
         "Jul-2016",
         null,
         "2025-08-15T04:59:57.659324Z"
        ],
        [
         "68426831",
         11950.0,
         1758.95,
         0.0,
         13708.948,
         7653.56,
         "May-2017",
         null,
         "2025-08-15T04:59:57.659324Z"
        ],
        [
         "68476668",
         20000.0,
         1393.8,
         0.0,
         21393.8,
         15681.05,
         "Nov-2016",
         null,
         "2025-08-15T04:59:57.659324Z"
        ],
        [
         "67275481",
         20000.0,
         1538.51,
         0.0,
         21538.51,
         14618.23,
         "Jan-2017",
         null,
         "2025-08-15T04:59:57.659324Z"
        ],
        [
         "68466926",
         10000.0,
         998.97,
         0.0,
         10998.972,
         1814.48,
         "Aug-2018",
         null,
         "2025-08-15T04:59:57.659324Z"
        ],
        [
         "68616873",
         8000.0,
         939.58,
         0.0,
         8939.58,
         4996.24,
         "Apr-2017",
         null,
         "2025-08-15T04:59:57.659324Z"
        ]
       ],
       "datasetInfos": [],
       "dbfsResultPath": null,
       "isJsonSchema": true,
       "metadata": {},
       "overflow": false,
       "plotOptions": {
        "customPlotOptions": {},
        "displayType": "table",
        "pivotAggregation": null,
        "pivotColumns": null,
        "xColumns": null,
        "yColumns": null
       },
       "removedWidgets": [],
       "schema": [
        {
         "metadata": "{}",
         "name": "loan_id",
         "type": "\"string\""
        },
        {
         "metadata": "{}",
         "name": "total_principal_received",
         "type": "\"float\""
        },
        {
         "metadata": "{}",
         "name": "total_interest_received",
         "type": "\"float\""
        },
        {
         "metadata": "{}",
         "name": "total_late_fee_received",
         "type": "\"float\""
        },
        {
         "metadata": "{}",
         "name": "total_payment_received",
         "type": "\"float\""
        },
        {
         "metadata": "{}",
         "name": "last_payment_amount",
         "type": "\"float\""
        },
        {
         "metadata": "{}",
         "name": "last_payment_date",
         "type": "\"string\""
        },
        {
         "metadata": "{}",
         "name": "next_payment_date",
         "type": "\"string\""
        },
        {
         "metadata": "{}",
         "name": "ingest_date",
         "type": "\"timestamp\""
        }
       ],
       "type": "table"
      }
     },
     "output_type": "display_data"
    }
   ],
   "source": [
    "display(loans_payments_fixed_df.limit(10))"
   ]
  },
  {
   "cell_type": "code",
   "execution_count": 0,
   "metadata": {
    "application/vnd.databricks.v1+cell": {
     "cellMetadata": {
      "byteLimit": 2048000,
      "rowLimit": 10000
     },
     "inputWidgets": {},
     "nuid": "d3ec540c-848c-4db6-9ca5-91deb52483a6",
     "showTitle": false,
     "tableResultSettingsMap": {},
     "title": ""
    }
   },
   "outputs": [
    {
     "output_type": "display_data",
     "data": {
      "text/html": [
       "<style scoped>\n",
       "  .table-result-container {\n",
       "    max-height: 300px;\n",
       "    overflow: auto;\n",
       "  }\n",
       "  table, th, td {\n",
       "    border: 1px solid black;\n",
       "    border-collapse: collapse;\n",
       "  }\n",
       "  th, td {\n",
       "    padding: 5px;\n",
       "  }\n",
       "  th {\n",
       "    text-align: left;\n",
       "  }\n",
       "</style><div class='table-result-container'><table class='table-result'><thead style='background-color: white'><tr><th>loan_id</th><th>total_principal_received</th><th>total_interest_received</th><th>total_late_fee_received</th><th>total_payment_received</th><th>last_payment_amount</th><th>last_payment_date</th><th>next_payment_date</th><th>ingest_date</th></tr></thead><tbody><tr><td>1064185</td><td>11600.98</td><td>11600.98</td><td>10000.0</td><td>33201.96</td><td>0.0</td><td>0.0</td><td>Dec-2014</td><td>2025-08-15T05:00:07.319741Z</td></tr></tbody></table></div>"
      ]
     },
     "metadata": {
      "application/vnd.databricks.v1+output": {
       "addedWidgets": {},
       "aggData": [],
       "aggError": "",
       "aggOverflow": false,
       "aggSchema": [],
       "aggSeriesLimitReached": false,
       "aggType": "",
       "arguments": {},
       "columnCustomDisplayInfos": {},
       "data": [
        [
         "1064185",
         11600.98,
         11600.98,
         10000.0,
         33201.96,
         0.0,
         "0.0",
         "Dec-2014",
         "2025-08-15T05:00:07.319741Z"
        ]
       ],
       "datasetInfos": [],
       "dbfsResultPath": null,
       "isJsonSchema": true,
       "metadata": {},
       "overflow": false,
       "plotOptions": {
        "customPlotOptions": {},
        "displayType": "table",
        "pivotAggregation": null,
        "pivotColumns": null,
        "xColumns": null,
        "yColumns": null
       },
       "removedWidgets": [],
       "schema": [
        {
         "metadata": "{}",
         "name": "loan_id",
         "type": "\"string\""
        },
        {
         "metadata": "{}",
         "name": "total_principal_received",
         "type": "\"float\""
        },
        {
         "metadata": "{}",
         "name": "total_interest_received",
         "type": "\"float\""
        },
        {
         "metadata": "{}",
         "name": "total_late_fee_received",
         "type": "\"float\""
        },
        {
         "metadata": "{}",
         "name": "total_payment_received",
         "type": "\"float\""
        },
        {
         "metadata": "{}",
         "name": "last_payment_amount",
         "type": "\"float\""
        },
        {
         "metadata": "{}",
         "name": "last_payment_date",
         "type": "\"string\""
        },
        {
         "metadata": "{}",
         "name": "next_payment_date",
         "type": "\"string\""
        },
        {
         "metadata": "{}",
         "name": "ingest_date",
         "type": "\"timestamp\""
        }
       ],
       "type": "table"
      }
     },
     "output_type": "display_data"
    }
   ],
   "source": [
    "display(loans_payments_fixed_df.filter(\"loan_id == '1064185'\"))"
   ]
  },
  {
   "cell_type": "code",
   "execution_count": 0,
   "metadata": {
    "application/vnd.databricks.v1+cell": {
     "cellMetadata": {
      "byteLimit": 2048000,
      "rowLimit": 10000
     },
     "inputWidgets": {},
     "nuid": "0db0967f-9f40-4d1c-b306-18ddc7101494",
     "showTitle": false,
     "tableResultSettingsMap": {},
     "title": ""
    }
   },
   "outputs": [],
   "source": [
    "loans_payments_fixed2_df = loans_payments_fixed_df.filter(\"total_payment_received != 0.0\")"
   ]
  },
  {
   "cell_type": "code",
   "execution_count": 0,
   "metadata": {
    "application/vnd.databricks.v1+cell": {
     "cellMetadata": {
      "byteLimit": 2048000,
      "rowLimit": 10000
     },
     "inputWidgets": {},
     "nuid": "b78fd76d-6bde-4989-86e6-09424def555f",
     "showTitle": false,
     "tableResultSettingsMap": {},
     "title": ""
    }
   },
   "outputs": [
    {
     "output_type": "display_data",
     "data": {
      "text/html": [
       "<style scoped>\n",
       "  .table-result-container {\n",
       "    max-height: 300px;\n",
       "    overflow: auto;\n",
       "  }\n",
       "  table, th, td {\n",
       "    border: 1px solid black;\n",
       "    border-collapse: collapse;\n",
       "  }\n",
       "  th, td {\n",
       "    padding: 5px;\n",
       "  }\n",
       "  th {\n",
       "    text-align: left;\n",
       "  }\n",
       "</style><div class='table-result-container'><table class='table-result'><thead style='background-color: white'><tr><th>loan_id</th><th>total_principal_received</th><th>total_interest_received</th><th>total_late_fee_received</th><th>total_payment_received</th><th>last_payment_amount</th><th>last_payment_date</th><th>next_payment_date</th><th>ingest_date</th></tr></thead><tbody><tr><td>68407277</td><td>3600.0</td><td>821.72</td><td>0.0</td><td>4421.724</td><td>122.67</td><td>Jan-2019</td><td>null</td><td>2025-08-15T05:00:24.600762Z</td></tr><tr><td>68355089</td><td>24700.0</td><td>979.66</td><td>0.0</td><td>25679.66</td><td>926.35</td><td>Jun-2016</td><td>null</td><td>2025-08-15T05:00:24.600762Z</td></tr><tr><td>68341763</td><td>20000.0</td><td>2705.92</td><td>0.0</td><td>22705.924</td><td>15813.3</td><td>Jun-2017</td><td>null</td><td>2025-08-15T05:00:24.600762Z</td></tr><tr><td>66310712</td><td>19102.35</td><td>12361.66</td><td>0.0</td><td>31464.01</td><td>829.9</td><td>Feb-2019</td><td>Apr-2019</td><td>2025-08-15T05:00:24.600762Z</td></tr><tr><td>68476807</td><td>10400.0</td><td>1340.5</td><td>0.0</td><td>11740.5</td><td>10128.96</td><td>Jul-2016</td><td>null</td><td>2025-08-15T05:00:24.600762Z</td></tr><tr><td>68426831</td><td>11950.0</td><td>1758.95</td><td>0.0</td><td>13708.948</td><td>7653.56</td><td>May-2017</td><td>null</td><td>2025-08-15T05:00:24.600762Z</td></tr><tr><td>68476668</td><td>20000.0</td><td>1393.8</td><td>0.0</td><td>21393.8</td><td>15681.05</td><td>Nov-2016</td><td>null</td><td>2025-08-15T05:00:24.600762Z</td></tr><tr><td>67275481</td><td>20000.0</td><td>1538.51</td><td>0.0</td><td>21538.51</td><td>14618.23</td><td>Jan-2017</td><td>null</td><td>2025-08-15T05:00:24.600762Z</td></tr><tr><td>68466926</td><td>10000.0</td><td>998.97</td><td>0.0</td><td>10998.972</td><td>1814.48</td><td>Aug-2018</td><td>null</td><td>2025-08-15T05:00:24.600762Z</td></tr><tr><td>68616873</td><td>8000.0</td><td>939.58</td><td>0.0</td><td>8939.58</td><td>4996.24</td><td>Apr-2017</td><td>null</td><td>2025-08-15T05:00:24.600762Z</td></tr></tbody></table></div>"
      ]
     },
     "metadata": {
      "application/vnd.databricks.v1+output": {
       "addedWidgets": {},
       "aggData": [],
       "aggError": "",
       "aggOverflow": false,
       "aggSchema": [],
       "aggSeriesLimitReached": false,
       "aggType": "",
       "arguments": {},
       "columnCustomDisplayInfos": {},
       "data": [
        [
         "68407277",
         3600.0,
         821.72,
         0.0,
         4421.724,
         122.67,
         "Jan-2019",
         null,
         "2025-08-15T05:00:24.600762Z"
        ],
        [
         "68355089",
         24700.0,
         979.66,
         0.0,
         25679.66,
         926.35,
         "Jun-2016",
         null,
         "2025-08-15T05:00:24.600762Z"
        ],
        [
         "68341763",
         20000.0,
         2705.92,
         0.0,
         22705.924,
         15813.3,
         "Jun-2017",
         null,
         "2025-08-15T05:00:24.600762Z"
        ],
        [
         "66310712",
         19102.35,
         12361.66,
         0.0,
         31464.01,
         829.9,
         "Feb-2019",
         "Apr-2019",
         "2025-08-15T05:00:24.600762Z"
        ],
        [
         "68476807",
         10400.0,
         1340.5,
         0.0,
         11740.5,
         10128.96,
         "Jul-2016",
         null,
         "2025-08-15T05:00:24.600762Z"
        ],
        [
         "68426831",
         11950.0,
         1758.95,
         0.0,
         13708.948,
         7653.56,
         "May-2017",
         null,
         "2025-08-15T05:00:24.600762Z"
        ],
        [
         "68476668",
         20000.0,
         1393.8,
         0.0,
         21393.8,
         15681.05,
         "Nov-2016",
         null,
         "2025-08-15T05:00:24.600762Z"
        ],
        [
         "67275481",
         20000.0,
         1538.51,
         0.0,
         21538.51,
         14618.23,
         "Jan-2017",
         null,
         "2025-08-15T05:00:24.600762Z"
        ],
        [
         "68466926",
         10000.0,
         998.97,
         0.0,
         10998.972,
         1814.48,
         "Aug-2018",
         null,
         "2025-08-15T05:00:24.600762Z"
        ],
        [
         "68616873",
         8000.0,
         939.58,
         0.0,
         8939.58,
         4996.24,
         "Apr-2017",
         null,
         "2025-08-15T05:00:24.600762Z"
        ]
       ],
       "datasetInfos": [],
       "dbfsResultPath": null,
       "isJsonSchema": true,
       "metadata": {},
       "overflow": false,
       "plotOptions": {
        "customPlotOptions": {},
        "displayType": "table",
        "pivotAggregation": null,
        "pivotColumns": null,
        "xColumns": null,
        "yColumns": null
       },
       "removedWidgets": [],
       "schema": [
        {
         "metadata": "{}",
         "name": "loan_id",
         "type": "\"string\""
        },
        {
         "metadata": "{}",
         "name": "total_principal_received",
         "type": "\"float\""
        },
        {
         "metadata": "{}",
         "name": "total_interest_received",
         "type": "\"float\""
        },
        {
         "metadata": "{}",
         "name": "total_late_fee_received",
         "type": "\"float\""
        },
        {
         "metadata": "{}",
         "name": "total_payment_received",
         "type": "\"float\""
        },
        {
         "metadata": "{}",
         "name": "last_payment_amount",
         "type": "\"float\""
        },
        {
         "metadata": "{}",
         "name": "last_payment_date",
         "type": "\"string\""
        },
        {
         "metadata": "{}",
         "name": "next_payment_date",
         "type": "\"string\""
        },
        {
         "metadata": "{}",
         "name": "ingest_date",
         "type": "\"timestamp\""
        }
       ],
       "type": "table"
      }
     },
     "output_type": "display_data"
    }
   ],
   "source": [
    "display(loans_payments_fixed2_df.limit(10))"
   ]
  },
  {
   "cell_type": "code",
   "execution_count": 0,
   "metadata": {
    "application/vnd.databricks.v1+cell": {
     "cellMetadata": {
      "byteLimit": 2048000,
      "rowLimit": 10000
     },
     "inputWidgets": {},
     "nuid": "5c88ba6f-f651-458c-b2e6-d16913e3a470",
     "showTitle": false,
     "tableResultSettingsMap": {},
     "title": ""
    }
   },
   "outputs": [
    {
     "output_type": "execute_result",
     "data": {
      "text/plain": [
       "48"
      ]
     },
     "execution_count": 91,
     "metadata": {},
     "output_type": "execute_result"
    }
   ],
   "source": [
    "loans_payments_fixed2_df.filter(\"last_payment_date = '0.0'\").count()"
   ]
  },
  {
   "cell_type": "code",
   "execution_count": 0,
   "metadata": {
    "application/vnd.databricks.v1+cell": {
     "cellMetadata": {
      "byteLimit": 2048000,
      "rowLimit": 10000
     },
     "inputWidgets": {},
     "nuid": "3c2dbfa5-505c-49d5-a185-6be9f507dda3",
     "showTitle": false,
     "tableResultSettingsMap": {},
     "title": ""
    }
   },
   "outputs": [
    {
     "output_type": "execute_result",
     "data": {
      "text/plain": [
       "24"
      ]
     },
     "execution_count": 92,
     "metadata": {},
     "output_type": "execute_result"
    }
   ],
   "source": [
    "loans_payments_fixed2_df.filter(\"next_payment_date = '0.0'\").count()"
   ]
  },
  {
   "cell_type": "code",
   "execution_count": 0,
   "metadata": {
    "application/vnd.databricks.v1+cell": {
     "cellMetadata": {
      "byteLimit": 2048000,
      "rowLimit": 10000
     },
     "inputWidgets": {},
     "nuid": "95a79e5e-acd3-4458-ae76-00d17b290351",
     "showTitle": false,
     "tableResultSettingsMap": {},
     "title": ""
    }
   },
   "outputs": [
    {
     "output_type": "execute_result",
     "data": {
      "text/plain": [
       "1477"
      ]
     },
     "execution_count": 93,
     "metadata": {},
     "output_type": "execute_result"
    }
   ],
   "source": [
    "loans_payments_fixed2_df.filter(\"last_payment_date is null\").count()"
   ]
  },
  {
   "cell_type": "code",
   "execution_count": 0,
   "metadata": {
    "application/vnd.databricks.v1+cell": {
     "cellMetadata": {
      "byteLimit": 2048000,
      "rowLimit": 10000
     },
     "inputWidgets": {},
     "nuid": "eeb4931c-1871-4a5f-a227-b671deca1105",
     "showTitle": false,
     "tableResultSettingsMap": {},
     "title": ""
    }
   },
   "outputs": [
    {
     "output_type": "execute_result",
     "data": {
      "text/plain": [
       "1344240"
      ]
     },
     "execution_count": 78,
     "metadata": {},
     "output_type": "execute_result"
    }
   ],
   "source": [
    "loans_payments_fixed2_df.filter(\"next_payment_date is null\").count()"
   ]
  },
  {
   "cell_type": "code",
   "execution_count": 0,
   "metadata": {
    "application/vnd.databricks.v1+cell": {
     "cellMetadata": {
      "byteLimit": 2048000,
      "rowLimit": 10000
     },
     "inputWidgets": {},
     "nuid": "c9fceda0-7aef-4d9e-ab14-03ef921162a8",
     "showTitle": false,
     "tableResultSettingsMap": {},
     "title": ""
    }
   },
   "outputs": [],
   "source": [
    "loans_payments_ldate_fixed_df = loans_payments_fixed2_df.withColumn(\n",
    "  \"last_payment_date\",\n",
    "   when(\n",
    "       (col(\"last_payment_date\") == '0.0'),\n",
    "       None\n",
    "       ).otherwise(col(\"last_payment_date\"))\n",
    ")"
   ]
  },
  {
   "cell_type": "code",
   "execution_count": 0,
   "metadata": {
    "application/vnd.databricks.v1+cell": {
     "cellMetadata": {
      "byteLimit": 2048000,
      "rowLimit": 10000
     },
     "inputWidgets": {},
     "nuid": "1d5a6f14-1a19-488d-841b-f7a6c8b95ffb",
     "showTitle": false,
     "tableResultSettingsMap": {},
     "title": ""
    }
   },
   "outputs": [],
   "source": [
    "loans_payments_ndate_fixed_df = loans_payments_ldate_fixed_df.withColumn(\n",
    "  \"last_payment_date\",\n",
    "   when(\n",
    "       (col(\"next_payment_date\") == '0.0'),\n",
    "       None\n",
    "       ).otherwise(col(\"next_payment_date\"))\n",
    ")"
   ]
  },
  {
   "cell_type": "code",
   "execution_count": 0,
   "metadata": {
    "application/vnd.databricks.v1+cell": {
     "cellMetadata": {
      "byteLimit": 2048000,
      "rowLimit": 10000
     },
     "inputWidgets": {},
     "nuid": "a79a9d73-40b5-4956-961e-41245762d9f7",
     "showTitle": false,
     "tableResultSettingsMap": {},
     "title": ""
    }
   },
   "outputs": [
    {
     "output_type": "execute_result",
     "data": {
      "text/plain": [
       "0"
      ]
     },
     "execution_count": 101,
     "metadata": {},
     "output_type": "execute_result"
    }
   ],
   "source": [
    "loans_payments_ndate_fixed_df.filter(\"last_payment_date = '0.0'\").count()"
   ]
  },
  {
   "cell_type": "code",
   "execution_count": 0,
   "metadata": {
    "application/vnd.databricks.v1+cell": {
     "cellMetadata": {
      "byteLimit": 2048000,
      "rowLimit": 10000
     },
     "inputWidgets": {},
     "nuid": "2a2a8323-7bb9-49ea-865d-86dfdbc6de5b",
     "showTitle": false,
     "tableResultSettingsMap": {},
     "title": ""
    }
   },
   "outputs": [
    {
     "output_type": "execute_result",
     "data": {
      "text/plain": [
       "24"
      ]
     },
     "execution_count": 102,
     "metadata": {},
     "output_type": "execute_result"
    }
   ],
   "source": [
    "loans_payments_ndate_fixed_df.filter(\"next_payment_date = '0.0'\").count()"
   ]
  },
  {
   "cell_type": "code",
   "execution_count": 0,
   "metadata": {
    "application/vnd.databricks.v1+cell": {
     "cellMetadata": {
      "byteLimit": 2048000,
      "rowLimit": 10000
     },
     "inputWidgets": {},
     "nuid": "8c9c57e9-21a5-491a-abe1-da68e4f6f9fb",
     "showTitle": false,
     "tableResultSettingsMap": {},
     "title": ""
    }
   },
   "outputs": [],
   "source": [
    "loans_payments_ndate_fixed_df.write \\\n",
    ".format(\"parquet\") \\\n",
    ".mode(\"overwrite\") \\\n",
    ".option(\"path\", \"/mnt/Lendingclub/Lendingclub/Lendingclub/cleaned/loans_repayments_parquet\") \\\n",
    ".save()"
   ]
  }
 ],
 "metadata": {
  "application/vnd.databricks.v1+notebook": {
   "computePreferences": null,
   "dashboards": [],
   "environmentMetadata": null,
   "inputWidgetPreferences": null,
   "language": "python",
   "notebookMetadata": {
    "pythonIndentUnit": 4
   },
   "notebookName": "413_Loans_Repayment_data_cleaning",
   "widgets": {}
  },
  "kernelspec": {
   "display_name": "Pyspark 3",
   "language": "python",
   "name": "pyspark3"
  },
  "language_info": {
   "name": "python"
  }
 },
 "nbformat": 4,
 "nbformat_minor": 0
}
